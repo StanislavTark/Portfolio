{
 "cells": [
  {
   "cell_type": "markdown",
   "id": "28ba1c86",
   "metadata": {},
   "source": [
    "# Исследование поведения пользователей сервиса аренды самокатов"
   ]
  },
  {
   "cell_type": "markdown",
   "id": "d72031bf",
   "metadata": {},
   "source": [
    "Переданны данные о некоторых пользователях из нескольких городов, а также об их поездках. Необходимо проанализировать данные и проверить некоторые гипотезы, которые могут помочь бизнесу вырасти.\\\n",
    "Чтобы совершать поездки по городу, пользователи сервиса GoFast пользуются мобильным приложением. Сервисом можно пользоваться:\n",
    "* **без подписки**\n",
    "\n",
    "абонентская плата отсутствует\\\n",
    "стоимость одной минуты поездки — 8 рублей\\\n",
    "стоимость старта (начала поездки) — 50 рублей\n",
    "* **с подпиской Ultra**\n",
    "\n",
    "абонентская плата — 199 рублей в месяц\\\n",
    "стоимость одной минуты поездки — 6 рублей\\\n",
    "стоимость старта — бесплатно\n",
    "\n",
    "\n",
    "В основных данных есть информация о пользователях, их поездках и подписках.\n",
    "* Пользователи — **users_go.csv**\n",
    "\n",
    "**user_id** - уникальный идентификатор пользователя\\\n",
    "**name** - имя пользователя\\\n",
    "**age** - возраст\\\n",
    "**city** - город\\\n",
    "**subscription_type** -\tтип подписки (free, ultra)\n",
    "\n",
    "* Поездки — **rides_go.csv**\n",
    "\n",
    "**user_id**\t- уникальный идентификатор пользователя\\\n",
    "**distance** - расстояние, которое пользователь проехал в текущей сессии (в метрах)\\\n",
    "**duration** - продолжительность сессии (в минутах) — время с того момента, как пользователь нажал кнопку «Начать поездку» до момента, как он нажал кнопку «Завершить поездку»\\\n",
    "**date** - дата совершения поездки\n",
    "\n",
    "* Подписки — **subscriptions_go.csv**\n",
    "\n",
    "**subscription_type** - тип подписки\\\n",
    "**minute_price** - стоимость одной минуты поездки по данной подписке\\\n",
    "**start_ride_price** - стоимость начала поездки\\\n",
    "**subscription_fee** - стоимость ежемесячного платежа"
   ]
  },
  {
   "cell_type": "markdown",
   "id": "c42cbe00",
   "metadata": {},
   "source": [
    "## Загрузка данных"
   ]
  },
  {
   "cell_type": "code",
   "execution_count": 1,
   "id": "75ebf4e7",
   "metadata": {},
   "outputs": [],
   "source": [
    "import pandas as pd\n",
    "import matplotlib.pyplot as plt\n",
    "import numpy as np\n",
    "import scipy.stats as st\n",
    "import seaborn as sns\n",
    "sns.set()"
   ]
  },
  {
   "cell_type": "code",
   "execution_count": 2,
   "id": "53aba2d8",
   "metadata": {},
   "outputs": [],
   "source": [
    "from math import factorial\n",
    "from scipy.stats import binom\n",
    "from math import sqrt\n",
    "from datetime import datetime"
   ]
  },
  {
   "cell_type": "code",
   "execution_count": 3,
   "id": "eff9f206",
   "metadata": {
    "scrolled": true
   },
   "outputs": [],
   "source": [
    "# Загрузка данных из CSV-файлов\n",
    "try:\n",
    "    users, rides, subscriptions = (\n",
    "    pd.read_csv('/datasets/users_go.csv'),\n",
    "    pd.read_csv('/datasets/rides_go.csv', parse_dates=['date']),\n",
    "    pd.read_csv('/datasets/subscriptions_go.csv')\n",
    "    )\n",
    "except:\n",
    "    users, rides, subscriptions = (\n",
    "    pd.read_csv(r'C:\\Users\\tarko\\OneDrive\\Рабочий стол\\Анализ данных\\Проекты\\users_go.csv'),\n",
    "    pd.read_csv(r'C:\\Users\\tarko\\OneDrive\\Рабочий стол\\Анализ данных\\Проекты\\rides_go.csv', parse_dates=['date']),\n",
    "    pd.read_csv(r'C:\\Users\\tarko\\OneDrive\\Рабочий стол\\Анализ данных\\Проекты\\subscriptions_go.csv')\n",
    "    )"
   ]
  },
  {
   "cell_type": "code",
   "execution_count": 4,
   "id": "7fe13027",
   "metadata": {},
   "outputs": [
    {
     "data": {
      "text/html": [
       "<div>\n",
       "<style scoped>\n",
       "    .dataframe tbody tr th:only-of-type {\n",
       "        vertical-align: middle;\n",
       "    }\n",
       "\n",
       "    .dataframe tbody tr th {\n",
       "        vertical-align: top;\n",
       "    }\n",
       "\n",
       "    .dataframe thead th {\n",
       "        text-align: right;\n",
       "    }\n",
       "</style>\n",
       "<table border=\"1\" class=\"dataframe\">\n",
       "  <thead>\n",
       "    <tr style=\"text-align: right;\">\n",
       "      <th></th>\n",
       "      <th>user_id</th>\n",
       "      <th>name</th>\n",
       "      <th>age</th>\n",
       "      <th>city</th>\n",
       "      <th>subscription_type</th>\n",
       "    </tr>\n",
       "  </thead>\n",
       "  <tbody>\n",
       "    <tr>\n",
       "      <th>0</th>\n",
       "      <td>1</td>\n",
       "      <td>Кира</td>\n",
       "      <td>22</td>\n",
       "      <td>Тюмень</td>\n",
       "      <td>ultra</td>\n",
       "    </tr>\n",
       "    <tr>\n",
       "      <th>1</th>\n",
       "      <td>2</td>\n",
       "      <td>Станислав</td>\n",
       "      <td>31</td>\n",
       "      <td>Омск</td>\n",
       "      <td>ultra</td>\n",
       "    </tr>\n",
       "    <tr>\n",
       "      <th>2</th>\n",
       "      <td>3</td>\n",
       "      <td>Алексей</td>\n",
       "      <td>20</td>\n",
       "      <td>Москва</td>\n",
       "      <td>ultra</td>\n",
       "    </tr>\n",
       "    <tr>\n",
       "      <th>3</th>\n",
       "      <td>4</td>\n",
       "      <td>Константин</td>\n",
       "      <td>26</td>\n",
       "      <td>Ростов-на-Дону</td>\n",
       "      <td>ultra</td>\n",
       "    </tr>\n",
       "    <tr>\n",
       "      <th>4</th>\n",
       "      <td>5</td>\n",
       "      <td>Адель</td>\n",
       "      <td>28</td>\n",
       "      <td>Омск</td>\n",
       "      <td>ultra</td>\n",
       "    </tr>\n",
       "    <tr>\n",
       "      <th>5</th>\n",
       "      <td>6</td>\n",
       "      <td>Регина</td>\n",
       "      <td>25</td>\n",
       "      <td>Краснодар</td>\n",
       "      <td>ultra</td>\n",
       "    </tr>\n",
       "    <tr>\n",
       "      <th>6</th>\n",
       "      <td>7</td>\n",
       "      <td>Игорь</td>\n",
       "      <td>23</td>\n",
       "      <td>Омск</td>\n",
       "      <td>ultra</td>\n",
       "    </tr>\n",
       "    <tr>\n",
       "      <th>7</th>\n",
       "      <td>8</td>\n",
       "      <td>Юрий</td>\n",
       "      <td>23</td>\n",
       "      <td>Краснодар</td>\n",
       "      <td>ultra</td>\n",
       "    </tr>\n",
       "    <tr>\n",
       "      <th>8</th>\n",
       "      <td>9</td>\n",
       "      <td>Ян</td>\n",
       "      <td>21</td>\n",
       "      <td>Пятигорск</td>\n",
       "      <td>ultra</td>\n",
       "    </tr>\n",
       "    <tr>\n",
       "      <th>9</th>\n",
       "      <td>10</td>\n",
       "      <td>Валерий</td>\n",
       "      <td>18</td>\n",
       "      <td>Екатеринбург</td>\n",
       "      <td>ultra</td>\n",
       "    </tr>\n",
       "  </tbody>\n",
       "</table>\n",
       "</div>"
      ],
      "text/plain": [
       "   user_id        name  age            city subscription_type\n",
       "0        1        Кира   22          Тюмень             ultra\n",
       "1        2   Станислав   31            Омск             ultra\n",
       "2        3     Алексей   20          Москва             ultra\n",
       "3        4  Константин   26  Ростов-на-Дону             ultra\n",
       "4        5       Адель   28            Омск             ultra\n",
       "5        6      Регина   25       Краснодар             ultra\n",
       "6        7       Игорь   23            Омск             ultra\n",
       "7        8        Юрий   23       Краснодар             ultra\n",
       "8        9          Ян   21       Пятигорск             ultra\n",
       "9       10     Валерий   18    Екатеринбург             ultra"
      ]
     },
     "metadata": {},
     "output_type": "display_data"
    },
    {
     "name": "stdout",
     "output_type": "stream",
     "text": [
      "<class 'pandas.core.frame.DataFrame'>\n",
      "RangeIndex: 1565 entries, 0 to 1564\n",
      "Data columns (total 5 columns):\n",
      " #   Column             Non-Null Count  Dtype \n",
      "---  ------             --------------  ----- \n",
      " 0   user_id            1565 non-null   int64 \n",
      " 1   name               1565 non-null   object\n",
      " 2   age                1565 non-null   int64 \n",
      " 3   city               1565 non-null   object\n",
      " 4   subscription_type  1565 non-null   object\n",
      "dtypes: int64(2), object(3)\n",
      "memory usage: 61.3+ KB\n"
     ]
    },
    {
     "data": {
      "text/html": [
       "<div>\n",
       "<style scoped>\n",
       "    .dataframe tbody tr th:only-of-type {\n",
       "        vertical-align: middle;\n",
       "    }\n",
       "\n",
       "    .dataframe tbody tr th {\n",
       "        vertical-align: top;\n",
       "    }\n",
       "\n",
       "    .dataframe thead th {\n",
       "        text-align: right;\n",
       "    }\n",
       "</style>\n",
       "<table border=\"1\" class=\"dataframe\">\n",
       "  <thead>\n",
       "    <tr style=\"text-align: right;\">\n",
       "      <th></th>\n",
       "      <th>user_id</th>\n",
       "      <th>distance</th>\n",
       "      <th>duration</th>\n",
       "      <th>date</th>\n",
       "    </tr>\n",
       "  </thead>\n",
       "  <tbody>\n",
       "    <tr>\n",
       "      <th>0</th>\n",
       "      <td>1</td>\n",
       "      <td>4409.919140</td>\n",
       "      <td>25.599769</td>\n",
       "      <td>2021-01-01</td>\n",
       "    </tr>\n",
       "    <tr>\n",
       "      <th>1</th>\n",
       "      <td>1</td>\n",
       "      <td>2617.592153</td>\n",
       "      <td>15.816871</td>\n",
       "      <td>2021-01-18</td>\n",
       "    </tr>\n",
       "    <tr>\n",
       "      <th>2</th>\n",
       "      <td>1</td>\n",
       "      <td>754.159807</td>\n",
       "      <td>6.232113</td>\n",
       "      <td>2021-04-20</td>\n",
       "    </tr>\n",
       "    <tr>\n",
       "      <th>3</th>\n",
       "      <td>1</td>\n",
       "      <td>2694.783254</td>\n",
       "      <td>18.511000</td>\n",
       "      <td>2021-08-11</td>\n",
       "    </tr>\n",
       "    <tr>\n",
       "      <th>4</th>\n",
       "      <td>1</td>\n",
       "      <td>4028.687306</td>\n",
       "      <td>26.265803</td>\n",
       "      <td>2021-08-28</td>\n",
       "    </tr>\n",
       "    <tr>\n",
       "      <th>5</th>\n",
       "      <td>1</td>\n",
       "      <td>2770.890808</td>\n",
       "      <td>16.650138</td>\n",
       "      <td>2021-10-09</td>\n",
       "    </tr>\n",
       "    <tr>\n",
       "      <th>6</th>\n",
       "      <td>1</td>\n",
       "      <td>3039.020292</td>\n",
       "      <td>14.927879</td>\n",
       "      <td>2021-10-19</td>\n",
       "    </tr>\n",
       "    <tr>\n",
       "      <th>7</th>\n",
       "      <td>1</td>\n",
       "      <td>2842.118050</td>\n",
       "      <td>23.117468</td>\n",
       "      <td>2021-11-06</td>\n",
       "    </tr>\n",
       "    <tr>\n",
       "      <th>8</th>\n",
       "      <td>1</td>\n",
       "      <td>3412.690668</td>\n",
       "      <td>15.238072</td>\n",
       "      <td>2021-11-14</td>\n",
       "    </tr>\n",
       "    <tr>\n",
       "      <th>9</th>\n",
       "      <td>1</td>\n",
       "      <td>748.690645</td>\n",
       "      <td>15.041884</td>\n",
       "      <td>2021-11-22</td>\n",
       "    </tr>\n",
       "  </tbody>\n",
       "</table>\n",
       "</div>"
      ],
      "text/plain": [
       "   user_id     distance   duration       date\n",
       "0        1  4409.919140  25.599769 2021-01-01\n",
       "1        1  2617.592153  15.816871 2021-01-18\n",
       "2        1   754.159807   6.232113 2021-04-20\n",
       "3        1  2694.783254  18.511000 2021-08-11\n",
       "4        1  4028.687306  26.265803 2021-08-28\n",
       "5        1  2770.890808  16.650138 2021-10-09\n",
       "6        1  3039.020292  14.927879 2021-10-19\n",
       "7        1  2842.118050  23.117468 2021-11-06\n",
       "8        1  3412.690668  15.238072 2021-11-14\n",
       "9        1   748.690645  15.041884 2021-11-22"
      ]
     },
     "metadata": {},
     "output_type": "display_data"
    },
    {
     "name": "stdout",
     "output_type": "stream",
     "text": [
      "<class 'pandas.core.frame.DataFrame'>\n",
      "RangeIndex: 18068 entries, 0 to 18067\n",
      "Data columns (total 4 columns):\n",
      " #   Column    Non-Null Count  Dtype         \n",
      "---  ------    --------------  -----         \n",
      " 0   user_id   18068 non-null  int64         \n",
      " 1   distance  18068 non-null  float64       \n",
      " 2   duration  18068 non-null  float64       \n",
      " 3   date      18068 non-null  datetime64[ns]\n",
      "dtypes: datetime64[ns](1), float64(2), int64(1)\n",
      "memory usage: 564.8 KB\n"
     ]
    },
    {
     "data": {
      "text/html": [
       "<div>\n",
       "<style scoped>\n",
       "    .dataframe tbody tr th:only-of-type {\n",
       "        vertical-align: middle;\n",
       "    }\n",
       "\n",
       "    .dataframe tbody tr th {\n",
       "        vertical-align: top;\n",
       "    }\n",
       "\n",
       "    .dataframe thead th {\n",
       "        text-align: right;\n",
       "    }\n",
       "</style>\n",
       "<table border=\"1\" class=\"dataframe\">\n",
       "  <thead>\n",
       "    <tr style=\"text-align: right;\">\n",
       "      <th></th>\n",
       "      <th>subscription_type</th>\n",
       "      <th>minute_price</th>\n",
       "      <th>start_ride_price</th>\n",
       "      <th>subscription_fee</th>\n",
       "    </tr>\n",
       "  </thead>\n",
       "  <tbody>\n",
       "    <tr>\n",
       "      <th>0</th>\n",
       "      <td>free</td>\n",
       "      <td>8</td>\n",
       "      <td>50</td>\n",
       "      <td>0</td>\n",
       "    </tr>\n",
       "    <tr>\n",
       "      <th>1</th>\n",
       "      <td>ultra</td>\n",
       "      <td>6</td>\n",
       "      <td>0</td>\n",
       "      <td>199</td>\n",
       "    </tr>\n",
       "  </tbody>\n",
       "</table>\n",
       "</div>"
      ],
      "text/plain": [
       "  subscription_type  minute_price  start_ride_price  subscription_fee\n",
       "0              free             8                50                 0\n",
       "1             ultra             6                 0               199"
      ]
     },
     "metadata": {},
     "output_type": "display_data"
    },
    {
     "name": "stdout",
     "output_type": "stream",
     "text": [
      "<class 'pandas.core.frame.DataFrame'>\n",
      "RangeIndex: 2 entries, 0 to 1\n",
      "Data columns (total 4 columns):\n",
      " #   Column             Non-Null Count  Dtype \n",
      "---  ------             --------------  ----- \n",
      " 0   subscription_type  2 non-null      object\n",
      " 1   minute_price       2 non-null      int64 \n",
      " 2   start_ride_price   2 non-null      int64 \n",
      " 3   subscription_fee   2 non-null      int64 \n",
      "dtypes: int64(3), object(1)\n",
      "memory usage: 196.0+ bytes\n"
     ]
    }
   ],
   "source": [
    "display(users.head(10))\n",
    "users.info()\n",
    "display(rides.head(10))\n",
    "rides.info()\n",
    "display(subscriptions.head())\n",
    "subscriptions.info()"
   ]
  },
  {
   "cell_type": "markdown",
   "id": "ce088706",
   "metadata": {},
   "source": [
    "**Вывод** Исходя из общей информации по трем датафреймам, можно сказать следующее:\n",
    "\n",
    "* **users** состоит из 5 колонок и 1565 строк. Все колонки и строки заполнены и имеют правильный тип данных\n",
    "* **rides** состоит из 4 колонок и 18068 строк.  Все колонки и строки заполнены и имеют правильный тип данных\n",
    "* **subscriptions** состоит из 4 колонок и 2 строк. Все колонки и строки заполнены и имеют правильный тип данных"
   ]
  },
  {
   "cell_type": "markdown",
   "id": "e95ebca7",
   "metadata": {},
   "source": [
    "## Предобработка данных"
   ]
  },
  {
   "cell_type": "code",
   "execution_count": 5,
   "id": "585a2b2b",
   "metadata": {},
   "outputs": [
    {
     "data": {
      "text/plain": [
       "2021    18068\n",
       "Name: date, dtype: int64"
      ]
     },
     "execution_count": 5,
     "metadata": {},
     "output_type": "execute_result"
    }
   ],
   "source": [
    "# проверяем за какой период у нас данные\n",
    "rides['date'].dt.year.value_counts()"
   ]
  },
  {
   "cell_type": "markdown",
   "id": "bd6f580a",
   "metadata": {},
   "source": [
    "Из результата видно, что все 18068 строк в датафреймеза период 2021 года. Следовательно данные за несколько лет при агрегации по месяцам не склеятся."
   ]
  },
  {
   "cell_type": "code",
   "execution_count": 6,
   "id": "7a6b45e8",
   "metadata": {},
   "outputs": [],
   "source": [
    "#создаем новый столбец с номером месяца на основе столбца date\n",
    "rides['month'] = rides['date'].dt.month\n",
    "\n",
    "# округляем значения столбца distance до 2 знаков после запятой\n",
    "rides['distance'] = round(rides['distance'] , 2)"
   ]
  },
  {
   "cell_type": "code",
   "execution_count": 7,
   "id": "77546920",
   "metadata": {},
   "outputs": [
    {
     "data": {
      "text/plain": [
       "array([ 0.5       ,  2.03563247,  2.05325125, ..., 39.52660212,\n",
       "       39.87385602, 40.82396262])"
      ]
     },
     "execution_count": 7,
     "metadata": {},
     "output_type": "execute_result"
    }
   ],
   "source": [
    "# ищем выбивающиеся значения\n",
    "rides['duration'].sort_values().unique()"
   ]
  },
  {
   "cell_type": "markdown",
   "id": "f5c4075e",
   "metadata": {},
   "source": [
    "Исходя из результата, делаю вывод, что аномалий в датафрейме нет. Значения меньше 5 минут могут означать, что пользовотель после активации аренды передумал продолжать поездку, либо достиг точки назначения."
   ]
  },
  {
   "cell_type": "code",
   "execution_count": 8,
   "id": "51f31e47",
   "metadata": {},
   "outputs": [
    {
     "name": "stdout",
     "output_type": "stream",
     "text": [
      "user_id              0\n",
      "name                 0\n",
      "age                  0\n",
      "city                 0\n",
      "subscription_type    0\n",
      "dtype: int64 \n",
      "\n"
     ]
    },
    {
     "data": {
      "text/html": [
       "<style type=\"text/css\">\n",
       "#T_0eb37_row0_col0, #T_0eb37_row1_col0, #T_0eb37_row2_col0, #T_0eb37_row3_col0, #T_0eb37_row4_col0 {\n",
       "  background-color: #3b4cc0;\n",
       "  color: #f1f1f1;\n",
       "}\n",
       "</style>\n",
       "<table id=\"T_0eb37\">\n",
       "  <thead>\n",
       "    <tr>\n",
       "      <th class=\"blank level0\" >&nbsp;</th>\n",
       "      <th id=\"T_0eb37_level0_col0\" class=\"col_heading level0 col0\" >0</th>\n",
       "    </tr>\n",
       "  </thead>\n",
       "  <tbody>\n",
       "    <tr>\n",
       "      <th id=\"T_0eb37_level0_row0\" class=\"row_heading level0 row0\" >user_id</th>\n",
       "      <td id=\"T_0eb37_row0_col0\" class=\"data row0 col0\" >0.000000</td>\n",
       "    </tr>\n",
       "    <tr>\n",
       "      <th id=\"T_0eb37_level0_row1\" class=\"row_heading level0 row1\" >name</th>\n",
       "      <td id=\"T_0eb37_row1_col0\" class=\"data row1 col0\" >0.000000</td>\n",
       "    </tr>\n",
       "    <tr>\n",
       "      <th id=\"T_0eb37_level0_row2\" class=\"row_heading level0 row2\" >age</th>\n",
       "      <td id=\"T_0eb37_row2_col0\" class=\"data row2 col0\" >0.000000</td>\n",
       "    </tr>\n",
       "    <tr>\n",
       "      <th id=\"T_0eb37_level0_row3\" class=\"row_heading level0 row3\" >city</th>\n",
       "      <td id=\"T_0eb37_row3_col0\" class=\"data row3 col0\" >0.000000</td>\n",
       "    </tr>\n",
       "    <tr>\n",
       "      <th id=\"T_0eb37_level0_row4\" class=\"row_heading level0 row4\" >subscription_type</th>\n",
       "      <td id=\"T_0eb37_row4_col0\" class=\"data row4 col0\" >0.000000</td>\n",
       "    </tr>\n",
       "  </tbody>\n",
       "</table>\n"
      ],
      "text/plain": [
       "<pandas.io.formats.style.Styler at 0x18659057350>"
      ]
     },
     "metadata": {},
     "output_type": "display_data"
    },
    {
     "name": "stdout",
     "output_type": "stream",
     "text": [
      "user_id     0\n",
      "distance    0\n",
      "duration    0\n",
      "date        0\n",
      "month       0\n",
      "dtype: int64 \n",
      "\n"
     ]
    },
    {
     "data": {
      "text/html": [
       "<style type=\"text/css\">\n",
       "#T_aa17c_row0_col0, #T_aa17c_row1_col0, #T_aa17c_row2_col0, #T_aa17c_row3_col0, #T_aa17c_row4_col0 {\n",
       "  background-color: #3b4cc0;\n",
       "  color: #f1f1f1;\n",
       "}\n",
       "</style>\n",
       "<table id=\"T_aa17c\">\n",
       "  <thead>\n",
       "    <tr>\n",
       "      <th class=\"blank level0\" >&nbsp;</th>\n",
       "      <th id=\"T_aa17c_level0_col0\" class=\"col_heading level0 col0\" >0</th>\n",
       "    </tr>\n",
       "  </thead>\n",
       "  <tbody>\n",
       "    <tr>\n",
       "      <th id=\"T_aa17c_level0_row0\" class=\"row_heading level0 row0\" >user_id</th>\n",
       "      <td id=\"T_aa17c_row0_col0\" class=\"data row0 col0\" >0.000000</td>\n",
       "    </tr>\n",
       "    <tr>\n",
       "      <th id=\"T_aa17c_level0_row1\" class=\"row_heading level0 row1\" >distance</th>\n",
       "      <td id=\"T_aa17c_row1_col0\" class=\"data row1 col0\" >0.000000</td>\n",
       "    </tr>\n",
       "    <tr>\n",
       "      <th id=\"T_aa17c_level0_row2\" class=\"row_heading level0 row2\" >duration</th>\n",
       "      <td id=\"T_aa17c_row2_col0\" class=\"data row2 col0\" >0.000000</td>\n",
       "    </tr>\n",
       "    <tr>\n",
       "      <th id=\"T_aa17c_level0_row3\" class=\"row_heading level0 row3\" >date</th>\n",
       "      <td id=\"T_aa17c_row3_col0\" class=\"data row3 col0\" >0.000000</td>\n",
       "    </tr>\n",
       "    <tr>\n",
       "      <th id=\"T_aa17c_level0_row4\" class=\"row_heading level0 row4\" >month</th>\n",
       "      <td id=\"T_aa17c_row4_col0\" class=\"data row4 col0\" >0.000000</td>\n",
       "    </tr>\n",
       "  </tbody>\n",
       "</table>\n"
      ],
      "text/plain": [
       "<pandas.io.formats.style.Styler at 0x18659088f50>"
      ]
     },
     "metadata": {},
     "output_type": "display_data"
    },
    {
     "name": "stdout",
     "output_type": "stream",
     "text": [
      "subscription_type    0\n",
      "minute_price         0\n",
      "start_ride_price     0\n",
      "subscription_fee     0\n",
      "dtype: int64 \n",
      "\n"
     ]
    },
    {
     "data": {
      "text/html": [
       "<style type=\"text/css\">\n",
       "#T_5cfdd_row0_col0, #T_5cfdd_row1_col0, #T_5cfdd_row2_col0, #T_5cfdd_row3_col0 {\n",
       "  background-color: #3b4cc0;\n",
       "  color: #f1f1f1;\n",
       "}\n",
       "</style>\n",
       "<table id=\"T_5cfdd\">\n",
       "  <thead>\n",
       "    <tr>\n",
       "      <th class=\"blank level0\" >&nbsp;</th>\n",
       "      <th id=\"T_5cfdd_level0_col0\" class=\"col_heading level0 col0\" >0</th>\n",
       "    </tr>\n",
       "  </thead>\n",
       "  <tbody>\n",
       "    <tr>\n",
       "      <th id=\"T_5cfdd_level0_row0\" class=\"row_heading level0 row0\" >subscription_type</th>\n",
       "      <td id=\"T_5cfdd_row0_col0\" class=\"data row0 col0\" >0.000000</td>\n",
       "    </tr>\n",
       "    <tr>\n",
       "      <th id=\"T_5cfdd_level0_row1\" class=\"row_heading level0 row1\" >minute_price</th>\n",
       "      <td id=\"T_5cfdd_row1_col0\" class=\"data row1 col0\" >0.000000</td>\n",
       "    </tr>\n",
       "    <tr>\n",
       "      <th id=\"T_5cfdd_level0_row2\" class=\"row_heading level0 row2\" >start_ride_price</th>\n",
       "      <td id=\"T_5cfdd_row2_col0\" class=\"data row2 col0\" >0.000000</td>\n",
       "    </tr>\n",
       "    <tr>\n",
       "      <th id=\"T_5cfdd_level0_row3\" class=\"row_heading level0 row3\" >subscription_fee</th>\n",
       "      <td id=\"T_5cfdd_row3_col0\" class=\"data row3 col0\" >0.000000</td>\n",
       "    </tr>\n",
       "  </tbody>\n",
       "</table>\n"
      ],
      "text/plain": [
       "<pandas.io.formats.style.Styler at 0x186591671d0>"
      ]
     },
     "metadata": {},
     "output_type": "display_data"
    }
   ],
   "source": [
    "# проверяем наличие пропущенных значений в users\n",
    "print(users.isnull().sum(),'\\n')\n",
    "# смотрим долю пропусков каждого датафрейма\n",
    "display(pd.DataFrame(round(users.isna().mean().sort_values(ascending=False)*100,1)).style.background_gradient('coolwarm'))\n",
    "\n",
    "# проверяем наличие пропущенных значений в rides\n",
    "print(rides.isnull().sum(),'\\n')\n",
    "# смотрим долю пропусков каждого датафрейма\n",
    "display(pd.DataFrame(round(rides.isna().mean().sort_values(ascending=False)*100,1)).style.background_gradient('coolwarm'))\n",
    "\n",
    "# проверяем наличие пропущенных значений в subscriptions\n",
    "print(subscriptions.isnull().sum(),'\\n')\n",
    "# смотрим долю пропусков каждого датафрейма\n",
    "display(pd.DataFrame(round(subscriptions.isna().mean().sort_values(ascending=False)*100,1)).style.background_gradient('coolwarm'))\n"
   ]
  },
  {
   "cell_type": "markdown",
   "id": "878c7508",
   "metadata": {},
   "source": [
    "Пропуски в 3-х датафреймах отсутствуют"
   ]
  },
  {
   "cell_type": "code",
   "execution_count": 9,
   "id": "9439c45d",
   "metadata": {},
   "outputs": [
    {
     "name": "stdout",
     "output_type": "stream",
     "text": [
      "Число дубликатов users: 31 \n",
      "\n",
      "Число дубликатов rides: 0 \n",
      "\n",
      "Число дубликатов subscriptions: 0 \n",
      "\n"
     ]
    }
   ],
   "source": [
    "# проверяем наличие дубликатов в датафреймах\n",
    "print('Число дубликатов users:', users.duplicated().sum(),'\\n')\n",
    "print('Число дубликатов rides:', rides.duplicated().sum(),'\\n')\n",
    "print('Число дубликатов subscriptions:', subscriptions.duplicated().sum(),'\\n')"
   ]
  },
  {
   "cell_type": "markdown",
   "id": "2ddbe76f",
   "metadata": {},
   "source": [
    "В датафрейме **users** имеется 31 дубликат"
   ]
  },
  {
   "cell_type": "code",
   "execution_count": 10,
   "id": "b5edf91e",
   "metadata": {},
   "outputs": [
    {
     "name": "stdout",
     "output_type": "stream",
     "text": [
      "Число дубликатов users: 0 \n",
      "\n"
     ]
    }
   ],
   "source": [
    "# удаляем явные дубликаты\n",
    "users = users.drop_duplicates()\n",
    "\n",
    "# проверяем наличие дубликатов в датафреймe users\n",
    "print('Число дубликатов users:', users.duplicated().sum(),'\\n')"
   ]
  },
  {
   "cell_type": "markdown",
   "id": "b2e99958",
   "metadata": {},
   "source": [
    "**Вывод**\n",
    "\n",
    "В процессе обработки данных не было выявлено пропусков данных, но были выявленны явные дубликаты в датафрейме **'users'**, которые были удалены. А также провели следующие итерации:\n",
    "* Выявили, что данные представлены за 2021 год. Следовательно, данные за несколько лет не склеятся при агрегации по месяцам.\n",
    "    \n",
    "* Округлили расстояния в `rides['distance']`\n",
    "    \n",
    "* Проверили отсутствие аномалий в `rides['duration']`\n",
    "    "
   ]
  },
  {
   "cell_type": "markdown",
   "id": "212593c7",
   "metadata": {},
   "source": [
    "## Исследовательский анализ данных"
   ]
  },
  {
   "cell_type": "markdown",
   "id": "ee58a78f",
   "metadata": {},
   "source": [
    "### Частота встречаемости городов"
   ]
  },
  {
   "cell_type": "code",
   "execution_count": 11,
   "id": "0cfd319d",
   "metadata": {},
   "outputs": [
    {
     "name": "stdout",
     "output_type": "stream",
     "text": [
      "Пятигорск         219\n",
      "Екатеринбург      204\n",
      "Ростов-на-Дону    198\n",
      "Краснодар         193\n",
      "Сочи              189\n",
      "Омск              183\n",
      "Тюмень            180\n",
      "Москва            168\n",
      "Name: city, dtype: int64\n"
     ]
    },
    {
     "data": {
      "image/png": "[encoded data removed]",
      "text/plain": [
       "<Figure size 1000x500 with 1 Axes>"
      ]
     },
     "metadata": {},
     "output_type": "display_data"
    }
   ],
   "source": [
    "print(users['city'].value_counts())\n",
    "users['city'].value_counts().plot(kind='bar', figsize=(10,5))\n",
    "plt.title('Частота встречаемости городов')\n",
    "plt.xlabel('Город')\n",
    "plt.ylabel('Частота встречаемости')\n",
    "plt.show()"
   ]
  },
  {
   "cell_type": "markdown",
   "id": "6526c0be",
   "metadata": {},
   "source": [
    "**Вывод**\n",
    "\n",
    "Исходя из анализа видно, что наиболее активно сервисом пользуются в Пятигорске более 200 пользователей. Наименьший показатель в Москве - 168 пользователя."
   ]
  },
  {
   "cell_type": "markdown",
   "id": "0784212d",
   "metadata": {},
   "source": [
    "### Соотношение пользователей с подпиской и без подписки"
   ]
  },
  {
   "cell_type": "code",
   "execution_count": 12,
   "id": "a50837ec",
   "metadata": {},
   "outputs": [
    {
     "name": "stdout",
     "output_type": "stream",
     "text": [
      "free     0.544329\n",
      "ultra    0.455671\n",
      "Name: subscription_type, dtype: float64\n"
     ]
    },
    {
     "data": {
      "image/png": "[encoded data removed]",
      "text/plain": [
       "<Figure size 800x800 with 1 Axes>"
      ]
     },
     "metadata": {},
     "output_type": "display_data"
    }
   ],
   "source": [
    "subscription_counts = users['subscription_type'].value_counts()\n",
    "subscription_ratio = subscription_counts / len(users)\n",
    "print(subscription_ratio)\n",
    "subscription_ratio.plot(kind='pie', figsize=(8,8))\n",
    "plt.title('Соотношение пользователей с подпиской и без подписки')\n",
    "plt.show()"
   ]
  },
  {
   "cell_type": "markdown",
   "id": "410cdd5c",
   "metadata": {},
   "source": [
    "**Вывод**\n",
    "\n",
    "Из графика видно, что доля пользователей без подписки (free)  по отношению к пользователям с подпиской (ultra) выше на 9%."
   ]
  },
  {
   "cell_type": "markdown",
   "id": "67cfe615",
   "metadata": {},
   "source": [
    "### Возраст пользователей"
   ]
  },
  {
   "cell_type": "code",
   "execution_count": 13,
   "id": "6e07cec4",
   "metadata": {},
   "outputs": [
    {
     "name": "stdout",
     "output_type": "stream",
     "text": [
      "count    1534.000000\n",
      "mean       24.903520\n",
      "std         4.572367\n",
      "min        12.000000\n",
      "25%        22.000000\n",
      "50%        25.000000\n",
      "75%        28.000000\n",
      "max        43.000000\n",
      "Name: age, dtype: float64 \n",
      "\n"
     ]
    },
    {
     "data": {
      "image/png": "[encoded data removed]",
      "text/plain": [
       "<Figure size 2000x700 with 1 Axes>"
      ]
     },
     "metadata": {},
     "output_type": "display_data"
    }
   ],
   "source": [
    "print(users['age'].describe(), '\\n')\n",
    "users['age'].plot(kind='hist', bins=30,  figsize=(20,7), range=(10,40), grid=True)\n",
    "plt.title('Возраст пользователей')\n",
    "plt.xlabel('Возраст')\n",
    "plt.ylabel('Количество пользователей')\n",
    "plt.show()"
   ]
  },
  {
   "cell_type": "markdown",
   "id": "d01ae777",
   "metadata": {},
   "source": [
    "**Вывод**\n",
    "\n",
    "Из анализа видно следующее:\n",
    "* 25% пользователей сервиса возрастом около 22 лет\n",
    "* 50% пользователей сервиса возрастом около 25 лет\n",
    "* 75% пользователей сервиса возрастом около 28 лет\n",
    "* Средний возраст пользователей около 25 лет"
   ]
  },
  {
   "cell_type": "markdown",
   "id": "e9474733",
   "metadata": {},
   "source": [
    "### Расстояние, которое пользователь преодолел за одну поездку"
   ]
  },
  {
   "cell_type": "code",
   "execution_count": 14,
   "id": "e3a4274c",
   "metadata": {},
   "outputs": [
    {
     "name": "stdout",
     "output_type": "stream",
     "text": [
      "count    18068.000000\n",
      "mean      3070.659992\n",
      "std       1116.831222\n",
      "min          0.860000\n",
      "25%       2543.227500\n",
      "50%       3133.610000\n",
      "75%       3776.220000\n",
      "max       7211.010000\n",
      "Name: distance, dtype: float64 \n",
      "\n"
     ]
    },
    {
     "data": {
      "image/png": "[encoded data removed]",
      "text/plain": [
       "<Figure size 2000x700 with 1 Axes>"
      ]
     },
     "metadata": {},
     "output_type": "display_data"
    }
   ],
   "source": [
    "print(rides['distance'].describe(), '\\n')\n",
    "rides['distance'].plot(kind='hist', bins=25,  figsize=(20,7), range=(1,7000), grid=True)\n",
    "plt.title('Расстояние, которое пользователь преодолел за одну поездку')\n",
    "plt.xlabel('Расстояние')\n",
    "plt.ylabel('Количество пользователей')\n",
    "plt.show()"
   ]
  },
  {
   "cell_type": "markdown",
   "id": "a50d21e5",
   "metadata": {},
   "source": [
    "**Вывод**\n",
    "\n",
    "Из анализа видно следующее:\n",
    "* 25% пользователей сервиса проезжают около 2543 метров\n",
    "* 50% пользователей сервиса проезжают около 3133 метров\n",
    "* 75% пользователей сервиса проезжают около 3776 метров\n",
    "* Среднее расстояние, которое проезжает пользователь 3070 метров\n"
   ]
  },
  {
   "cell_type": "markdown",
   "id": "b95bad47",
   "metadata": {},
   "source": [
    "### Продолжительность поездок"
   ]
  },
  {
   "cell_type": "code",
   "execution_count": 15,
   "id": "4fd78981",
   "metadata": {
    "scrolled": true
   },
   "outputs": [
    {
     "name": "stdout",
     "output_type": "stream",
     "text": [
      "count    18068.000000\n",
      "mean        17.805011\n",
      "std          6.091051\n",
      "min          0.500000\n",
      "25%         13.597563\n",
      "50%         17.678395\n",
      "75%         21.724800\n",
      "max         40.823963\n",
      "Name: duration, dtype: float64 \n",
      "\n"
     ]
    },
    {
     "data": {
      "image/png": "[encoded data removed]",
      "text/plain": [
       "<Figure size 2000x700 with 1 Axes>"
      ]
     },
     "metadata": {},
     "output_type": "display_data"
    }
   ],
   "source": [
    "print(rides['duration'].describe(), '\\n')\n",
    "rides['duration'].plot(kind='hist', bins=25,  figsize=(20,7), range=(0,40), grid=True)\n",
    "plt.title('Продолжительность поездок')\n",
    "plt.xlabel('Время')\n",
    "plt.ylabel('Количество пользователей')\n",
    "plt.show()\n",
    "\n",
    "rides['duration'] = np.ceil(rides['duration']) # каждое значение из столбца duration округляется с помощью «потолка»"
   ]
  },
  {
   "cell_type": "markdown",
   "id": "f0a0077b",
   "metadata": {},
   "source": [
    "**Вывод**\n",
    "\n",
    "Из анализа видно следующее:\n",
    "* у 25% пользователей сервиса продолжительность поездки занимает около 13 минут\n",
    "* у 50% пользователей сервиса продолжительность поездки занимает около 17 минут\n",
    "* у 75% пользователей сервиса продолжительность поездки занимает около 21 минут\n",
    "* Средняя продолжительность поездки пользователей около 17 минут"
   ]
  },
  {
   "cell_type": "markdown",
   "id": "4ef51331",
   "metadata": {},
   "source": [
    "## Объединение данных"
   ]
  },
  {
   "cell_type": "code",
   "execution_count": 16,
   "id": "6bf288b5",
   "metadata": {},
   "outputs": [
    {
     "data": {
      "text/html": [
       "<div>\n",
       "<style scoped>\n",
       "    .dataframe tbody tr th:only-of-type {\n",
       "        vertical-align: middle;\n",
       "    }\n",
       "\n",
       "    .dataframe tbody tr th {\n",
       "        vertical-align: top;\n",
       "    }\n",
       "\n",
       "    .dataframe thead th {\n",
       "        text-align: right;\n",
       "    }\n",
       "</style>\n",
       "<table border=\"1\" class=\"dataframe\">\n",
       "  <thead>\n",
       "    <tr style=\"text-align: right;\">\n",
       "      <th></th>\n",
       "      <th>user_id</th>\n",
       "      <th>name</th>\n",
       "      <th>age</th>\n",
       "      <th>city</th>\n",
       "      <th>subscription_type</th>\n",
       "      <th>distance</th>\n",
       "      <th>duration</th>\n",
       "      <th>date</th>\n",
       "      <th>month</th>\n",
       "      <th>minute_price</th>\n",
       "      <th>start_ride_price</th>\n",
       "      <th>subscription_fee</th>\n",
       "    </tr>\n",
       "  </thead>\n",
       "  <tbody>\n",
       "    <tr>\n",
       "      <th>0</th>\n",
       "      <td>1</td>\n",
       "      <td>Кира</td>\n",
       "      <td>22</td>\n",
       "      <td>Тюмень</td>\n",
       "      <td>ultra</td>\n",
       "      <td>4409.92</td>\n",
       "      <td>26.0</td>\n",
       "      <td>2021-01-01</td>\n",
       "      <td>1</td>\n",
       "      <td>6</td>\n",
       "      <td>0</td>\n",
       "      <td>199</td>\n",
       "    </tr>\n",
       "    <tr>\n",
       "      <th>1</th>\n",
       "      <td>1</td>\n",
       "      <td>Кира</td>\n",
       "      <td>22</td>\n",
       "      <td>Тюмень</td>\n",
       "      <td>ultra</td>\n",
       "      <td>2617.59</td>\n",
       "      <td>16.0</td>\n",
       "      <td>2021-01-18</td>\n",
       "      <td>1</td>\n",
       "      <td>6</td>\n",
       "      <td>0</td>\n",
       "      <td>199</td>\n",
       "    </tr>\n",
       "    <tr>\n",
       "      <th>2</th>\n",
       "      <td>1</td>\n",
       "      <td>Кира</td>\n",
       "      <td>22</td>\n",
       "      <td>Тюмень</td>\n",
       "      <td>ultra</td>\n",
       "      <td>754.16</td>\n",
       "      <td>7.0</td>\n",
       "      <td>2021-04-20</td>\n",
       "      <td>4</td>\n",
       "      <td>6</td>\n",
       "      <td>0</td>\n",
       "      <td>199</td>\n",
       "    </tr>\n",
       "    <tr>\n",
       "      <th>3</th>\n",
       "      <td>1</td>\n",
       "      <td>Кира</td>\n",
       "      <td>22</td>\n",
       "      <td>Тюмень</td>\n",
       "      <td>ultra</td>\n",
       "      <td>2694.78</td>\n",
       "      <td>19.0</td>\n",
       "      <td>2021-08-11</td>\n",
       "      <td>8</td>\n",
       "      <td>6</td>\n",
       "      <td>0</td>\n",
       "      <td>199</td>\n",
       "    </tr>\n",
       "    <tr>\n",
       "      <th>4</th>\n",
       "      <td>1</td>\n",
       "      <td>Кира</td>\n",
       "      <td>22</td>\n",
       "      <td>Тюмень</td>\n",
       "      <td>ultra</td>\n",
       "      <td>4028.69</td>\n",
       "      <td>27.0</td>\n",
       "      <td>2021-08-28</td>\n",
       "      <td>8</td>\n",
       "      <td>6</td>\n",
       "      <td>0</td>\n",
       "      <td>199</td>\n",
       "    </tr>\n",
       "    <tr>\n",
       "      <th>5</th>\n",
       "      <td>1</td>\n",
       "      <td>Кира</td>\n",
       "      <td>22</td>\n",
       "      <td>Тюмень</td>\n",
       "      <td>ultra</td>\n",
       "      <td>2770.89</td>\n",
       "      <td>17.0</td>\n",
       "      <td>2021-10-09</td>\n",
       "      <td>10</td>\n",
       "      <td>6</td>\n",
       "      <td>0</td>\n",
       "      <td>199</td>\n",
       "    </tr>\n",
       "    <tr>\n",
       "      <th>6</th>\n",
       "      <td>1</td>\n",
       "      <td>Кира</td>\n",
       "      <td>22</td>\n",
       "      <td>Тюмень</td>\n",
       "      <td>ultra</td>\n",
       "      <td>3039.02</td>\n",
       "      <td>15.0</td>\n",
       "      <td>2021-10-19</td>\n",
       "      <td>10</td>\n",
       "      <td>6</td>\n",
       "      <td>0</td>\n",
       "      <td>199</td>\n",
       "    </tr>\n",
       "    <tr>\n",
       "      <th>7</th>\n",
       "      <td>1</td>\n",
       "      <td>Кира</td>\n",
       "      <td>22</td>\n",
       "      <td>Тюмень</td>\n",
       "      <td>ultra</td>\n",
       "      <td>2842.12</td>\n",
       "      <td>24.0</td>\n",
       "      <td>2021-11-06</td>\n",
       "      <td>11</td>\n",
       "      <td>6</td>\n",
       "      <td>0</td>\n",
       "      <td>199</td>\n",
       "    </tr>\n",
       "    <tr>\n",
       "      <th>8</th>\n",
       "      <td>1</td>\n",
       "      <td>Кира</td>\n",
       "      <td>22</td>\n",
       "      <td>Тюмень</td>\n",
       "      <td>ultra</td>\n",
       "      <td>3412.69</td>\n",
       "      <td>16.0</td>\n",
       "      <td>2021-11-14</td>\n",
       "      <td>11</td>\n",
       "      <td>6</td>\n",
       "      <td>0</td>\n",
       "      <td>199</td>\n",
       "    </tr>\n",
       "    <tr>\n",
       "      <th>9</th>\n",
       "      <td>1</td>\n",
       "      <td>Кира</td>\n",
       "      <td>22</td>\n",
       "      <td>Тюмень</td>\n",
       "      <td>ultra</td>\n",
       "      <td>748.69</td>\n",
       "      <td>16.0</td>\n",
       "      <td>2021-11-22</td>\n",
       "      <td>11</td>\n",
       "      <td>6</td>\n",
       "      <td>0</td>\n",
       "      <td>199</td>\n",
       "    </tr>\n",
       "  </tbody>\n",
       "</table>\n",
       "</div>"
      ],
      "text/plain": [
       "   user_id  name  age    city subscription_type  distance  duration  \\\n",
       "0        1  Кира   22  Тюмень             ultra   4409.92      26.0   \n",
       "1        1  Кира   22  Тюмень             ultra   2617.59      16.0   \n",
       "2        1  Кира   22  Тюмень             ultra    754.16       7.0   \n",
       "3        1  Кира   22  Тюмень             ultra   2694.78      19.0   \n",
       "4        1  Кира   22  Тюмень             ultra   4028.69      27.0   \n",
       "5        1  Кира   22  Тюмень             ultra   2770.89      17.0   \n",
       "6        1  Кира   22  Тюмень             ultra   3039.02      15.0   \n",
       "7        1  Кира   22  Тюмень             ultra   2842.12      24.0   \n",
       "8        1  Кира   22  Тюмень             ultra   3412.69      16.0   \n",
       "9        1  Кира   22  Тюмень             ultra    748.69      16.0   \n",
       "\n",
       "        date  month  minute_price  start_ride_price  subscription_fee  \n",
       "0 2021-01-01      1             6                 0               199  \n",
       "1 2021-01-18      1             6                 0               199  \n",
       "2 2021-04-20      4             6                 0               199  \n",
       "3 2021-08-11      8             6                 0               199  \n",
       "4 2021-08-28      8             6                 0               199  \n",
       "5 2021-10-09     10             6                 0               199  \n",
       "6 2021-10-19     10             6                 0               199  \n",
       "7 2021-11-06     11             6                 0               199  \n",
       "8 2021-11-14     11             6                 0               199  \n",
       "9 2021-11-22     11             6                 0               199  "
      ]
     },
     "metadata": {},
     "output_type": "display_data"
    }
   ],
   "source": [
    "# Объединяем данные о пользователях, поездках и подписках в один датафрейм.\n",
    "merged_data = users.merge(rides, on='user_id', how='outer')\n",
    "merged_data = merged_data.merge(subscriptions, on='subscription_type', how='outer')\n",
    "\n",
    "display(merged_data.head(10))"
   ]
  },
  {
   "cell_type": "code",
   "execution_count": 17,
   "id": "be1cc548",
   "metadata": {},
   "outputs": [
    {
     "data": {
      "text/html": [
       "<div>\n",
       "<style scoped>\n",
       "    .dataframe tbody tr th:only-of-type {\n",
       "        vertical-align: middle;\n",
       "    }\n",
       "\n",
       "    .dataframe tbody tr th {\n",
       "        vertical-align: top;\n",
       "    }\n",
       "\n",
       "    .dataframe thead th {\n",
       "        text-align: right;\n",
       "    }\n",
       "</style>\n",
       "<table border=\"1\" class=\"dataframe\">\n",
       "  <thead>\n",
       "    <tr style=\"text-align: right;\">\n",
       "      <th></th>\n",
       "      <th>user_id</th>\n",
       "      <th>name</th>\n",
       "      <th>age</th>\n",
       "      <th>city</th>\n",
       "      <th>subscription_type</th>\n",
       "      <th>distance</th>\n",
       "      <th>duration</th>\n",
       "      <th>date</th>\n",
       "      <th>month</th>\n",
       "      <th>minute_price</th>\n",
       "      <th>start_ride_price</th>\n",
       "      <th>subscription_fee</th>\n",
       "    </tr>\n",
       "  </thead>\n",
       "  <tbody>\n",
       "    <tr>\n",
       "      <th>0</th>\n",
       "      <td>1</td>\n",
       "      <td>Кира</td>\n",
       "      <td>22</td>\n",
       "      <td>Тюмень</td>\n",
       "      <td>ultra</td>\n",
       "      <td>4409.92</td>\n",
       "      <td>26.0</td>\n",
       "      <td>2021-01-01</td>\n",
       "      <td>1</td>\n",
       "      <td>6</td>\n",
       "      <td>0</td>\n",
       "      <td>199</td>\n",
       "    </tr>\n",
       "    <tr>\n",
       "      <th>1</th>\n",
       "      <td>1</td>\n",
       "      <td>Кира</td>\n",
       "      <td>22</td>\n",
       "      <td>Тюмень</td>\n",
       "      <td>ultra</td>\n",
       "      <td>2617.59</td>\n",
       "      <td>16.0</td>\n",
       "      <td>2021-01-18</td>\n",
       "      <td>1</td>\n",
       "      <td>6</td>\n",
       "      <td>0</td>\n",
       "      <td>199</td>\n",
       "    </tr>\n",
       "    <tr>\n",
       "      <th>2</th>\n",
       "      <td>1</td>\n",
       "      <td>Кира</td>\n",
       "      <td>22</td>\n",
       "      <td>Тюмень</td>\n",
       "      <td>ultra</td>\n",
       "      <td>754.16</td>\n",
       "      <td>7.0</td>\n",
       "      <td>2021-04-20</td>\n",
       "      <td>4</td>\n",
       "      <td>6</td>\n",
       "      <td>0</td>\n",
       "      <td>199</td>\n",
       "    </tr>\n",
       "    <tr>\n",
       "      <th>3</th>\n",
       "      <td>1</td>\n",
       "      <td>Кира</td>\n",
       "      <td>22</td>\n",
       "      <td>Тюмень</td>\n",
       "      <td>ultra</td>\n",
       "      <td>2694.78</td>\n",
       "      <td>19.0</td>\n",
       "      <td>2021-08-11</td>\n",
       "      <td>8</td>\n",
       "      <td>6</td>\n",
       "      <td>0</td>\n",
       "      <td>199</td>\n",
       "    </tr>\n",
       "    <tr>\n",
       "      <th>4</th>\n",
       "      <td>1</td>\n",
       "      <td>Кира</td>\n",
       "      <td>22</td>\n",
       "      <td>Тюмень</td>\n",
       "      <td>ultra</td>\n",
       "      <td>4028.69</td>\n",
       "      <td>27.0</td>\n",
       "      <td>2021-08-28</td>\n",
       "      <td>8</td>\n",
       "      <td>6</td>\n",
       "      <td>0</td>\n",
       "      <td>199</td>\n",
       "    </tr>\n",
       "  </tbody>\n",
       "</table>\n",
       "</div>"
      ],
      "text/plain": [
       "   user_id  name  age    city subscription_type  distance  duration  \\\n",
       "0        1  Кира   22  Тюмень             ultra   4409.92      26.0   \n",
       "1        1  Кира   22  Тюмень             ultra   2617.59      16.0   \n",
       "2        1  Кира   22  Тюмень             ultra    754.16       7.0   \n",
       "3        1  Кира   22  Тюмень             ultra   2694.78      19.0   \n",
       "4        1  Кира   22  Тюмень             ultra   4028.69      27.0   \n",
       "\n",
       "        date  month  minute_price  start_ride_price  subscription_fee  \n",
       "0 2021-01-01      1             6                 0               199  \n",
       "1 2021-01-18      1             6                 0               199  \n",
       "2 2021-04-20      4             6                 0               199  \n",
       "3 2021-08-11      8             6                 0               199  \n",
       "4 2021-08-28      8             6                 0               199  "
      ]
     },
     "metadata": {},
     "output_type": "display_data"
    },
    {
     "name": "stdout",
     "output_type": "stream",
     "text": [
      "count    6500.000000\n",
      "mean     3115.445431\n",
      "std       836.895369\n",
      "min       244.210000\n",
      "25%      2785.447500\n",
      "50%      3148.640000\n",
      "75%      3560.577500\n",
      "max      5699.770000\n",
      "Name: distance, dtype: float64 \n",
      "\n"
     ]
    },
    {
     "data": {
      "image/png": "[encoded data removed]",
      "text/plain": [
       "<Figure size 2000x700 with 1 Axes>"
      ]
     },
     "metadata": {},
     "output_type": "display_data"
    },
    {
     "name": "stdout",
     "output_type": "stream",
     "text": [
      "count    6500.000000\n",
      "mean       19.037692\n",
      "std         5.577439\n",
      "min         4.000000\n",
      "25%        15.000000\n",
      "50%        19.000000\n",
      "75%        22.000000\n",
      "max        41.000000\n",
      "Name: duration, dtype: float64 \n",
      "\n"
     ]
    },
    {
     "data": {
      "image/png": "[encoded data removed]",
      "text/plain": [
       "<Figure size 2000x700 with 1 Axes>"
      ]
     },
     "metadata": {},
     "output_type": "display_data"
    }
   ],
   "source": [
    "# Создаем датафрейм c данными о пользователях с подпиской\n",
    "df_ultra = merged_data.query('subscription_type ==\"ultra\"')\n",
    "display(df_ultra.head())\n",
    "\n",
    "print(df_ultra['distance'].describe(), '\\n')\n",
    "ax = df_ultra['distance'].plot(kind='hist', bins=25,  figsize=(20,7), range=(100,5500), grid=True)\n",
    "plt.title('Расстояние пользователей с подпиской')\n",
    "plt.xlabel('Расстояние')\n",
    "plt.ylabel('Количество пользователей')\n",
    "plt.show()\n",
    "\n",
    "print(df_ultra['duration'].describe(), '\\n')\n",
    "ax = df_ultra['duration'].plot(kind='hist', bins=25,  figsize=(20,7), range=(0,35), grid=True)\n",
    "plt.title('Продолжительность поездок пользователей с подпиской')\n",
    "plt.xlabel('Время')\n",
    "plt.ylabel('Количество пользователей')\n",
    "plt.show()"
   ]
  },
  {
   "cell_type": "markdown",
   "id": "b7a32fdd",
   "metadata": {},
   "source": [
    "Из анализа **df_ultra** видно следующее:\n",
    "* 25% пользователей сервиса с подпиской проезжают около 2785 метров\n",
    "* 50% пользователей сервиса с подпиской проезжают около 3148 метров\n",
    "* 75% пользователей сервиса с подпиской проезжают около 3560 метров\n",
    "* Среднее расстояние, которое проезжает пользователь с подпиской 3115 метров\n",
    "\n",
    "\n",
    "* у 25% пользователей сервиса с подпиской продолжительность поездки занимает около 15 минут\n",
    "* у 50% пользователей сервиса с подпиской продолжительность поездки занимает около 19 минут\n",
    "* у 75% пользователей сервиса с подпиской продолжительность поездки занимает около 22 минут\n",
    "* Средняя продолжительность поездки пользователей с подпиской около 19 минут"
   ]
  },
  {
   "cell_type": "code",
   "execution_count": 18,
   "id": "506f214b",
   "metadata": {},
   "outputs": [
    {
     "data": {
      "text/html": [
       "<div>\n",
       "<style scoped>\n",
       "    .dataframe tbody tr th:only-of-type {\n",
       "        vertical-align: middle;\n",
       "    }\n",
       "\n",
       "    .dataframe tbody tr th {\n",
       "        vertical-align: top;\n",
       "    }\n",
       "\n",
       "    .dataframe thead th {\n",
       "        text-align: right;\n",
       "    }\n",
       "</style>\n",
       "<table border=\"1\" class=\"dataframe\">\n",
       "  <thead>\n",
       "    <tr style=\"text-align: right;\">\n",
       "      <th></th>\n",
       "      <th>user_id</th>\n",
       "      <th>name</th>\n",
       "      <th>age</th>\n",
       "      <th>city</th>\n",
       "      <th>subscription_type</th>\n",
       "      <th>distance</th>\n",
       "      <th>duration</th>\n",
       "      <th>date</th>\n",
       "      <th>month</th>\n",
       "      <th>minute_price</th>\n",
       "      <th>start_ride_price</th>\n",
       "      <th>subscription_fee</th>\n",
       "    </tr>\n",
       "  </thead>\n",
       "  <tbody>\n",
       "    <tr>\n",
       "      <th>6500</th>\n",
       "      <td>700</td>\n",
       "      <td>Айдар</td>\n",
       "      <td>22</td>\n",
       "      <td>Омск</td>\n",
       "      <td>free</td>\n",
       "      <td>2515.69</td>\n",
       "      <td>15.0</td>\n",
       "      <td>2021-01-02</td>\n",
       "      <td>1</td>\n",
       "      <td>8</td>\n",
       "      <td>50</td>\n",
       "      <td>0</td>\n",
       "    </tr>\n",
       "    <tr>\n",
       "      <th>6501</th>\n",
       "      <td>700</td>\n",
       "      <td>Айдар</td>\n",
       "      <td>22</td>\n",
       "      <td>Омск</td>\n",
       "      <td>free</td>\n",
       "      <td>846.93</td>\n",
       "      <td>17.0</td>\n",
       "      <td>2021-02-01</td>\n",
       "      <td>2</td>\n",
       "      <td>8</td>\n",
       "      <td>50</td>\n",
       "      <td>0</td>\n",
       "    </tr>\n",
       "    <tr>\n",
       "      <th>6502</th>\n",
       "      <td>700</td>\n",
       "      <td>Айдар</td>\n",
       "      <td>22</td>\n",
       "      <td>Омск</td>\n",
       "      <td>free</td>\n",
       "      <td>4004.43</td>\n",
       "      <td>21.0</td>\n",
       "      <td>2021-02-04</td>\n",
       "      <td>2</td>\n",
       "      <td>8</td>\n",
       "      <td>50</td>\n",
       "      <td>0</td>\n",
       "    </tr>\n",
       "    <tr>\n",
       "      <th>6503</th>\n",
       "      <td>700</td>\n",
       "      <td>Айдар</td>\n",
       "      <td>22</td>\n",
       "      <td>Омск</td>\n",
       "      <td>free</td>\n",
       "      <td>1205.91</td>\n",
       "      <td>10.0</td>\n",
       "      <td>2021-02-10</td>\n",
       "      <td>2</td>\n",
       "      <td>8</td>\n",
       "      <td>50</td>\n",
       "      <td>0</td>\n",
       "    </tr>\n",
       "    <tr>\n",
       "      <th>6504</th>\n",
       "      <td>700</td>\n",
       "      <td>Айдар</td>\n",
       "      <td>22</td>\n",
       "      <td>Омск</td>\n",
       "      <td>free</td>\n",
       "      <td>3047.38</td>\n",
       "      <td>18.0</td>\n",
       "      <td>2021-02-14</td>\n",
       "      <td>2</td>\n",
       "      <td>8</td>\n",
       "      <td>50</td>\n",
       "      <td>0</td>\n",
       "    </tr>\n",
       "  </tbody>\n",
       "</table>\n",
       "</div>"
      ],
      "text/plain": [
       "      user_id   name  age  city subscription_type  distance  duration  \\\n",
       "6500      700  Айдар   22  Омск              free   2515.69      15.0   \n",
       "6501      700  Айдар   22  Омск              free    846.93      17.0   \n",
       "6502      700  Айдар   22  Омск              free   4004.43      21.0   \n",
       "6503      700  Айдар   22  Омск              free   1205.91      10.0   \n",
       "6504      700  Айдар   22  Омск              free   3047.38      18.0   \n",
       "\n",
       "           date  month  minute_price  start_ride_price  subscription_fee  \n",
       "6500 2021-01-02      1             8                50                 0  \n",
       "6501 2021-02-01      2             8                50                 0  \n",
       "6502 2021-02-04      2             8                50                 0  \n",
       "6503 2021-02-10      2             8                50                 0  \n",
       "6504 2021-02-14      2             8                50                 0  "
      ]
     },
     "metadata": {},
     "output_type": "display_data"
    },
    {
     "name": "stdout",
     "output_type": "stream",
     "text": [
      "count    11568.000000\n",
      "mean      3045.495284\n",
      "std       1246.173810\n",
      "min          0.860000\n",
      "25%       2366.560000\n",
      "50%       3114.650000\n",
      "75%       3905.695000\n",
      "max       7211.010000\n",
      "Name: distance, dtype: float64 \n",
      "\n"
     ]
    },
    {
     "data": {
      "image/png": "[encoded data removed]",
      "text/plain": [
       "<Figure size 2000x700 with 1 Axes>"
      ]
     },
     "metadata": {},
     "output_type": "display_data"
    },
    {
     "name": "stdout",
     "output_type": "stream",
     "text": [
      "count    11568.000000\n",
      "mean        17.890992\n",
      "std          6.330250\n",
      "min          1.000000\n",
      "25%         13.000000\n",
      "50%         18.000000\n",
      "75%         22.000000\n",
      "max         35.000000\n",
      "Name: duration, dtype: float64 \n",
      "\n"
     ]
    },
    {
     "data": {
      "image/png": "[encoded data removed]",
      "text/plain": [
       "<Figure size 2000x700 with 1 Axes>"
      ]
     },
     "metadata": {},
     "output_type": "display_data"
    }
   ],
   "source": [
    "# Создаем датафрейм c данными о пользователях без подписки\n",
    "df_free = merged_data.query('subscription_type ==\"free\"')\n",
    "display(df_free.head())\n",
    "\n",
    "print(df_free['distance'].describe(), '\\n')\n",
    "df_free['distance'].plot(kind='hist', bins=25,  figsize=(20,7), range=(0,7000), grid=True)\n",
    "plt.title('Расстояние пользователей без подписки')\n",
    "plt.xlabel('Расстояние')\n",
    "plt.ylabel('Количество пользователей')\n",
    "plt.show()\n",
    "\n",
    "print(df_free['duration'].describe(), '\\n')\n",
    "df_free['duration'].plot(kind='hist', bins=25,  figsize=(20,7), range=(0,35), grid=True)\n",
    "plt.title('Продолжительность поездок пользователей без подписки')\n",
    "plt.xlabel('Время')\n",
    "plt.ylabel('Количество пользователей')\n",
    "plt.show()"
   ]
  },
  {
   "cell_type": "markdown",
   "id": "d523d922",
   "metadata": {},
   "source": [
    "Из анализа **df_free** видно следующее:\n",
    "* 25% пользователей сервиса без подписки проезжают около 2366 метров\n",
    "* 50% пользователей сервиса без подписки проезжают около 3114 метров\n",
    "* 75% пользователей сервиса без подписки проезжают около 3905 метров\n",
    "* Среднее расстояние, которое проезжает пользователь без подписки 3045 метров\n",
    "\n",
    "\n",
    "* у 25% пользователей сервиса без подписки продолжительность поездки занимает около 13 минут\n",
    "* у 50% пользователей сервиса без подписки продолжительность поездки занимает около 18 минут\n",
    "* у 75% пользователей сервиса без подписки продолжительность поездки занимает около 22 минут\n",
    "* Средняя продолжительность поездки пользователей без подписки около 17.8 минут"
   ]
  },
  {
   "cell_type": "markdown",
   "id": "7fd22f1b",
   "metadata": {},
   "source": [
    "Объединяем графики распределений для более наглядного результата"
   ]
  },
  {
   "cell_type": "code",
   "execution_count": 19,
   "id": "58f84978",
   "metadata": {},
   "outputs": [
    {
     "data": {
      "image/png": "[encoded data removed]",
      "text/plain": [
       "<Figure size 640x480 with 1 Axes>"
      ]
     },
     "metadata": {},
     "output_type": "display_data"
    }
   ],
   "source": [
    "ax = df_ultra.plot(kind='hist', y='distance', histtype='step', bins=30, range=(100,5500), linewidth=5, alpha=0.7, label='distance_ultra')\n",
    "\n",
    "df_free.plot(kind='hist', y='distance', histtype='step', bins=30, range=(0,7000), linewidth=5, alpha=0.7, label='distance_free',\n",
    "                         ax=ax, grid=True, legend=True)\n",
    "plt.title('Расстояние пользователей')\n",
    "plt.xlabel('Расстояние')\n",
    "plt.ylabel('Количество пользователей')\n",
    "plt.show()"
   ]
  },
  {
   "cell_type": "code",
   "execution_count": 20,
   "id": "7136463b",
   "metadata": {},
   "outputs": [
    {
     "data": {
      "image/png": "[encoded data removed]",
      "text/plain": [
       "<Figure size 640x480 with 1 Axes>"
      ]
     },
     "metadata": {},
     "output_type": "display_data"
    }
   ],
   "source": [
    "ax = df_ultra.plot(kind='hist', y='duration', histtype='step', bins=30, range=(0,35), linewidth=5, alpha=0.7, label='duration_ultra')\n",
    "\n",
    "df_free.plot(kind='hist', y='duration', histtype='step', bins=30, range=(0,35), linewidth=5, alpha=0.7, label='duration_free',\n",
    "                         ax=ax, grid=True, legend=True)\n",
    "plt.title('Продолжительность поездок пользователей')\n",
    "plt.xlabel('Время')\n",
    "plt.ylabel('Количество пользователей')\n",
    "plt.show()"
   ]
  },
  {
   "cell_type": "markdown",
   "id": "7b93edb2",
   "metadata": {},
   "source": [
    "**Вывод**\n",
    "\n",
    "Исходя  из анализа расстояния и продолжительности поездок пользователей с подпиской и без подписки, можно сказать:\n",
    "\n",
    "* пользователи без подписки проезжают меньшее расстояние, чем пользователи с подпиской\n",
    "* у пользователей без подписки продолжительность поездки меньше, чем у пользователей с подпиской\n"
   ]
  },
  {
   "cell_type": "markdown",
   "id": "402d620f",
   "metadata": {},
   "source": [
    "## Подсчёт выручки"
   ]
  },
  {
   "cell_type": "code",
   "execution_count": 21,
   "id": "53049e0a",
   "metadata": {},
   "outputs": [
    {
     "name": "stdout",
     "output_type": "stream",
     "text": [
      "user_id           0\n",
      "month             0\n",
      "total_distance    0\n",
      "total_duration    0\n",
      "dtype: int64 \n",
      "\n"
     ]
    },
    {
     "data": {
      "text/html": [
       "<style type=\"text/css\">\n",
       "#T_ee9a7_row0_col0, #T_ee9a7_row1_col0, #T_ee9a7_row2_col0, #T_ee9a7_row3_col0 {\n",
       "  background-color: #3b4cc0;\n",
       "  color: #f1f1f1;\n",
       "}\n",
       "</style>\n",
       "<table id=\"T_ee9a7\">\n",
       "  <thead>\n",
       "    <tr>\n",
       "      <th class=\"blank level0\" >&nbsp;</th>\n",
       "      <th id=\"T_ee9a7_level0_col0\" class=\"col_heading level0 col0\" >0</th>\n",
       "    </tr>\n",
       "  </thead>\n",
       "  <tbody>\n",
       "    <tr>\n",
       "      <th id=\"T_ee9a7_level0_row0\" class=\"row_heading level0 row0\" >user_id</th>\n",
       "      <td id=\"T_ee9a7_row0_col0\" class=\"data row0 col0\" >0.000000</td>\n",
       "    </tr>\n",
       "    <tr>\n",
       "      <th id=\"T_ee9a7_level0_row1\" class=\"row_heading level0 row1\" >month</th>\n",
       "      <td id=\"T_ee9a7_row1_col0\" class=\"data row1 col0\" >0.000000</td>\n",
       "    </tr>\n",
       "    <tr>\n",
       "      <th id=\"T_ee9a7_level0_row2\" class=\"row_heading level0 row2\" >total_distance</th>\n",
       "      <td id=\"T_ee9a7_row2_col0\" class=\"data row2 col0\" >0.000000</td>\n",
       "    </tr>\n",
       "    <tr>\n",
       "      <th id=\"T_ee9a7_level0_row3\" class=\"row_heading level0 row3\" >total_duration</th>\n",
       "      <td id=\"T_ee9a7_row3_col0\" class=\"data row3 col0\" >0.000000</td>\n",
       "    </tr>\n",
       "  </tbody>\n",
       "</table>\n"
      ],
      "text/plain": [
       "<pandas.io.formats.style.Styler at 0x18659dc2b10>"
      ]
     },
     "metadata": {},
     "output_type": "display_data"
    }
   ],
   "source": [
    "# Группировка данных по пользователю и месяцу, а затем агрегация по сумме для расстояния, количеству поездок и времени\n",
    "agg_df = merged_data.groupby(['user_id', 'month'])[['distance', 'duration']].sum().reset_index()\n",
    "agg_df.rename(columns={'distance': 'total_distance', 'duration': 'total_duration'}, inplace=True)\n",
    "\n",
    "# проверяем наличие пропущенных значений в agg_df\n",
    "print(agg_df.isnull().sum(),'\\n')\n",
    "# смотрим долю пропусков\n",
    "display(pd.DataFrame(round(agg_df.isna().mean().sort_values(ascending=False)*100,1)).style.background_gradient('coolwarm'))"
   ]
  },
  {
   "cell_type": "markdown",
   "id": "d50b457c",
   "metadata": {},
   "source": [
    "Пропуски отсутствуют"
   ]
  },
  {
   "cell_type": "code",
   "execution_count": 22,
   "id": "d4977ede",
   "metadata": {},
   "outputs": [
    {
     "data": {
      "text/html": [
       "<div>\n",
       "<style scoped>\n",
       "    .dataframe tbody tr th:only-of-type {\n",
       "        vertical-align: middle;\n",
       "    }\n",
       "\n",
       "    .dataframe tbody tr th {\n",
       "        vertical-align: top;\n",
       "    }\n",
       "\n",
       "    .dataframe thead th {\n",
       "        text-align: right;\n",
       "    }\n",
       "</style>\n",
       "<table border=\"1\" class=\"dataframe\">\n",
       "  <thead>\n",
       "    <tr style=\"text-align: right;\">\n",
       "      <th></th>\n",
       "      <th>user_id</th>\n",
       "      <th>month</th>\n",
       "      <th>total_distance</th>\n",
       "      <th>total_duration</th>\n",
       "      <th>total_trips</th>\n",
       "      <th>total_price_month</th>\n",
       "      <th>subscription_type</th>\n",
       "    </tr>\n",
       "  </thead>\n",
       "  <tbody>\n",
       "    <tr>\n",
       "      <th>0</th>\n",
       "      <td>1</td>\n",
       "      <td>1</td>\n",
       "      <td>7027.51</td>\n",
       "      <td>42.0</td>\n",
       "      <td>2</td>\n",
       "      <td>451.0</td>\n",
       "      <td>ultra</td>\n",
       "    </tr>\n",
       "    <tr>\n",
       "      <th>1</th>\n",
       "      <td>1</td>\n",
       "      <td>4</td>\n",
       "      <td>754.16</td>\n",
       "      <td>7.0</td>\n",
       "      <td>1</td>\n",
       "      <td>241.0</td>\n",
       "      <td>ultra</td>\n",
       "    </tr>\n",
       "    <tr>\n",
       "      <th>2</th>\n",
       "      <td>1</td>\n",
       "      <td>8</td>\n",
       "      <td>6723.47</td>\n",
       "      <td>46.0</td>\n",
       "      <td>2</td>\n",
       "      <td>475.0</td>\n",
       "      <td>ultra</td>\n",
       "    </tr>\n",
       "    <tr>\n",
       "      <th>3</th>\n",
       "      <td>1</td>\n",
       "      <td>10</td>\n",
       "      <td>5809.91</td>\n",
       "      <td>32.0</td>\n",
       "      <td>2</td>\n",
       "      <td>391.0</td>\n",
       "      <td>ultra</td>\n",
       "    </tr>\n",
       "    <tr>\n",
       "      <th>4</th>\n",
       "      <td>1</td>\n",
       "      <td>11</td>\n",
       "      <td>7003.50</td>\n",
       "      <td>56.0</td>\n",
       "      <td>3</td>\n",
       "      <td>535.0</td>\n",
       "      <td>ultra</td>\n",
       "    </tr>\n",
       "    <tr>\n",
       "      <th>...</th>\n",
       "      <td>...</td>\n",
       "      <td>...</td>\n",
       "      <td>...</td>\n",
       "      <td>...</td>\n",
       "      <td>...</td>\n",
       "      <td>...</td>\n",
       "      <td>...</td>\n",
       "    </tr>\n",
       "    <tr>\n",
       "      <th>11326</th>\n",
       "      <td>1534</td>\n",
       "      <td>6</td>\n",
       "      <td>3409.47</td>\n",
       "      <td>26.0</td>\n",
       "      <td>2</td>\n",
       "      <td>308.0</td>\n",
       "      <td>free</td>\n",
       "    </tr>\n",
       "    <tr>\n",
       "      <th>11327</th>\n",
       "      <td>1534</td>\n",
       "      <td>8</td>\n",
       "      <td>7622.45</td>\n",
       "      <td>48.0</td>\n",
       "      <td>2</td>\n",
       "      <td>484.0</td>\n",
       "      <td>free</td>\n",
       "    </tr>\n",
       "    <tr>\n",
       "      <th>11328</th>\n",
       "      <td>1534</td>\n",
       "      <td>9</td>\n",
       "      <td>4928.17</td>\n",
       "      <td>23.0</td>\n",
       "      <td>1</td>\n",
       "      <td>234.0</td>\n",
       "      <td>free</td>\n",
       "    </tr>\n",
       "    <tr>\n",
       "      <th>11329</th>\n",
       "      <td>1534</td>\n",
       "      <td>11</td>\n",
       "      <td>13350.02</td>\n",
       "      <td>78.0</td>\n",
       "      <td>4</td>\n",
       "      <td>824.0</td>\n",
       "      <td>free</td>\n",
       "    </tr>\n",
       "    <tr>\n",
       "      <th>11330</th>\n",
       "      <td>1534</td>\n",
       "      <td>12</td>\n",
       "      <td>2371.71</td>\n",
       "      <td>16.0</td>\n",
       "      <td>1</td>\n",
       "      <td>178.0</td>\n",
       "      <td>free</td>\n",
       "    </tr>\n",
       "  </tbody>\n",
       "</table>\n",
       "<p>11331 rows × 7 columns</p>\n",
       "</div>"
      ],
      "text/plain": [
       "       user_id  month  total_distance  total_duration  total_trips  \\\n",
       "0            1      1         7027.51            42.0            2   \n",
       "1            1      4          754.16             7.0            1   \n",
       "2            1      8         6723.47            46.0            2   \n",
       "3            1     10         5809.91            32.0            2   \n",
       "4            1     11         7003.50            56.0            3   \n",
       "...        ...    ...             ...             ...          ...   \n",
       "11326     1534      6         3409.47            26.0            2   \n",
       "11327     1534      8         7622.45            48.0            2   \n",
       "11328     1534      9         4928.17            23.0            1   \n",
       "11329     1534     11        13350.02            78.0            4   \n",
       "11330     1534     12         2371.71            16.0            1   \n",
       "\n",
       "       total_price_month subscription_type  \n",
       "0                  451.0             ultra  \n",
       "1                  241.0             ultra  \n",
       "2                  475.0             ultra  \n",
       "3                  391.0             ultra  \n",
       "4                  535.0             ultra  \n",
       "...                  ...               ...  \n",
       "11326              308.0              free  \n",
       "11327              484.0              free  \n",
       "11328              234.0              free  \n",
       "11329              824.0              free  \n",
       "11330              178.0              free  \n",
       "\n",
       "[11331 rows x 7 columns]"
      ]
     },
     "metadata": {},
     "output_type": "display_data"
    }
   ],
   "source": [
    "# Добавление столбца с количеством поездок, считаемых с помощью метода 'size'\n",
    "agg_df['total_trips'] = merged_data.groupby(['user_id', 'month']).size().reset_index(name='total_trips')['total_trips']\n",
    "\n",
    "agg_df['total_price_month'] = ((merged_data['start_ride_price']*agg_df['total_trips'])+merged_data['minute_price']*agg_df['total_duration'])+merged_data['subscription_fee']\n",
    "\n",
    "agg_df['subscription_type'] = merged_data['subscription_type']\n",
    "\n",
    "# Вывод полученного датафрейма\n",
    "display(agg_df)"
   ]
  },
  {
   "cell_type": "code",
   "execution_count": 23,
   "id": "55aa2a4d",
   "metadata": {},
   "outputs": [
    {
     "name": "stdout",
     "output_type": "stream",
     "text": [
      "Общая выручка сервиса за 2021 год: 3982632.0\n"
     ]
    },
    {
     "data": {
      "image/png": "[encoded data removed]",
      "text/plain": [
       "<Figure size 1000x500 with 1 Axes>"
      ]
     },
     "metadata": {},
     "output_type": "display_data"
    }
   ],
   "source": [
    "# Считаем общуую выручку за 2021 год\n",
    "print('Общая выручка сервиса за 2021 год:', agg_df['total_price_month'].sum())\n",
    "# Зависимость общей выручки от месяца\n",
    "agg_df.pivot_table(index='month', values='total_price_month', aggfunc='sum').plot(grid=True, style='o-', figsize=(10, 5))\n",
    "plt.title('Общая помесячная выручка от пользователей')\n",
    "plt.xlabel('Месяц')\n",
    "plt.ylabel('Выручка')\n",
    "plt.show()"
   ]
  },
  {
   "cell_type": "code",
   "execution_count": 24,
   "id": "7b1e368a",
   "metadata": {},
   "outputs": [
    {
     "name": "stdout",
     "output_type": "stream",
     "text": [
      "Помесячная выручка от пользователей с подпиской за 2021 год: 2396396.0\n"
     ]
    },
    {
     "data": {
      "image/png": "[encoded data removed]",
      "text/plain": [
       "<Figure size 1000x500 with 1 Axes>"
      ]
     },
     "metadata": {},
     "output_type": "display_data"
    }
   ],
   "source": [
    "# Считаем выручку от пользователей с подпиской за 2021 год\n",
    "print('Помесячная выручка от пользователей с подпиской за 2021 год:', agg_df.query('subscription_type == \"ultra\"')['total_price_month'].sum())\n",
    "# Зависимость выручки пользователей с подпиской от месяца\n",
    "agg_df.query('subscription_type == \"ultra\"').pivot_table(index='month', values='total_price_month', aggfunc='sum').plot(grid=True, style='o-', figsize=(10, 5))\n",
    "plt.title('Помесячная выручка от пользователей с подпиской')\n",
    "plt.xlabel('Месяц')\n",
    "plt.ylabel('Выручка')\n",
    "plt.show()"
   ]
  },
  {
   "cell_type": "code",
   "execution_count": 25,
   "id": "0f02610d",
   "metadata": {},
   "outputs": [
    {
     "name": "stdout",
     "output_type": "stream",
     "text": [
      "Помесячная выручка от пользователей без подписки за 2021 год: 1586236.0\n"
     ]
    },
    {
     "data": {
      "image/png": "[encoded data removed]",
      "text/plain": [
       "<Figure size 1000x500 with 1 Axes>"
      ]
     },
     "metadata": {},
     "output_type": "display_data"
    }
   ],
   "source": [
    "# Считаем выручку от пользователей без подписки за 2021 год\n",
    "print('Помесячная выручка от пользователей без подписки за 2021 год:', agg_df.query('subscription_type == \"free\"')['total_price_month'].sum())\n",
    "# Зависимость выручки пользователей без подписки от месяца\n",
    "agg_df.query('subscription_type == \"free\"').pivot_table(index='month', values='total_price_month', aggfunc='sum').plot(grid=True, style='o-', figsize=(10, 5))\n",
    "plt.title('Помесячная выручка от пользователей без подписки')\n",
    "plt.xlabel('Месяц')\n",
    "plt.ylabel('Выручка')\n",
    "plt.show()"
   ]
  },
  {
   "cell_type": "markdown",
   "id": "1d0c57a8",
   "metadata": {},
   "source": [
    "**Вывод**\n",
    "\n",
    "Исходя  из анализа общей выручки и выручки отдельных групп пользователей с подпиской и пользователей без подписки , можно сказать, что наиболее высокую выручку сервис получает в теплое время года с марта по сентябрь. А также:\n",
    "* выручка  от пользователей с подпиской за 2021 год выше чем от пользователей без подписки за этот же год\n",
    "* таже можно заметить что в декабре и январе тоже была высокая выручка. Возможно это влияние южных регионов выборки, т.к. данные регионы не обладают повышенной заснеженностью, пользователи могут передвигаться на самокатах без трудностей."
   ]
  },
  {
   "cell_type": "markdown",
   "id": "41545ac0",
   "metadata": {},
   "source": [
    "## Проверка гипотез"
   ]
  },
  {
   "cell_type": "markdown",
   "id": "ef8bf78d",
   "metadata": {},
   "source": [
    "### Проверка гипотезы №1"
   ]
  },
  {
   "cell_type": "markdown",
   "id": "e83a7d69",
   "metadata": {},
   "source": [
    "Для проверки гипотезы о том, тратят ли пользователи с подпиской больше времени на поездки, можно использовать двухвыборочный t-тест. Проверим, есть ли значимая разница между средней продолжительностью сессии у пользователей с подпиской и пользователей без подписки.\n",
    "\n",
    "H0: Среднее время поездки у пользователей с подпиской  равно среднему времени пользователей без подписки\\\n",
    "H1: Среднее время поездки у пользователей с подпиской больше, чем у пользователей без подписки"
   ]
  },
  {
   "cell_type": "code",
   "execution_count": 26,
   "id": "23ea867b",
   "metadata": {},
   "outputs": [
    {
     "data": {
      "text/plain": [
       "'p-value: 1.1814679253701353e-36'"
      ]
     },
     "metadata": {},
     "output_type": "display_data"
    },
    {
     "name": "stdout",
     "output_type": "stream",
     "text": [
      "Среднее время поездки у пользователей с подпиской больше, чем у пользователей без подписки\n"
     ]
    }
   ],
   "source": [
    "# пользователи с подпиской\n",
    "group_ultra = df_ultra['duration']\n",
    "\n",
    "# пользователи без подписки\n",
    "group_free = df_free['duration']\n",
    "\n",
    "alpha = 0.05 # уровень значимости\n",
    "\n",
    "# Проведение двухвыборочного t-теста\n",
    "results = st.ttest_ind(group_ultra, group_free, alternative='greater', equal_var=False)\n",
    "\n",
    "display(f'p-value: {results.pvalue}')\n",
    "# Проверка значимости различия между средними значениями\n",
    "if results.pvalue < alpha:\n",
    "    print('Среднее время поездки у пользователей с подпиской больше, чем у пользователей без подписки')\n",
    "else:\n",
    "    print('Среднее время поездки у пользователей с подпиской  равно среднему времени пользователей без подписки')"
   ]
  },
  {
   "cell_type": "markdown",
   "id": "25479193",
   "metadata": {},
   "source": [
    "### Проверка гипотезы №2"
   ]
  },
  {
   "cell_type": "markdown",
   "id": "242e389d",
   "metadata": {},
   "source": [
    "Для проверки гипотезы о том, что расстояние, которое проезжают пользователи с подпиской за одну поездку, не превышает 3130 метров, можно использовать одновыборочный t-тест. Проверим, есть ли значимая разница между средним расстоянием пользователей с подпиской и заданным значением 3130 метров.\n",
    "\n",
    "H0: Пользователи с подпиской в среднем проезжают расстояние равное оптимальному\\\n",
    "H1: Пользователи с подпиской в среднем не привышают оптимальное расстояние"
   ]
  },
  {
   "cell_type": "code",
   "execution_count": 27,
   "id": "b85569ef",
   "metadata": {},
   "outputs": [
    {
     "data": {
      "text/plain": [
       "'p-value: 0.9195362605842414'"
      ]
     },
     "metadata": {},
     "output_type": "display_data"
    },
    {
     "name": "stdout",
     "output_type": "stream",
     "text": [
      "Пользователи с подпиской в среднем не привышают оптимальное расстояние\n"
     ]
    }
   ],
   "source": [
    "# пользователи с подпиской\n",
    "group_ultra = df_ultra['distance']\n",
    "\n",
    "alpha = 0.05 # уровень значимости\n",
    "\n",
    "results = st.ttest_1samp(group_ultra, 3130, alternative = 'greater')\n",
    "\n",
    "display(f'p-value: {results.pvalue}')\n",
    "\n",
    "# Проверка значимости различия между средним значением и заданным значением\n",
    "if results.pvalue < alpha:\n",
    "    print('Пользователи с подпиской в среднем проезжают расстояние больше оптимального')\n",
    "else:\n",
    "    print('Пользователи с подпиской в среднем не привышают оптимальное расстояние')"
   ]
  },
  {
   "cell_type": "markdown",
   "id": "8e15cff8",
   "metadata": {},
   "source": [
    "### Проверка гипотезы №3"
   ]
  },
  {
   "cell_type": "markdown",
   "id": "5e90b643",
   "metadata": {},
   "source": [
    "Для проверки гипотезы о том, что помесячная выручка от пользователей с подпиской выше используем одновыборочный t-тест.  Проверим гипотезу о том, будет ли помесячная выручка от пользователей с подпиской по месяцам выше, чем выручка от пользователей без подписки.\n",
    "\n",
    "H0: Среднемесячная выручка от пользователей с подпиской выше\\\n",
    "H1: Среднемесячная выручка подписчиков не превышает среднемесячную выручку пользователей без подписки"
   ]
  },
  {
   "cell_type": "code",
   "execution_count": 28,
   "id": "abcb7fe1",
   "metadata": {},
   "outputs": [
    {
     "data": {
      "text/plain": [
       "'p-value: 1.318341752391833e-51'"
      ]
     },
     "metadata": {},
     "output_type": "display_data"
    },
    {
     "name": "stdout",
     "output_type": "stream",
     "text": [
      "Среднемесячная выручка от пользователей с подпиской выше\n"
     ]
    }
   ],
   "source": [
    "# выручка от пользователей с подпиской\n",
    "group_ultra = agg_df.query('subscription_type == \"ultra\"')\n",
    "\n",
    "# выручка от пользователей без подписки\n",
    "group_free = agg_df.query('subscription_type == \"free\"')\n",
    "\n",
    "alpha = 0.05\n",
    "\n",
    "# проводим t-тест для независимых выборок\n",
    "results = st.ttest_ind(group_ultra['total_price_month'], group_free['total_price_month'], alternative='greater')\n",
    "\n",
    "display(f'p-value: {results.pvalue}')\n",
    "# выводим полученные результаты\n",
    "if results.pvalue < alpha:\n",
    "    print('Среднемесячная выручка от пользователей с подпиской выше')\n",
    "else:\n",
    "    print('Среднемесячная выручка подписчиков не превышает среднемесячную выручку пользователей без подписки')"
   ]
  },
  {
   "cell_type": "markdown",
   "id": "61213c5e",
   "metadata": {},
   "source": [
    "## Распределения"
   ]
  },
  {
   "cell_type": "markdown",
   "id": "a4acc0e2",
   "metadata": {},
   "source": [
    "###  Акция с раздачей промокодов"
   ]
  },
  {
   "cell_type": "markdown",
   "id": "8f406d6b",
   "metadata": {},
   "source": [
    "Отделу маркетинга GoFast поставили задачу: нужно провести акцию с раздачей промокодов на один бесплатный месяц подписки, в рамках которой как минимум 100 существующих клиентов должны продлить эту подписку. То есть по завершении периода действия подписки пользователь может либо отказаться от неё, либо продлить, совершив соответствующий платёж. \n",
    "Эта акция уже проводилась ранее и по итогу выяснилось, что после бесплатного пробного периода подписку продлевают 10 % пользователей. Выяснить, какое минимальное количество промокодов нужно разослать, чтобы вероятность не выполнить план была примерно 5 %."
   ]
  },
  {
   "cell_type": "code",
   "execution_count": 29,
   "id": "95cd1d51",
   "metadata": {},
   "outputs": [
    {
     "name": "stdout",
     "output_type": "stream",
     "text": [
      "Минимальное количество промокодов: 1161\n",
      "Вероятность не выполнить план: 4.976%\n"
     ]
    },
    {
     "data": {
      "image/png": "[encoded data removed]",
      "text/plain": [
       "<Figure size 640x480 with 1 Axes>"
      ]
     },
     "metadata": {},
     "output_type": "display_data"
    }
   ],
   "source": [
    "p_ren = 0.1      # вероятность продления подписки\n",
    "n_clients = 100  # количество клиентов\n",
    "\n",
    "# подбор параметра n\n",
    "n = 1\n",
    "while binom.cdf(n_clients - 1, n, p_ren) > 0.05:\n",
    "    n += 1\n",
    "\n",
    "print('Минимальное количество промокодов:', n)\n",
    "print(f'Вероятность не выполнить план: {binom.cdf(n_clients - 1, n, p_ren):.3%}')\n",
    "\n",
    "# строим график\n",
    "x = range(1, n+1)\n",
    "y = [binom.cdf(n_clients - 1, k, p_ren) for k in x]\n",
    "\n",
    "plt.plot(x, y)\n",
    "plt.xlabel('Количество промокодов')\n",
    "plt.ylabel('Вероятность')\n",
    "plt.title('График зависимости вероятности от количества промокодов')\n",
    "plt.show()"
   ]
  },
  {
   "cell_type": "markdown",
   "id": "36b7dfdf",
   "metadata": {},
   "source": [
    "### Рассылка push-уведомления клиентам"
   ]
  },
  {
   "cell_type": "markdown",
   "id": "31e67441",
   "metadata": {},
   "source": [
    "Отдел маркетинга рассылает клиентам push-уведомления в мобильном приложении. Клиенты могут открыть его или не открывать. Известно, что уведомления открывают около 40 % получивших клиентов. Отдел планирует разослать 1 млн уведомлений. С помощью аппроксимации построить примерный график распределения и оценить вероятность того, что уведомление откроют не более 399,5 тыс. пользователей."
   ]
  },
  {
   "cell_type": "code",
   "execution_count": 30,
   "id": "fb9f218f",
   "metadata": {},
   "outputs": [
    {
     "name": "stdout",
     "output_type": "stream",
     "text": [
      "Вероятность открытия не более 399,5 тыс. пользователей: 15.372%\n"
     ]
    },
    {
     "data": {
      "image/png": "[encoded data removed]",
      "text/plain": [
       "<Figure size 640x480 with 1 Axes>"
      ]
     },
     "metadata": {},
     "output_type": "display_data"
    }
   ],
   "source": [
    "# задаем параметры биноминального распределения\n",
    "n = 1000000\n",
    "p = 0.4\n",
    "# задаем параметры нормального распределения\n",
    "mu = n * p\n",
    "# задаем нормальное распределения\n",
    "sigma = sqrt(n * p * (1 - p))\n",
    "\n",
    "distr = st.norm(mu, sigma)\n",
    "\n",
    "result = distr.cdf(399500)\n",
    "\n",
    "print(f'Вероятность открытия не более 399,5 тыс. пользователей: {result:.3%}')\n",
    "\n",
    "# строим график\n",
    "x = np.linspace(mu - 3*sigma, mu + 3*sigma, 100)\n",
    "y = distr.pdf(x)\n",
    "\n",
    "plt.plot(x, y)\n",
    "plt.xlabel('Количество открытий')\n",
    "plt.ylabel('Вероятность')\n",
    "plt.title('График нормального распределения количества открытий')\n",
    "plt.show()"
   ]
  },
  {
   "cell_type": "markdown",
   "id": "07bbdca7",
   "metadata": {},
   "source": [
    "## Вывод"
   ]
  },
  {
   "cell_type": "markdown",
   "id": "b8d836cf",
   "metadata": {},
   "source": [
    "Были получены 3 датаврейма с данными пользователей сервиса аренды самокатов GoFast.\\\n",
    "В процессе обработки было выявлено:\n",
    "* данные представлены за период 2021 года\n",
    "* пропусков данных и аномалий не выявлено\n",
    "* устранены задублированные строки\n",
    "\n",
    "На этапе исследовательского анализа были изучены следующие данные и получены выводы:\n",
    "* **частота встречаемости городов:**\n",
    "   * наиболее активно сервисом пользуются в Пятигорске более 200 пользователей. Наименьший показатель в Москве - 168 пользователя\n",
    "* **соотношение пользователей с подпиской и без подписки:**\n",
    "   * доля пользователей без подписки по отношению к пользователям с подпиской выше на 9%\n",
    "* **возраст пользователей:**\n",
    "   * 25% пользователей сервиса возрастом около 22 лет\n",
    "   * 50% пользователей сервиса возрастом около 25 лет\n",
    "   * 75% пользователей сервиса возрастом около 28 лет\n",
    "   * средний возраст пользователей около 25 лет\n",
    "* **расстояние, которое пользователь преодолел за одну поездку:**\n",
    "   * 25% пользователей сервиса проезжают около 2543 метров\n",
    "   * 50% пользователей сервиса проезжают около 3133 метров\n",
    "   * 75% пользователей сервиса проезжают около 3776 метров\n",
    "   * среднее расстояние, которое проезжает пользователь 3070 метров\n",
    "* **продолжительность поездок:**\n",
    "   * у 25% пользователей сервиса продолжительность поездки занимает около 13 минут\n",
    "   * у 50% пользователей сервиса продолжительность поездки занимает около 17 минут\n",
    "   * у 75% пользователей сервиса продолжительность поездки занимает около 21 минут\n",
    "   * средняя продолжительность поездки пользователей около 17 минут\n",
    "\n",
    "Также данные были разделены по группам:\n",
    "* пользователи с подпиской - **ultra**\n",
    "* пользователи без подписки - **free**\n",
    "На основании групп были проанализированы продолжительность поездок и расстояние, которое пользователь преодолел за одну поездку:\n",
    "* **расстояние, которое пользователь преодолел за одну поездку:**\n",
    "   * **ultra**:\n",
    "      * 25% пользователей сервиса с подпиской проезжают около 2785 метров\n",
    "      * 50% пользователей сервиса с подпиской проезжают около 3148 метров\n",
    "      * 75% пользователей сервиса с подпиской проезжают около 3560 метров\n",
    "      * среднее расстояние, которое проезжает пользователь с подпиской 3115 метров\n",
    "   * **free**:\n",
    "      * 25% пользователей сервиса без подписки проезжают около 2366 метров\n",
    "      * 50% пользователей сервиса без подписки проезжают около 3114 метров\n",
    "      * 75% пользователей сервиса без подписки проезжают около 3905 метров\n",
    "      * среднее расстояние, которое проезжает пользователь без подписки 3045 метров\n",
    "\n",
    "* **продолжительность поездок:**\n",
    "  * **ultra**:\n",
    "      * у 25% пользователей сервиса с подпиской продолжительность поездки занимает около 15 минут\n",
    "      * у 50% пользователей сервиса с подпиской продолжительность поездки занимает около 19 минут\n",
    "      * у 75% пользователей сервиса с подпиской продолжительность поездки занимает около 22 минут\n",
    "      * средняя продолжительность поездки пользователей с подпиской около 19 минут\n",
    "  * **free**:\n",
    "      * у 25% пользователей сервиса без подписки продолжительность поездки занимает около 13 минут\n",
    "      * у 50% пользователей сервиса без подписки продолжительность поездки занимает около 18 минут\n",
    "      * у 75% пользователей сервиса без подписки продолжительность поездки занимает около 22 минут\n",
    "      * средняя продолжительность поездки пользователей без подписки около 17.8 минут\n",
    "\n",
    "Исходя  из анализа расстояния и продолжительности поездок пользователей с подпиской и без подписки, можно сказать:\n",
    "* пользователи без подписки проезжают меньшее расстояние, чем пользователи с подпиской\n",
    "* у пользователей без подписки продолжительность поездки меньше, чем у пользователей с подпиской\n",
    "\n",
    "Также была расчитана и изучена общая и помесячная выручка за период 2021 года:\n",
    "* общая выручка за 2021 год: **3982632.0 руб.**\n",
    "* помесячная выручка от пользователей с подпиской за 2021 год: **2396396.0 руб.**\n",
    "* помесячная выручка от пользователей без подписки за 2021 год: **1586236.0 руб**\n",
    "\n",
    "Исходя  из анализа общей выручки и выручки отдельных групп пользователей с подпиской и пользователей без подписки , можно сказать, что наиболее высокую выручку сервис получает в теплое время года с марта по сентябрь. А также:\n",
    "* выручка  от пользователей с подпиской за 2021 год выше чем от пользователей без подписки за этот же год\n",
    "* таже можно заметить что в декабре и январе тоже была высокая выручка. Возможно это влияние южного региона выборки, т.к. данные регионы не обладают повышенной заснеженностью, пользователи могут передвигаться на самокатах без трудностей.\n",
    "\n",
    "На основе этих данных были проверены и подтверждены следующие гипотезы:\\\n",
    "* среднее время поездки у пользователей с подпиской больше, чем у пользователей без подписки\n",
    "* пользователи с подпиской в среднем не привышают расстояние  3130 метров\n",
    "* среднемесячная выручка от пользователей с подпиской выше\n",
    "\n",
    "Были решины 2 задачи,  поставленные отделом маркетинга:\n",
    "* Выяснить, какое минимальное количество промокодов нужно разослать, чтобы вероятность не выполнить план была примерно 5 %.\\\n",
    "   **Результат:**\\\n",
    "   Минимальное количество промокодов: 1161 шт.\\\n",
    "   Вероятность не выполнить план: 4.976%\n",
    "* Оценить вероятность того, что push-уведомление откроют не более 399,5 тыс. пользователей\\\n",
    "   **Результат:**\\\n",
    "   Вероятность открытия не более 399,5 тыс. пользователей: 15.372%\n",
    "\n",
    "\n",
    "На основании общего анализа пользователей сервиса аренды самокатов GoFast, можно сказать, что существует разница в расстоянии, продолжительности и средней выручки между пользователями с подпиской и без подписки. Выручка пользователей с подпиской выше.\\\n",
    "С целью повышения доходности сервиса можно рассмотреть два варианта:\n",
    "* можно разослать 1 млн. клиентов push-уведомления в мобильном приложении, тогда вероятность того, что уведомление откроют более 399,5 тыс. пользователей составит около 85%\n",
    "* провести акцию с раздачей не менее 1161 промокода на один бесплатный месяц подписки, с вероятностью продления подписки около 95%."
   ]
  }
 ],
 "metadata": {
  "ExecuteTimeLog": [
   {
    "duration": 431,
    "start_time": "2023-07-29T11:08:02.325Z"
   },
   {
    "duration": 315,
    "start_time": "2023-07-29T11:08:02.760Z"
   },
   {
    "duration": 31,
    "start_time": "2023-07-29T11:08:03.077Z"
   },
   {
    "duration": 1903,
    "start_time": "2023-07-29T11:08:03.110Z"
   },
   {
    "duration": 0,
    "start_time": "2023-07-29T11:08:05.014Z"
   },
   {
    "duration": 116,
    "start_time": "2023-07-29T11:08:50.181Z"
   },
   {
    "duration": 108,
    "start_time": "2023-07-29T11:10:40.731Z"
   },
   {
    "duration": 116,
    "start_time": "2023-07-29T11:10:52.877Z"
   },
   {
    "duration": 110,
    "start_time": "2023-07-29T11:11:23.446Z"
   },
   {
    "duration": 132,
    "start_time": "2023-07-29T11:11:29.353Z"
   },
   {
    "duration": 110,
    "start_time": "2023-07-29T11:11:40.009Z"
   },
   {
    "duration": 1744,
    "start_time": "2023-07-29T11:12:24.175Z"
   },
   {
    "duration": 3,
    "start_time": "2023-07-29T11:16:41.730Z"
   },
   {
    "duration": 112,
    "start_time": "2023-07-29T11:16:43.375Z"
   },
   {
    "duration": 32,
    "start_time": "2023-07-29T11:16:46.760Z"
   },
   {
    "duration": 2329,
    "start_time": "2023-07-29T11:16:53.661Z"
   },
   {
    "duration": 1947,
    "start_time": "2023-07-29T11:19:13.735Z"
   },
   {
    "duration": 2079,
    "start_time": "2023-07-29T11:21:46.414Z"
   },
   {
    "duration": 1948,
    "start_time": "2023-07-29T11:22:15.782Z"
   },
   {
    "duration": 2125,
    "start_time": "2023-07-29T11:24:26.273Z"
   },
   {
    "duration": 20,
    "start_time": "2023-07-29T11:28:38.498Z"
   },
   {
    "duration": 27,
    "start_time": "2023-07-29T11:29:49.677Z"
   },
   {
    "duration": 102,
    "start_time": "2023-07-29T11:33:13.053Z"
   },
   {
    "duration": 109,
    "start_time": "2023-07-29T11:49:48.195Z"
   },
   {
    "duration": 100,
    "start_time": "2023-07-29T11:52:51.841Z"
   },
   {
    "duration": 128,
    "start_time": "2023-07-29T11:54:35.727Z"
   },
   {
    "duration": 20,
    "start_time": "2023-07-29T12:00:56.879Z"
   },
   {
    "duration": 68,
    "start_time": "2023-07-29T12:01:06.554Z"
   },
   {
    "duration": 32,
    "start_time": "2023-07-29T12:02:13.210Z"
   },
   {
    "duration": 29,
    "start_time": "2023-07-29T12:04:24.340Z"
   },
   {
    "duration": 31,
    "start_time": "2023-07-29T12:09:32.580Z"
   },
   {
    "duration": 32,
    "start_time": "2023-07-29T12:09:59.687Z"
   },
   {
    "duration": 31,
    "start_time": "2023-07-29T12:10:35.360Z"
   },
   {
    "duration": 40,
    "start_time": "2023-07-29T12:10:58.922Z"
   },
   {
    "duration": 36,
    "start_time": "2023-07-29T12:11:07.318Z"
   },
   {
    "duration": 33,
    "start_time": "2023-07-29T12:11:54.343Z"
   },
   {
    "duration": 30,
    "start_time": "2023-07-29T12:12:20.550Z"
   },
   {
    "duration": 68,
    "start_time": "2023-07-29T12:12:50.815Z"
   },
   {
    "duration": 1795,
    "start_time": "2023-07-29T12:13:11.256Z"
   },
   {
    "duration": 32,
    "start_time": "2023-07-29T12:13:17.588Z"
   },
   {
    "duration": 26,
    "start_time": "2023-07-29T12:16:40.123Z"
   },
   {
    "duration": 28,
    "start_time": "2023-07-29T12:17:39.659Z"
   },
   {
    "duration": 32,
    "start_time": "2023-07-29T12:19:22.454Z"
   },
   {
    "duration": 41,
    "start_time": "2023-07-29T12:20:00.061Z"
   },
   {
    "duration": 36,
    "start_time": "2023-07-29T12:20:52.858Z"
   },
   {
    "duration": 32,
    "start_time": "2023-07-29T12:21:05.323Z"
   },
   {
    "duration": 77,
    "start_time": "2023-07-29T12:21:31.950Z"
   },
   {
    "duration": 29,
    "start_time": "2023-07-29T12:21:40.718Z"
   },
   {
    "duration": 32,
    "start_time": "2023-07-29T12:22:07.936Z"
   },
   {
    "duration": 31,
    "start_time": "2023-07-29T12:22:47.442Z"
   },
   {
    "duration": 30,
    "start_time": "2023-07-29T12:23:01.381Z"
   },
   {
    "duration": 27,
    "start_time": "2023-07-29T12:26:06.283Z"
   },
   {
    "duration": 19,
    "start_time": "2023-07-29T12:29:39.982Z"
   },
   {
    "duration": 28,
    "start_time": "2023-07-29T12:29:45.828Z"
   },
   {
    "duration": 18,
    "start_time": "2023-07-29T12:30:08.142Z"
   },
   {
    "duration": 13,
    "start_time": "2023-07-29T12:33:30.297Z"
   },
   {
    "duration": 1069,
    "start_time": "2023-07-29T12:34:12.183Z"
   },
   {
    "duration": 98,
    "start_time": "2023-07-29T12:34:21.601Z"
   },
   {
    "duration": 21,
    "start_time": "2023-07-29T12:34:21.701Z"
   },
   {
    "duration": 256,
    "start_time": "2023-07-29T12:34:21.724Z"
   },
   {
    "duration": 0,
    "start_time": "2023-07-29T12:34:21.982Z"
   },
   {
    "duration": 215,
    "start_time": "2023-07-29T12:34:51.051Z"
   },
   {
    "duration": 187,
    "start_time": "2023-07-29T12:35:14.961Z"
   },
   {
    "duration": 177,
    "start_time": "2023-07-29T12:35:56.930Z"
   },
   {
    "duration": 13,
    "start_time": "2023-07-29T12:39:55.920Z"
   },
   {
    "duration": 110,
    "start_time": "2023-07-29T12:41:08.124Z"
   },
   {
    "duration": 209,
    "start_time": "2023-07-29T12:41:20.872Z"
   },
   {
    "duration": 216,
    "start_time": "2023-07-29T12:41:53.393Z"
   },
   {
    "duration": 192,
    "start_time": "2023-07-29T12:42:23.130Z"
   },
   {
    "duration": 165,
    "start_time": "2023-07-29T12:47:56.710Z"
   },
   {
    "duration": 152,
    "start_time": "2023-07-29T12:48:19.598Z"
   },
   {
    "duration": 283,
    "start_time": "2023-07-29T12:48:30.968Z"
   },
   {
    "duration": 162,
    "start_time": "2023-07-29T12:49:11.930Z"
   },
   {
    "duration": 157,
    "start_time": "2023-07-29T12:49:33.195Z"
   },
   {
    "duration": 16,
    "start_time": "2023-07-29T12:49:44.572Z"
   },
   {
    "duration": 6,
    "start_time": "2023-07-29T12:51:07.515Z"
   },
   {
    "duration": 68,
    "start_time": "2023-07-29T12:52:14.387Z"
   },
   {
    "duration": 114,
    "start_time": "2023-07-29T12:52:38.701Z"
   },
   {
    "duration": 8,
    "start_time": "2023-07-29T12:53:39.441Z"
   },
   {
    "duration": 109,
    "start_time": "2023-07-29T12:54:09.472Z"
   },
   {
    "duration": 43037,
    "start_time": "2023-07-29T12:54:22.709Z"
   },
   {
    "duration": 8,
    "start_time": "2023-07-29T12:55:19.537Z"
   },
   {
    "duration": 8,
    "start_time": "2023-07-29T12:55:37.598Z"
   },
   {
    "duration": 7,
    "start_time": "2023-07-29T12:55:48.138Z"
   },
   {
    "duration": 8,
    "start_time": "2023-07-29T12:56:02.790Z"
   },
   {
    "duration": 17,
    "start_time": "2023-07-29T13:02:33.967Z"
   },
   {
    "duration": 190,
    "start_time": "2023-07-29T13:03:03.130Z"
   },
   {
    "duration": 16,
    "start_time": "2023-07-29T13:03:16.926Z"
   },
   {
    "duration": 11,
    "start_time": "2023-07-29T13:03:48.942Z"
   },
   {
    "duration": 12,
    "start_time": "2023-07-29T13:03:57.648Z"
   },
   {
    "duration": 7,
    "start_time": "2023-07-29T13:10:51.903Z"
   },
   {
    "duration": 1776,
    "start_time": "2023-07-29T13:13:27.904Z"
   },
   {
    "duration": 33,
    "start_time": "2023-07-29T13:16:15.968Z"
   },
   {
    "duration": 34,
    "start_time": "2023-07-29T13:19:30.808Z"
   },
   {
    "duration": 36,
    "start_time": "2023-07-29T13:21:10.511Z"
   },
   {
    "duration": 33,
    "start_time": "2023-07-29T13:21:37.977Z"
   },
   {
    "duration": 36,
    "start_time": "2023-07-29T13:21:48.573Z"
   },
   {
    "duration": 29,
    "start_time": "2023-07-29T13:22:21.866Z"
   },
   {
    "duration": 30,
    "start_time": "2023-07-29T13:22:42.330Z"
   },
   {
    "duration": 31,
    "start_time": "2023-07-29T13:23:30.503Z"
   },
   {
    "duration": 159,
    "start_time": "2023-07-29T13:23:34.814Z"
   },
   {
    "duration": 114,
    "start_time": "2023-07-29T13:23:44.365Z"
   },
   {
    "duration": 9,
    "start_time": "2023-07-29T13:23:48.370Z"
   },
   {
    "duration": 267,
    "start_time": "2023-07-29T13:25:36.121Z"
   },
   {
    "duration": 275,
    "start_time": "2023-07-29T13:26:11.956Z"
   },
   {
    "duration": 16,
    "start_time": "2023-07-29T13:32:07.516Z"
   },
   {
    "duration": 5,
    "start_time": "2023-07-29T13:35:38.821Z"
   },
   {
    "duration": 157,
    "start_time": "2023-07-29T13:36:13.705Z"
   },
   {
    "duration": 19,
    "start_time": "2023-07-29T13:40:13.169Z"
   },
   {
    "duration": 23,
    "start_time": "2023-07-29T13:41:02.692Z"
   },
   {
    "duration": 26,
    "start_time": "2023-07-29T13:42:27.338Z"
   },
   {
    "duration": 17,
    "start_time": "2023-07-29T13:42:41.270Z"
   },
   {
    "duration": 14,
    "start_time": "2023-07-29T13:43:54.806Z"
   },
   {
    "duration": 155,
    "start_time": "2023-07-29T13:46:13.011Z"
   },
   {
    "duration": 164,
    "start_time": "2023-07-29T13:47:54.934Z"
   },
   {
    "duration": 166,
    "start_time": "2023-07-29T13:48:22.364Z"
   },
   {
    "duration": 174,
    "start_time": "2023-07-29T13:48:32.156Z"
   },
   {
    "duration": 165,
    "start_time": "2023-07-29T13:48:41.399Z"
   },
   {
    "duration": 327,
    "start_time": "2023-07-29T13:48:46.173Z"
   },
   {
    "duration": 165,
    "start_time": "2023-07-29T13:49:19.238Z"
   },
   {
    "duration": 114,
    "start_time": "2023-07-29T13:49:30.563Z"
   },
   {
    "duration": 120,
    "start_time": "2023-07-29T13:49:52.521Z"
   },
   {
    "duration": 172,
    "start_time": "2023-07-29T13:50:07.074Z"
   },
   {
    "duration": 117,
    "start_time": "2023-07-29T13:51:31.363Z"
   },
   {
    "duration": 114,
    "start_time": "2023-07-29T13:51:50.807Z"
   },
   {
    "duration": 152,
    "start_time": "2023-07-29T13:52:00.214Z"
   },
   {
    "duration": 251,
    "start_time": "2023-07-29T13:52:22.338Z"
   },
   {
    "duration": 266,
    "start_time": "2023-07-29T13:54:37.296Z"
   },
   {
    "duration": 2095,
    "start_time": "2023-07-29T13:56:18.624Z"
   },
   {
    "duration": 1692,
    "start_time": "2023-07-30T11:56:58.987Z"
   },
   {
    "duration": 25,
    "start_time": "2023-07-30T11:57:00.681Z"
   },
   {
    "duration": 222,
    "start_time": "2023-07-30T11:57:00.708Z"
   },
   {
    "duration": 135,
    "start_time": "2023-07-30T11:57:00.931Z"
   },
   {
    "duration": 335,
    "start_time": "2023-07-30T11:57:01.069Z"
   },
   {
    "duration": 1308,
    "start_time": "2023-07-30T11:59:35.773Z"
   },
   {
    "duration": 24,
    "start_time": "2023-07-30T11:59:37.084Z"
   },
   {
    "duration": 205,
    "start_time": "2023-07-30T11:59:37.110Z"
   },
   {
    "duration": 149,
    "start_time": "2023-07-30T11:59:37.317Z"
   },
   {
    "duration": 322,
    "start_time": "2023-07-30T11:59:37.469Z"
   },
   {
    "duration": 1390,
    "start_time": "2023-07-30T12:00:52.164Z"
   },
   {
    "duration": 25,
    "start_time": "2023-07-30T12:00:53.556Z"
   },
   {
    "duration": 205,
    "start_time": "2023-07-30T12:00:53.582Z"
   },
   {
    "duration": 140,
    "start_time": "2023-07-30T12:00:53.789Z"
   },
   {
    "duration": 340,
    "start_time": "2023-07-30T12:00:53.932Z"
   },
   {
    "duration": 1383,
    "start_time": "2023-07-30T12:01:38.272Z"
   },
   {
    "duration": 23,
    "start_time": "2023-07-30T12:01:39.657Z"
   },
   {
    "duration": 181,
    "start_time": "2023-07-30T12:01:39.682Z"
   },
   {
    "duration": 119,
    "start_time": "2023-07-30T12:01:39.864Z"
   },
   {
    "duration": 304,
    "start_time": "2023-07-30T12:01:39.986Z"
   },
   {
    "duration": 1395,
    "start_time": "2023-07-30T12:03:57.863Z"
   },
   {
    "duration": 32,
    "start_time": "2023-07-30T12:03:59.261Z"
   },
   {
    "duration": 203,
    "start_time": "2023-07-30T12:03:59.294Z"
   },
   {
    "duration": 137,
    "start_time": "2023-07-30T12:03:59.499Z"
   },
   {
    "duration": 328,
    "start_time": "2023-07-30T12:03:59.639Z"
   },
   {
    "duration": 1312,
    "start_time": "2023-07-30T12:04:41.960Z"
   },
   {
    "duration": 25,
    "start_time": "2023-07-30T12:04:43.274Z"
   },
   {
    "duration": 193,
    "start_time": "2023-07-30T12:04:43.301Z"
   },
   {
    "duration": 128,
    "start_time": "2023-07-30T12:04:43.495Z"
   },
   {
    "duration": 341,
    "start_time": "2023-07-30T12:04:43.626Z"
   },
   {
    "duration": 1279,
    "start_time": "2023-07-30T12:05:40.699Z"
   },
   {
    "duration": 24,
    "start_time": "2023-07-30T12:05:41.980Z"
   },
   {
    "duration": 210,
    "start_time": "2023-07-30T12:05:42.006Z"
   },
   {
    "duration": 121,
    "start_time": "2023-07-30T12:05:42.218Z"
   },
   {
    "duration": 319,
    "start_time": "2023-07-30T12:05:42.342Z"
   },
   {
    "duration": 1334,
    "start_time": "2023-07-30T12:09:44.259Z"
   },
   {
    "duration": 26,
    "start_time": "2023-07-30T12:09:45.596Z"
   },
   {
    "duration": 211,
    "start_time": "2023-07-30T12:09:45.624Z"
   },
   {
    "duration": 147,
    "start_time": "2023-07-30T12:09:45.837Z"
   },
   {
    "duration": 315,
    "start_time": "2023-07-30T12:09:45.987Z"
   },
   {
    "duration": 1322,
    "start_time": "2023-07-30T12:14:06.386Z"
   },
   {
    "duration": 28,
    "start_time": "2023-07-30T12:14:07.710Z"
   },
   {
    "duration": 205,
    "start_time": "2023-07-30T12:14:07.740Z"
   },
   {
    "duration": 149,
    "start_time": "2023-07-30T12:14:07.947Z"
   },
   {
    "duration": 351,
    "start_time": "2023-07-30T12:14:08.099Z"
   },
   {
    "duration": 1311,
    "start_time": "2023-07-30T12:15:03.378Z"
   },
   {
    "duration": 25,
    "start_time": "2023-07-30T12:15:04.691Z"
   },
   {
    "duration": 198,
    "start_time": "2023-07-30T12:15:04.718Z"
   },
   {
    "duration": 139,
    "start_time": "2023-07-30T12:15:04.919Z"
   },
   {
    "duration": 328,
    "start_time": "2023-07-30T12:15:05.060Z"
   },
   {
    "duration": 1341,
    "start_time": "2023-07-30T12:18:22.146Z"
   },
   {
    "duration": 25,
    "start_time": "2023-07-30T12:18:23.489Z"
   },
   {
    "duration": 234,
    "start_time": "2023-07-30T12:18:23.516Z"
   },
   {
    "duration": 134,
    "start_time": "2023-07-30T12:18:23.752Z"
   },
   {
    "duration": 342,
    "start_time": "2023-07-30T12:18:23.888Z"
   },
   {
    "duration": 257,
    "start_time": "2023-07-30T12:18:24.231Z"
   },
   {
    "duration": 137,
    "start_time": "2023-07-30T12:18:24.489Z"
   },
   {
    "duration": 142,
    "start_time": "2023-07-30T12:29:11.309Z"
   },
   {
    "duration": 220,
    "start_time": "2023-07-30T12:29:37.987Z"
   },
   {
    "duration": 272,
    "start_time": "2023-07-30T12:30:02.177Z"
   },
   {
    "duration": 227,
    "start_time": "2023-07-30T12:30:53.774Z"
   },
   {
    "duration": 265,
    "start_time": "2023-07-30T12:31:29.683Z"
   },
   {
    "duration": 339,
    "start_time": "2023-07-30T12:31:48.610Z"
   },
   {
    "duration": 194,
    "start_time": "2023-07-30T12:32:49.764Z"
   },
   {
    "duration": 171,
    "start_time": "2023-07-30T12:32:58.791Z"
   },
   {
    "duration": 199,
    "start_time": "2023-07-30T12:33:32.447Z"
   },
   {
    "duration": 160,
    "start_time": "2023-07-30T12:33:40.101Z"
   },
   {
    "duration": 226,
    "start_time": "2023-07-30T12:39:50.479Z"
   },
   {
    "duration": 207,
    "start_time": "2023-07-30T12:40:50.722Z"
   },
   {
    "duration": 295,
    "start_time": "2023-07-30T12:40:58.323Z"
   },
   {
    "duration": 283,
    "start_time": "2023-07-30T12:41:18.811Z"
   },
   {
    "duration": 236,
    "start_time": "2023-07-30T12:41:26.012Z"
   },
   {
    "duration": 25,
    "start_time": "2023-07-30T12:49:42.370Z"
   },
   {
    "duration": 25,
    "start_time": "2023-07-30T12:50:39.166Z"
   },
   {
    "duration": 1322,
    "start_time": "2023-07-30T12:53:20.567Z"
   },
   {
    "duration": 25,
    "start_time": "2023-07-30T12:53:21.890Z"
   },
   {
    "duration": 193,
    "start_time": "2023-07-30T12:53:21.917Z"
   },
   {
    "duration": 129,
    "start_time": "2023-07-30T12:53:22.112Z"
   },
   {
    "duration": 315,
    "start_time": "2023-07-30T12:53:22.243Z"
   },
   {
    "duration": 244,
    "start_time": "2023-07-30T12:53:22.560Z"
   },
   {
    "duration": 258,
    "start_time": "2023-07-30T12:53:22.806Z"
   },
   {
    "duration": 118,
    "start_time": "2023-07-30T12:53:23.066Z"
   },
   {
    "duration": 24,
    "start_time": "2023-07-30T12:53:56.758Z"
   },
   {
    "duration": 23,
    "start_time": "2023-07-30T12:54:04.354Z"
   },
   {
    "duration": 41,
    "start_time": "2023-07-30T13:04:57.553Z"
   },
   {
    "duration": 37,
    "start_time": "2023-07-30T13:05:59.693Z"
   },
   {
    "duration": 39,
    "start_time": "2023-07-30T13:06:06.988Z"
   },
   {
    "duration": 44,
    "start_time": "2023-07-30T13:07:14.860Z"
   },
   {
    "duration": 43,
    "start_time": "2023-07-30T13:07:31.382Z"
   },
   {
    "duration": 44,
    "start_time": "2023-07-30T13:07:44.257Z"
   },
   {
    "duration": 57,
    "start_time": "2023-07-30T13:08:40.656Z"
   },
   {
    "duration": 59,
    "start_time": "2023-07-30T13:14:57.500Z"
   },
   {
    "duration": 64,
    "start_time": "2023-07-30T13:15:59.149Z"
   },
   {
    "duration": 71,
    "start_time": "2023-07-30T13:16:25.849Z"
   },
   {
    "duration": 99,
    "start_time": "2023-07-30T13:18:19.314Z"
   },
   {
    "duration": 235,
    "start_time": "2023-07-30T13:19:43.074Z"
   },
   {
    "duration": 236,
    "start_time": "2023-07-30T13:20:18.474Z"
   },
   {
    "duration": 126,
    "start_time": "2023-07-30T13:22:25.870Z"
   },
   {
    "duration": 29,
    "start_time": "2023-07-30T13:28:55.408Z"
   },
   {
    "duration": 31,
    "start_time": "2023-07-30T13:28:58.595Z"
   },
   {
    "duration": 361,
    "start_time": "2023-07-30T13:32:44.422Z"
   },
   {
    "duration": 281,
    "start_time": "2023-07-30T13:32:51.381Z"
   },
   {
    "duration": 532,
    "start_time": "2023-07-30T13:34:35.550Z"
   },
   {
    "duration": 466,
    "start_time": "2023-07-30T13:36:46.501Z"
   },
   {
    "duration": 462,
    "start_time": "2023-07-30T13:37:48.166Z"
   },
   {
    "duration": 464,
    "start_time": "2023-07-30T13:38:49.146Z"
   },
   {
    "duration": 600,
    "start_time": "2023-07-30T13:39:20.353Z"
   },
   {
    "duration": 456,
    "start_time": "2023-07-30T13:39:26.916Z"
   },
   {
    "duration": 531,
    "start_time": "2023-07-30T13:42:58.749Z"
   },
   {
    "duration": 491,
    "start_time": "2023-07-30T13:43:17.485Z"
   },
   {
    "duration": 52,
    "start_time": "2023-07-30T13:48:41.673Z"
   },
   {
    "duration": 86,
    "start_time": "2023-07-30T13:48:58.439Z"
   },
   {
    "duration": 71,
    "start_time": "2023-07-30T13:49:42.471Z"
   },
   {
    "duration": 72,
    "start_time": "2023-07-30T13:50:42.203Z"
   },
   {
    "duration": 78,
    "start_time": "2023-07-30T13:51:55.648Z"
   },
   {
    "duration": 73,
    "start_time": "2023-07-30T13:52:43.680Z"
   },
   {
    "duration": 490,
    "start_time": "2023-07-30T13:53:25.200Z"
   },
   {
    "duration": 613,
    "start_time": "2023-07-30T13:54:57.990Z"
   },
   {
    "duration": 460,
    "start_time": "2023-07-30T13:55:29.871Z"
   },
   {
    "duration": 474,
    "start_time": "2023-07-30T13:56:19.588Z"
   },
   {
    "duration": 18,
    "start_time": "2023-07-30T14:20:14.675Z"
   },
   {
    "duration": 30,
    "start_time": "2023-07-30T14:20:35.197Z"
   },
   {
    "duration": 26,
    "start_time": "2023-07-30T14:37:00.568Z"
   },
   {
    "duration": 31,
    "start_time": "2023-07-30T14:37:16.418Z"
   },
   {
    "duration": 122,
    "start_time": "2023-07-30T14:40:30.547Z"
   },
   {
    "duration": 25,
    "start_time": "2023-07-30T14:40:30.672Z"
   },
   {
    "duration": 201,
    "start_time": "2023-07-30T14:40:30.699Z"
   },
   {
    "duration": 135,
    "start_time": "2023-07-30T14:40:30.902Z"
   },
   {
    "duration": 332,
    "start_time": "2023-07-30T14:40:31.040Z"
   },
   {
    "duration": 234,
    "start_time": "2023-07-30T14:40:31.374Z"
   },
   {
    "duration": 278,
    "start_time": "2023-07-30T14:40:31.610Z"
   },
   {
    "duration": 96,
    "start_time": "2023-07-30T14:40:31.890Z"
   },
   {
    "duration": 605,
    "start_time": "2023-07-30T14:40:31.988Z"
   },
   {
    "duration": 505,
    "start_time": "2023-07-30T14:40:32.594Z"
   },
   {
    "duration": 29,
    "start_time": "2023-07-30T14:40:33.101Z"
   },
   {
    "duration": 15,
    "start_time": "2023-07-30T14:57:56.752Z"
   },
   {
    "duration": 107,
    "start_time": "2023-07-30T14:58:06.274Z"
   },
   {
    "duration": 24,
    "start_time": "2023-07-30T14:58:06.382Z"
   },
   {
    "duration": 197,
    "start_time": "2023-07-30T14:58:06.408Z"
   },
   {
    "duration": 132,
    "start_time": "2023-07-30T14:58:06.608Z"
   },
   {
    "duration": 303,
    "start_time": "2023-07-30T14:58:06.742Z"
   },
   {
    "duration": 250,
    "start_time": "2023-07-30T14:58:07.047Z"
   },
   {
    "duration": 253,
    "start_time": "2023-07-30T14:58:07.298Z"
   },
   {
    "duration": 84,
    "start_time": "2023-07-30T14:58:07.561Z"
   },
   {
    "duration": 469,
    "start_time": "2023-07-30T14:58:07.647Z"
   },
   {
    "duration": 622,
    "start_time": "2023-07-30T14:58:08.119Z"
   },
   {
    "duration": 38,
    "start_time": "2023-07-30T14:58:08.743Z"
   },
   {
    "duration": 5,
    "start_time": "2023-07-30T14:58:08.783Z"
   },
   {
    "duration": 6,
    "start_time": "2023-07-30T14:59:17.711Z"
   },
   {
    "duration": 6,
    "start_time": "2023-07-30T15:02:00.114Z"
   },
   {
    "duration": 10,
    "start_time": "2023-07-30T15:02:57.589Z"
   },
   {
    "duration": 10,
    "start_time": "2023-07-30T15:03:12.363Z"
   },
   {
    "duration": 6,
    "start_time": "2023-07-30T15:03:37.276Z"
   },
   {
    "duration": 37,
    "start_time": "2023-07-30T15:10:43.197Z"
   },
   {
    "duration": 42,
    "start_time": "2023-07-30T15:10:49.347Z"
   },
   {
    "duration": 31,
    "start_time": "2023-07-30T15:11:27.912Z"
   },
   {
    "duration": 35,
    "start_time": "2023-07-30T15:17:08.386Z"
   },
   {
    "duration": 29,
    "start_time": "2023-07-30T15:19:37.506Z"
   },
   {
    "duration": 23,
    "start_time": "2023-07-30T15:34:43.752Z"
   },
   {
    "duration": 10,
    "start_time": "2023-07-30T15:35:39.301Z"
   },
   {
    "duration": 8,
    "start_time": "2023-07-30T15:55:14.715Z"
   },
   {
    "duration": 7,
    "start_time": "2023-07-30T15:59:24.006Z"
   },
   {
    "duration": 14,
    "start_time": "2023-07-30T16:01:48.696Z"
   },
   {
    "duration": 128,
    "start_time": "2023-07-30T16:02:19.860Z"
   },
   {
    "duration": 24,
    "start_time": "2023-07-30T16:02:19.990Z"
   },
   {
    "duration": 198,
    "start_time": "2023-07-30T16:02:20.015Z"
   },
   {
    "duration": 126,
    "start_time": "2023-07-30T16:02:20.215Z"
   },
   {
    "duration": 329,
    "start_time": "2023-07-30T16:02:20.343Z"
   },
   {
    "duration": 252,
    "start_time": "2023-07-30T16:02:20.674Z"
   },
   {
    "duration": 238,
    "start_time": "2023-07-30T16:02:20.928Z"
   },
   {
    "duration": 89,
    "start_time": "2023-07-30T16:02:21.168Z"
   },
   {
    "duration": 421,
    "start_time": "2023-07-30T16:02:21.259Z"
   },
   {
    "duration": 473,
    "start_time": "2023-07-30T16:02:21.683Z"
   },
   {
    "duration": 37,
    "start_time": "2023-07-30T16:02:22.158Z"
   },
   {
    "duration": 6,
    "start_time": "2023-07-30T16:02:22.198Z"
   },
   {
    "duration": 10,
    "start_time": "2023-07-30T16:02:22.206Z"
   },
   {
    "duration": 40,
    "start_time": "2023-07-30T16:02:22.217Z"
   },
   {
    "duration": 4,
    "start_time": "2023-07-30T16:02:22.259Z"
   },
   {
    "duration": 5,
    "start_time": "2023-07-30T16:04:02.971Z"
   },
   {
    "duration": 6,
    "start_time": "2023-07-30T16:05:13.535Z"
   },
   {
    "duration": 11,
    "start_time": "2023-07-30T16:07:59.857Z"
   },
   {
    "duration": 12,
    "start_time": "2023-07-30T16:08:13.609Z"
   },
   {
    "duration": 3194,
    "start_time": "2023-07-30T16:24:18.328Z"
   },
   {
    "duration": 12,
    "start_time": "2023-07-30T16:25:03.404Z"
   },
   {
    "duration": 16,
    "start_time": "2023-07-30T16:27:28.833Z"
   },
   {
    "duration": 2616,
    "start_time": "2023-07-30T16:29:24.714Z"
   },
   {
    "duration": 12,
    "start_time": "2023-07-30T16:29:45.629Z"
   },
   {
    "duration": 10,
    "start_time": "2023-07-30T16:31:00.830Z"
   },
   {
    "duration": 12,
    "start_time": "2023-07-30T16:31:47.230Z"
   },
   {
    "duration": 9,
    "start_time": "2023-07-30T16:32:19.996Z"
   },
   {
    "duration": 11,
    "start_time": "2023-07-30T16:35:30.639Z"
   },
   {
    "duration": 11,
    "start_time": "2023-07-30T16:36:30.239Z"
   },
   {
    "duration": 8,
    "start_time": "2023-07-30T16:38:46.736Z"
   },
   {
    "duration": 7,
    "start_time": "2023-07-30T16:39:53.862Z"
   },
   {
    "duration": 150,
    "start_time": "2023-07-30T16:40:29.266Z"
   },
   {
    "duration": 0,
    "start_time": "2023-07-30T16:40:29.418Z"
   },
   {
    "duration": 7,
    "start_time": "2023-07-30T16:40:43.035Z"
   },
   {
    "duration": 15,
    "start_time": "2023-07-30T16:42:35.959Z"
   },
   {
    "duration": 10,
    "start_time": "2023-07-30T16:43:02.637Z"
   },
   {
    "duration": 10,
    "start_time": "2023-07-30T16:44:03.759Z"
   },
   {
    "duration": 9,
    "start_time": "2023-07-30T16:44:22.669Z"
   },
   {
    "duration": 12,
    "start_time": "2023-07-30T16:44:37.364Z"
   },
   {
    "duration": 14,
    "start_time": "2023-07-30T16:46:05.302Z"
   },
   {
    "duration": 12,
    "start_time": "2023-07-30T16:47:15.302Z"
   },
   {
    "duration": 13,
    "start_time": "2023-07-30T16:50:10.010Z"
   },
   {
    "duration": 14,
    "start_time": "2023-07-30T16:51:21.514Z"
   },
   {
    "duration": 12,
    "start_time": "2023-07-30T16:54:21.873Z"
   },
   {
    "duration": 111,
    "start_time": "2023-07-30T16:57:55.646Z"
   },
   {
    "duration": 9,
    "start_time": "2023-07-30T16:58:07.204Z"
   },
   {
    "duration": 229,
    "start_time": "2023-07-30T16:58:48.792Z"
   },
   {
    "duration": 11,
    "start_time": "2023-07-30T16:58:57.381Z"
   },
   {
    "duration": 10,
    "start_time": "2023-07-30T16:59:06.079Z"
   },
   {
    "duration": 17,
    "start_time": "2023-07-30T17:03:09.342Z"
   },
   {
    "duration": 10,
    "start_time": "2023-07-30T17:06:33.742Z"
   },
   {
    "duration": 12,
    "start_time": "2023-07-30T17:07:50.897Z"
   },
   {
    "duration": 15,
    "start_time": "2023-07-30T17:08:16.313Z"
   },
   {
    "duration": 9,
    "start_time": "2023-07-30T17:09:12.973Z"
   },
   {
    "duration": 13,
    "start_time": "2023-07-30T17:09:15.645Z"
   },
   {
    "duration": 11,
    "start_time": "2023-07-30T17:17:19.545Z"
   },
   {
    "duration": 104,
    "start_time": "2023-07-30T17:17:24.648Z"
   },
   {
    "duration": 25,
    "start_time": "2023-07-30T17:17:24.754Z"
   },
   {
    "duration": 175,
    "start_time": "2023-07-30T17:17:24.781Z"
   },
   {
    "duration": 133,
    "start_time": "2023-07-30T17:17:24.959Z"
   },
   {
    "duration": 465,
    "start_time": "2023-07-30T17:17:25.094Z"
   },
   {
    "duration": 230,
    "start_time": "2023-07-30T17:17:25.561Z"
   },
   {
    "duration": 247,
    "start_time": "2023-07-30T17:17:25.793Z"
   },
   {
    "duration": 82,
    "start_time": "2023-07-30T17:17:26.042Z"
   },
   {
    "duration": 425,
    "start_time": "2023-07-30T17:17:26.126Z"
   },
   {
    "duration": 448,
    "start_time": "2023-07-30T17:17:26.556Z"
   },
   {
    "duration": 32,
    "start_time": "2023-07-30T17:17:27.006Z"
   },
   {
    "duration": 26,
    "start_time": "2023-07-30T17:17:27.040Z"
   },
   {
    "duration": 28,
    "start_time": "2023-07-30T17:17:27.067Z"
   },
   {
    "duration": 13,
    "start_time": "2023-07-30T17:17:27.097Z"
   },
   {
    "duration": 1334,
    "start_time": "2023-07-30T17:21:01.544Z"
   },
   {
    "duration": 26,
    "start_time": "2023-07-30T17:21:02.880Z"
   },
   {
    "duration": 187,
    "start_time": "2023-07-30T17:21:02.907Z"
   },
   {
    "duration": 136,
    "start_time": "2023-07-30T17:21:03.096Z"
   },
   {
    "duration": 318,
    "start_time": "2023-07-30T17:21:03.233Z"
   },
   {
    "duration": 248,
    "start_time": "2023-07-30T17:21:03.556Z"
   },
   {
    "duration": 237,
    "start_time": "2023-07-30T17:21:03.806Z"
   },
   {
    "duration": 81,
    "start_time": "2023-07-30T17:21:04.045Z"
   },
   {
    "duration": 460,
    "start_time": "2023-07-30T17:21:04.128Z"
   },
   {
    "duration": 562,
    "start_time": "2023-07-30T17:21:04.590Z"
   },
   {
    "duration": 30,
    "start_time": "2023-07-30T17:21:05.156Z"
   },
   {
    "duration": 29,
    "start_time": "2023-07-30T17:21:05.187Z"
   },
   {
    "duration": 10,
    "start_time": "2023-07-30T17:21:05.217Z"
   },
   {
    "duration": 17,
    "start_time": "2023-07-30T17:21:05.229Z"
   },
   {
    "duration": 1331,
    "start_time": "2023-07-30T17:29:25.496Z"
   },
   {
    "duration": 28,
    "start_time": "2023-07-30T17:29:26.830Z"
   },
   {
    "duration": 176,
    "start_time": "2023-07-30T17:29:26.860Z"
   },
   {
    "duration": 125,
    "start_time": "2023-07-30T17:29:27.039Z"
   },
   {
    "duration": 305,
    "start_time": "2023-07-30T17:29:27.166Z"
   },
   {
    "duration": 230,
    "start_time": "2023-07-30T17:29:27.473Z"
   },
   {
    "duration": 240,
    "start_time": "2023-07-30T17:29:27.705Z"
   },
   {
    "duration": 74,
    "start_time": "2023-07-30T17:29:27.946Z"
   },
   {
    "duration": 465,
    "start_time": "2023-07-30T17:29:28.021Z"
   },
   {
    "duration": 631,
    "start_time": "2023-07-30T17:29:28.488Z"
   },
   {
    "duration": 44,
    "start_time": "2023-07-30T17:29:29.121Z"
   },
   {
    "duration": 14,
    "start_time": "2023-07-30T17:29:29.167Z"
   },
   {
    "duration": 9,
    "start_time": "2023-07-30T17:29:29.183Z"
   },
   {
    "duration": 23,
    "start_time": "2023-07-30T17:29:29.194Z"
   },
   {
    "duration": 1353,
    "start_time": "2023-07-30T17:31:32.651Z"
   },
   {
    "duration": 25,
    "start_time": "2023-07-30T17:31:34.006Z"
   },
   {
    "duration": 198,
    "start_time": "2023-07-30T17:31:34.032Z"
   },
   {
    "duration": 136,
    "start_time": "2023-07-30T17:31:34.232Z"
   },
   {
    "duration": 302,
    "start_time": "2023-07-30T17:31:34.370Z"
   },
   {
    "duration": 223,
    "start_time": "2023-07-30T17:31:34.674Z"
   },
   {
    "duration": 234,
    "start_time": "2023-07-30T17:31:34.899Z"
   },
   {
    "duration": 82,
    "start_time": "2023-07-30T17:31:35.134Z"
   },
   {
    "duration": 432,
    "start_time": "2023-07-30T17:31:35.218Z"
   },
   {
    "duration": 522,
    "start_time": "2023-07-30T17:31:35.656Z"
   },
   {
    "duration": 32,
    "start_time": "2023-07-30T17:31:36.180Z"
   },
   {
    "duration": 13,
    "start_time": "2023-07-30T17:31:36.214Z"
   },
   {
    "duration": 56,
    "start_time": "2023-07-30T17:31:36.229Z"
   },
   {
    "duration": 35,
    "start_time": "2023-07-30T17:31:36.287Z"
   },
   {
    "duration": 1226,
    "start_time": "2023-07-30T17:37:31.806Z"
   },
   {
    "duration": 24,
    "start_time": "2023-07-30T17:37:33.033Z"
   },
   {
    "duration": 182,
    "start_time": "2023-07-30T17:37:33.058Z"
   },
   {
    "duration": 135,
    "start_time": "2023-07-30T17:37:33.243Z"
   },
   {
    "duration": 310,
    "start_time": "2023-07-30T17:37:33.381Z"
   },
   {
    "duration": 246,
    "start_time": "2023-07-30T17:37:33.693Z"
   },
   {
    "duration": 244,
    "start_time": "2023-07-30T17:37:33.941Z"
   },
   {
    "duration": 90,
    "start_time": "2023-07-30T17:37:34.186Z"
   },
   {
    "duration": 432,
    "start_time": "2023-07-30T17:37:34.278Z"
   },
   {
    "duration": 556,
    "start_time": "2023-07-30T17:37:34.712Z"
   },
   {
    "duration": 31,
    "start_time": "2023-07-30T17:37:35.270Z"
   },
   {
    "duration": 12,
    "start_time": "2023-07-30T17:37:35.303Z"
   },
   {
    "duration": 14,
    "start_time": "2023-07-30T17:37:35.316Z"
   },
   {
    "duration": 33,
    "start_time": "2023-07-30T17:37:35.332Z"
   },
   {
    "duration": 157,
    "start_time": "2023-07-30T17:37:35.366Z"
   },
   {
    "duration": 1355,
    "start_time": "2023-07-30T17:39:14.434Z"
   },
   {
    "duration": 24,
    "start_time": "2023-07-30T17:39:15.790Z"
   },
   {
    "duration": 179,
    "start_time": "2023-07-30T17:39:15.816Z"
   },
   {
    "duration": 118,
    "start_time": "2023-07-30T17:39:15.997Z"
   },
   {
    "duration": 309,
    "start_time": "2023-07-30T17:39:16.117Z"
   },
   {
    "duration": 221,
    "start_time": "2023-07-30T17:39:16.427Z"
   },
   {
    "duration": 225,
    "start_time": "2023-07-30T17:39:16.649Z"
   },
   {
    "duration": 84,
    "start_time": "2023-07-30T17:39:16.875Z"
   },
   {
    "duration": 441,
    "start_time": "2023-07-30T17:39:16.961Z"
   },
   {
    "duration": 558,
    "start_time": "2023-07-30T17:39:17.406Z"
   },
   {
    "duration": 31,
    "start_time": "2023-07-30T17:39:17.966Z"
   },
   {
    "duration": 11,
    "start_time": "2023-07-30T17:39:17.999Z"
   },
   {
    "duration": 8,
    "start_time": "2023-07-30T17:39:18.011Z"
   },
   {
    "duration": 41,
    "start_time": "2023-07-30T17:39:18.021Z"
   },
   {
    "duration": 1273,
    "start_time": "2023-07-30T17:55:16.561Z"
   },
   {
    "duration": 22,
    "start_time": "2023-07-30T17:55:17.836Z"
   },
   {
    "duration": 182,
    "start_time": "2023-07-30T17:55:17.859Z"
   },
   {
    "duration": 127,
    "start_time": "2023-07-30T17:55:18.043Z"
   },
   {
    "duration": 317,
    "start_time": "2023-07-30T17:55:18.172Z"
   },
   {
    "duration": 229,
    "start_time": "2023-07-30T17:55:18.491Z"
   },
   {
    "duration": 289,
    "start_time": "2023-07-30T17:55:18.722Z"
   },
   {
    "duration": 86,
    "start_time": "2023-07-30T17:55:19.012Z"
   },
   {
    "duration": 501,
    "start_time": "2023-07-30T17:55:19.100Z"
   },
   {
    "duration": 537,
    "start_time": "2023-07-30T17:55:19.603Z"
   },
   {
    "duration": 36,
    "start_time": "2023-07-30T17:55:20.142Z"
   },
   {
    "duration": 12,
    "start_time": "2023-07-30T17:55:20.180Z"
   },
   {
    "duration": 8,
    "start_time": "2023-07-30T17:55:20.194Z"
   },
   {
    "duration": 18,
    "start_time": "2023-07-30T17:55:20.204Z"
   },
   {
    "duration": 117,
    "start_time": "2023-07-30T17:55:20.223Z"
   },
   {
    "duration": 1301,
    "start_time": "2023-07-30T17:55:42.640Z"
   },
   {
    "duration": 27,
    "start_time": "2023-07-30T17:55:43.944Z"
   },
   {
    "duration": 200,
    "start_time": "2023-07-30T17:55:43.973Z"
   },
   {
    "duration": 139,
    "start_time": "2023-07-30T17:55:44.175Z"
   },
   {
    "duration": 305,
    "start_time": "2023-07-30T17:55:44.317Z"
   },
   {
    "duration": 244,
    "start_time": "2023-07-30T17:55:44.624Z"
   },
   {
    "duration": 260,
    "start_time": "2023-07-30T17:55:44.870Z"
   },
   {
    "duration": 106,
    "start_time": "2023-07-30T17:55:45.133Z"
   },
   {
    "duration": 456,
    "start_time": "2023-07-30T17:55:45.241Z"
   },
   {
    "duration": 568,
    "start_time": "2023-07-30T17:55:45.699Z"
   },
   {
    "duration": 32,
    "start_time": "2023-07-30T17:55:46.269Z"
   },
   {
    "duration": 13,
    "start_time": "2023-07-30T17:55:46.303Z"
   },
   {
    "duration": 14,
    "start_time": "2023-07-30T17:55:46.318Z"
   },
   {
    "duration": 11,
    "start_time": "2023-07-30T17:55:46.357Z"
   },
   {
    "duration": 153,
    "start_time": "2023-07-30T17:55:46.369Z"
   },
   {
    "duration": 1221,
    "start_time": "2023-07-30T17:58:43.974Z"
   },
   {
    "duration": 23,
    "start_time": "2023-07-30T17:58:45.197Z"
   },
   {
    "duration": 196,
    "start_time": "2023-07-30T17:58:45.222Z"
   },
   {
    "duration": 120,
    "start_time": "2023-07-30T17:58:45.420Z"
   },
   {
    "duration": 285,
    "start_time": "2023-07-30T17:58:45.542Z"
   },
   {
    "duration": 223,
    "start_time": "2023-07-30T17:58:45.829Z"
   },
   {
    "duration": 223,
    "start_time": "2023-07-30T17:58:46.054Z"
   },
   {
    "duration": 86,
    "start_time": "2023-07-30T17:58:46.279Z"
   },
   {
    "duration": 407,
    "start_time": "2023-07-30T17:58:46.366Z"
   },
   {
    "duration": 540,
    "start_time": "2023-07-30T17:58:46.776Z"
   },
   {
    "duration": 41,
    "start_time": "2023-07-30T17:58:47.317Z"
   },
   {
    "duration": 14,
    "start_time": "2023-07-30T17:58:47.360Z"
   },
   {
    "duration": 11,
    "start_time": "2023-07-30T17:58:47.375Z"
   },
   {
    "duration": 19,
    "start_time": "2023-07-30T17:58:47.387Z"
   },
   {
    "duration": 1244,
    "start_time": "2023-07-30T18:01:30.880Z"
   },
   {
    "duration": 0,
    "start_time": "2023-07-30T18:01:32.126Z"
   },
   {
    "duration": 0,
    "start_time": "2023-07-30T18:01:32.128Z"
   },
   {
    "duration": 0,
    "start_time": "2023-07-30T18:01:32.129Z"
   },
   {
    "duration": 0,
    "start_time": "2023-07-30T18:01:32.130Z"
   },
   {
    "duration": 0,
    "start_time": "2023-07-30T18:01:32.131Z"
   },
   {
    "duration": 0,
    "start_time": "2023-07-30T18:01:32.131Z"
   },
   {
    "duration": 0,
    "start_time": "2023-07-30T18:01:32.132Z"
   },
   {
    "duration": 0,
    "start_time": "2023-07-30T18:01:32.133Z"
   },
   {
    "duration": 0,
    "start_time": "2023-07-30T18:01:32.134Z"
   },
   {
    "duration": 0,
    "start_time": "2023-07-30T18:01:32.135Z"
   },
   {
    "duration": 0,
    "start_time": "2023-07-30T18:01:32.136Z"
   },
   {
    "duration": 0,
    "start_time": "2023-07-30T18:01:32.137Z"
   },
   {
    "duration": 0,
    "start_time": "2023-07-30T18:01:32.157Z"
   },
   {
    "duration": 0,
    "start_time": "2023-07-30T18:01:32.158Z"
   },
   {
    "duration": 1216,
    "start_time": "2023-07-30T18:01:50.466Z"
   },
   {
    "duration": 0,
    "start_time": "2023-07-30T18:01:51.684Z"
   },
   {
    "duration": 0,
    "start_time": "2023-07-30T18:01:51.685Z"
   },
   {
    "duration": 0,
    "start_time": "2023-07-30T18:01:51.686Z"
   },
   {
    "duration": 0,
    "start_time": "2023-07-30T18:01:51.687Z"
   },
   {
    "duration": 0,
    "start_time": "2023-07-30T18:01:51.688Z"
   },
   {
    "duration": 0,
    "start_time": "2023-07-30T18:01:51.689Z"
   },
   {
    "duration": 0,
    "start_time": "2023-07-30T18:01:51.690Z"
   },
   {
    "duration": 0,
    "start_time": "2023-07-30T18:01:51.691Z"
   },
   {
    "duration": 0,
    "start_time": "2023-07-30T18:01:51.692Z"
   },
   {
    "duration": 0,
    "start_time": "2023-07-30T18:01:51.692Z"
   },
   {
    "duration": 0,
    "start_time": "2023-07-30T18:01:51.693Z"
   },
   {
    "duration": 0,
    "start_time": "2023-07-30T18:01:51.694Z"
   },
   {
    "duration": 0,
    "start_time": "2023-07-30T18:01:51.695Z"
   },
   {
    "duration": 0,
    "start_time": "2023-07-30T18:01:51.696Z"
   },
   {
    "duration": 11,
    "start_time": "2023-07-30T18:07:04.005Z"
   },
   {
    "duration": 1212,
    "start_time": "2023-07-30T18:07:40.770Z"
   },
   {
    "duration": 0,
    "start_time": "2023-07-30T18:07:41.983Z"
   },
   {
    "duration": 0,
    "start_time": "2023-07-30T18:07:41.985Z"
   },
   {
    "duration": 0,
    "start_time": "2023-07-30T18:07:41.986Z"
   },
   {
    "duration": 0,
    "start_time": "2023-07-30T18:07:41.986Z"
   },
   {
    "duration": 0,
    "start_time": "2023-07-30T18:07:41.987Z"
   },
   {
    "duration": 0,
    "start_time": "2023-07-30T18:07:41.988Z"
   },
   {
    "duration": 0,
    "start_time": "2023-07-30T18:07:41.989Z"
   },
   {
    "duration": 0,
    "start_time": "2023-07-30T18:07:41.990Z"
   },
   {
    "duration": 0,
    "start_time": "2023-07-30T18:07:41.991Z"
   },
   {
    "duration": 0,
    "start_time": "2023-07-30T18:07:41.992Z"
   },
   {
    "duration": 0,
    "start_time": "2023-07-30T18:07:41.993Z"
   },
   {
    "duration": 0,
    "start_time": "2023-07-30T18:07:41.994Z"
   },
   {
    "duration": 0,
    "start_time": "2023-07-30T18:07:41.995Z"
   },
   {
    "duration": 0,
    "start_time": "2023-07-30T18:07:41.996Z"
   },
   {
    "duration": 10,
    "start_time": "2023-07-30T18:08:53.909Z"
   },
   {
    "duration": 0,
    "start_time": "2023-07-30T18:08:53.922Z"
   },
   {
    "duration": 0,
    "start_time": "2023-07-30T18:08:53.923Z"
   },
   {
    "duration": 0,
    "start_time": "2023-07-30T18:08:53.925Z"
   },
   {
    "duration": 0,
    "start_time": "2023-07-30T18:08:53.926Z"
   },
   {
    "duration": 0,
    "start_time": "2023-07-30T18:08:53.928Z"
   },
   {
    "duration": 0,
    "start_time": "2023-07-30T18:08:53.930Z"
   },
   {
    "duration": 0,
    "start_time": "2023-07-30T18:08:53.931Z"
   },
   {
    "duration": 0,
    "start_time": "2023-07-30T18:08:53.933Z"
   },
   {
    "duration": 0,
    "start_time": "2023-07-30T18:08:53.935Z"
   },
   {
    "duration": 0,
    "start_time": "2023-07-30T18:08:53.936Z"
   },
   {
    "duration": 0,
    "start_time": "2023-07-30T18:08:53.938Z"
   },
   {
    "duration": 0,
    "start_time": "2023-07-30T18:08:53.940Z"
   },
   {
    "duration": 0,
    "start_time": "2023-07-30T18:08:53.943Z"
   },
   {
    "duration": 0,
    "start_time": "2023-07-30T18:08:53.944Z"
   },
   {
    "duration": 1209,
    "start_time": "2023-07-30T18:09:06.873Z"
   },
   {
    "duration": 0,
    "start_time": "2023-07-30T18:09:08.085Z"
   },
   {
    "duration": 0,
    "start_time": "2023-07-30T18:09:08.086Z"
   },
   {
    "duration": 0,
    "start_time": "2023-07-30T18:09:08.086Z"
   },
   {
    "duration": 0,
    "start_time": "2023-07-30T18:09:08.087Z"
   },
   {
    "duration": 0,
    "start_time": "2023-07-30T18:09:08.089Z"
   },
   {
    "duration": 0,
    "start_time": "2023-07-30T18:09:08.089Z"
   },
   {
    "duration": 0,
    "start_time": "2023-07-30T18:09:08.090Z"
   },
   {
    "duration": 0,
    "start_time": "2023-07-30T18:09:08.091Z"
   },
   {
    "duration": 0,
    "start_time": "2023-07-30T18:09:08.092Z"
   },
   {
    "duration": 0,
    "start_time": "2023-07-30T18:09:08.093Z"
   },
   {
    "duration": 0,
    "start_time": "2023-07-30T18:09:08.094Z"
   },
   {
    "duration": 0,
    "start_time": "2023-07-30T18:09:08.095Z"
   },
   {
    "duration": 0,
    "start_time": "2023-07-30T18:09:08.096Z"
   },
   {
    "duration": 0,
    "start_time": "2023-07-30T18:09:08.097Z"
   },
   {
    "duration": 1249,
    "start_time": "2023-07-30T18:09:33.769Z"
   },
   {
    "duration": 23,
    "start_time": "2023-07-30T18:09:35.020Z"
   },
   {
    "duration": 192,
    "start_time": "2023-07-30T18:09:35.045Z"
   },
   {
    "duration": 134,
    "start_time": "2023-07-30T18:09:35.239Z"
   },
   {
    "duration": 299,
    "start_time": "2023-07-30T18:09:35.375Z"
   },
   {
    "duration": 218,
    "start_time": "2023-07-30T18:09:35.676Z"
   },
   {
    "duration": 229,
    "start_time": "2023-07-30T18:09:35.896Z"
   },
   {
    "duration": 79,
    "start_time": "2023-07-30T18:09:36.127Z"
   },
   {
    "duration": 439,
    "start_time": "2023-07-30T18:09:36.208Z"
   },
   {
    "duration": 568,
    "start_time": "2023-07-30T18:09:36.655Z"
   },
   {
    "duration": 40,
    "start_time": "2023-07-30T18:09:37.225Z"
   },
   {
    "duration": 12,
    "start_time": "2023-07-30T18:09:37.267Z"
   },
   {
    "duration": 14,
    "start_time": "2023-07-30T18:09:37.281Z"
   },
   {
    "duration": 10,
    "start_time": "2023-07-30T18:09:37.297Z"
   },
   {
    "duration": 135,
    "start_time": "2023-07-30T18:09:37.309Z"
   },
   {
    "duration": 1352,
    "start_time": "2023-07-30T18:15:01.240Z"
   },
   {
    "duration": 25,
    "start_time": "2023-07-30T18:15:02.594Z"
   },
   {
    "duration": 201,
    "start_time": "2023-07-30T18:15:02.621Z"
   },
   {
    "duration": 118,
    "start_time": "2023-07-30T18:15:02.823Z"
   },
   {
    "duration": 328,
    "start_time": "2023-07-30T18:15:02.944Z"
   },
   {
    "duration": 226,
    "start_time": "2023-07-30T18:15:03.273Z"
   },
   {
    "duration": 232,
    "start_time": "2023-07-30T18:15:03.501Z"
   },
   {
    "duration": 86,
    "start_time": "2023-07-30T18:15:03.734Z"
   },
   {
    "duration": 429,
    "start_time": "2023-07-30T18:15:03.821Z"
   },
   {
    "duration": 528,
    "start_time": "2023-07-30T18:15:04.256Z"
   },
   {
    "duration": 32,
    "start_time": "2023-07-30T18:15:04.786Z"
   },
   {
    "duration": 11,
    "start_time": "2023-07-30T18:15:04.819Z"
   },
   {
    "duration": 29,
    "start_time": "2023-07-30T18:15:04.832Z"
   },
   {
    "duration": 11,
    "start_time": "2023-07-30T18:15:04.864Z"
   },
   {
    "duration": 118,
    "start_time": "2023-07-30T18:15:04.877Z"
   },
   {
    "duration": 13,
    "start_time": "2023-07-30T18:16:48.721Z"
   },
   {
    "duration": 1236,
    "start_time": "2023-07-30T18:30:40.118Z"
   },
   {
    "duration": 25,
    "start_time": "2023-07-30T18:30:41.356Z"
   },
   {
    "duration": 180,
    "start_time": "2023-07-30T18:30:41.382Z"
   },
   {
    "duration": 124,
    "start_time": "2023-07-30T18:30:41.565Z"
   },
   {
    "duration": 292,
    "start_time": "2023-07-30T18:30:41.691Z"
   },
   {
    "duration": 218,
    "start_time": "2023-07-30T18:30:41.985Z"
   },
   {
    "duration": 229,
    "start_time": "2023-07-30T18:30:42.204Z"
   },
   {
    "duration": 80,
    "start_time": "2023-07-30T18:30:42.434Z"
   },
   {
    "duration": 447,
    "start_time": "2023-07-30T18:30:42.516Z"
   },
   {
    "duration": 521,
    "start_time": "2023-07-30T18:30:42.965Z"
   },
   {
    "duration": 31,
    "start_time": "2023-07-30T18:30:43.488Z"
   },
   {
    "duration": 13,
    "start_time": "2023-07-30T18:30:43.520Z"
   },
   {
    "duration": 27,
    "start_time": "2023-07-30T18:30:43.535Z"
   },
   {
    "duration": 20,
    "start_time": "2023-07-30T18:30:43.563Z"
   },
   {
    "duration": 1350,
    "start_time": "2023-07-30T18:41:08.123Z"
   },
   {
    "duration": 24,
    "start_time": "2023-07-30T18:41:09.475Z"
   },
   {
    "duration": 174,
    "start_time": "2023-07-30T18:41:09.501Z"
   },
   {
    "duration": 123,
    "start_time": "2023-07-30T18:41:09.677Z"
   },
   {
    "duration": 303,
    "start_time": "2023-07-30T18:41:09.802Z"
   },
   {
    "duration": 220,
    "start_time": "2023-07-30T18:41:10.106Z"
   },
   {
    "duration": 219,
    "start_time": "2023-07-30T18:41:10.327Z"
   },
   {
    "duration": 76,
    "start_time": "2023-07-30T18:41:10.547Z"
   },
   {
    "duration": 428,
    "start_time": "2023-07-30T18:41:10.625Z"
   },
   {
    "duration": 518,
    "start_time": "2023-07-30T18:41:11.057Z"
   },
   {
    "duration": 29,
    "start_time": "2023-07-30T18:41:11.577Z"
   },
   {
    "duration": 10,
    "start_time": "2023-07-30T18:41:11.608Z"
   },
   {
    "duration": 7,
    "start_time": "2023-07-30T18:41:11.620Z"
   },
   {
    "duration": 36,
    "start_time": "2023-07-30T18:41:11.628Z"
   },
   {
    "duration": 1238,
    "start_time": "2023-07-30T18:43:46.493Z"
   },
   {
    "duration": 24,
    "start_time": "2023-07-30T18:43:47.733Z"
   },
   {
    "duration": 169,
    "start_time": "2023-07-30T18:43:47.759Z"
   },
   {
    "duration": 112,
    "start_time": "2023-07-30T18:43:47.930Z"
   },
   {
    "duration": 315,
    "start_time": "2023-07-30T18:43:48.044Z"
   },
   {
    "duration": 269,
    "start_time": "2023-07-30T18:43:48.361Z"
   },
   {
    "duration": 256,
    "start_time": "2023-07-30T18:43:48.632Z"
   },
   {
    "duration": 104,
    "start_time": "2023-07-30T18:43:48.891Z"
   },
   {
    "duration": 427,
    "start_time": "2023-07-30T18:43:48.997Z"
   },
   {
    "duration": 542,
    "start_time": "2023-07-30T18:43:49.427Z"
   },
   {
    "duration": 31,
    "start_time": "2023-07-30T18:43:49.971Z"
   },
   {
    "duration": 114,
    "start_time": "2023-07-30T18:43:50.004Z"
   },
   {
    "duration": 0,
    "start_time": "2023-07-30T18:43:50.120Z"
   },
   {
    "duration": 0,
    "start_time": "2023-07-30T18:43:50.121Z"
   },
   {
    "duration": 0,
    "start_time": "2023-07-30T18:43:50.122Z"
   },
   {
    "duration": 0,
    "start_time": "2023-07-30T18:43:50.123Z"
   },
   {
    "duration": 10,
    "start_time": "2023-07-30T18:44:07.562Z"
   },
   {
    "duration": 1231,
    "start_time": "2023-07-30T18:45:33.786Z"
   },
   {
    "duration": 22,
    "start_time": "2023-07-30T18:45:35.018Z"
   },
   {
    "duration": 175,
    "start_time": "2023-07-30T18:45:35.041Z"
   },
   {
    "duration": 127,
    "start_time": "2023-07-30T18:45:35.218Z"
   },
   {
    "duration": 298,
    "start_time": "2023-07-30T18:45:35.346Z"
   },
   {
    "duration": 229,
    "start_time": "2023-07-30T18:45:35.646Z"
   },
   {
    "duration": 222,
    "start_time": "2023-07-30T18:45:35.877Z"
   },
   {
    "duration": 80,
    "start_time": "2023-07-30T18:45:36.101Z"
   },
   {
    "duration": 404,
    "start_time": "2023-07-30T18:45:36.182Z"
   },
   {
    "duration": 530,
    "start_time": "2023-07-30T18:45:36.589Z"
   },
   {
    "duration": 39,
    "start_time": "2023-07-30T18:45:37.121Z"
   },
   {
    "duration": 11,
    "start_time": "2023-07-30T18:45:37.162Z"
   },
   {
    "duration": 14,
    "start_time": "2023-07-30T18:45:37.175Z"
   },
   {
    "duration": 23,
    "start_time": "2023-07-30T18:45:37.191Z"
   },
   {
    "duration": 1321,
    "start_time": "2023-07-30T18:53:42.950Z"
   },
   {
    "duration": 24,
    "start_time": "2023-07-30T18:53:44.273Z"
   },
   {
    "duration": 194,
    "start_time": "2023-07-30T18:53:44.298Z"
   },
   {
    "duration": 143,
    "start_time": "2023-07-30T18:53:44.495Z"
   },
   {
    "duration": 318,
    "start_time": "2023-07-30T18:53:44.641Z"
   },
   {
    "duration": 224,
    "start_time": "2023-07-30T18:53:44.961Z"
   },
   {
    "duration": 235,
    "start_time": "2023-07-30T18:53:45.187Z"
   },
   {
    "duration": 91,
    "start_time": "2023-07-30T18:53:45.423Z"
   },
   {
    "duration": 430,
    "start_time": "2023-07-30T18:53:45.516Z"
   },
   {
    "duration": 549,
    "start_time": "2023-07-30T18:53:45.956Z"
   },
   {
    "duration": 36,
    "start_time": "2023-07-30T18:53:46.507Z"
   },
   {
    "duration": 13,
    "start_time": "2023-07-30T18:53:46.555Z"
   },
   {
    "duration": 9,
    "start_time": "2023-07-30T18:53:46.569Z"
   },
   {
    "duration": 11,
    "start_time": "2023-07-30T18:53:46.579Z"
   },
   {
    "duration": 1242,
    "start_time": "2023-07-30T18:56:02.625Z"
   },
   {
    "duration": 24,
    "start_time": "2023-07-30T18:56:03.869Z"
   },
   {
    "duration": 207,
    "start_time": "2023-07-30T18:56:03.895Z"
   },
   {
    "duration": 127,
    "start_time": "2023-07-30T18:56:04.104Z"
   },
   {
    "duration": 307,
    "start_time": "2023-07-30T18:56:04.233Z"
   },
   {
    "duration": 228,
    "start_time": "2023-07-30T18:56:04.542Z"
   },
   {
    "duration": 232,
    "start_time": "2023-07-30T18:56:04.772Z"
   },
   {
    "duration": 80,
    "start_time": "2023-07-30T18:56:05.006Z"
   },
   {
    "duration": 436,
    "start_time": "2023-07-30T18:56:05.088Z"
   },
   {
    "duration": 532,
    "start_time": "2023-07-30T18:56:05.527Z"
   },
   {
    "duration": 32,
    "start_time": "2023-07-30T18:56:06.061Z"
   },
   {
    "duration": 12,
    "start_time": "2023-07-30T18:56:06.095Z"
   },
   {
    "duration": 16,
    "start_time": "2023-07-30T18:56:06.109Z"
   },
   {
    "duration": 37,
    "start_time": "2023-07-30T18:56:06.126Z"
   },
   {
    "duration": 1144,
    "start_time": "2023-07-30T18:57:20.812Z"
   },
   {
    "duration": 22,
    "start_time": "2023-07-30T18:57:21.957Z"
   },
   {
    "duration": 176,
    "start_time": "2023-07-30T18:57:21.981Z"
   },
   {
    "duration": 123,
    "start_time": "2023-07-30T18:57:22.160Z"
   },
   {
    "duration": 290,
    "start_time": "2023-07-30T18:57:22.285Z"
   },
   {
    "duration": 233,
    "start_time": "2023-07-30T18:57:22.577Z"
   },
   {
    "duration": 238,
    "start_time": "2023-07-30T18:57:22.812Z"
   },
   {
    "duration": 75,
    "start_time": "2023-07-30T18:57:23.052Z"
   },
   {
    "duration": 452,
    "start_time": "2023-07-30T18:57:23.129Z"
   },
   {
    "duration": 575,
    "start_time": "2023-07-30T18:57:23.584Z"
   },
   {
    "duration": 33,
    "start_time": "2023-07-30T18:57:24.161Z"
   },
   {
    "duration": 11,
    "start_time": "2023-07-30T18:57:24.195Z"
   },
   {
    "duration": 30,
    "start_time": "2023-07-30T18:57:24.207Z"
   },
   {
    "duration": 19,
    "start_time": "2023-07-30T18:57:24.239Z"
   },
   {
    "duration": 1252,
    "start_time": "2023-07-30T19:04:44.960Z"
   },
   {
    "duration": 24,
    "start_time": "2023-07-30T19:04:46.214Z"
   },
   {
    "duration": 185,
    "start_time": "2023-07-30T19:04:46.240Z"
   },
   {
    "duration": 119,
    "start_time": "2023-07-30T19:04:46.427Z"
   },
   {
    "duration": 298,
    "start_time": "2023-07-30T19:04:46.548Z"
   },
   {
    "duration": 226,
    "start_time": "2023-07-30T19:04:46.847Z"
   },
   {
    "duration": 239,
    "start_time": "2023-07-30T19:04:47.074Z"
   },
   {
    "duration": 80,
    "start_time": "2023-07-30T19:04:47.315Z"
   },
   {
    "duration": 441,
    "start_time": "2023-07-30T19:04:47.397Z"
   },
   {
    "duration": 553,
    "start_time": "2023-07-30T19:04:47.840Z"
   },
   {
    "duration": 34,
    "start_time": "2023-07-30T19:04:48.395Z"
   },
   {
    "duration": 35,
    "start_time": "2023-07-30T19:04:48.431Z"
   },
   {
    "duration": 10,
    "start_time": "2023-07-30T19:04:48.468Z"
   },
   {
    "duration": 11,
    "start_time": "2023-07-30T19:04:48.480Z"
   },
   {
    "duration": 1310,
    "start_time": "2023-07-30T19:10:33.472Z"
   },
   {
    "duration": 24,
    "start_time": "2023-07-30T19:10:34.785Z"
   },
   {
    "duration": 199,
    "start_time": "2023-07-30T19:10:34.811Z"
   },
   {
    "duration": 130,
    "start_time": "2023-07-30T19:10:35.012Z"
   },
   {
    "duration": 313,
    "start_time": "2023-07-30T19:10:35.155Z"
   },
   {
    "duration": 240,
    "start_time": "2023-07-30T19:10:35.470Z"
   },
   {
    "duration": 246,
    "start_time": "2023-07-30T19:10:35.712Z"
   },
   {
    "duration": 75,
    "start_time": "2023-07-30T19:10:35.960Z"
   },
   {
    "duration": 438,
    "start_time": "2023-07-30T19:10:36.036Z"
   },
   {
    "duration": 548,
    "start_time": "2023-07-30T19:10:36.476Z"
   },
   {
    "duration": 37,
    "start_time": "2023-07-30T19:10:37.026Z"
   },
   {
    "duration": 38,
    "start_time": "2023-07-30T19:10:37.064Z"
   },
   {
    "duration": 114,
    "start_time": "2023-07-30T19:10:37.103Z"
   },
   {
    "duration": 20,
    "start_time": "2023-07-30T19:10:37.219Z"
   },
   {
    "duration": 1803,
    "start_time": "2023-07-31T15:04:15.695Z"
   },
   {
    "duration": 24,
    "start_time": "2023-07-31T15:04:17.501Z"
   },
   {
    "duration": 286,
    "start_time": "2023-07-31T15:04:17.528Z"
   },
   {
    "duration": 177,
    "start_time": "2023-07-31T15:04:17.817Z"
   },
   {
    "duration": 397,
    "start_time": "2023-07-31T15:04:17.996Z"
   },
   {
    "duration": 345,
    "start_time": "2023-07-31T15:04:18.395Z"
   },
   {
    "duration": 397,
    "start_time": "2023-07-31T15:04:18.742Z"
   },
   {
    "duration": 135,
    "start_time": "2023-07-31T15:04:19.142Z"
   },
   {
    "duration": 590,
    "start_time": "2023-07-31T15:04:19.280Z"
   },
   {
    "duration": 661,
    "start_time": "2023-07-31T15:04:19.877Z"
   },
   {
    "duration": 52,
    "start_time": "2023-07-31T15:04:20.540Z"
   },
   {
    "duration": 17,
    "start_time": "2023-07-31T15:04:20.593Z"
   },
   {
    "duration": 21,
    "start_time": "2023-07-31T15:04:20.611Z"
   },
   {
    "duration": 53,
    "start_time": "2023-07-31T15:04:20.633Z"
   },
   {
    "duration": 251,
    "start_time": "2023-07-31T15:04:20.688Z"
   },
   {
    "duration": 5,
    "start_time": "2023-07-31T15:04:20.940Z"
   },
   {
    "duration": 182,
    "start_time": "2023-07-31T15:06:34.385Z"
   },
   {
    "duration": 201,
    "start_time": "2023-07-31T15:06:42.654Z"
   },
   {
    "duration": 228,
    "start_time": "2023-07-31T15:06:49.771Z"
   },
   {
    "duration": 2283,
    "start_time": "2023-07-31T15:12:16.032Z"
   },
   {
    "duration": 2459,
    "start_time": "2023-07-31T15:13:56.738Z"
   },
   {
    "duration": 364,
    "start_time": "2023-07-31T15:16:41.740Z"
   },
   {
    "duration": 227,
    "start_time": "2023-07-31T15:20:04.188Z"
   },
   {
    "duration": 209,
    "start_time": "2023-07-31T15:20:14.889Z"
   },
   {
    "duration": 221,
    "start_time": "2023-07-31T15:21:00.054Z"
   },
   {
    "duration": 33,
    "start_time": "2023-07-31T15:38:37.414Z"
   },
   {
    "duration": 32,
    "start_time": "2023-07-31T15:39:46.216Z"
   },
   {
    "duration": 42,
    "start_time": "2023-07-31T15:40:06.707Z"
   },
   {
    "duration": 131,
    "start_time": "2023-07-31T15:41:02.073Z"
   },
   {
    "duration": 30,
    "start_time": "2023-07-31T15:41:02.206Z"
   },
   {
    "duration": 222,
    "start_time": "2023-07-31T15:41:02.238Z"
   },
   {
    "duration": 146,
    "start_time": "2023-07-31T15:41:02.470Z"
   },
   {
    "duration": 326,
    "start_time": "2023-07-31T15:41:02.618Z"
   },
   {
    "duration": 358,
    "start_time": "2023-07-31T15:41:02.946Z"
   },
   {
    "duration": 265,
    "start_time": "2023-07-31T15:41:03.307Z"
   },
   {
    "duration": 99,
    "start_time": "2023-07-31T15:41:03.574Z"
   },
   {
    "duration": 513,
    "start_time": "2023-07-31T15:41:03.675Z"
   },
   {
    "duration": 494,
    "start_time": "2023-07-31T15:41:04.191Z"
   },
   {
    "duration": 32,
    "start_time": "2023-07-31T15:41:04.687Z"
   },
   {
    "duration": 12,
    "start_time": "2023-07-31T15:41:04.721Z"
   },
   {
    "duration": 16,
    "start_time": "2023-07-31T15:41:04.757Z"
   },
   {
    "duration": 15,
    "start_time": "2023-07-31T15:41:04.775Z"
   },
   {
    "duration": 185,
    "start_time": "2023-07-31T15:41:04.792Z"
   },
   {
    "duration": 5,
    "start_time": "2023-07-31T15:41:04.979Z"
   },
   {
    "duration": 2,
    "start_time": "2023-07-31T15:47:28.776Z"
   },
   {
    "duration": 321,
    "start_time": "2023-07-31T16:13:12.531Z"
   },
   {
    "duration": 234,
    "start_time": "2023-07-31T16:13:20.289Z"
   },
   {
    "duration": 494,
    "start_time": "2023-07-31T17:23:55.115Z"
   },
   {
    "duration": 9,
    "start_time": "2023-07-31T17:51:51.083Z"
   },
   {
    "duration": 11,
    "start_time": "2023-07-31T18:04:55.456Z"
   },
   {
    "duration": 266,
    "start_time": "2023-07-31T18:05:12.348Z"
   },
   {
    "duration": 117,
    "start_time": "2023-07-31T18:05:36.956Z"
   },
   {
    "duration": 111,
    "start_time": "2023-07-31T18:05:51.044Z"
   },
   {
    "duration": 252,
    "start_time": "2023-07-31T18:06:43.942Z"
   },
   {
    "duration": 249,
    "start_time": "2023-07-31T18:08:57.507Z"
   },
   {
    "duration": 8,
    "start_time": "2023-07-31T18:13:00.862Z"
   },
   {
    "duration": 7,
    "start_time": "2023-07-31T18:14:12.392Z"
   },
   {
    "duration": 15,
    "start_time": "2023-07-31T18:14:45.144Z"
   },
   {
    "duration": 137,
    "start_time": "2023-07-31T18:15:00.388Z"
   },
   {
    "duration": 52,
    "start_time": "2023-07-31T18:15:00.528Z"
   },
   {
    "duration": 206,
    "start_time": "2023-07-31T18:15:00.582Z"
   },
   {
    "duration": 150,
    "start_time": "2023-07-31T18:15:00.790Z"
   },
   {
    "duration": 354,
    "start_time": "2023-07-31T18:15:00.942Z"
   },
   {
    "duration": 262,
    "start_time": "2023-07-31T18:15:01.298Z"
   },
   {
    "duration": 300,
    "start_time": "2023-07-31T18:15:01.563Z"
   },
   {
    "duration": 101,
    "start_time": "2023-07-31T18:15:01.865Z"
   },
   {
    "duration": 538,
    "start_time": "2023-07-31T18:15:01.968Z"
   },
   {
    "duration": 519,
    "start_time": "2023-07-31T18:15:02.508Z"
   },
   {
    "duration": 46,
    "start_time": "2023-07-31T18:15:03.029Z"
   },
   {
    "duration": 15,
    "start_time": "2023-07-31T18:15:03.077Z"
   },
   {
    "duration": 12,
    "start_time": "2023-07-31T18:15:03.094Z"
   },
   {
    "duration": 46,
    "start_time": "2023-07-31T18:15:03.110Z"
   },
   {
    "duration": 224,
    "start_time": "2023-07-31T18:15:03.158Z"
   },
   {
    "duration": 7,
    "start_time": "2023-07-31T18:15:03.384Z"
   },
   {
    "duration": 11,
    "start_time": "2023-07-31T18:23:33.341Z"
   },
   {
    "duration": 9,
    "start_time": "2023-07-31T19:12:21.815Z"
   },
   {
    "duration": 16,
    "start_time": "2023-07-31T19:12:33.077Z"
   },
   {
    "duration": 16,
    "start_time": "2023-07-31T19:12:37.398Z"
   },
   {
    "duration": 13,
    "start_time": "2023-07-31T19:12:52.413Z"
   },
   {
    "duration": 9,
    "start_time": "2023-07-31T19:13:06.351Z"
   },
   {
    "duration": 1310,
    "start_time": "2023-07-31T19:38:09.651Z"
   },
   {
    "duration": 26,
    "start_time": "2023-07-31T19:38:10.963Z"
   },
   {
    "duration": 192,
    "start_time": "2023-07-31T19:38:10.991Z"
   },
   {
    "duration": 139,
    "start_time": "2023-07-31T19:38:11.185Z"
   },
   {
    "duration": 302,
    "start_time": "2023-07-31T19:38:11.325Z"
   },
   {
    "duration": 233,
    "start_time": "2023-07-31T19:38:11.629Z"
   },
   {
    "duration": 241,
    "start_time": "2023-07-31T19:38:11.864Z"
   },
   {
    "duration": 94,
    "start_time": "2023-07-31T19:38:12.107Z"
   },
   {
    "duration": 453,
    "start_time": "2023-07-31T19:38:12.203Z"
   },
   {
    "duration": 563,
    "start_time": "2023-07-31T19:38:12.659Z"
   },
   {
    "duration": 50,
    "start_time": "2023-07-31T19:38:13.224Z"
   },
   {
    "duration": 13,
    "start_time": "2023-07-31T19:38:13.276Z"
   },
   {
    "duration": 22,
    "start_time": "2023-07-31T19:38:13.291Z"
   },
   {
    "duration": 20,
    "start_time": "2023-07-31T19:38:13.315Z"
   },
   {
    "duration": 141,
    "start_time": "2023-07-31T19:38:13.336Z"
   },
   {
    "duration": 5,
    "start_time": "2023-07-31T19:38:13.479Z"
   },
   {
    "duration": 1595,
    "start_time": "2023-07-31T19:44:50.954Z"
   },
   {
    "duration": 38,
    "start_time": "2023-07-31T19:44:52.551Z"
   },
   {
    "duration": 204,
    "start_time": "2023-07-31T19:44:52.591Z"
   },
   {
    "duration": 156,
    "start_time": "2023-07-31T19:44:52.796Z"
   },
   {
    "duration": 358,
    "start_time": "2023-07-31T19:44:52.959Z"
   },
   {
    "duration": 261,
    "start_time": "2023-07-31T19:44:53.319Z"
   },
   {
    "duration": 263,
    "start_time": "2023-07-31T19:44:53.582Z"
   },
   {
    "duration": 92,
    "start_time": "2023-07-31T19:44:53.846Z"
   },
   {
    "duration": 485,
    "start_time": "2023-07-31T19:44:53.940Z"
   },
   {
    "duration": 609,
    "start_time": "2023-07-31T19:44:54.427Z"
   },
   {
    "duration": 58,
    "start_time": "2023-07-31T19:44:55.037Z"
   },
   {
    "duration": 13,
    "start_time": "2023-07-31T19:44:55.097Z"
   },
   {
    "duration": 15,
    "start_time": "2023-07-31T19:44:55.112Z"
   },
   {
    "duration": 22,
    "start_time": "2023-07-31T19:44:55.129Z"
   },
   {
    "duration": 158,
    "start_time": "2023-07-31T19:44:55.155Z"
   },
   {
    "duration": 6,
    "start_time": "2023-07-31T19:44:55.315Z"
   },
   {
    "duration": 17,
    "start_time": "2023-07-31T20:30:05.298Z"
   },
   {
    "duration": 1344,
    "start_time": "2023-07-31T20:30:20.938Z"
   },
   {
    "duration": 29,
    "start_time": "2023-07-31T20:30:22.284Z"
   },
   {
    "duration": 207,
    "start_time": "2023-07-31T20:30:22.314Z"
   },
   {
    "duration": 144,
    "start_time": "2023-07-31T20:30:22.523Z"
   },
   {
    "duration": 353,
    "start_time": "2023-07-31T20:30:22.669Z"
   },
   {
    "duration": 258,
    "start_time": "2023-07-31T20:30:23.024Z"
   },
   {
    "duration": 270,
    "start_time": "2023-07-31T20:30:23.284Z"
   },
   {
    "duration": 80,
    "start_time": "2023-07-31T20:30:23.556Z"
   },
   {
    "duration": 25,
    "start_time": "2023-07-31T20:30:23.637Z"
   },
   {
    "duration": 490,
    "start_time": "2023-07-31T20:30:23.664Z"
   },
   {
    "duration": 584,
    "start_time": "2023-07-31T20:30:24.156Z"
   },
   {
    "duration": 36,
    "start_time": "2023-07-31T20:30:24.751Z"
   },
   {
    "duration": 14,
    "start_time": "2023-07-31T20:30:24.789Z"
   },
   {
    "duration": 18,
    "start_time": "2023-07-31T20:30:24.805Z"
   },
   {
    "duration": 35,
    "start_time": "2023-07-31T20:30:24.825Z"
   },
   {
    "duration": 152,
    "start_time": "2023-07-31T20:30:24.862Z"
   },
   {
    "duration": 5,
    "start_time": "2023-07-31T20:30:25.016Z"
   },
   {
    "duration": 7,
    "start_time": "2023-07-31T20:33:53.818Z"
   },
   {
    "duration": 1418,
    "start_time": "2023-07-31T20:34:53.414Z"
   },
   {
    "duration": 29,
    "start_time": "2023-07-31T20:34:54.834Z"
   },
   {
    "duration": 209,
    "start_time": "2023-07-31T20:34:54.865Z"
   },
   {
    "duration": 140,
    "start_time": "2023-07-31T20:34:55.076Z"
   },
   {
    "duration": 672,
    "start_time": "2023-07-31T20:34:55.219Z"
   },
   {
    "duration": 249,
    "start_time": "2023-07-31T20:34:55.892Z"
   },
   {
    "duration": 261,
    "start_time": "2023-07-31T20:34:56.142Z"
   },
   {
    "duration": 89,
    "start_time": "2023-07-31T20:34:56.404Z"
   },
   {
    "duration": 463,
    "start_time": "2023-07-31T20:34:56.494Z"
   },
   {
    "duration": 596,
    "start_time": "2023-07-31T20:34:56.959Z"
   },
   {
    "duration": 8,
    "start_time": "2023-07-31T20:34:57.557Z"
   },
   {
    "duration": 43,
    "start_time": "2023-07-31T20:34:57.567Z"
   },
   {
    "duration": 12,
    "start_time": "2023-07-31T20:34:57.612Z"
   },
   {
    "duration": 30,
    "start_time": "2023-07-31T20:34:57.626Z"
   },
   {
    "duration": 12,
    "start_time": "2023-07-31T20:34:57.658Z"
   },
   {
    "duration": 168,
    "start_time": "2023-07-31T20:34:57.671Z"
   },
   {
    "duration": 12,
    "start_time": "2023-07-31T20:34:57.841Z"
   },
   {
    "duration": 14,
    "start_time": "2023-07-31T20:42:51.378Z"
   },
   {
    "duration": 14,
    "start_time": "2023-07-31T20:42:56.385Z"
   },
   {
    "duration": 1271,
    "start_time": "2023-07-31T20:48:50.805Z"
   },
   {
    "duration": 29,
    "start_time": "2023-07-31T20:48:52.078Z"
   },
   {
    "duration": 217,
    "start_time": "2023-07-31T20:48:52.109Z"
   },
   {
    "duration": 135,
    "start_time": "2023-07-31T20:48:52.328Z"
   },
   {
    "duration": 333,
    "start_time": "2023-07-31T20:48:52.466Z"
   },
   {
    "duration": 246,
    "start_time": "2023-07-31T20:48:52.801Z"
   },
   {
    "duration": 265,
    "start_time": "2023-07-31T20:48:53.051Z"
   },
   {
    "duration": 96,
    "start_time": "2023-07-31T20:48:53.318Z"
   },
   {
    "duration": 96,
    "start_time": "2023-07-31T20:48:53.417Z"
   },
   {
    "duration": 478,
    "start_time": "2023-07-31T20:48:53.515Z"
   },
   {
    "duration": 600,
    "start_time": "2023-07-31T20:48:53.995Z"
   },
   {
    "duration": 8,
    "start_time": "2023-07-31T20:48:54.597Z"
   },
   {
    "duration": 54,
    "start_time": "2023-07-31T20:48:54.607Z"
   },
   {
    "duration": 14,
    "start_time": "2023-07-31T20:48:54.664Z"
   },
   {
    "duration": 43,
    "start_time": "2023-07-31T20:48:54.681Z"
   },
   {
    "duration": 31,
    "start_time": "2023-07-31T20:48:54.725Z"
   },
   {
    "duration": 152,
    "start_time": "2023-07-31T20:48:54.758Z"
   },
   {
    "duration": 6,
    "start_time": "2023-07-31T20:48:54.912Z"
   },
   {
    "duration": 1367,
    "start_time": "2023-07-31T20:49:23.837Z"
   },
   {
    "duration": 30,
    "start_time": "2023-07-31T20:49:25.206Z"
   },
   {
    "duration": 213,
    "start_time": "2023-07-31T20:49:25.252Z"
   },
   {
    "duration": 137,
    "start_time": "2023-07-31T20:49:25.467Z"
   },
   {
    "duration": 332,
    "start_time": "2023-07-31T20:49:25.607Z"
   },
   {
    "duration": 253,
    "start_time": "2023-07-31T20:49:25.941Z"
   },
   {
    "duration": 259,
    "start_time": "2023-07-31T20:49:26.196Z"
   },
   {
    "duration": 78,
    "start_time": "2023-07-31T20:49:26.457Z"
   },
   {
    "duration": 86,
    "start_time": "2023-07-31T20:49:26.538Z"
   },
   {
    "duration": 474,
    "start_time": "2023-07-31T20:49:26.625Z"
   },
   {
    "duration": 616,
    "start_time": "2023-07-31T20:49:27.101Z"
   },
   {
    "duration": 7,
    "start_time": "2023-07-31T20:49:27.720Z"
   },
   {
    "duration": 49,
    "start_time": "2023-07-31T20:49:27.729Z"
   },
   {
    "duration": 12,
    "start_time": "2023-07-31T20:49:27.780Z"
   },
   {
    "duration": 11,
    "start_time": "2023-07-31T20:49:27.794Z"
   },
   {
    "duration": 12,
    "start_time": "2023-07-31T20:49:27.806Z"
   },
   {
    "duration": 177,
    "start_time": "2023-07-31T20:49:27.820Z"
   },
   {
    "duration": 4,
    "start_time": "2023-07-31T20:49:27.999Z"
   },
   {
    "duration": 11,
    "start_time": "2023-07-31T20:57:00.902Z"
   },
   {
    "duration": 13,
    "start_time": "2023-07-31T20:57:02.506Z"
   },
   {
    "duration": 1441,
    "start_time": "2023-07-31T21:06:31.354Z"
   },
   {
    "duration": 26,
    "start_time": "2023-07-31T21:06:32.797Z"
   },
   {
    "duration": 200,
    "start_time": "2023-07-31T21:06:32.825Z"
   },
   {
    "duration": 138,
    "start_time": "2023-07-31T21:06:33.027Z"
   },
   {
    "duration": 358,
    "start_time": "2023-07-31T21:06:33.167Z"
   },
   {
    "duration": 254,
    "start_time": "2023-07-31T21:06:33.527Z"
   },
   {
    "duration": 255,
    "start_time": "2023-07-31T21:06:33.782Z"
   },
   {
    "duration": 87,
    "start_time": "2023-07-31T21:06:34.039Z"
   },
   {
    "duration": 3,
    "start_time": "2023-07-31T21:06:34.128Z"
   },
   {
    "duration": 485,
    "start_time": "2023-07-31T21:06:34.132Z"
   },
   {
    "duration": 14,
    "start_time": "2023-07-31T21:06:34.619Z"
   },
   {
    "duration": 605,
    "start_time": "2023-07-31T21:06:34.635Z"
   },
   {
    "duration": 13,
    "start_time": "2023-07-31T21:06:35.242Z"
   },
   {
    "duration": 42,
    "start_time": "2023-07-31T21:06:35.258Z"
   },
   {
    "duration": 14,
    "start_time": "2023-07-31T21:06:35.302Z"
   },
   {
    "duration": 35,
    "start_time": "2023-07-31T21:06:35.318Z"
   },
   {
    "duration": 12,
    "start_time": "2023-07-31T21:06:35.355Z"
   },
   {
    "duration": 164,
    "start_time": "2023-07-31T21:06:35.369Z"
   },
   {
    "duration": 5,
    "start_time": "2023-07-31T21:06:35.535Z"
   },
   {
    "duration": 1375,
    "start_time": "2023-07-31T21:07:59.031Z"
   },
   {
    "duration": 43,
    "start_time": "2023-07-31T21:08:00.409Z"
   },
   {
    "duration": 202,
    "start_time": "2023-07-31T21:08:00.454Z"
   },
   {
    "duration": 142,
    "start_time": "2023-07-31T21:08:00.659Z"
   },
   {
    "duration": 341,
    "start_time": "2023-07-31T21:08:00.802Z"
   },
   {
    "duration": 273,
    "start_time": "2023-07-31T21:08:01.145Z"
   },
   {
    "duration": 257,
    "start_time": "2023-07-31T21:08:01.420Z"
   },
   {
    "duration": 91,
    "start_time": "2023-07-31T21:08:01.679Z"
   },
   {
    "duration": 485,
    "start_time": "2023-07-31T21:08:01.772Z"
   },
   {
    "duration": 593,
    "start_time": "2023-07-31T21:08:02.261Z"
   },
   {
    "duration": 35,
    "start_time": "2023-07-31T21:08:02.856Z"
   },
   {
    "duration": 13,
    "start_time": "2023-07-31T21:08:02.893Z"
   },
   {
    "duration": 10,
    "start_time": "2023-07-31T21:08:02.908Z"
   },
   {
    "duration": 13,
    "start_time": "2023-07-31T21:08:02.951Z"
   },
   {
    "duration": 155,
    "start_time": "2023-07-31T21:08:02.966Z"
   },
   {
    "duration": 5,
    "start_time": "2023-07-31T21:08:03.123Z"
   },
   {
    "duration": 7,
    "start_time": "2023-07-31T21:15:28.306Z"
   },
   {
    "duration": 102,
    "start_time": "2023-07-31T21:16:47.673Z"
   },
   {
    "duration": 6,
    "start_time": "2023-07-31T21:17:17.536Z"
   },
   {
    "duration": 1311,
    "start_time": "2023-07-31T21:18:39.062Z"
   },
   {
    "duration": 28,
    "start_time": "2023-07-31T21:18:40.375Z"
   },
   {
    "duration": 217,
    "start_time": "2023-07-31T21:18:40.405Z"
   },
   {
    "duration": 131,
    "start_time": "2023-07-31T21:18:40.624Z"
   },
   {
    "duration": 318,
    "start_time": "2023-07-31T21:18:40.757Z"
   },
   {
    "duration": 248,
    "start_time": "2023-07-31T21:18:41.077Z"
   },
   {
    "duration": 265,
    "start_time": "2023-07-31T21:18:41.327Z"
   },
   {
    "duration": 92,
    "start_time": "2023-07-31T21:18:41.594Z"
   },
   {
    "duration": 455,
    "start_time": "2023-07-31T21:18:41.687Z"
   },
   {
    "duration": 555,
    "start_time": "2023-07-31T21:18:42.145Z"
   },
   {
    "duration": 109,
    "start_time": "2023-07-31T21:18:42.702Z"
   },
   {
    "duration": 0,
    "start_time": "2023-07-31T21:18:42.813Z"
   },
   {
    "duration": 0,
    "start_time": "2023-07-31T21:18:42.814Z"
   },
   {
    "duration": 0,
    "start_time": "2023-07-31T21:18:42.816Z"
   },
   {
    "duration": 0,
    "start_time": "2023-07-31T21:18:42.817Z"
   },
   {
    "duration": 0,
    "start_time": "2023-07-31T21:18:42.818Z"
   },
   {
    "duration": 0,
    "start_time": "2023-07-31T21:18:42.819Z"
   },
   {
    "duration": 0,
    "start_time": "2023-07-31T21:18:42.820Z"
   },
   {
    "duration": 0,
    "start_time": "2023-07-31T21:18:42.821Z"
   },
   {
    "duration": 4,
    "start_time": "2023-07-31T21:21:14.406Z"
   },
   {
    "duration": 1296,
    "start_time": "2023-07-31T21:21:19.907Z"
   },
   {
    "duration": 28,
    "start_time": "2023-07-31T21:21:21.205Z"
   },
   {
    "duration": 215,
    "start_time": "2023-07-31T21:21:21.235Z"
   },
   {
    "duration": 127,
    "start_time": "2023-07-31T21:21:21.452Z"
   },
   {
    "duration": 325,
    "start_time": "2023-07-31T21:21:21.581Z"
   },
   {
    "duration": 255,
    "start_time": "2023-07-31T21:21:21.908Z"
   },
   {
    "duration": 255,
    "start_time": "2023-07-31T21:21:22.165Z"
   },
   {
    "duration": 90,
    "start_time": "2023-07-31T21:21:22.422Z"
   },
   {
    "duration": 458,
    "start_time": "2023-07-31T21:21:22.514Z"
   },
   {
    "duration": 588,
    "start_time": "2023-07-31T21:21:22.974Z"
   },
   {
    "duration": 4,
    "start_time": "2023-07-31T21:21:23.564Z"
   },
   {
    "duration": 33,
    "start_time": "2023-07-31T21:21:23.570Z"
   },
   {
    "duration": 6,
    "start_time": "2023-07-31T21:21:23.605Z"
   },
   {
    "duration": 8,
    "start_time": "2023-07-31T21:21:23.613Z"
   },
   {
    "duration": 39,
    "start_time": "2023-07-31T21:21:23.623Z"
   },
   {
    "duration": 9,
    "start_time": "2023-07-31T21:21:23.663Z"
   },
   {
    "duration": 15,
    "start_time": "2023-07-31T21:21:23.674Z"
   },
   {
    "duration": 165,
    "start_time": "2023-07-31T21:21:23.691Z"
   },
   {
    "duration": 6,
    "start_time": "2023-07-31T21:21:23.858Z"
   },
   {
    "duration": 1284,
    "start_time": "2023-07-31T21:22:15.495Z"
   },
   {
    "duration": 28,
    "start_time": "2023-07-31T21:22:16.781Z"
   },
   {
    "duration": 203,
    "start_time": "2023-07-31T21:22:16.811Z"
   },
   {
    "duration": 137,
    "start_time": "2023-07-31T21:22:17.016Z"
   },
   {
    "duration": 337,
    "start_time": "2023-07-31T21:22:17.156Z"
   },
   {
    "duration": 249,
    "start_time": "2023-07-31T21:22:17.495Z"
   },
   {
    "duration": 254,
    "start_time": "2023-07-31T21:22:17.746Z"
   },
   {
    "duration": 90,
    "start_time": "2023-07-31T21:22:18.003Z"
   },
   {
    "duration": 4,
    "start_time": "2023-07-31T21:22:18.095Z"
   },
   {
    "duration": 526,
    "start_time": "2023-07-31T21:22:18.100Z"
   },
   {
    "duration": 572,
    "start_time": "2023-07-31T21:22:18.628Z"
   },
   {
    "duration": 4,
    "start_time": "2023-07-31T21:22:19.202Z"
   },
   {
    "duration": 47,
    "start_time": "2023-07-31T21:22:19.207Z"
   },
   {
    "duration": 5,
    "start_time": "2023-07-31T21:22:19.256Z"
   },
   {
    "duration": 13,
    "start_time": "2023-07-31T21:22:19.263Z"
   },
   {
    "duration": 36,
    "start_time": "2023-07-31T21:22:19.277Z"
   },
   {
    "duration": 10,
    "start_time": "2023-07-31T21:22:19.315Z"
   },
   {
    "duration": 26,
    "start_time": "2023-07-31T21:22:19.327Z"
   },
   {
    "duration": 150,
    "start_time": "2023-07-31T21:22:19.355Z"
   },
   {
    "duration": 5,
    "start_time": "2023-07-31T21:22:19.507Z"
   },
   {
    "duration": 1387,
    "start_time": "2023-07-31T21:22:57.246Z"
   },
   {
    "duration": 29,
    "start_time": "2023-07-31T21:22:58.636Z"
   },
   {
    "duration": 195,
    "start_time": "2023-07-31T21:22:58.666Z"
   },
   {
    "duration": 134,
    "start_time": "2023-07-31T21:22:58.863Z"
   },
   {
    "duration": 324,
    "start_time": "2023-07-31T21:22:58.999Z"
   },
   {
    "duration": 251,
    "start_time": "2023-07-31T21:22:59.325Z"
   },
   {
    "duration": 262,
    "start_time": "2023-07-31T21:22:59.578Z"
   },
   {
    "duration": 85,
    "start_time": "2023-07-31T21:22:59.842Z"
   },
   {
    "duration": 481,
    "start_time": "2023-07-31T21:22:59.928Z"
   },
   {
    "duration": 611,
    "start_time": "2023-07-31T21:23:00.411Z"
   },
   {
    "duration": 4,
    "start_time": "2023-07-31T21:23:01.024Z"
   },
   {
    "duration": 90,
    "start_time": "2023-07-31T21:23:01.030Z"
   },
   {
    "duration": 36,
    "start_time": "2023-07-31T21:23:01.122Z"
   },
   {
    "duration": 74,
    "start_time": "2023-07-31T21:23:01.161Z"
   },
   {
    "duration": 40,
    "start_time": "2023-07-31T21:23:01.237Z"
   },
   {
    "duration": 38,
    "start_time": "2023-07-31T21:23:01.278Z"
   },
   {
    "duration": 57,
    "start_time": "2023-07-31T21:23:01.318Z"
   },
   {
    "duration": 167,
    "start_time": "2023-07-31T21:23:01.377Z"
   },
   {
    "duration": 5,
    "start_time": "2023-07-31T21:23:01.552Z"
   },
   {
    "duration": 1339,
    "start_time": "2023-07-31T21:26:36.061Z"
   },
   {
    "duration": 27,
    "start_time": "2023-07-31T21:26:37.403Z"
   },
   {
    "duration": 199,
    "start_time": "2023-07-31T21:26:37.432Z"
   },
   {
    "duration": 134,
    "start_time": "2023-07-31T21:26:37.632Z"
   },
   {
    "duration": 323,
    "start_time": "2023-07-31T21:26:37.768Z"
   },
   {
    "duration": 285,
    "start_time": "2023-07-31T21:26:38.093Z"
   },
   {
    "duration": 291,
    "start_time": "2023-07-31T21:26:38.380Z"
   },
   {
    "duration": 90,
    "start_time": "2023-07-31T21:26:38.672Z"
   },
   {
    "duration": 461,
    "start_time": "2023-07-31T21:26:38.764Z"
   },
   {
    "duration": 576,
    "start_time": "2023-07-31T21:26:39.228Z"
   },
   {
    "duration": 33,
    "start_time": "2023-07-31T21:26:39.806Z"
   },
   {
    "duration": 5,
    "start_time": "2023-07-31T21:26:39.851Z"
   },
   {
    "duration": 9,
    "start_time": "2023-07-31T21:26:39.858Z"
   },
   {
    "duration": 16,
    "start_time": "2023-07-31T21:26:39.869Z"
   },
   {
    "duration": 9,
    "start_time": "2023-07-31T21:26:39.886Z"
   },
   {
    "duration": 11,
    "start_time": "2023-07-31T21:26:39.897Z"
   },
   {
    "duration": 167,
    "start_time": "2023-07-31T21:26:39.909Z"
   },
   {
    "duration": 5,
    "start_time": "2023-07-31T21:26:40.078Z"
   },
   {
    "duration": 1859,
    "start_time": "2023-07-31T22:01:32.208Z"
   },
   {
    "duration": 10,
    "start_time": "2023-07-31T22:01:47.877Z"
   },
   {
    "duration": 1276,
    "start_time": "2023-07-31T22:01:56.970Z"
   },
   {
    "duration": 34,
    "start_time": "2023-07-31T22:01:58.248Z"
   },
   {
    "duration": 240,
    "start_time": "2023-07-31T22:01:58.284Z"
   },
   {
    "duration": 152,
    "start_time": "2023-07-31T22:01:58.526Z"
   },
   {
    "duration": 316,
    "start_time": "2023-07-31T22:01:58.680Z"
   },
   {
    "duration": 254,
    "start_time": "2023-07-31T22:01:58.998Z"
   },
   {
    "duration": 262,
    "start_time": "2023-07-31T22:01:59.253Z"
   },
   {
    "duration": 89,
    "start_time": "2023-07-31T22:01:59.517Z"
   },
   {
    "duration": 455,
    "start_time": "2023-07-31T22:01:59.608Z"
   },
   {
    "duration": 589,
    "start_time": "2023-07-31T22:02:00.065Z"
   },
   {
    "duration": 32,
    "start_time": "2023-07-31T22:02:00.656Z"
   },
   {
    "duration": 15,
    "start_time": "2023-07-31T22:02:00.691Z"
   },
   {
    "duration": 41,
    "start_time": "2023-07-31T22:02:00.708Z"
   },
   {
    "duration": 32,
    "start_time": "2023-07-31T22:02:00.752Z"
   },
   {
    "duration": 69,
    "start_time": "2023-07-31T22:02:00.786Z"
   },
   {
    "duration": 162,
    "start_time": "2023-07-31T22:02:00.857Z"
   },
   {
    "duration": 8,
    "start_time": "2023-07-31T22:02:01.021Z"
   },
   {
    "duration": 123,
    "start_time": "2023-07-31T22:02:38.337Z"
   },
   {
    "duration": 1296,
    "start_time": "2023-07-31T22:28:33.485Z"
   },
   {
    "duration": 27,
    "start_time": "2023-07-31T22:28:34.783Z"
   },
   {
    "duration": 207,
    "start_time": "2023-07-31T22:28:34.812Z"
   },
   {
    "duration": 140,
    "start_time": "2023-07-31T22:28:35.021Z"
   },
   {
    "duration": 350,
    "start_time": "2023-07-31T22:28:35.164Z"
   },
   {
    "duration": 247,
    "start_time": "2023-07-31T22:28:35.516Z"
   },
   {
    "duration": 246,
    "start_time": "2023-07-31T22:28:35.765Z"
   },
   {
    "duration": 83,
    "start_time": "2023-07-31T22:28:36.013Z"
   },
   {
    "duration": 456,
    "start_time": "2023-07-31T22:28:36.098Z"
   },
   {
    "duration": 552,
    "start_time": "2023-07-31T22:28:36.555Z"
   },
   {
    "duration": 44,
    "start_time": "2023-07-31T22:28:37.109Z"
   },
   {
    "duration": 12,
    "start_time": "2023-07-31T22:28:37.155Z"
   },
   {
    "duration": 9,
    "start_time": "2023-07-31T22:28:37.169Z"
   },
   {
    "duration": 15,
    "start_time": "2023-07-31T22:28:37.181Z"
   },
   {
    "duration": 166,
    "start_time": "2023-07-31T22:28:37.197Z"
   },
   {
    "duration": 5,
    "start_time": "2023-07-31T22:28:37.365Z"
   },
   {
    "duration": 653,
    "start_time": "2023-08-01T15:19:39.615Z"
   },
   {
    "duration": 98,
    "start_time": "2023-08-01T15:19:43.577Z"
   },
   {
    "duration": 78,
    "start_time": "2023-08-01T15:19:59.142Z"
   },
   {
    "duration": 705,
    "start_time": "2023-08-01T15:20:03.763Z"
   },
   {
    "duration": 2,
    "start_time": "2023-08-01T15:20:04.783Z"
   },
   {
    "duration": 237,
    "start_time": "2023-08-01T15:20:06.791Z"
   },
   {
    "duration": 134,
    "start_time": "2023-08-01T15:20:13.272Z"
   },
   {
    "duration": 105,
    "start_time": "2023-08-01T15:20:21.004Z"
   },
   {
    "duration": 109,
    "start_time": "2023-08-01T15:22:10.801Z"
   },
   {
    "duration": 64,
    "start_time": "2023-08-01T15:27:06.857Z"
   },
   {
    "duration": 78,
    "start_time": "2023-08-01T15:28:20.739Z"
   },
   {
    "duration": 48,
    "start_time": "2023-08-01T15:29:55.986Z"
   },
   {
    "duration": 46,
    "start_time": "2023-08-01T15:31:16.884Z"
   },
   {
    "duration": 49,
    "start_time": "2023-08-01T15:31:43.727Z"
   },
   {
    "duration": 59,
    "start_time": "2023-08-01T15:32:02.675Z"
   },
   {
    "duration": 56,
    "start_time": "2023-08-01T15:32:28.162Z"
   },
   {
    "duration": 117,
    "start_time": "2023-08-01T15:33:37.957Z"
   },
   {
    "duration": 3,
    "start_time": "2023-08-01T15:33:50.928Z"
   },
   {
    "duration": 3,
    "start_time": "2023-08-01T15:33:50.943Z"
   },
   {
    "duration": 116,
    "start_time": "2023-08-01T15:33:50.948Z"
   },
   {
    "duration": 60,
    "start_time": "2023-08-01T15:33:51.066Z"
   },
   {
    "duration": 192,
    "start_time": "2023-08-01T15:33:51.128Z"
   },
   {
    "duration": 128,
    "start_time": "2023-08-01T15:33:51.322Z"
   },
   {
    "duration": 310,
    "start_time": "2023-08-01T15:33:51.452Z"
   },
   {
    "duration": 240,
    "start_time": "2023-08-01T15:33:51.764Z"
   },
   {
    "duration": 246,
    "start_time": "2023-08-01T15:33:52.005Z"
   },
   {
    "duration": 83,
    "start_time": "2023-08-01T15:33:52.253Z"
   },
   {
    "duration": 489,
    "start_time": "2023-08-01T15:33:52.338Z"
   },
   {
    "duration": 561,
    "start_time": "2023-08-01T15:33:52.828Z"
   },
   {
    "duration": 32,
    "start_time": "2023-08-01T15:33:53.390Z"
   },
   {
    "duration": 74,
    "start_time": "2023-08-01T15:33:53.424Z"
   },
   {
    "duration": 58,
    "start_time": "2023-08-01T15:33:53.500Z"
   },
   {
    "duration": 64,
    "start_time": "2023-08-01T15:33:53.560Z"
   },
   {
    "duration": 189,
    "start_time": "2023-08-01T15:33:53.626Z"
   },
   {
    "duration": 6,
    "start_time": "2023-08-01T15:33:53.816Z"
   },
   {
    "duration": 74,
    "start_time": "2023-08-01T15:41:04.639Z"
   },
   {
    "duration": 53,
    "start_time": "2023-08-01T15:42:09.007Z"
   },
   {
    "duration": 46,
    "start_time": "2023-08-01T15:42:52.136Z"
   },
   {
    "duration": 173,
    "start_time": "2023-08-01T15:51:26.245Z"
   },
   {
    "duration": 60,
    "start_time": "2023-08-01T15:51:31.570Z"
   },
   {
    "duration": 61,
    "start_time": "2023-08-01T15:55:47.619Z"
   },
   {
    "duration": 75,
    "start_time": "2023-08-01T15:57:00.991Z"
   },
   {
    "duration": 70,
    "start_time": "2023-08-01T15:58:46.160Z"
   },
   {
    "duration": 71,
    "start_time": "2023-08-01T15:59:00.144Z"
   },
   {
    "duration": 82,
    "start_time": "2023-08-01T15:59:11.043Z"
   },
   {
    "duration": 70,
    "start_time": "2023-08-01T15:59:19.159Z"
   },
   {
    "duration": 60,
    "start_time": "2023-08-01T16:00:51.941Z"
   },
   {
    "duration": 72,
    "start_time": "2023-08-01T16:01:02.285Z"
   },
   {
    "duration": 61,
    "start_time": "2023-08-01T16:01:22.294Z"
   },
   {
    "duration": 3,
    "start_time": "2023-08-01T16:04:07.306Z"
   },
   {
    "duration": 42,
    "start_time": "2023-08-01T16:04:07.311Z"
   },
   {
    "duration": 122,
    "start_time": "2023-08-01T16:04:07.354Z"
   },
   {
    "duration": 58,
    "start_time": "2023-08-01T16:04:07.477Z"
   },
   {
    "duration": 183,
    "start_time": "2023-08-01T16:04:07.537Z"
   },
   {
    "duration": 133,
    "start_time": "2023-08-01T16:04:07.722Z"
   },
   {
    "duration": 325,
    "start_time": "2023-08-01T16:04:07.857Z"
   },
   {
    "duration": 238,
    "start_time": "2023-08-01T16:04:08.187Z"
   },
   {
    "duration": 255,
    "start_time": "2023-08-01T16:04:08.426Z"
   },
   {
    "duration": 81,
    "start_time": "2023-08-01T16:04:08.683Z"
   },
   {
    "duration": 463,
    "start_time": "2023-08-01T16:04:08.766Z"
   },
   {
    "duration": 588,
    "start_time": "2023-08-01T16:04:09.231Z"
   },
   {
    "duration": 33,
    "start_time": "2023-08-01T16:04:09.822Z"
   },
   {
    "duration": 30,
    "start_time": "2023-08-01T16:04:09.857Z"
   },
   {
    "duration": 10,
    "start_time": "2023-08-01T16:04:09.889Z"
   },
   {
    "duration": 10,
    "start_time": "2023-08-01T16:04:09.901Z"
   },
   {
    "duration": 148,
    "start_time": "2023-08-01T16:04:09.913Z"
   },
   {
    "duration": 6,
    "start_time": "2023-08-01T16:04:10.063Z"
   },
   {
    "duration": 61,
    "start_time": "2023-08-01T16:04:51.166Z"
   },
   {
    "duration": 4,
    "start_time": "2023-08-01T16:05:03.468Z"
   },
   {
    "duration": 60,
    "start_time": "2023-08-01T16:05:03.474Z"
   },
   {
    "duration": 145,
    "start_time": "2023-08-01T16:05:03.536Z"
   },
   {
    "duration": 67,
    "start_time": "2023-08-01T16:05:03.683Z"
   },
   {
    "duration": 192,
    "start_time": "2023-08-01T16:05:03.752Z"
   },
   {
    "duration": 143,
    "start_time": "2023-08-01T16:05:03.946Z"
   },
   {
    "duration": 310,
    "start_time": "2023-08-01T16:05:04.091Z"
   },
   {
    "duration": 253,
    "start_time": "2023-08-01T16:05:04.402Z"
   },
   {
    "duration": 306,
    "start_time": "2023-08-01T16:05:04.658Z"
   },
   {
    "duration": 92,
    "start_time": "2023-08-01T16:05:04.966Z"
   },
   {
    "duration": 483,
    "start_time": "2023-08-01T16:05:05.061Z"
   },
   {
    "duration": 478,
    "start_time": "2023-08-01T16:05:05.546Z"
   },
   {
    "duration": 35,
    "start_time": "2023-08-01T16:05:06.026Z"
   },
   {
    "duration": 32,
    "start_time": "2023-08-01T16:05:06.062Z"
   },
   {
    "duration": 10,
    "start_time": "2023-08-01T16:05:06.095Z"
   },
   {
    "duration": 12,
    "start_time": "2023-08-01T16:05:06.107Z"
   },
   {
    "duration": 196,
    "start_time": "2023-08-01T16:05:06.121Z"
   },
   {
    "duration": 5,
    "start_time": "2023-08-01T16:05:06.319Z"
   },
   {
    "duration": 6,
    "start_time": "2023-08-01T16:08:01.564Z"
   },
   {
    "duration": 4,
    "start_time": "2023-08-01T16:08:04.470Z"
   },
   {
    "duration": 31,
    "start_time": "2023-08-01T16:08:06.310Z"
   },
   {
    "duration": 10,
    "start_time": "2023-08-01T16:08:09.109Z"
   },
   {
    "duration": 12,
    "start_time": "2023-08-01T16:08:11.553Z"
   },
   {
    "duration": 17,
    "start_time": "2023-08-01T16:08:21.797Z"
   },
   {
    "duration": 4,
    "start_time": "2023-08-01T16:16:52.057Z"
   },
   {
    "duration": 20,
    "start_time": "2023-08-01T16:16:52.063Z"
   },
   {
    "duration": 125,
    "start_time": "2023-08-01T16:16:52.085Z"
   },
   {
    "duration": 5,
    "start_time": "2023-08-01T16:16:52.211Z"
   },
   {
    "duration": 75,
    "start_time": "2023-08-01T16:16:52.218Z"
   },
   {
    "duration": 51,
    "start_time": "2023-08-01T16:16:52.295Z"
   },
   {
    "duration": 30,
    "start_time": "2023-08-01T16:16:52.348Z"
   },
   {
    "duration": 32,
    "start_time": "2023-08-01T16:16:52.380Z"
   },
   {
    "duration": 36,
    "start_time": "2023-08-01T16:16:52.414Z"
   },
   {
    "duration": 205,
    "start_time": "2023-08-01T16:16:52.451Z"
   },
   {
    "duration": 239,
    "start_time": "2023-08-01T16:16:52.659Z"
   },
   {
    "duration": 324,
    "start_time": "2023-08-01T16:16:52.899Z"
   },
   {
    "duration": 227,
    "start_time": "2023-08-01T16:16:53.225Z"
   },
   {
    "duration": 245,
    "start_time": "2023-08-01T16:16:53.454Z"
   },
   {
    "duration": 90,
    "start_time": "2023-08-01T16:16:53.700Z"
   },
   {
    "duration": 478,
    "start_time": "2023-08-01T16:16:53.792Z"
   },
   {
    "duration": 491,
    "start_time": "2023-08-01T16:16:54.272Z"
   },
   {
    "duration": 53,
    "start_time": "2023-08-01T16:16:54.766Z"
   },
   {
    "duration": 18,
    "start_time": "2023-08-01T16:16:54.821Z"
   },
   {
    "duration": 25,
    "start_time": "2023-08-01T16:16:54.841Z"
   },
   {
    "duration": 41,
    "start_time": "2023-08-01T16:16:54.868Z"
   },
   {
    "duration": 154,
    "start_time": "2023-08-01T16:16:54.911Z"
   },
   {
    "duration": 6,
    "start_time": "2023-08-01T16:16:55.066Z"
   },
   {
    "duration": 5,
    "start_time": "2023-08-01T16:18:19.135Z"
   },
   {
    "duration": 4,
    "start_time": "2023-08-01T16:18:21.266Z"
   },
   {
    "duration": 37,
    "start_time": "2023-08-01T16:18:21.272Z"
   },
   {
    "duration": 10,
    "start_time": "2023-08-01T16:18:23.952Z"
   },
   {
    "duration": 11,
    "start_time": "2023-08-01T16:18:26.675Z"
   },
   {
    "duration": 18,
    "start_time": "2023-08-01T16:18:29.466Z"
   },
   {
    "duration": 7,
    "start_time": "2023-08-01T16:20:57.951Z"
   },
   {
    "duration": 4,
    "start_time": "2023-08-01T16:20:59.550Z"
   },
   {
    "duration": 30,
    "start_time": "2023-08-01T16:21:02.814Z"
   },
   {
    "duration": 9,
    "start_time": "2023-08-01T16:21:03.969Z"
   },
   {
    "duration": 11,
    "start_time": "2023-08-01T16:21:06.040Z"
   },
   {
    "duration": 18,
    "start_time": "2023-08-01T16:21:09.989Z"
   },
   {
    "duration": 7,
    "start_time": "2023-08-01T16:21:47.006Z"
   },
   {
    "duration": 4,
    "start_time": "2023-08-01T16:21:49.047Z"
   },
   {
    "duration": 18,
    "start_time": "2023-08-01T16:23:28.134Z"
   },
   {
    "duration": 10,
    "start_time": "2023-08-01T16:23:34.852Z"
   },
   {
    "duration": 13,
    "start_time": "2023-08-01T16:23:57.158Z"
   },
   {
    "duration": 40,
    "start_time": "2023-08-01T16:24:10.567Z"
   },
   {
    "duration": 14,
    "start_time": "2023-08-01T16:24:32.167Z"
   },
   {
    "duration": 11,
    "start_time": "2023-08-01T16:28:33.463Z"
   },
   {
    "duration": 11,
    "start_time": "2023-08-01T16:28:43.747Z"
   },
   {
    "duration": 10,
    "start_time": "2023-08-01T16:28:53.779Z"
   },
   {
    "duration": 10,
    "start_time": "2023-08-01T16:29:05.079Z"
   },
   {
    "duration": 14,
    "start_time": "2023-08-01T16:32:14.678Z"
   },
   {
    "duration": 11,
    "start_time": "2023-08-01T16:32:22.618Z"
   },
   {
    "duration": 11,
    "start_time": "2023-08-01T16:33:18.801Z"
   },
   {
    "duration": 13,
    "start_time": "2023-08-01T16:34:22.380Z"
   },
   {
    "duration": 11,
    "start_time": "2023-08-01T16:34:35.033Z"
   },
   {
    "duration": 12,
    "start_time": "2023-08-01T16:35:03.345Z"
   },
   {
    "duration": 20,
    "start_time": "2023-08-01T16:36:40.432Z"
   },
   {
    "duration": 12,
    "start_time": "2023-08-01T16:37:19.895Z"
   },
   {
    "duration": 12,
    "start_time": "2023-08-01T16:37:32.810Z"
   },
   {
    "duration": 14,
    "start_time": "2023-08-01T16:37:55.256Z"
   },
   {
    "duration": 17,
    "start_time": "2023-08-01T16:38:09.403Z"
   },
   {
    "duration": 15,
    "start_time": "2023-08-01T16:38:13.860Z"
   },
   {
    "duration": 12,
    "start_time": "2023-08-01T16:38:29.278Z"
   },
   {
    "duration": 11,
    "start_time": "2023-08-01T16:38:58.023Z"
   },
   {
    "duration": 14,
    "start_time": "2023-08-01T16:39:18.154Z"
   },
   {
    "duration": 11,
    "start_time": "2023-08-01T16:39:27.147Z"
   },
   {
    "duration": 13,
    "start_time": "2023-08-01T16:42:17.386Z"
   },
   {
    "duration": 16,
    "start_time": "2023-08-01T16:43:16.600Z"
   },
   {
    "duration": 13,
    "start_time": "2023-08-01T16:43:39.415Z"
   },
   {
    "duration": 6,
    "start_time": "2023-08-01T16:44:12.618Z"
   },
   {
    "duration": 7,
    "start_time": "2023-08-01T16:44:15.335Z"
   },
   {
    "duration": 17,
    "start_time": "2023-08-01T16:50:10.800Z"
   },
   {
    "duration": 7,
    "start_time": "2023-08-01T16:50:33.275Z"
   },
   {
    "duration": 5,
    "start_time": "2023-08-01T16:51:14.048Z"
   },
   {
    "duration": 8,
    "start_time": "2023-08-01T16:51:47.620Z"
   },
   {
    "duration": 30,
    "start_time": "2023-08-01T16:58:56.544Z"
   },
   {
    "duration": 35,
    "start_time": "2023-08-01T16:59:15.832Z"
   },
   {
    "duration": 36,
    "start_time": "2023-08-01T16:59:59.462Z"
   },
   {
    "duration": 41,
    "start_time": "2023-08-01T17:01:56.773Z"
   },
   {
    "duration": 5,
    "start_time": "2023-08-01T17:06:28.966Z"
   },
   {
    "duration": 4,
    "start_time": "2023-08-01T17:07:00.053Z"
   },
   {
    "duration": 42,
    "start_time": "2023-08-01T17:07:00.063Z"
   },
   {
    "duration": 166,
    "start_time": "2023-08-01T17:07:00.107Z"
   },
   {
    "duration": 7,
    "start_time": "2023-08-01T17:07:00.275Z"
   },
   {
    "duration": 43,
    "start_time": "2023-08-01T17:07:00.283Z"
   },
   {
    "duration": 81,
    "start_time": "2023-08-01T17:07:00.328Z"
   },
   {
    "duration": 82,
    "start_time": "2023-08-01T17:07:00.411Z"
   },
   {
    "duration": 57,
    "start_time": "2023-08-01T17:07:00.495Z"
   },
   {
    "duration": 34,
    "start_time": "2023-08-01T17:07:00.554Z"
   },
   {
    "duration": 63,
    "start_time": "2023-08-01T17:07:00.590Z"
   },
   {
    "duration": 323,
    "start_time": "2023-08-01T17:07:00.656Z"
   },
   {
    "duration": 135,
    "start_time": "2023-08-01T17:07:00.986Z"
   },
   {
    "duration": 374,
    "start_time": "2023-08-01T17:07:01.123Z"
   },
   {
    "duration": 247,
    "start_time": "2023-08-01T17:07:01.498Z"
   },
   {
    "duration": 246,
    "start_time": "2023-08-01T17:07:01.748Z"
   },
   {
    "duration": 75,
    "start_time": "2023-08-01T17:07:01.995Z"
   },
   {
    "duration": 536,
    "start_time": "2023-08-01T17:07:02.072Z"
   },
   {
    "duration": 498,
    "start_time": "2023-08-01T17:07:02.610Z"
   },
   {
    "duration": 33,
    "start_time": "2023-08-01T17:07:03.109Z"
   },
   {
    "duration": 19,
    "start_time": "2023-08-01T17:07:03.144Z"
   },
   {
    "duration": 266,
    "start_time": "2023-08-01T17:07:03.165Z"
   },
   {
    "duration": 45,
    "start_time": "2023-08-01T17:07:03.433Z"
   },
   {
    "duration": 178,
    "start_time": "2023-08-01T17:07:03.480Z"
   },
   {
    "duration": 5,
    "start_time": "2023-08-01T17:07:03.660Z"
   },
   {
    "duration": 13,
    "start_time": "2023-08-01T17:07:31.098Z"
   },
   {
    "duration": 4,
    "start_time": "2023-08-01T17:07:57.285Z"
   },
   {
    "duration": 5,
    "start_time": "2023-08-01T17:07:57.291Z"
   },
   {
    "duration": 127,
    "start_time": "2023-08-01T17:07:57.298Z"
   },
   {
    "duration": 7,
    "start_time": "2023-08-01T17:07:57.429Z"
   },
   {
    "duration": 16,
    "start_time": "2023-08-01T17:07:57.439Z"
   },
   {
    "duration": 7,
    "start_time": "2023-08-01T17:07:57.456Z"
   },
   {
    "duration": 66,
    "start_time": "2023-08-01T17:07:57.465Z"
   },
   {
    "duration": 22,
    "start_time": "2023-08-01T17:07:57.533Z"
   },
   {
    "duration": 52,
    "start_time": "2023-08-01T17:07:57.557Z"
   },
   {
    "duration": 203,
    "start_time": "2023-08-01T17:07:57.612Z"
   },
   {
    "duration": 136,
    "start_time": "2023-08-01T17:07:57.817Z"
   },
   {
    "duration": 311,
    "start_time": "2023-08-01T17:07:57.954Z"
   },
   {
    "duration": 245,
    "start_time": "2023-08-01T17:07:58.267Z"
   },
   {
    "duration": 268,
    "start_time": "2023-08-01T17:07:58.514Z"
   },
   {
    "duration": 220,
    "start_time": "2023-08-01T17:07:58.787Z"
   },
   {
    "duration": 455,
    "start_time": "2023-08-01T17:07:59.008Z"
   },
   {
    "duration": 507,
    "start_time": "2023-08-01T17:07:59.466Z"
   },
   {
    "duration": 44,
    "start_time": "2023-08-01T17:07:59.975Z"
   },
   {
    "duration": 38,
    "start_time": "2023-08-01T17:08:00.022Z"
   },
   {
    "duration": 55,
    "start_time": "2023-08-01T17:08:00.062Z"
   },
   {
    "duration": 47,
    "start_time": "2023-08-01T17:08:00.118Z"
   },
   {
    "duration": 232,
    "start_time": "2023-08-01T17:08:00.167Z"
   },
   {
    "duration": 5,
    "start_time": "2023-08-01T17:08:00.402Z"
   },
   {
    "duration": 45,
    "start_time": "2023-08-01T17:09:18.066Z"
   },
   {
    "duration": 38,
    "start_time": "2023-08-01T17:09:32.581Z"
   },
   {
    "duration": 5,
    "start_time": "2023-08-01T17:10:01.716Z"
   },
   {
    "duration": 64,
    "start_time": "2023-08-01T17:10:01.723Z"
   },
   {
    "duration": 189,
    "start_time": "2023-08-01T17:10:01.789Z"
   },
   {
    "duration": 6,
    "start_time": "2023-08-01T17:10:01.980Z"
   },
   {
    "duration": 75,
    "start_time": "2023-08-01T17:10:01.988Z"
   },
   {
    "duration": 65,
    "start_time": "2023-08-01T17:10:02.065Z"
   },
   {
    "duration": 68,
    "start_time": "2023-08-01T17:10:02.132Z"
   },
   {
    "duration": 51,
    "start_time": "2023-08-01T17:10:02.203Z"
   },
   {
    "duration": 54,
    "start_time": "2023-08-01T17:10:02.257Z"
   },
   {
    "duration": 201,
    "start_time": "2023-08-01T17:10:02.313Z"
   },
   {
    "duration": 149,
    "start_time": "2023-08-01T17:10:02.516Z"
   },
   {
    "duration": 338,
    "start_time": "2023-08-01T17:10:02.667Z"
   },
   {
    "duration": 251,
    "start_time": "2023-08-01T17:10:03.006Z"
   },
   {
    "duration": 247,
    "start_time": "2023-08-01T17:10:03.259Z"
   },
   {
    "duration": 88,
    "start_time": "2023-08-01T17:10:03.508Z"
   },
   {
    "duration": 467,
    "start_time": "2023-08-01T17:10:03.597Z"
   },
   {
    "duration": 529,
    "start_time": "2023-08-01T17:10:04.066Z"
   },
   {
    "duration": 37,
    "start_time": "2023-08-01T17:10:04.596Z"
   },
   {
    "duration": 21,
    "start_time": "2023-08-01T17:10:04.635Z"
   },
   {
    "duration": 32,
    "start_time": "2023-08-01T17:10:04.657Z"
   },
   {
    "duration": 37,
    "start_time": "2023-08-01T17:10:04.692Z"
   },
   {
    "duration": 218,
    "start_time": "2023-08-01T17:10:04.731Z"
   },
   {
    "duration": 7,
    "start_time": "2023-08-01T17:10:04.951Z"
   },
   {
    "duration": 9,
    "start_time": "2023-08-01T17:12:32.588Z"
   },
   {
    "duration": 181,
    "start_time": "2023-08-01T17:27:36.186Z"
   },
   {
    "duration": 181,
    "start_time": "2023-08-01T17:28:15.337Z"
   },
   {
    "duration": 100,
    "start_time": "2023-08-01T17:30:47.948Z"
   },
   {
    "duration": 95,
    "start_time": "2023-08-01T17:31:25.759Z"
   },
   {
    "duration": 258,
    "start_time": "2023-08-01T17:31:34.541Z"
   },
   {
    "duration": 93,
    "start_time": "2023-08-01T17:32:14.494Z"
   },
   {
    "duration": 94,
    "start_time": "2023-08-01T17:32:51.148Z"
   },
   {
    "duration": 12,
    "start_time": "2023-08-01T17:33:20.235Z"
   },
   {
    "duration": 92,
    "start_time": "2023-08-01T17:33:41.255Z"
   },
   {
    "duration": 92,
    "start_time": "2023-08-01T17:33:49.462Z"
   },
   {
    "duration": 88,
    "start_time": "2023-08-01T17:34:51.599Z"
   },
   {
    "duration": 113,
    "start_time": "2023-08-01T17:35:09.087Z"
   },
   {
    "duration": 94,
    "start_time": "2023-08-01T17:35:20.179Z"
   },
   {
    "duration": 100,
    "start_time": "2023-08-01T17:35:40.996Z"
   },
   {
    "duration": 95,
    "start_time": "2023-08-01T17:35:54.314Z"
   },
   {
    "duration": 95,
    "start_time": "2023-08-01T17:36:14.509Z"
   },
   {
    "duration": 96,
    "start_time": "2023-08-01T17:36:22.946Z"
   },
   {
    "duration": 181,
    "start_time": "2023-08-01T17:38:12.022Z"
   },
   {
    "duration": 244,
    "start_time": "2023-08-01T17:39:24.262Z"
   },
   {
    "duration": 248,
    "start_time": "2023-08-01T17:44:08.367Z"
   },
   {
    "duration": 258,
    "start_time": "2023-08-01T17:44:52.443Z"
   },
   {
    "duration": 245,
    "start_time": "2023-08-01T17:48:29.650Z"
   },
   {
    "duration": 205,
    "start_time": "2023-08-01T17:48:54.247Z"
   },
   {
    "duration": 203,
    "start_time": "2023-08-01T17:49:09.442Z"
   },
   {
    "duration": 198,
    "start_time": "2023-08-01T17:49:32.251Z"
   },
   {
    "duration": 211,
    "start_time": "2023-08-01T17:50:36.290Z"
   },
   {
    "duration": 184,
    "start_time": "2023-08-01T17:51:09.466Z"
   },
   {
    "duration": 187,
    "start_time": "2023-08-01T17:51:35.511Z"
   },
   {
    "duration": 247,
    "start_time": "2023-08-01T18:00:58.662Z"
   },
   {
    "duration": 281,
    "start_time": "2023-08-01T18:02:09.892Z"
   },
   {
    "duration": 243,
    "start_time": "2023-08-01T18:04:01.203Z"
   },
   {
    "duration": 466,
    "start_time": "2023-08-01T18:04:14.949Z"
   },
   {
    "duration": 259,
    "start_time": "2023-08-01T18:09:58.439Z"
   },
   {
    "duration": 238,
    "start_time": "2023-08-01T18:10:24.096Z"
   },
   {
    "duration": 242,
    "start_time": "2023-08-01T18:11:02.639Z"
   },
   {
    "duration": 242,
    "start_time": "2023-08-01T18:11:14.364Z"
   },
   {
    "duration": 247,
    "start_time": "2023-08-01T18:12:22.628Z"
   },
   {
    "duration": 252,
    "start_time": "2023-08-01T18:14:14.042Z"
   },
   {
    "duration": 7,
    "start_time": "2023-08-01T18:16:13.584Z"
   },
   {
    "duration": 3,
    "start_time": "2023-08-01T18:16:22.109Z"
   },
   {
    "duration": 4,
    "start_time": "2023-08-01T18:16:22.114Z"
   },
   {
    "duration": 124,
    "start_time": "2023-08-01T18:16:22.120Z"
   },
   {
    "duration": 7,
    "start_time": "2023-08-01T18:16:22.246Z"
   },
   {
    "duration": 20,
    "start_time": "2023-08-01T18:16:22.255Z"
   },
   {
    "duration": 20,
    "start_time": "2023-08-01T18:16:22.277Z"
   },
   {
    "duration": 43,
    "start_time": "2023-08-01T18:16:22.299Z"
   },
   {
    "duration": 12,
    "start_time": "2023-08-01T18:16:22.344Z"
   },
   {
    "duration": 14,
    "start_time": "2023-08-01T18:16:22.357Z"
   },
   {
    "duration": 185,
    "start_time": "2023-08-01T18:16:22.388Z"
   },
   {
    "duration": 116,
    "start_time": "2023-08-01T18:16:22.576Z"
   },
   {
    "duration": 274,
    "start_time": "2023-08-01T18:16:22.695Z"
   },
   {
    "duration": 258,
    "start_time": "2023-08-01T18:16:22.970Z"
   },
   {
    "duration": 271,
    "start_time": "2023-08-01T18:16:23.229Z"
   },
   {
    "duration": 86,
    "start_time": "2023-08-01T18:16:23.502Z"
   },
   {
    "duration": 448,
    "start_time": "2023-08-01T18:16:23.590Z"
   },
   {
    "duration": 462,
    "start_time": "2023-08-01T18:16:24.040Z"
   },
   {
    "duration": 33,
    "start_time": "2023-08-01T18:16:24.504Z"
   },
   {
    "duration": 13,
    "start_time": "2023-08-01T18:16:24.538Z"
   },
   {
    "duration": 35,
    "start_time": "2023-08-01T18:16:24.552Z"
   },
   {
    "duration": 13,
    "start_time": "2023-08-01T18:16:24.589Z"
   },
   {
    "duration": 193,
    "start_time": "2023-08-01T18:16:24.604Z"
   },
   {
    "duration": 7,
    "start_time": "2023-08-01T18:16:24.800Z"
   },
   {
    "duration": 57,
    "start_time": "2023-08-01T18:19:40.759Z"
   },
   {
    "duration": 60,
    "start_time": "2023-08-01T18:19:59.596Z"
   },
   {
    "duration": 30,
    "start_time": "2023-08-01T18:20:54.633Z"
   },
   {
    "duration": 31,
    "start_time": "2023-08-01T18:21:17.255Z"
   },
   {
    "duration": 6,
    "start_time": "2023-08-01T18:22:17.461Z"
   },
   {
    "duration": 3,
    "start_time": "2023-08-01T18:22:20.323Z"
   },
   {
    "duration": 6,
    "start_time": "2023-08-01T18:22:20.328Z"
   },
   {
    "duration": 126,
    "start_time": "2023-08-01T18:22:20.336Z"
   },
   {
    "duration": 6,
    "start_time": "2023-08-01T18:22:20.464Z"
   },
   {
    "duration": 9,
    "start_time": "2023-08-01T18:22:20.486Z"
   },
   {
    "duration": 42,
    "start_time": "2023-08-01T18:22:20.497Z"
   },
   {
    "duration": 46,
    "start_time": "2023-08-01T18:22:20.540Z"
   },
   {
    "duration": 11,
    "start_time": "2023-08-01T18:22:20.588Z"
   },
   {
    "duration": 21,
    "start_time": "2023-08-01T18:22:20.601Z"
   },
   {
    "duration": 195,
    "start_time": "2023-08-01T18:22:20.624Z"
   },
   {
    "duration": 288,
    "start_time": "2023-08-01T18:22:20.822Z"
   },
   {
    "duration": 280,
    "start_time": "2023-08-01T18:22:21.112Z"
   },
   {
    "duration": 266,
    "start_time": "2023-08-01T18:22:21.395Z"
   },
   {
    "duration": 287,
    "start_time": "2023-08-01T18:22:21.664Z"
   },
   {
    "duration": 42,
    "start_time": "2023-08-01T18:22:21.953Z"
   },
   {
    "duration": 467,
    "start_time": "2023-08-01T18:22:21.998Z"
   },
   {
    "duration": 495,
    "start_time": "2023-08-01T18:22:22.467Z"
   },
   {
    "duration": 44,
    "start_time": "2023-08-01T18:22:22.964Z"
   },
   {
    "duration": 19,
    "start_time": "2023-08-01T18:22:23.010Z"
   },
   {
    "duration": 108,
    "start_time": "2023-08-01T18:22:23.031Z"
   },
   {
    "duration": 148,
    "start_time": "2023-08-01T18:22:23.141Z"
   },
   {
    "duration": 195,
    "start_time": "2023-08-01T18:22:23.291Z"
   },
   {
    "duration": 5,
    "start_time": "2023-08-01T18:22:23.488Z"
   },
   {
    "duration": 7,
    "start_time": "2023-08-01T18:23:04.510Z"
   },
   {
    "duration": 29,
    "start_time": "2023-08-01T18:24:55.765Z"
   },
   {
    "duration": 4,
    "start_time": "2023-08-01T18:25:28.181Z"
   },
   {
    "duration": 17,
    "start_time": "2023-08-01T18:25:28.187Z"
   },
   {
    "duration": 112,
    "start_time": "2023-08-01T18:25:28.206Z"
   },
   {
    "duration": 7,
    "start_time": "2023-08-01T18:25:28.319Z"
   },
   {
    "duration": 22,
    "start_time": "2023-08-01T18:25:28.327Z"
   },
   {
    "duration": 23,
    "start_time": "2023-08-01T18:25:28.351Z"
   },
   {
    "duration": 52,
    "start_time": "2023-08-01T18:25:28.376Z"
   },
   {
    "duration": 17,
    "start_time": "2023-08-01T18:25:28.430Z"
   },
   {
    "duration": 36,
    "start_time": "2023-08-01T18:25:28.449Z"
   },
   {
    "duration": 217,
    "start_time": "2023-08-01T18:25:28.487Z"
   },
   {
    "duration": 107,
    "start_time": "2023-08-01T18:25:28.706Z"
   },
   {
    "duration": 275,
    "start_time": "2023-08-01T18:25:28.815Z"
   },
   {
    "duration": 266,
    "start_time": "2023-08-01T18:25:29.092Z"
   },
   {
    "duration": 305,
    "start_time": "2023-08-01T18:25:29.361Z"
   },
   {
    "duration": 35,
    "start_time": "2023-08-01T18:25:29.668Z"
   },
   {
    "duration": 0,
    "start_time": "2023-08-01T18:25:29.705Z"
   },
   {
    "duration": 0,
    "start_time": "2023-08-01T18:25:29.706Z"
   },
   {
    "duration": 0,
    "start_time": "2023-08-01T18:25:29.707Z"
   },
   {
    "duration": 0,
    "start_time": "2023-08-01T18:25:29.708Z"
   },
   {
    "duration": 0,
    "start_time": "2023-08-01T18:25:29.709Z"
   },
   {
    "duration": 0,
    "start_time": "2023-08-01T18:25:29.710Z"
   },
   {
    "duration": 0,
    "start_time": "2023-08-01T18:25:29.712Z"
   },
   {
    "duration": 0,
    "start_time": "2023-08-01T18:25:29.713Z"
   },
   {
    "duration": 43,
    "start_time": "2023-08-01T18:27:26.719Z"
   },
   {
    "duration": 37,
    "start_time": "2023-08-01T18:28:21.338Z"
   },
   {
    "duration": 54,
    "start_time": "2023-08-01T18:28:27.199Z"
   },
   {
    "duration": 13,
    "start_time": "2023-08-01T18:31:01.442Z"
   },
   {
    "duration": 3,
    "start_time": "2023-08-01T18:31:06.601Z"
   },
   {
    "duration": 10,
    "start_time": "2023-08-01T18:31:06.607Z"
   },
   {
    "duration": 118,
    "start_time": "2023-08-01T18:31:06.620Z"
   },
   {
    "duration": 7,
    "start_time": "2023-08-01T18:31:06.740Z"
   },
   {
    "duration": 6,
    "start_time": "2023-08-01T18:31:06.750Z"
   },
   {
    "duration": 35,
    "start_time": "2023-08-01T18:31:06.757Z"
   },
   {
    "duration": 37,
    "start_time": "2023-08-01T18:31:06.793Z"
   },
   {
    "duration": 11,
    "start_time": "2023-08-01T18:31:06.832Z"
   },
   {
    "duration": 19,
    "start_time": "2023-08-01T18:31:06.845Z"
   },
   {
    "duration": 224,
    "start_time": "2023-08-01T18:31:06.866Z"
   },
   {
    "duration": 109,
    "start_time": "2023-08-01T18:31:07.093Z"
   },
   {
    "duration": 268,
    "start_time": "2023-08-01T18:31:07.204Z"
   },
   {
    "duration": 250,
    "start_time": "2023-08-01T18:31:07.474Z"
   },
   {
    "duration": 284,
    "start_time": "2023-08-01T18:31:07.726Z"
   },
   {
    "duration": 26,
    "start_time": "2023-08-01T18:31:08.011Z"
   },
   {
    "duration": 657,
    "start_time": "2023-08-01T18:31:08.039Z"
   },
   {
    "duration": 510,
    "start_time": "2023-08-01T18:31:08.698Z"
   },
   {
    "duration": 32,
    "start_time": "2023-08-01T18:31:09.210Z"
   },
   {
    "duration": 14,
    "start_time": "2023-08-01T18:31:09.244Z"
   },
   {
    "duration": 33,
    "start_time": "2023-08-01T18:31:09.259Z"
   },
   {
    "duration": 18,
    "start_time": "2023-08-01T18:31:09.295Z"
   },
   {
    "duration": 178,
    "start_time": "2023-08-01T18:31:09.315Z"
   },
   {
    "duration": 6,
    "start_time": "2023-08-01T18:31:09.495Z"
   },
   {
    "duration": 36,
    "start_time": "2023-08-01T18:38:28.180Z"
   },
   {
    "duration": 453,
    "start_time": "2023-08-01T18:41:28.611Z"
   },
   {
    "duration": 480,
    "start_time": "2023-08-01T18:43:27.930Z"
   },
   {
    "duration": 512,
    "start_time": "2023-08-01T18:44:08.249Z"
   },
   {
    "duration": 501,
    "start_time": "2023-08-01T18:44:21.302Z"
   },
   {
    "duration": 498,
    "start_time": "2023-08-01T18:44:44.913Z"
   },
   {
    "duration": 504,
    "start_time": "2023-08-01T18:46:51.862Z"
   },
   {
    "duration": 775,
    "start_time": "2023-08-01T18:48:52.202Z"
   },
   {
    "duration": 566,
    "start_time": "2023-08-01T18:49:41.526Z"
   },
   {
    "duration": 659,
    "start_time": "2023-08-01T19:04:44.984Z"
   },
   {
    "duration": 450,
    "start_time": "2023-08-01T19:05:08.954Z"
   },
   {
    "duration": 620,
    "start_time": "2023-08-01T19:06:34.503Z"
   },
   {
    "duration": 91,
    "start_time": "2023-08-01T19:07:53.087Z"
   },
   {
    "duration": 377,
    "start_time": "2023-08-01T19:08:07.000Z"
   },
   {
    "duration": 393,
    "start_time": "2023-08-01T19:12:00.487Z"
   },
   {
    "duration": 357,
    "start_time": "2023-08-01T19:12:20.753Z"
   },
   {
    "duration": 326,
    "start_time": "2023-08-01T19:12:45.548Z"
   },
   {
    "duration": 348,
    "start_time": "2023-08-01T19:13:04.303Z"
   },
   {
    "duration": 75,
    "start_time": "2023-08-01T19:18:37.664Z"
   },
   {
    "duration": 83,
    "start_time": "2023-08-01T19:19:49.951Z"
   },
   {
    "duration": 423,
    "start_time": "2023-08-01T19:21:30.045Z"
   },
   {
    "duration": 225,
    "start_time": "2023-08-01T19:21:50.395Z"
   },
   {
    "duration": 221,
    "start_time": "2023-08-01T19:22:06.307Z"
   },
   {
    "duration": 220,
    "start_time": "2023-08-01T19:24:26.241Z"
   },
   {
    "duration": 237,
    "start_time": "2023-08-01T19:25:37.086Z"
   },
   {
    "duration": 215,
    "start_time": "2023-08-01T19:30:35.536Z"
   },
   {
    "duration": 215,
    "start_time": "2023-08-01T19:40:09.499Z"
   },
   {
    "duration": 34,
    "start_time": "2023-08-01T19:40:47.552Z"
   },
   {
    "duration": 32,
    "start_time": "2023-08-01T19:40:52.900Z"
   },
   {
    "duration": 50,
    "start_time": "2023-08-01T19:43:36.858Z"
   },
   {
    "duration": 24,
    "start_time": "2023-08-01T19:44:18.270Z"
   },
   {
    "duration": 36,
    "start_time": "2023-08-01T19:44:45.666Z"
   },
   {
    "duration": 45,
    "start_time": "2023-08-01T19:47:45.118Z"
   },
   {
    "duration": 58,
    "start_time": "2023-08-01T19:48:17.382Z"
   },
   {
    "duration": 60,
    "start_time": "2023-08-01T19:49:10.185Z"
   },
   {
    "duration": 68,
    "start_time": "2023-08-01T19:49:27.183Z"
   },
   {
    "duration": 58,
    "start_time": "2023-08-01T19:50:05.307Z"
   },
   {
    "duration": 79,
    "start_time": "2023-08-01T19:50:30.935Z"
   },
   {
    "duration": 72,
    "start_time": "2023-08-01T19:50:44.722Z"
   },
   {
    "duration": 67,
    "start_time": "2023-08-01T19:51:05.553Z"
   },
   {
    "duration": 218,
    "start_time": "2023-08-01T19:58:46.847Z"
   },
   {
    "duration": 219,
    "start_time": "2023-08-01T19:59:28.193Z"
   },
   {
    "duration": 236,
    "start_time": "2023-08-01T20:01:35.907Z"
   },
   {
    "duration": 237,
    "start_time": "2023-08-01T20:01:52.885Z"
   },
   {
    "duration": 212,
    "start_time": "2023-08-01T20:02:15.589Z"
   },
   {
    "duration": 225,
    "start_time": "2023-08-01T20:02:26.037Z"
   },
   {
    "duration": 189,
    "start_time": "2023-08-01T20:05:28.273Z"
   },
   {
    "duration": 198,
    "start_time": "2023-08-01T20:07:12.902Z"
   },
   {
    "duration": 214,
    "start_time": "2023-08-01T20:07:26.269Z"
   },
   {
    "duration": 196,
    "start_time": "2023-08-01T20:07:38.293Z"
   },
   {
    "duration": 688,
    "start_time": "2023-08-01T20:10:24.323Z"
   },
   {
    "duration": 25,
    "start_time": "2023-08-01T20:17:15.247Z"
   },
   {
    "duration": 679,
    "start_time": "2023-08-01T20:17:24.311Z"
   },
   {
    "duration": 813,
    "start_time": "2023-08-01T20:18:13.538Z"
   },
   {
    "duration": 184,
    "start_time": "2023-08-01T20:23:49.703Z"
   },
   {
    "duration": 591,
    "start_time": "2023-08-01T20:23:56.584Z"
   },
   {
    "duration": 531,
    "start_time": "2023-08-01T20:24:09.241Z"
   },
   {
    "duration": 624,
    "start_time": "2023-08-01T20:24:57.331Z"
   },
   {
    "duration": 30,
    "start_time": "2023-08-01T20:26:30.899Z"
   },
   {
    "duration": 680,
    "start_time": "2023-08-01T20:29:22.321Z"
   },
   {
    "duration": 188,
    "start_time": "2023-08-01T20:30:23.691Z"
   },
   {
    "duration": 186,
    "start_time": "2023-08-01T20:31:03.731Z"
   },
   {
    "duration": 705,
    "start_time": "2023-08-01T20:31:16.001Z"
   },
   {
    "duration": 285,
    "start_time": "2023-08-01T20:34:38.403Z"
   },
   {
    "duration": 278,
    "start_time": "2023-08-01T20:34:46.794Z"
   },
   {
    "duration": 270,
    "start_time": "2023-08-01T20:34:56.864Z"
   },
   {
    "duration": 270,
    "start_time": "2023-08-01T20:35:56.804Z"
   },
   {
    "duration": 873,
    "start_time": "2023-08-01T20:36:16.881Z"
   },
   {
    "duration": 587,
    "start_time": "2023-08-01T20:37:31.131Z"
   },
   {
    "duration": 210,
    "start_time": "2023-08-01T20:40:17.446Z"
   },
   {
    "duration": 594,
    "start_time": "2023-08-01T20:40:38.280Z"
   },
   {
    "duration": 623,
    "start_time": "2023-08-01T20:41:51.879Z"
   },
   {
    "duration": 418,
    "start_time": "2023-08-01T20:43:12.251Z"
   },
   {
    "duration": 419,
    "start_time": "2023-08-01T20:43:38.487Z"
   },
   {
    "duration": 601,
    "start_time": "2023-08-01T20:44:11.595Z"
   },
   {
    "duration": 613,
    "start_time": "2023-08-01T20:46:05.365Z"
   },
   {
    "duration": 643,
    "start_time": "2023-08-01T20:47:00.004Z"
   },
   {
    "duration": 10,
    "start_time": "2023-08-01T20:50:31.315Z"
   },
   {
    "duration": 10,
    "start_time": "2023-08-01T20:50:38.049Z"
   },
   {
    "duration": 5,
    "start_time": "2023-08-01T20:50:52.940Z"
   },
   {
    "duration": 8,
    "start_time": "2023-08-01T20:51:55.059Z"
   },
   {
    "duration": 115,
    "start_time": "2023-08-01T20:53:49.043Z"
   },
   {
    "duration": 75,
    "start_time": "2023-08-01T20:53:57.036Z"
   },
   {
    "duration": 79,
    "start_time": "2023-08-01T20:54:44.512Z"
   },
   {
    "duration": 7,
    "start_time": "2023-08-01T20:54:59.731Z"
   },
   {
    "duration": 12,
    "start_time": "2023-08-01T20:55:13.534Z"
   },
   {
    "duration": 14,
    "start_time": "2023-08-01T20:55:20.997Z"
   },
   {
    "duration": 853,
    "start_time": "2023-08-01T20:56:06.734Z"
   },
   {
    "duration": 99,
    "start_time": "2023-08-01T21:11:09.486Z"
   },
   {
    "duration": 94,
    "start_time": "2023-08-01T21:11:51.306Z"
   },
   {
    "duration": 84,
    "start_time": "2023-08-01T21:12:23.724Z"
   },
   {
    "duration": 634,
    "start_time": "2023-08-01T21:14:53.790Z"
   },
   {
    "duration": 680,
    "start_time": "2023-08-01T21:16:59.928Z"
   },
   {
    "duration": 689,
    "start_time": "2023-08-01T21:17:34.710Z"
   },
   {
    "duration": 657,
    "start_time": "2023-08-01T21:18:14.991Z"
   },
   {
    "duration": 685,
    "start_time": "2023-08-01T21:18:44.622Z"
   },
   {
    "duration": 663,
    "start_time": "2023-08-01T21:20:03.597Z"
   },
   {
    "duration": 635,
    "start_time": "2023-08-01T21:20:18.063Z"
   },
   {
    "duration": 85,
    "start_time": "2023-08-01T21:20:39.326Z"
   },
   {
    "duration": 641,
    "start_time": "2023-08-01T21:20:45.834Z"
   },
   {
    "duration": 854,
    "start_time": "2023-08-01T21:21:26.442Z"
   },
   {
    "duration": 661,
    "start_time": "2023-08-01T21:24:46.498Z"
   },
   {
    "duration": 628,
    "start_time": "2023-08-01T21:25:49.599Z"
   },
   {
    "duration": 566,
    "start_time": "2023-08-01T21:30:16.810Z"
   },
   {
    "duration": 168,
    "start_time": "2023-08-01T21:38:02.461Z"
   },
   {
    "duration": 202,
    "start_time": "2023-08-01T21:43:11.134Z"
   },
   {
    "duration": 264,
    "start_time": "2023-08-01T21:44:24.595Z"
   },
   {
    "duration": 224,
    "start_time": "2023-08-01T21:45:11.510Z"
   },
   {
    "duration": 2232,
    "start_time": "2023-08-01T21:46:14.061Z"
   },
   {
    "duration": 1417,
    "start_time": "2023-08-01T21:46:31.498Z"
   },
   {
    "duration": 1286,
    "start_time": "2023-08-01T21:51:06.977Z"
   },
   {
    "duration": 383,
    "start_time": "2023-08-01T21:56:12.538Z"
   },
   {
    "duration": 191,
    "start_time": "2023-08-01T21:58:40.611Z"
   },
   {
    "duration": 197,
    "start_time": "2023-08-01T21:58:52.382Z"
   },
   {
    "duration": 187,
    "start_time": "2023-08-01T21:59:10.265Z"
   },
   {
    "duration": 23,
    "start_time": "2023-08-01T22:02:05.687Z"
   },
   {
    "duration": 50,
    "start_time": "2023-08-02T07:46:01.577Z"
   },
   {
    "duration": 1312,
    "start_time": "2023-08-02T07:46:17.834Z"
   },
   {
    "duration": 3,
    "start_time": "2023-08-02T07:46:19.148Z"
   },
   {
    "duration": 241,
    "start_time": "2023-08-02T07:46:19.153Z"
   },
   {
    "duration": 7,
    "start_time": "2023-08-02T07:46:19.396Z"
   },
   {
    "duration": 6,
    "start_time": "2023-08-02T07:46:19.405Z"
   },
   {
    "duration": 7,
    "start_time": "2023-08-02T07:46:19.412Z"
   },
   {
    "duration": 101,
    "start_time": "2023-08-02T07:46:19.421Z"
   },
   {
    "duration": 12,
    "start_time": "2023-08-02T07:46:19.523Z"
   },
   {
    "duration": 7,
    "start_time": "2023-08-02T07:46:19.537Z"
   },
   {
    "duration": 239,
    "start_time": "2023-08-02T07:46:19.546Z"
   },
   {
    "duration": 119,
    "start_time": "2023-08-02T07:46:19.788Z"
   },
   {
    "duration": 278,
    "start_time": "2023-08-02T07:46:19.909Z"
   },
   {
    "duration": 273,
    "start_time": "2023-08-02T07:46:20.189Z"
   },
   {
    "duration": 291,
    "start_time": "2023-08-02T07:46:20.464Z"
   },
   {
    "duration": 42,
    "start_time": "2023-08-02T07:46:20.757Z"
   },
   {
    "duration": 527,
    "start_time": "2023-08-02T07:46:20.801Z"
   },
   {
    "duration": 630,
    "start_time": "2023-08-02T07:46:21.330Z"
   },
   {
    "duration": 213,
    "start_time": "2023-08-02T07:46:21.962Z"
   },
   {
    "duration": 212,
    "start_time": "2023-08-02T07:46:22.177Z"
   },
   {
    "duration": 24,
    "start_time": "2023-08-02T07:46:22.391Z"
   },
   {
    "duration": 29,
    "start_time": "2023-08-02T07:46:22.416Z"
   },
   {
    "duration": 114,
    "start_time": "2023-08-02T07:46:22.447Z"
   },
   {
    "duration": 0,
    "start_time": "2023-08-02T07:46:22.563Z"
   },
   {
    "duration": 0,
    "start_time": "2023-08-02T07:46:22.565Z"
   },
   {
    "duration": 0,
    "start_time": "2023-08-02T07:46:22.567Z"
   },
   {
    "duration": 0,
    "start_time": "2023-08-02T07:46:22.568Z"
   },
   {
    "duration": 0,
    "start_time": "2023-08-02T07:46:22.569Z"
   },
   {
    "duration": 0,
    "start_time": "2023-08-02T07:46:22.570Z"
   },
   {
    "duration": 0,
    "start_time": "2023-08-02T07:46:22.571Z"
   },
   {
    "duration": 200,
    "start_time": "2023-08-02T07:47:22.491Z"
   },
   {
    "duration": 211,
    "start_time": "2023-08-02T07:49:50.305Z"
   },
   {
    "duration": 198,
    "start_time": "2023-08-02T07:50:25.915Z"
   },
   {
    "duration": 275,
    "start_time": "2023-08-02T07:57:04.635Z"
   },
   {
    "duration": 288,
    "start_time": "2023-08-02T08:13:50.347Z"
   },
   {
    "duration": 3023,
    "start_time": "2023-08-02T08:14:04.980Z"
   },
   {
    "duration": 7,
    "start_time": "2023-08-02T08:14:31.516Z"
   },
   {
    "duration": 480,
    "start_time": "2023-08-02T08:26:55.170Z"
   },
   {
    "duration": 193,
    "start_time": "2023-08-02T08:27:19.131Z"
   },
   {
    "duration": 7,
    "start_time": "2023-08-02T08:36:53.318Z"
   },
   {
    "duration": 8,
    "start_time": "2023-08-02T08:37:15.496Z"
   },
   {
    "duration": 4165,
    "start_time": "2023-08-02T08:53:00.123Z"
   },
   {
    "duration": 7,
    "start_time": "2023-08-02T08:53:16.422Z"
   },
   {
    "duration": 8,
    "start_time": "2023-08-02T08:54:21.487Z"
   },
   {
    "duration": 6,
    "start_time": "2023-08-02T08:54:44.463Z"
   },
   {
    "duration": 10,
    "start_time": "2023-08-02T09:05:04.802Z"
   },
   {
    "duration": 12,
    "start_time": "2023-08-02T09:11:22.485Z"
   },
   {
    "duration": 11,
    "start_time": "2023-08-02T09:11:45.150Z"
   },
   {
    "duration": 13,
    "start_time": "2023-08-02T09:14:33.495Z"
   },
   {
    "duration": 227,
    "start_time": "2023-08-02T09:21:47.447Z"
   },
   {
    "duration": 13,
    "start_time": "2023-08-02T09:28:47.141Z"
   },
   {
    "duration": 121,
    "start_time": "2023-08-02T09:31:09.406Z"
   },
   {
    "duration": 319,
    "start_time": "2023-08-02T09:31:44.334Z"
   },
   {
    "duration": 265,
    "start_time": "2023-08-02T09:32:15.432Z"
   },
   {
    "duration": 150,
    "start_time": "2023-08-02T09:39:11.496Z"
   },
   {
    "duration": 323,
    "start_time": "2023-08-02T09:39:16.089Z"
   },
   {
    "duration": 109,
    "start_time": "2023-08-02T10:12:01.984Z"
   },
   {
    "duration": 199,
    "start_time": "2023-08-02T10:12:18.768Z"
   },
   {
    "duration": 289,
    "start_time": "2023-08-02T10:12:29.201Z"
   },
   {
    "duration": 278,
    "start_time": "2023-08-02T10:13:30.849Z"
   },
   {
    "duration": 496,
    "start_time": "2023-08-02T10:19:59.818Z"
   },
   {
    "duration": 151,
    "start_time": "2023-08-02T10:23:08.781Z"
   },
   {
    "duration": 148,
    "start_time": "2023-08-02T10:23:23.173Z"
   },
   {
    "duration": 287,
    "start_time": "2023-08-02T10:23:52.965Z"
   },
   {
    "duration": 139,
    "start_time": "2023-08-02T10:25:03.478Z"
   },
   {
    "duration": 165,
    "start_time": "2023-08-02T10:38:12.460Z"
   },
   {
    "duration": 4,
    "start_time": "2023-08-02T10:38:18.270Z"
   },
   {
    "duration": 5,
    "start_time": "2023-08-02T10:38:18.276Z"
   },
   {
    "duration": 128,
    "start_time": "2023-08-02T10:38:18.283Z"
   },
   {
    "duration": 6,
    "start_time": "2023-08-02T10:38:18.413Z"
   },
   {
    "duration": 6,
    "start_time": "2023-08-02T10:38:18.420Z"
   },
   {
    "duration": 17,
    "start_time": "2023-08-02T10:38:18.428Z"
   },
   {
    "duration": 60,
    "start_time": "2023-08-02T10:38:18.447Z"
   },
   {
    "duration": 12,
    "start_time": "2023-08-02T10:38:18.509Z"
   },
   {
    "duration": 7,
    "start_time": "2023-08-02T10:38:18.524Z"
   },
   {
    "duration": 224,
    "start_time": "2023-08-02T10:38:18.533Z"
   },
   {
    "duration": 106,
    "start_time": "2023-08-02T10:38:18.759Z"
   },
   {
    "duration": 279,
    "start_time": "2023-08-02T10:38:18.866Z"
   },
   {
    "duration": 273,
    "start_time": "2023-08-02T10:38:19.146Z"
   },
   {
    "duration": 394,
    "start_time": "2023-08-02T10:38:19.421Z"
   },
   {
    "duration": 26,
    "start_time": "2023-08-02T10:38:19.817Z"
   },
   {
    "duration": 510,
    "start_time": "2023-08-02T10:38:19.846Z"
   },
   {
    "duration": 566,
    "start_time": "2023-08-02T10:38:20.358Z"
   },
   {
    "duration": 209,
    "start_time": "2023-08-02T10:38:20.925Z"
   },
   {
    "duration": 227,
    "start_time": "2023-08-02T10:38:21.135Z"
   },
   {
    "duration": 37,
    "start_time": "2023-08-02T10:38:21.364Z"
   },
   {
    "duration": 28,
    "start_time": "2023-08-02T10:38:21.402Z"
   },
   {
    "duration": 217,
    "start_time": "2023-08-02T10:38:21.432Z"
   },
   {
    "duration": 219,
    "start_time": "2023-08-02T10:38:21.651Z"
   },
   {
    "duration": 226,
    "start_time": "2023-08-02T10:38:21.873Z"
   },
   {
    "duration": 7,
    "start_time": "2023-08-02T10:38:22.102Z"
   },
   {
    "duration": 135,
    "start_time": "2023-08-02T10:38:22.111Z"
   },
   {
    "duration": 56,
    "start_time": "2023-08-02T10:38:22.247Z"
   },
   {
    "duration": 186,
    "start_time": "2023-08-02T10:38:22.306Z"
   },
   {
    "duration": 0,
    "start_time": "2023-08-02T10:38:22.494Z"
   },
   {
    "duration": 0,
    "start_time": "2023-08-02T10:38:22.495Z"
   },
   {
    "duration": 143,
    "start_time": "2023-08-02T10:41:13.645Z"
   },
   {
    "duration": 319,
    "start_time": "2023-08-02T10:41:16.165Z"
   },
   {
    "duration": 232,
    "start_time": "2023-08-02T10:41:34.758Z"
   },
   {
    "duration": 284,
    "start_time": "2023-08-02T10:46:23.367Z"
   },
   {
    "duration": 190,
    "start_time": "2023-08-02T10:48:37.889Z"
   },
   {
    "duration": 171,
    "start_time": "2023-08-02T10:50:24.074Z"
   },
   {
    "duration": 194,
    "start_time": "2023-08-02T10:50:35.346Z"
   },
   {
    "duration": 223,
    "start_time": "2023-08-02T10:50:48.106Z"
   },
   {
    "duration": 181,
    "start_time": "2023-08-02T10:53:46.595Z"
   },
   {
    "duration": 212,
    "start_time": "2023-08-02T10:53:56.323Z"
   },
   {
    "duration": 436,
    "start_time": "2023-08-02T10:57:43.992Z"
   },
   {
    "duration": 152,
    "start_time": "2023-08-02T11:02:56.103Z"
   },
   {
    "duration": 145,
    "start_time": "2023-08-02T11:03:06.920Z"
   },
   {
    "duration": 192,
    "start_time": "2023-08-02T11:03:16.672Z"
   },
   {
    "duration": 178,
    "start_time": "2023-08-02T11:06:20.497Z"
   },
   {
    "duration": 176,
    "start_time": "2023-08-02T11:06:37.434Z"
   },
   {
    "duration": 296,
    "start_time": "2023-08-02T11:06:50.532Z"
   },
   {
    "duration": 182,
    "start_time": "2023-08-02T11:06:57.505Z"
   },
   {
    "duration": 14,
    "start_time": "2023-08-02T11:07:18.978Z"
   },
   {
    "duration": 13,
    "start_time": "2023-08-02T11:07:23.777Z"
   },
   {
    "duration": 185,
    "start_time": "2023-08-02T11:07:34.377Z"
   },
   {
    "duration": 13,
    "start_time": "2023-08-02T11:07:41.331Z"
   },
   {
    "duration": 193,
    "start_time": "2023-08-02T11:07:49.831Z"
   },
   {
    "duration": 187,
    "start_time": "2023-08-02T11:07:58.090Z"
   },
   {
    "duration": 177,
    "start_time": "2023-08-02T11:08:17.162Z"
   },
   {
    "duration": 164,
    "start_time": "2023-08-02T11:08:32.540Z"
   },
   {
    "duration": 165,
    "start_time": "2023-08-02T11:08:45.099Z"
   },
   {
    "duration": 214,
    "start_time": "2023-08-02T11:09:04.746Z"
   },
   {
    "duration": 150,
    "start_time": "2023-08-02T11:09:46.843Z"
   },
   {
    "duration": 14,
    "start_time": "2023-08-02T11:09:52.851Z"
   },
   {
    "duration": 153,
    "start_time": "2023-08-02T11:10:07.019Z"
   },
   {
    "duration": 195,
    "start_time": "2023-08-02T11:10:21.467Z"
   },
   {
    "duration": 316,
    "start_time": "2023-08-02T11:12:29.045Z"
   },
   {
    "duration": 408,
    "start_time": "2023-08-02T11:12:39.541Z"
   },
   {
    "duration": 315,
    "start_time": "2023-08-02T11:12:48.965Z"
   },
   {
    "duration": 348,
    "start_time": "2023-08-02T11:12:55.795Z"
   },
   {
    "duration": 344,
    "start_time": "2023-08-02T11:13:10.493Z"
   },
   {
    "duration": 193,
    "start_time": "2023-08-02T11:14:33.397Z"
   },
   {
    "duration": 176,
    "start_time": "2023-08-02T11:14:41.198Z"
   },
   {
    "duration": 195,
    "start_time": "2023-08-02T11:14:50.532Z"
   },
   {
    "duration": 176,
    "start_time": "2023-08-02T11:14:56.565Z"
   },
   {
    "duration": 157,
    "start_time": "2023-08-02T11:16:35.582Z"
   },
   {
    "duration": 159,
    "start_time": "2023-08-02T11:16:45.894Z"
   },
   {
    "duration": 178,
    "start_time": "2023-08-02T11:16:50.150Z"
   },
   {
    "duration": 185,
    "start_time": "2023-08-02T11:40:15.152Z"
   },
   {
    "duration": 369,
    "start_time": "2023-08-02T12:24:44.650Z"
   },
   {
    "duration": 219,
    "start_time": "2023-08-02T12:25:05.627Z"
   },
   {
    "duration": 216,
    "start_time": "2023-08-02T12:25:23.763Z"
   },
   {
    "duration": 4,
    "start_time": "2023-08-02T12:52:00.914Z"
   },
   {
    "duration": 54,
    "start_time": "2023-08-02T12:52:00.920Z"
   },
   {
    "duration": 158,
    "start_time": "2023-08-02T12:52:00.976Z"
   },
   {
    "duration": 7,
    "start_time": "2023-08-02T12:52:01.137Z"
   },
   {
    "duration": 48,
    "start_time": "2023-08-02T12:52:01.146Z"
   },
   {
    "duration": 23,
    "start_time": "2023-08-02T12:52:01.196Z"
   },
   {
    "duration": 69,
    "start_time": "2023-08-02T12:52:01.221Z"
   },
   {
    "duration": 34,
    "start_time": "2023-08-02T12:52:01.292Z"
   },
   {
    "duration": 23,
    "start_time": "2023-08-02T12:52:01.329Z"
   },
   {
    "duration": 226,
    "start_time": "2023-08-02T12:52:01.354Z"
   },
   {
    "duration": 113,
    "start_time": "2023-08-02T12:52:01.582Z"
   },
   {
    "duration": 286,
    "start_time": "2023-08-02T12:52:01.697Z"
   },
   {
    "duration": 252,
    "start_time": "2023-08-02T12:52:01.985Z"
   },
   {
    "duration": 309,
    "start_time": "2023-08-02T12:52:02.238Z"
   },
   {
    "duration": 26,
    "start_time": "2023-08-02T12:52:02.549Z"
   },
   {
    "duration": 507,
    "start_time": "2023-08-02T12:52:02.588Z"
   },
   {
    "duration": 619,
    "start_time": "2023-08-02T12:52:03.097Z"
   },
   {
    "duration": 201,
    "start_time": "2023-08-02T12:52:03.717Z"
   },
   {
    "duration": 223,
    "start_time": "2023-08-02T12:52:03.920Z"
   },
   {
    "duration": 20,
    "start_time": "2023-08-02T12:52:04.145Z"
   },
   {
    "duration": 40,
    "start_time": "2023-08-02T12:52:04.167Z"
   },
   {
    "duration": 208,
    "start_time": "2023-08-02T12:52:04.208Z"
   },
   {
    "duration": 218,
    "start_time": "2023-08-02T12:52:04.418Z"
   },
   {
    "duration": 264,
    "start_time": "2023-08-02T12:52:04.640Z"
   },
   {
    "duration": 9,
    "start_time": "2023-08-02T12:52:04.907Z"
   },
   {
    "duration": 9,
    "start_time": "2023-08-02T12:52:04.918Z"
   },
   {
    "duration": 16,
    "start_time": "2023-08-02T12:52:04.929Z"
   },
   {
    "duration": 491,
    "start_time": "2023-08-02T12:52:04.947Z"
   },
   {
    "duration": 193,
    "start_time": "2023-08-02T12:52:05.440Z"
   },
   {
    "duration": 1212,
    "start_time": "2023-08-02T12:52:21.604Z"
   },
   {
    "duration": 3,
    "start_time": "2023-08-02T12:52:22.817Z"
   },
   {
    "duration": 143,
    "start_time": "2023-08-02T12:52:22.821Z"
   },
   {
    "duration": 6,
    "start_time": "2023-08-02T12:52:22.966Z"
   },
   {
    "duration": 85,
    "start_time": "2023-08-02T12:52:22.974Z"
   },
   {
    "duration": 33,
    "start_time": "2023-08-02T12:52:23.060Z"
   },
   {
    "duration": 105,
    "start_time": "2023-08-02T12:52:23.094Z"
   },
   {
    "duration": 28,
    "start_time": "2023-08-02T12:52:23.201Z"
   },
   {
    "duration": 25,
    "start_time": "2023-08-02T12:52:23.230Z"
   },
   {
    "duration": 241,
    "start_time": "2023-08-02T12:52:23.258Z"
   },
   {
    "duration": 122,
    "start_time": "2023-08-02T12:52:23.501Z"
   },
   {
    "duration": 277,
    "start_time": "2023-08-02T12:52:23.625Z"
   },
   {
    "duration": 253,
    "start_time": "2023-08-02T12:52:23.903Z"
   },
   {
    "duration": 303,
    "start_time": "2023-08-02T12:52:24.158Z"
   },
   {
    "duration": 40,
    "start_time": "2023-08-02T12:52:24.463Z"
   },
   {
    "duration": 605,
    "start_time": "2023-08-02T12:52:24.505Z"
   },
   {
    "duration": 643,
    "start_time": "2023-08-02T12:52:25.112Z"
   },
   {
    "duration": 207,
    "start_time": "2023-08-02T12:52:25.757Z"
   },
   {
    "duration": 216,
    "start_time": "2023-08-02T12:52:25.966Z"
   },
   {
    "duration": 23,
    "start_time": "2023-08-02T12:52:26.184Z"
   },
   {
    "duration": 47,
    "start_time": "2023-08-02T12:52:26.209Z"
   },
   {
    "duration": 253,
    "start_time": "2023-08-02T12:52:26.257Z"
   },
   {
    "duration": 219,
    "start_time": "2023-08-02T12:52:26.511Z"
   },
   {
    "duration": 209,
    "start_time": "2023-08-02T12:52:26.733Z"
   },
   {
    "duration": 8,
    "start_time": "2023-08-02T12:52:26.944Z"
   },
   {
    "duration": 82,
    "start_time": "2023-08-02T12:52:26.953Z"
   },
   {
    "duration": 91,
    "start_time": "2023-08-02T12:52:27.038Z"
   },
   {
    "duration": 698,
    "start_time": "2023-08-02T12:52:27.134Z"
   },
   {
    "duration": 191,
    "start_time": "2023-08-02T12:52:27.834Z"
   },
   {
    "duration": 1272,
    "start_time": "2023-08-02T18:15:22.378Z"
   },
   {
    "duration": 3,
    "start_time": "2023-08-02T18:15:23.652Z"
   },
   {
    "duration": 308,
    "start_time": "2023-08-02T18:15:23.657Z"
   },
   {
    "duration": 7,
    "start_time": "2023-08-02T18:15:23.967Z"
   },
   {
    "duration": 5,
    "start_time": "2023-08-02T18:15:23.976Z"
   },
   {
    "duration": 18,
    "start_time": "2023-08-02T18:15:23.983Z"
   },
   {
    "duration": 97,
    "start_time": "2023-08-02T18:15:24.014Z"
   },
   {
    "duration": 13,
    "start_time": "2023-08-02T18:15:24.118Z"
   },
   {
    "duration": 15,
    "start_time": "2023-08-02T18:15:24.133Z"
   },
   {
    "duration": 187,
    "start_time": "2023-08-02T18:15:24.150Z"
   },
   {
    "duration": 115,
    "start_time": "2023-08-02T18:15:24.339Z"
   },
   {
    "duration": 265,
    "start_time": "2023-08-02T18:15:24.456Z"
   },
   {
    "duration": 252,
    "start_time": "2023-08-02T18:15:24.723Z"
   },
   {
    "duration": 288,
    "start_time": "2023-08-02T18:15:24.976Z"
   },
   {
    "duration": 38,
    "start_time": "2023-08-02T18:15:25.266Z"
   },
   {
    "duration": 514,
    "start_time": "2023-08-02T18:15:25.306Z"
   },
   {
    "duration": 610,
    "start_time": "2023-08-02T18:15:25.821Z"
   },
   {
    "duration": 292,
    "start_time": "2023-08-02T18:15:26.434Z"
   },
   {
    "duration": 197,
    "start_time": "2023-08-02T18:15:26.728Z"
   },
   {
    "duration": 21,
    "start_time": "2023-08-02T18:15:26.927Z"
   },
   {
    "duration": 67,
    "start_time": "2023-08-02T18:15:26.951Z"
   },
   {
    "duration": 207,
    "start_time": "2023-08-02T18:15:27.020Z"
   },
   {
    "duration": 197,
    "start_time": "2023-08-02T18:15:27.229Z"
   },
   {
    "duration": 211,
    "start_time": "2023-08-02T18:15:27.428Z"
   },
   {
    "duration": 8,
    "start_time": "2023-08-02T18:15:27.641Z"
   },
   {
    "duration": 9,
    "start_time": "2023-08-02T18:15:27.651Z"
   },
   {
    "duration": 17,
    "start_time": "2023-08-02T18:15:27.661Z"
   },
   {
    "duration": 425,
    "start_time": "2023-08-02T18:15:27.705Z"
   },
   {
    "duration": 192,
    "start_time": "2023-08-02T18:15:28.132Z"
   },
   {
    "duration": 5,
    "start_time": "2023-08-02T18:19:01.359Z"
   }
  ],
  "kernelspec": {
   "display_name": "Python 3 (ipykernel)",
   "language": "python",
   "name": "python3"
  },
  "language_info": {
   "codemirror_mode": {
    "name": "ipython",
    "version": 3
   },
   "file_extension": ".py",
   "mimetype": "text/x-python",
   "name": "python",
   "nbconvert_exporter": "python",
   "pygments_lexer": "ipython3",
   "version": "3.11.4"
  },
  "toc": {
   "base_numbering": 1,
   "nav_menu": {},
   "number_sections": true,
   "sideBar": true,
   "skip_h1_title": true,
   "title_cell": "Table of Contents",
   "title_sidebar": "Contents",
   "toc_cell": false,
   "toc_position": {},
   "toc_section_display": true,
   "toc_window_display": false
  }
 },
 "nbformat": 4,
 "nbformat_minor": 5
}
