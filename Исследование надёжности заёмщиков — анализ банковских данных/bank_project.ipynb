{
 "cells": [
  {
   "cell_type": "markdown",
   "id": "386f2ae7",
   "metadata": {
    "deletable": false,
    "editable": false,
    "id": "386f2ae7"
   },
   "source": [
    "# Исследование надежности заемщиков\n"
   ]
  },
  {
   "cell_type": "markdown",
   "id": "ffe86f65",
   "metadata": {
    "deletable": false,
    "editable": false,
    "id": "ffe86f65"
   },
   "source": [
    "Во второй части проекта вы выполните шаги 3 и 4. Их вручную проверит ревьюер.\n",
    "Чтобы вам не пришлось писать код заново для шагов 1 и 2, мы добавили авторские решения в ячейки с кодом. \n",
    "\n"
   ]
  },
  {
   "cell_type": "markdown",
   "id": "26613308",
   "metadata": {
    "deletable": false,
    "editable": false,
    "id": "26613308"
   },
   "source": [
    "## Откройте таблицу и изучите общую информацию о данных"
   ]
  },
  {
   "cell_type": "markdown",
   "id": "3c9f838e",
   "metadata": {
    "deletable": false,
    "editable": false,
    "id": "3c9f838e"
   },
   "source": [
    "**Задание 1. Импортируйте библиотеку pandas. Считайте данные из csv-файла в датафрейм и сохраните в переменную `data`. Путь к файлу:**\n",
    "\n",
    "`/datasets/data.csv`"
   ]
  },
  {
   "cell_type": "code",
   "execution_count": 1,
   "id": "77a68a90",
   "metadata": {
    "deletable": false,
    "id": "77a68a90"
   },
   "outputs": [],
   "source": [
    "import pandas as pd\n",
    "\n",
    "try:\n",
    "    data = pd.read_csv('/datasets/data.csv')\n",
    "except:\n",
    "    data = pd.read_csv('https://code.s3.yandex.net/datasets/data.csv')"
   ]
  },
  {
   "cell_type": "markdown",
   "id": "45365635",
   "metadata": {
    "deletable": false,
    "editable": false,
    "id": "45365635"
   },
   "source": [
    "**Задание 2. Выведите первые 20 строчек датафрейма `data` на экран.**"
   ]
  },
  {
   "cell_type": "code",
   "execution_count": 2,
   "id": "b0451a9a",
   "metadata": {
    "deletable": false,
    "id": "b0451a9a",
    "outputId": "1a8f3ef2-d323-4ec2-ddf7-89670b5944c4"
   },
   "outputs": [
    {
     "data": {
      "text/html": [
       "<div>\n",
       "<style scoped>\n",
       "    .dataframe tbody tr th:only-of-type {\n",
       "        vertical-align: middle;\n",
       "    }\n",
       "\n",
       "    .dataframe tbody tr th {\n",
       "        vertical-align: top;\n",
       "    }\n",
       "\n",
       "    .dataframe thead th {\n",
       "        text-align: right;\n",
       "    }\n",
       "</style>\n",
       "<table border=\"1\" class=\"dataframe\">\n",
       "  <thead>\n",
       "    <tr style=\"text-align: right;\">\n",
       "      <th></th>\n",
       "      <th>children</th>\n",
       "      <th>days_employed</th>\n",
       "      <th>dob_years</th>\n",
       "      <th>education</th>\n",
       "      <th>education_id</th>\n",
       "      <th>family_status</th>\n",
       "      <th>family_status_id</th>\n",
       "      <th>gender</th>\n",
       "      <th>income_type</th>\n",
       "      <th>debt</th>\n",
       "      <th>total_income</th>\n",
       "      <th>purpose</th>\n",
       "    </tr>\n",
       "  </thead>\n",
       "  <tbody>\n",
       "    <tr>\n",
       "      <th>0</th>\n",
       "      <td>1</td>\n",
       "      <td>-8437.673028</td>\n",
       "      <td>42</td>\n",
       "      <td>высшее</td>\n",
       "      <td>0</td>\n",
       "      <td>женат / замужем</td>\n",
       "      <td>0</td>\n",
       "      <td>F</td>\n",
       "      <td>сотрудник</td>\n",
       "      <td>0</td>\n",
       "      <td>253875.639453</td>\n",
       "      <td>покупка жилья</td>\n",
       "    </tr>\n",
       "    <tr>\n",
       "      <th>1</th>\n",
       "      <td>1</td>\n",
       "      <td>-4024.803754</td>\n",
       "      <td>36</td>\n",
       "      <td>среднее</td>\n",
       "      <td>1</td>\n",
       "      <td>женат / замужем</td>\n",
       "      <td>0</td>\n",
       "      <td>F</td>\n",
       "      <td>сотрудник</td>\n",
       "      <td>0</td>\n",
       "      <td>112080.014102</td>\n",
       "      <td>приобретение автомобиля</td>\n",
       "    </tr>\n",
       "    <tr>\n",
       "      <th>2</th>\n",
       "      <td>0</td>\n",
       "      <td>-5623.422610</td>\n",
       "      <td>33</td>\n",
       "      <td>Среднее</td>\n",
       "      <td>1</td>\n",
       "      <td>женат / замужем</td>\n",
       "      <td>0</td>\n",
       "      <td>M</td>\n",
       "      <td>сотрудник</td>\n",
       "      <td>0</td>\n",
       "      <td>145885.952297</td>\n",
       "      <td>покупка жилья</td>\n",
       "    </tr>\n",
       "    <tr>\n",
       "      <th>3</th>\n",
       "      <td>3</td>\n",
       "      <td>-4124.747207</td>\n",
       "      <td>32</td>\n",
       "      <td>среднее</td>\n",
       "      <td>1</td>\n",
       "      <td>женат / замужем</td>\n",
       "      <td>0</td>\n",
       "      <td>M</td>\n",
       "      <td>сотрудник</td>\n",
       "      <td>0</td>\n",
       "      <td>267628.550329</td>\n",
       "      <td>дополнительное образование</td>\n",
       "    </tr>\n",
       "    <tr>\n",
       "      <th>4</th>\n",
       "      <td>0</td>\n",
       "      <td>340266.072047</td>\n",
       "      <td>53</td>\n",
       "      <td>среднее</td>\n",
       "      <td>1</td>\n",
       "      <td>гражданский брак</td>\n",
       "      <td>1</td>\n",
       "      <td>F</td>\n",
       "      <td>пенсионер</td>\n",
       "      <td>0</td>\n",
       "      <td>158616.077870</td>\n",
       "      <td>сыграть свадьбу</td>\n",
       "    </tr>\n",
       "    <tr>\n",
       "      <th>5</th>\n",
       "      <td>0</td>\n",
       "      <td>-926.185831</td>\n",
       "      <td>27</td>\n",
       "      <td>высшее</td>\n",
       "      <td>0</td>\n",
       "      <td>гражданский брак</td>\n",
       "      <td>1</td>\n",
       "      <td>M</td>\n",
       "      <td>компаньон</td>\n",
       "      <td>0</td>\n",
       "      <td>255763.565419</td>\n",
       "      <td>покупка жилья</td>\n",
       "    </tr>\n",
       "    <tr>\n",
       "      <th>6</th>\n",
       "      <td>0</td>\n",
       "      <td>-2879.202052</td>\n",
       "      <td>43</td>\n",
       "      <td>высшее</td>\n",
       "      <td>0</td>\n",
       "      <td>женат / замужем</td>\n",
       "      <td>0</td>\n",
       "      <td>F</td>\n",
       "      <td>компаньон</td>\n",
       "      <td>0</td>\n",
       "      <td>240525.971920</td>\n",
       "      <td>операции с жильем</td>\n",
       "    </tr>\n",
       "    <tr>\n",
       "      <th>7</th>\n",
       "      <td>0</td>\n",
       "      <td>-152.779569</td>\n",
       "      <td>50</td>\n",
       "      <td>СРЕДНЕЕ</td>\n",
       "      <td>1</td>\n",
       "      <td>женат / замужем</td>\n",
       "      <td>0</td>\n",
       "      <td>M</td>\n",
       "      <td>сотрудник</td>\n",
       "      <td>0</td>\n",
       "      <td>135823.934197</td>\n",
       "      <td>образование</td>\n",
       "    </tr>\n",
       "    <tr>\n",
       "      <th>8</th>\n",
       "      <td>2</td>\n",
       "      <td>-6929.865299</td>\n",
       "      <td>35</td>\n",
       "      <td>ВЫСШЕЕ</td>\n",
       "      <td>0</td>\n",
       "      <td>гражданский брак</td>\n",
       "      <td>1</td>\n",
       "      <td>F</td>\n",
       "      <td>сотрудник</td>\n",
       "      <td>0</td>\n",
       "      <td>95856.832424</td>\n",
       "      <td>на проведение свадьбы</td>\n",
       "    </tr>\n",
       "    <tr>\n",
       "      <th>9</th>\n",
       "      <td>0</td>\n",
       "      <td>-2188.756445</td>\n",
       "      <td>41</td>\n",
       "      <td>среднее</td>\n",
       "      <td>1</td>\n",
       "      <td>женат / замужем</td>\n",
       "      <td>0</td>\n",
       "      <td>M</td>\n",
       "      <td>сотрудник</td>\n",
       "      <td>0</td>\n",
       "      <td>144425.938277</td>\n",
       "      <td>покупка жилья для семьи</td>\n",
       "    </tr>\n",
       "    <tr>\n",
       "      <th>10</th>\n",
       "      <td>2</td>\n",
       "      <td>-4171.483647</td>\n",
       "      <td>36</td>\n",
       "      <td>высшее</td>\n",
       "      <td>0</td>\n",
       "      <td>женат / замужем</td>\n",
       "      <td>0</td>\n",
       "      <td>M</td>\n",
       "      <td>компаньон</td>\n",
       "      <td>0</td>\n",
       "      <td>113943.491460</td>\n",
       "      <td>покупка недвижимости</td>\n",
       "    </tr>\n",
       "    <tr>\n",
       "      <th>11</th>\n",
       "      <td>0</td>\n",
       "      <td>-792.701887</td>\n",
       "      <td>40</td>\n",
       "      <td>среднее</td>\n",
       "      <td>1</td>\n",
       "      <td>женат / замужем</td>\n",
       "      <td>0</td>\n",
       "      <td>F</td>\n",
       "      <td>сотрудник</td>\n",
       "      <td>0</td>\n",
       "      <td>77069.234271</td>\n",
       "      <td>покупка коммерческой недвижимости</td>\n",
       "    </tr>\n",
       "    <tr>\n",
       "      <th>12</th>\n",
       "      <td>0</td>\n",
       "      <td>NaN</td>\n",
       "      <td>65</td>\n",
       "      <td>среднее</td>\n",
       "      <td>1</td>\n",
       "      <td>гражданский брак</td>\n",
       "      <td>1</td>\n",
       "      <td>M</td>\n",
       "      <td>пенсионер</td>\n",
       "      <td>0</td>\n",
       "      <td>NaN</td>\n",
       "      <td>сыграть свадьбу</td>\n",
       "    </tr>\n",
       "    <tr>\n",
       "      <th>13</th>\n",
       "      <td>0</td>\n",
       "      <td>-1846.641941</td>\n",
       "      <td>54</td>\n",
       "      <td>неоконченное высшее</td>\n",
       "      <td>2</td>\n",
       "      <td>женат / замужем</td>\n",
       "      <td>0</td>\n",
       "      <td>F</td>\n",
       "      <td>сотрудник</td>\n",
       "      <td>0</td>\n",
       "      <td>130458.228857</td>\n",
       "      <td>приобретение автомобиля</td>\n",
       "    </tr>\n",
       "    <tr>\n",
       "      <th>14</th>\n",
       "      <td>0</td>\n",
       "      <td>-1844.956182</td>\n",
       "      <td>56</td>\n",
       "      <td>высшее</td>\n",
       "      <td>0</td>\n",
       "      <td>гражданский брак</td>\n",
       "      <td>1</td>\n",
       "      <td>F</td>\n",
       "      <td>компаньон</td>\n",
       "      <td>1</td>\n",
       "      <td>165127.911772</td>\n",
       "      <td>покупка жилой недвижимости</td>\n",
       "    </tr>\n",
       "    <tr>\n",
       "      <th>15</th>\n",
       "      <td>1</td>\n",
       "      <td>-972.364419</td>\n",
       "      <td>26</td>\n",
       "      <td>среднее</td>\n",
       "      <td>1</td>\n",
       "      <td>женат / замужем</td>\n",
       "      <td>0</td>\n",
       "      <td>F</td>\n",
       "      <td>сотрудник</td>\n",
       "      <td>0</td>\n",
       "      <td>116820.904450</td>\n",
       "      <td>строительство собственной недвижимости</td>\n",
       "    </tr>\n",
       "    <tr>\n",
       "      <th>16</th>\n",
       "      <td>0</td>\n",
       "      <td>-1719.934226</td>\n",
       "      <td>35</td>\n",
       "      <td>среднее</td>\n",
       "      <td>1</td>\n",
       "      <td>женат / замужем</td>\n",
       "      <td>0</td>\n",
       "      <td>F</td>\n",
       "      <td>сотрудник</td>\n",
       "      <td>0</td>\n",
       "      <td>289202.704229</td>\n",
       "      <td>недвижимость</td>\n",
       "    </tr>\n",
       "    <tr>\n",
       "      <th>17</th>\n",
       "      <td>0</td>\n",
       "      <td>-2369.999720</td>\n",
       "      <td>33</td>\n",
       "      <td>высшее</td>\n",
       "      <td>0</td>\n",
       "      <td>гражданский брак</td>\n",
       "      <td>1</td>\n",
       "      <td>M</td>\n",
       "      <td>сотрудник</td>\n",
       "      <td>0</td>\n",
       "      <td>90410.586745</td>\n",
       "      <td>строительство недвижимости</td>\n",
       "    </tr>\n",
       "    <tr>\n",
       "      <th>18</th>\n",
       "      <td>0</td>\n",
       "      <td>400281.136913</td>\n",
       "      <td>53</td>\n",
       "      <td>среднее</td>\n",
       "      <td>1</td>\n",
       "      <td>вдовец / вдова</td>\n",
       "      <td>2</td>\n",
       "      <td>F</td>\n",
       "      <td>пенсионер</td>\n",
       "      <td>0</td>\n",
       "      <td>56823.777243</td>\n",
       "      <td>на покупку подержанного автомобиля</td>\n",
       "    </tr>\n",
       "    <tr>\n",
       "      <th>19</th>\n",
       "      <td>0</td>\n",
       "      <td>-10038.818549</td>\n",
       "      <td>48</td>\n",
       "      <td>СРЕДНЕЕ</td>\n",
       "      <td>1</td>\n",
       "      <td>в разводе</td>\n",
       "      <td>3</td>\n",
       "      <td>F</td>\n",
       "      <td>сотрудник</td>\n",
       "      <td>0</td>\n",
       "      <td>242831.107982</td>\n",
       "      <td>на покупку своего автомобиля</td>\n",
       "    </tr>\n",
       "  </tbody>\n",
       "</table>\n",
       "</div>"
      ],
      "text/plain": [
       "    children  days_employed  dob_years            education  education_id  \\\n",
       "0          1   -8437.673028         42               высшее             0   \n",
       "1          1   -4024.803754         36              среднее             1   \n",
       "2          0   -5623.422610         33              Среднее             1   \n",
       "3          3   -4124.747207         32              среднее             1   \n",
       "4          0  340266.072047         53              среднее             1   \n",
       "5          0    -926.185831         27               высшее             0   \n",
       "6          0   -2879.202052         43               высшее             0   \n",
       "7          0    -152.779569         50              СРЕДНЕЕ             1   \n",
       "8          2   -6929.865299         35               ВЫСШЕЕ             0   \n",
       "9          0   -2188.756445         41              среднее             1   \n",
       "10         2   -4171.483647         36               высшее             0   \n",
       "11         0    -792.701887         40              среднее             1   \n",
       "12         0            NaN         65              среднее             1   \n",
       "13         0   -1846.641941         54  неоконченное высшее             2   \n",
       "14         0   -1844.956182         56               высшее             0   \n",
       "15         1    -972.364419         26              среднее             1   \n",
       "16         0   -1719.934226         35              среднее             1   \n",
       "17         0   -2369.999720         33               высшее             0   \n",
       "18         0  400281.136913         53              среднее             1   \n",
       "19         0  -10038.818549         48              СРЕДНЕЕ             1   \n",
       "\n",
       "       family_status  family_status_id gender income_type  debt  \\\n",
       "0    женат / замужем                 0      F   сотрудник     0   \n",
       "1    женат / замужем                 0      F   сотрудник     0   \n",
       "2    женат / замужем                 0      M   сотрудник     0   \n",
       "3    женат / замужем                 0      M   сотрудник     0   \n",
       "4   гражданский брак                 1      F   пенсионер     0   \n",
       "5   гражданский брак                 1      M   компаньон     0   \n",
       "6    женат / замужем                 0      F   компаньон     0   \n",
       "7    женат / замужем                 0      M   сотрудник     0   \n",
       "8   гражданский брак                 1      F   сотрудник     0   \n",
       "9    женат / замужем                 0      M   сотрудник     0   \n",
       "10   женат / замужем                 0      M   компаньон     0   \n",
       "11   женат / замужем                 0      F   сотрудник     0   \n",
       "12  гражданский брак                 1      M   пенсионер     0   \n",
       "13   женат / замужем                 0      F   сотрудник     0   \n",
       "14  гражданский брак                 1      F   компаньон     1   \n",
       "15   женат / замужем                 0      F   сотрудник     0   \n",
       "16   женат / замужем                 0      F   сотрудник     0   \n",
       "17  гражданский брак                 1      M   сотрудник     0   \n",
       "18    вдовец / вдова                 2      F   пенсионер     0   \n",
       "19         в разводе                 3      F   сотрудник     0   \n",
       "\n",
       "     total_income                                 purpose  \n",
       "0   253875.639453                           покупка жилья  \n",
       "1   112080.014102                 приобретение автомобиля  \n",
       "2   145885.952297                           покупка жилья  \n",
       "3   267628.550329              дополнительное образование  \n",
       "4   158616.077870                         сыграть свадьбу  \n",
       "5   255763.565419                           покупка жилья  \n",
       "6   240525.971920                       операции с жильем  \n",
       "7   135823.934197                             образование  \n",
       "8    95856.832424                   на проведение свадьбы  \n",
       "9   144425.938277                 покупка жилья для семьи  \n",
       "10  113943.491460                    покупка недвижимости  \n",
       "11   77069.234271       покупка коммерческой недвижимости  \n",
       "12            NaN                         сыграть свадьбу  \n",
       "13  130458.228857                 приобретение автомобиля  \n",
       "14  165127.911772              покупка жилой недвижимости  \n",
       "15  116820.904450  строительство собственной недвижимости  \n",
       "16  289202.704229                            недвижимость  \n",
       "17   90410.586745              строительство недвижимости  \n",
       "18   56823.777243      на покупку подержанного автомобиля  \n",
       "19  242831.107982            на покупку своего автомобиля  "
      ]
     },
     "execution_count": 2,
     "metadata": {},
     "output_type": "execute_result"
    }
   ],
   "source": [
    "data.head(20)"
   ]
  },
  {
   "cell_type": "markdown",
   "id": "0ed8f27f",
   "metadata": {
    "deletable": false,
    "editable": false,
    "id": "0ed8f27f"
   },
   "source": [
    "**Задание 3. Выведите основную информацию о датафрейме с помощью метода `info()`.**"
   ]
  },
  {
   "cell_type": "code",
   "execution_count": 3,
   "id": "ab3f863b",
   "metadata": {
    "deletable": false,
    "id": "ab3f863b",
    "outputId": "15376089-8dad-46c9-b520-c05248d43158"
   },
   "outputs": [
    {
     "name": "stdout",
     "output_type": "stream",
     "text": [
      "<class 'pandas.core.frame.DataFrame'>\n",
      "RangeIndex: 21525 entries, 0 to 21524\n",
      "Data columns (total 12 columns):\n",
      " #   Column            Non-Null Count  Dtype  \n",
      "---  ------            --------------  -----  \n",
      " 0   children          21525 non-null  int64  \n",
      " 1   days_employed     19351 non-null  float64\n",
      " 2   dob_years         21525 non-null  int64  \n",
      " 3   education         21525 non-null  object \n",
      " 4   education_id      21525 non-null  int64  \n",
      " 5   family_status     21525 non-null  object \n",
      " 6   family_status_id  21525 non-null  int64  \n",
      " 7   gender            21525 non-null  object \n",
      " 8   income_type       21525 non-null  object \n",
      " 9   debt              21525 non-null  int64  \n",
      " 10  total_income      19351 non-null  float64\n",
      " 11  purpose           21525 non-null  object \n",
      "dtypes: float64(2), int64(5), object(5)\n",
      "memory usage: 2.0+ MB\n"
     ]
    }
   ],
   "source": [
    "data.info()"
   ]
  },
  {
   "cell_type": "markdown",
   "id": "60e3e22d",
   "metadata": {
    "deletable": false,
    "editable": false,
    "id": "60e3e22d"
   },
   "source": [
    "## Предобработка данных"
   ]
  },
  {
   "cell_type": "markdown",
   "id": "03dc170c",
   "metadata": {
    "deletable": false,
    "editable": false,
    "id": "03dc170c"
   },
   "source": [
    "### Удаление пропусков"
   ]
  },
  {
   "cell_type": "markdown",
   "id": "a4f54eef",
   "metadata": {
    "deletable": false,
    "editable": false,
    "id": "a4f54eef"
   },
   "source": [
    "**Задание 4. Выведите количество пропущенных значений для каждого столбца. Используйте комбинацию двух методов.**"
   ]
  },
  {
   "cell_type": "code",
   "execution_count": 4,
   "id": "2dc372b2",
   "metadata": {
    "deletable": false,
    "id": "2dc372b2",
    "outputId": "81f4d817-781c-465c-ed15-91ce4446810d"
   },
   "outputs": [
    {
     "data": {
      "text/plain": [
       "children               0\n",
       "days_employed       2174\n",
       "dob_years              0\n",
       "education              0\n",
       "education_id           0\n",
       "family_status          0\n",
       "family_status_id       0\n",
       "gender                 0\n",
       "income_type            0\n",
       "debt                   0\n",
       "total_income        2174\n",
       "purpose                0\n",
       "dtype: int64"
      ]
     },
     "execution_count": 4,
     "metadata": {},
     "output_type": "execute_result"
    }
   ],
   "source": [
    "data.isna().sum()"
   ]
  },
  {
   "cell_type": "markdown",
   "id": "14f011b1",
   "metadata": {
    "deletable": false,
    "editable": false,
    "id": "14f011b1"
   },
   "source": [
    "**Задание 5. В двух столбцах есть пропущенные значения. Один из них — `days_employed`. Пропуски в этом столбце вы обработаете на следующем этапе. Другой столбец с пропущенными значениями — `total_income` — хранит данные о доходах. На сумму дохода сильнее всего влияет тип занятости, поэтому заполнить пропуски в этом столбце нужно медианным значением по каждому типу из столбца `income_type`. Например, у человека с типом занятости `сотрудник` пропуск в столбце `total_income` должен быть заполнен медианным доходом среди всех записей с тем же типом.**"
   ]
  },
  {
   "cell_type": "code",
   "execution_count": 5,
   "id": "bdabfb6e",
   "metadata": {
    "deletable": false,
    "id": "bdabfb6e"
   },
   "outputs": [],
   "source": [
    "for t in data['income_type'].unique():\n",
    "    data.loc[(data['income_type'] == t) & (data['total_income'].isna()), 'total_income'] = \\\n",
    "    data.loc[(data['income_type'] == t), 'total_income'].median()"
   ]
  },
  {
   "cell_type": "markdown",
   "id": "5be34059",
   "metadata": {
    "deletable": false,
    "editable": false,
    "id": "5be34059"
   },
   "source": [
    "### Обработка аномальных значений"
   ]
  },
  {
   "cell_type": "markdown",
   "id": "a87606cb",
   "metadata": {
    "deletable": false,
    "editable": false,
    "id": "a87606cb"
   },
   "source": [
    "**Задание 6. В данных могут встречаться артефакты (аномалии) — значения, которые не отражают действительность и появились по какой-то ошибке. таким артефактом будет отрицательное количество дней трудового стажа в столбце `days_employed`. Для реальных данных это нормально. Обработайте значения в этом столбце: замените все отрицательные значения положительными с помощью метода `abs()`.**"
   ]
  },
  {
   "cell_type": "code",
   "execution_count": 6,
   "id": "020c46cc",
   "metadata": {
    "deletable": false,
    "id": "020c46cc"
   },
   "outputs": [],
   "source": [
    "data['days_employed'] = data['days_employed'].abs()"
   ]
  },
  {
   "cell_type": "markdown",
   "id": "45538a3a",
   "metadata": {
    "deletable": false,
    "editable": false,
    "id": "45538a3a"
   },
   "source": [
    "**Задание 7. Для каждого типа занятости выведите медианное значение трудового стажа `days_employed` в днях.**"
   ]
  },
  {
   "cell_type": "code",
   "execution_count": 7,
   "id": "cd3e6328",
   "metadata": {
    "deletable": false,
    "id": "cd3e6328",
    "outputId": "801ef80e-522b-4668-f34e-565af7432bcf"
   },
   "outputs": [
    {
     "data": {
      "text/plain": [
       "income_type\n",
       "безработный        366413.652744\n",
       "в декрете            3296.759962\n",
       "госслужащий          2689.368353\n",
       "компаньон            1547.382223\n",
       "пенсионер          365213.306266\n",
       "предприниматель       520.848083\n",
       "сотрудник            1574.202821\n",
       "студент               578.751554\n",
       "Name: days_employed, dtype: float64"
      ]
     },
     "execution_count": 7,
     "metadata": {},
     "output_type": "execute_result"
    }
   ],
   "source": [
    "data.groupby('income_type')['days_employed'].agg('median')"
   ]
  },
  {
   "cell_type": "markdown",
   "id": "90c5f058",
   "metadata": {
    "deletable": false,
    "editable": false,
    "id": "90c5f058"
   },
   "source": [
    "У двух типов (безработные и пенсионеры) получатся аномально большие значения. Исправить такие значения сложно, поэтому оставьте их как есть."
   ]
  },
  {
   "cell_type": "markdown",
   "id": "9652e50d",
   "metadata": {
    "deletable": false,
    "editable": false,
    "id": "9652e50d"
   },
   "source": [
    "**Задание 8. Выведите перечень уникальных значений столбца `children`.**"
   ]
  },
  {
   "cell_type": "code",
   "execution_count": 8,
   "id": "dbb37b8e",
   "metadata": {
    "deletable": false,
    "id": "dbb37b8e",
    "outputId": "6975b15c-7f95-4697-d16d-a0c79b657b03"
   },
   "outputs": [
    {
     "data": {
      "text/plain": [
       "array([ 1,  0,  3,  2, -1,  4, 20,  5], dtype=int64)"
      ]
     },
     "execution_count": 8,
     "metadata": {},
     "output_type": "execute_result"
    }
   ],
   "source": [
    "data['children'].unique()"
   ]
  },
  {
   "cell_type": "markdown",
   "id": "2b8b0715",
   "metadata": {
    "deletable": false,
    "editable": false,
    "id": "2b8b0715"
   },
   "source": [
    "**Задание 9. В столбце `children` есть два аномальных значения. Удалите строки, в которых встречаются такие аномальные значения из датафрейма `data`.**"
   ]
  },
  {
   "cell_type": "code",
   "execution_count": 9,
   "id": "20009df8",
   "metadata": {
    "deletable": false,
    "id": "20009df8"
   },
   "outputs": [],
   "source": [
    "data = data[(data['children'] != -1) & (data['children'] != 20)]"
   ]
  },
  {
   "cell_type": "markdown",
   "id": "8c6ac9f1",
   "metadata": {
    "deletable": false,
    "editable": false,
    "id": "8c6ac9f1"
   },
   "source": [
    "**Задание 10. Ещё раз выведите перечень уникальных значений столбца `children`, чтобы убедиться, что артефакты удалены.**"
   ]
  },
  {
   "cell_type": "code",
   "execution_count": 10,
   "id": "07337b81",
   "metadata": {
    "deletable": false,
    "id": "07337b81",
    "outputId": "b2097101-d49d-44d9-901b-32a65c9463d1"
   },
   "outputs": [
    {
     "data": {
      "text/plain": [
       "array([1, 0, 3, 2, 4, 5], dtype=int64)"
      ]
     },
     "execution_count": 10,
     "metadata": {},
     "output_type": "execute_result"
    }
   ],
   "source": [
    "data['children'].unique()"
   ]
  },
  {
   "cell_type": "markdown",
   "id": "ee3f52d4",
   "metadata": {
    "deletable": false,
    "editable": false,
    "id": "ee3f52d4"
   },
   "source": [
    "### Удаление пропусков (продолжение)"
   ]
  },
  {
   "cell_type": "markdown",
   "id": "a700b0e4",
   "metadata": {
    "deletable": false,
    "editable": false,
    "id": "a700b0e4"
   },
   "source": [
    "**Задание 11. Заполните пропуски в столбце `days_employed` медианными значениями по каждого типа занятости `income_type`.**"
   ]
  },
  {
   "cell_type": "code",
   "execution_count": 11,
   "id": "61946b83",
   "metadata": {
    "deletable": false,
    "id": "61946b83"
   },
   "outputs": [],
   "source": [
    "for t in data['income_type'].unique():\n",
    "    data.loc[(data['income_type'] == t) & (data['days_employed'].isna()), 'days_employed'] = \\\n",
    "    data.loc[(data['income_type'] == t), 'days_employed'].median()"
   ]
  },
  {
   "cell_type": "markdown",
   "id": "550dcd9b",
   "metadata": {
    "deletable": false,
    "editable": false,
    "id": "550dcd9b"
   },
   "source": [
    "**Задание 12. Убедитесь, что все пропуски заполнены. Проверьте себя и ещё раз выведите количество пропущенных значений для каждого столбца с помощью двух методов.**"
   ]
  },
  {
   "cell_type": "code",
   "execution_count": 12,
   "id": "937c7014",
   "metadata": {
    "deletable": false,
    "id": "937c7014",
    "outputId": "8da1e4e1-358e-4e87-98c9-f261bce0a7b2"
   },
   "outputs": [
    {
     "data": {
      "text/plain": [
       "children            0\n",
       "days_employed       0\n",
       "dob_years           0\n",
       "education           0\n",
       "education_id        0\n",
       "family_status       0\n",
       "family_status_id    0\n",
       "gender              0\n",
       "income_type         0\n",
       "debt                0\n",
       "total_income        0\n",
       "purpose             0\n",
       "dtype: int64"
      ]
     },
     "execution_count": 12,
     "metadata": {},
     "output_type": "execute_result"
    }
   ],
   "source": [
    "data.isna().sum()"
   ]
  },
  {
   "cell_type": "markdown",
   "id": "d522e295",
   "metadata": {
    "deletable": false,
    "editable": false,
    "id": "d522e295"
   },
   "source": [
    "### Изменение типов данных"
   ]
  },
  {
   "cell_type": "markdown",
   "id": "c229c581",
   "metadata": {
    "deletable": false,
    "editable": false,
    "id": "c229c581"
   },
   "source": [
    "**Задание 13. Замените вещественный тип данных в столбце `total_income` на целочисленный с помощью метода `astype()`.**"
   ]
  },
  {
   "cell_type": "code",
   "execution_count": 13,
   "id": "31036462",
   "metadata": {
    "deletable": false,
    "id": "31036462"
   },
   "outputs": [],
   "source": [
    "data['total_income'] = data['total_income'].astype(int)"
   ]
  },
  {
   "cell_type": "markdown",
   "id": "b8e3d1d9",
   "metadata": {
    "deletable": false,
    "editable": false,
    "id": "b8e3d1d9"
   },
   "source": [
    "### Обработка дубликатов"
   ]
  },
  {
   "cell_type": "markdown",
   "id": "9be53c49",
   "metadata": {
    "deletable": false,
    "editable": false,
    "id": "9be53c49"
   },
   "source": [
    "**Задание 14. Обработайте неявные дубликаты в столбце `education`. В этом столбце есть одни и те же значения, но записанные по-разному: с использованием заглавных и строчных букв. Приведите их к нижнему регистру.**"
   ]
  },
  {
   "cell_type": "code",
   "execution_count": 14,
   "id": "d89e73e1",
   "metadata": {
    "deletable": false,
    "id": "d89e73e1"
   },
   "outputs": [],
   "source": [
    "data['education'] = data['education'].str.lower()"
   ]
  },
  {
   "cell_type": "markdown",
   "id": "01d4500e",
   "metadata": {
    "deletable": false,
    "editable": false,
    "id": "01d4500e"
   },
   "source": [
    "**Задание 15. Выведите на экран количество строк-дубликатов в данных. Если такие строки присутствуют, удалите их.**"
   ]
  },
  {
   "cell_type": "code",
   "execution_count": 15,
   "id": "e10efb23",
   "metadata": {
    "deletable": false,
    "id": "e10efb23",
    "outputId": "9684deba-1934-42d1-99e1-cda61740f822"
   },
   "outputs": [
    {
     "data": {
      "text/plain": [
       "71"
      ]
     },
     "execution_count": 15,
     "metadata": {},
     "output_type": "execute_result"
    }
   ],
   "source": [
    "data.duplicated().sum()"
   ]
  },
  {
   "cell_type": "code",
   "execution_count": 16,
   "id": "df853f20",
   "metadata": {
    "deletable": false,
    "id": "df853f20"
   },
   "outputs": [],
   "source": [
    "data = data.drop_duplicates()"
   ]
  },
  {
   "cell_type": "markdown",
   "id": "627be38f",
   "metadata": {
    "deletable": false,
    "editable": false,
    "id": "627be38f"
   },
   "source": [
    "### Категоризация данных"
   ]
  },
  {
   "cell_type": "markdown",
   "id": "4684c3e0",
   "metadata": {
    "deletable": false,
    "editable": false,
    "id": "4684c3e0"
   },
   "source": [
    "**Задание 16. На основании диапазонов, указанных ниже, создайте в датафрейме `data` столбец `total_income_category` с категориями:**\n",
    "\n",
    "- 0–30000 — `'E'`;\n",
    "- 30001–50000 — `'D'`;\n",
    "- 50001–200000 — `'C'`;\n",
    "- 200001–1000000 — `'B'`;\n",
    "- 1000001 и выше — `'A'`.\n",
    "\n",
    "\n",
    "**Например, кредитополучателю с доходом 25000 нужно назначить категорию `'E'`, а клиенту, получающему 235000, — `'B'`. Используйте собственную функцию с именем `categorize_income()` и метод `apply()`.**"
   ]
  },
  {
   "cell_type": "code",
   "execution_count": 17,
   "id": "78965238",
   "metadata": {
    "deletable": false,
    "id": "78965238"
   },
   "outputs": [],
   "source": [
    "def categorize_income(income):\n",
    "    try:\n",
    "        if 0 <= income <= 30000:\n",
    "            return 'E'\n",
    "        elif 30001 <= income <= 50000:\n",
    "            return 'D'\n",
    "        elif 50001 <= income <= 200000:\n",
    "            return 'C'\n",
    "        elif 200001 <= income <= 1000000:\n",
    "            return 'B'\n",
    "        elif income >= 1000001:\n",
    "            return 'A'\n",
    "    except:\n",
    "        pass"
   ]
  },
  {
   "cell_type": "code",
   "execution_count": 18,
   "id": "0980ada1",
   "metadata": {
    "deletable": false,
    "id": "0980ada1"
   },
   "outputs": [],
   "source": [
    "data['total_income_category'] = data['total_income'].apply(categorize_income)"
   ]
  },
  {
   "cell_type": "markdown",
   "id": "9917bba0",
   "metadata": {
    "deletable": false,
    "editable": false,
    "id": "9917bba0"
   },
   "source": [
    "**Задание 17. Выведите на экран перечень уникальных целей взятия кредита из столбца `purpose`.**"
   ]
  },
  {
   "cell_type": "code",
   "execution_count": 19,
   "id": "ee07b65e",
   "metadata": {
    "deletable": false,
    "id": "ee07b65e",
    "outputId": "673c12d9-7d7e-4ae0-9812-c622c89dd244"
   },
   "outputs": [
    {
     "data": {
      "text/plain": [
       "array(['покупка жилья', 'приобретение автомобиля',\n",
       "       'дополнительное образование', 'сыграть свадьбу',\n",
       "       'операции с жильем', 'образование', 'на проведение свадьбы',\n",
       "       'покупка жилья для семьи', 'покупка недвижимости',\n",
       "       'покупка коммерческой недвижимости', 'покупка жилой недвижимости',\n",
       "       'строительство собственной недвижимости', 'недвижимость',\n",
       "       'строительство недвижимости', 'на покупку подержанного автомобиля',\n",
       "       'на покупку своего автомобиля',\n",
       "       'операции с коммерческой недвижимостью',\n",
       "       'строительство жилой недвижимости', 'жилье',\n",
       "       'операции со своей недвижимостью', 'автомобили',\n",
       "       'заняться образованием', 'сделка с подержанным автомобилем',\n",
       "       'получение образования', 'автомобиль', 'свадьба',\n",
       "       'получение дополнительного образования', 'покупка своего жилья',\n",
       "       'операции с недвижимостью', 'получение высшего образования',\n",
       "       'свой автомобиль', 'сделка с автомобилем',\n",
       "       'профильное образование', 'высшее образование',\n",
       "       'покупка жилья для сдачи', 'на покупку автомобиля', 'ремонт жилью',\n",
       "       'заняться высшим образованием'], dtype=object)"
      ]
     },
     "execution_count": 19,
     "metadata": {},
     "output_type": "execute_result"
    }
   ],
   "source": [
    "data['purpose'].unique()"
   ]
  },
  {
   "cell_type": "markdown",
   "id": "52b79d56",
   "metadata": {
    "deletable": false,
    "editable": false,
    "id": "52b79d56"
   },
   "source": [
    "**Задание 18. Создайте функцию, которая на основании данных из столбца `purpose` сформирует новый столбец `purpose_category`, в который войдут следующие категории:**\n",
    "\n",
    "- `'операции с автомобилем'`,\n",
    "- `'операции с недвижимостью'`,\n",
    "- `'проведение свадьбы'`,\n",
    "- `'получение образования'`.\n",
    "\n",
    "**Например, если в столбце `purpose` находится подстрока `'на покупку автомобиля'`, то в столбце `purpose_category` должна появиться строка `'операции с автомобилем'`.**\n",
    "\n",
    "**Используйте собственную функцию с именем `categorize_purpose()` и метод `apply()`. Изучите данные в столбце `purpose` и определите, какие подстроки помогут вам правильно определить категорию.**"
   ]
  },
  {
   "cell_type": "code",
   "execution_count": 20,
   "id": "be41da5d",
   "metadata": {
    "deletable": false,
    "id": "be41da5d"
   },
   "outputs": [],
   "source": [
    "def categorize_purpose(row):\n",
    "    try:\n",
    "        if 'автом' in row:\n",
    "            return 'операции с автомобилем'\n",
    "        elif 'жил' in row or 'недвиж' in row:\n",
    "            return 'операции с недвижимостью'\n",
    "        elif 'свад' in row:\n",
    "            return 'проведение свадьбы'\n",
    "        elif 'образов' in row:\n",
    "            return 'получение образования'\n",
    "    except:\n",
    "        return 'нет категории'"
   ]
  },
  {
   "cell_type": "code",
   "execution_count": 21,
   "id": "94c4a19a",
   "metadata": {
    "deletable": false,
    "id": "94c4a19a"
   },
   "outputs": [
    {
     "data": {
      "text/html": [
       "<div>\n",
       "<style scoped>\n",
       "    .dataframe tbody tr th:only-of-type {\n",
       "        vertical-align: middle;\n",
       "    }\n",
       "\n",
       "    .dataframe tbody tr th {\n",
       "        vertical-align: top;\n",
       "    }\n",
       "\n",
       "    .dataframe thead th {\n",
       "        text-align: right;\n",
       "    }\n",
       "</style>\n",
       "<table border=\"1\" class=\"dataframe\">\n",
       "  <thead>\n",
       "    <tr style=\"text-align: right;\">\n",
       "      <th></th>\n",
       "      <th>children</th>\n",
       "      <th>days_employed</th>\n",
       "      <th>dob_years</th>\n",
       "      <th>education</th>\n",
       "      <th>education_id</th>\n",
       "      <th>family_status</th>\n",
       "      <th>family_status_id</th>\n",
       "      <th>gender</th>\n",
       "      <th>income_type</th>\n",
       "      <th>debt</th>\n",
       "      <th>total_income</th>\n",
       "      <th>purpose</th>\n",
       "      <th>total_income_category</th>\n",
       "      <th>purpose_category</th>\n",
       "    </tr>\n",
       "  </thead>\n",
       "  <tbody>\n",
       "    <tr>\n",
       "      <th>0</th>\n",
       "      <td>1</td>\n",
       "      <td>8437.673028</td>\n",
       "      <td>42</td>\n",
       "      <td>высшее</td>\n",
       "      <td>0</td>\n",
       "      <td>женат / замужем</td>\n",
       "      <td>0</td>\n",
       "      <td>F</td>\n",
       "      <td>сотрудник</td>\n",
       "      <td>0</td>\n",
       "      <td>253875</td>\n",
       "      <td>покупка жилья</td>\n",
       "      <td>B</td>\n",
       "      <td>операции с недвижимостью</td>\n",
       "    </tr>\n",
       "    <tr>\n",
       "      <th>1</th>\n",
       "      <td>1</td>\n",
       "      <td>4024.803754</td>\n",
       "      <td>36</td>\n",
       "      <td>среднее</td>\n",
       "      <td>1</td>\n",
       "      <td>женат / замужем</td>\n",
       "      <td>0</td>\n",
       "      <td>F</td>\n",
       "      <td>сотрудник</td>\n",
       "      <td>0</td>\n",
       "      <td>112080</td>\n",
       "      <td>приобретение автомобиля</td>\n",
       "      <td>C</td>\n",
       "      <td>операции с автомобилем</td>\n",
       "    </tr>\n",
       "    <tr>\n",
       "      <th>2</th>\n",
       "      <td>0</td>\n",
       "      <td>5623.422610</td>\n",
       "      <td>33</td>\n",
       "      <td>среднее</td>\n",
       "      <td>1</td>\n",
       "      <td>женат / замужем</td>\n",
       "      <td>0</td>\n",
       "      <td>M</td>\n",
       "      <td>сотрудник</td>\n",
       "      <td>0</td>\n",
       "      <td>145885</td>\n",
       "      <td>покупка жилья</td>\n",
       "      <td>C</td>\n",
       "      <td>операции с недвижимостью</td>\n",
       "    </tr>\n",
       "    <tr>\n",
       "      <th>3</th>\n",
       "      <td>3</td>\n",
       "      <td>4124.747207</td>\n",
       "      <td>32</td>\n",
       "      <td>среднее</td>\n",
       "      <td>1</td>\n",
       "      <td>женат / замужем</td>\n",
       "      <td>0</td>\n",
       "      <td>M</td>\n",
       "      <td>сотрудник</td>\n",
       "      <td>0</td>\n",
       "      <td>267628</td>\n",
       "      <td>дополнительное образование</td>\n",
       "      <td>B</td>\n",
       "      <td>получение образования</td>\n",
       "    </tr>\n",
       "    <tr>\n",
       "      <th>4</th>\n",
       "      <td>0</td>\n",
       "      <td>340266.072047</td>\n",
       "      <td>53</td>\n",
       "      <td>среднее</td>\n",
       "      <td>1</td>\n",
       "      <td>гражданский брак</td>\n",
       "      <td>1</td>\n",
       "      <td>F</td>\n",
       "      <td>пенсионер</td>\n",
       "      <td>0</td>\n",
       "      <td>158616</td>\n",
       "      <td>сыграть свадьбу</td>\n",
       "      <td>C</td>\n",
       "      <td>проведение свадьбы</td>\n",
       "    </tr>\n",
       "    <tr>\n",
       "      <th>5</th>\n",
       "      <td>0</td>\n",
       "      <td>926.185831</td>\n",
       "      <td>27</td>\n",
       "      <td>высшее</td>\n",
       "      <td>0</td>\n",
       "      <td>гражданский брак</td>\n",
       "      <td>1</td>\n",
       "      <td>M</td>\n",
       "      <td>компаньон</td>\n",
       "      <td>0</td>\n",
       "      <td>255763</td>\n",
       "      <td>покупка жилья</td>\n",
       "      <td>B</td>\n",
       "      <td>операции с недвижимостью</td>\n",
       "    </tr>\n",
       "    <tr>\n",
       "      <th>6</th>\n",
       "      <td>0</td>\n",
       "      <td>2879.202052</td>\n",
       "      <td>43</td>\n",
       "      <td>высшее</td>\n",
       "      <td>0</td>\n",
       "      <td>женат / замужем</td>\n",
       "      <td>0</td>\n",
       "      <td>F</td>\n",
       "      <td>компаньон</td>\n",
       "      <td>0</td>\n",
       "      <td>240525</td>\n",
       "      <td>операции с жильем</td>\n",
       "      <td>B</td>\n",
       "      <td>операции с недвижимостью</td>\n",
       "    </tr>\n",
       "    <tr>\n",
       "      <th>7</th>\n",
       "      <td>0</td>\n",
       "      <td>152.779569</td>\n",
       "      <td>50</td>\n",
       "      <td>среднее</td>\n",
       "      <td>1</td>\n",
       "      <td>женат / замужем</td>\n",
       "      <td>0</td>\n",
       "      <td>M</td>\n",
       "      <td>сотрудник</td>\n",
       "      <td>0</td>\n",
       "      <td>135823</td>\n",
       "      <td>образование</td>\n",
       "      <td>C</td>\n",
       "      <td>получение образования</td>\n",
       "    </tr>\n",
       "    <tr>\n",
       "      <th>8</th>\n",
       "      <td>2</td>\n",
       "      <td>6929.865299</td>\n",
       "      <td>35</td>\n",
       "      <td>высшее</td>\n",
       "      <td>0</td>\n",
       "      <td>гражданский брак</td>\n",
       "      <td>1</td>\n",
       "      <td>F</td>\n",
       "      <td>сотрудник</td>\n",
       "      <td>0</td>\n",
       "      <td>95856</td>\n",
       "      <td>на проведение свадьбы</td>\n",
       "      <td>C</td>\n",
       "      <td>проведение свадьбы</td>\n",
       "    </tr>\n",
       "    <tr>\n",
       "      <th>9</th>\n",
       "      <td>0</td>\n",
       "      <td>2188.756445</td>\n",
       "      <td>41</td>\n",
       "      <td>среднее</td>\n",
       "      <td>1</td>\n",
       "      <td>женат / замужем</td>\n",
       "      <td>0</td>\n",
       "      <td>M</td>\n",
       "      <td>сотрудник</td>\n",
       "      <td>0</td>\n",
       "      <td>144425</td>\n",
       "      <td>покупка жилья для семьи</td>\n",
       "      <td>C</td>\n",
       "      <td>операции с недвижимостью</td>\n",
       "    </tr>\n",
       "  </tbody>\n",
       "</table>\n",
       "</div>"
      ],
      "text/plain": [
       "   children  days_employed  dob_years education  education_id  \\\n",
       "0         1    8437.673028         42    высшее             0   \n",
       "1         1    4024.803754         36   среднее             1   \n",
       "2         0    5623.422610         33   среднее             1   \n",
       "3         3    4124.747207         32   среднее             1   \n",
       "4         0  340266.072047         53   среднее             1   \n",
       "5         0     926.185831         27    высшее             0   \n",
       "6         0    2879.202052         43    высшее             0   \n",
       "7         0     152.779569         50   среднее             1   \n",
       "8         2    6929.865299         35    высшее             0   \n",
       "9         0    2188.756445         41   среднее             1   \n",
       "\n",
       "      family_status  family_status_id gender income_type  debt  total_income  \\\n",
       "0   женат / замужем                 0      F   сотрудник     0        253875   \n",
       "1   женат / замужем                 0      F   сотрудник     0        112080   \n",
       "2   женат / замужем                 0      M   сотрудник     0        145885   \n",
       "3   женат / замужем                 0      M   сотрудник     0        267628   \n",
       "4  гражданский брак                 1      F   пенсионер     0        158616   \n",
       "5  гражданский брак                 1      M   компаньон     0        255763   \n",
       "6   женат / замужем                 0      F   компаньон     0        240525   \n",
       "7   женат / замужем                 0      M   сотрудник     0        135823   \n",
       "8  гражданский брак                 1      F   сотрудник     0         95856   \n",
       "9   женат / замужем                 0      M   сотрудник     0        144425   \n",
       "\n",
       "                      purpose total_income_category          purpose_category  \n",
       "0               покупка жилья                     B  операции с недвижимостью  \n",
       "1     приобретение автомобиля                     C    операции с автомобилем  \n",
       "2               покупка жилья                     C  операции с недвижимостью  \n",
       "3  дополнительное образование                     B     получение образования  \n",
       "4             сыграть свадьбу                     C        проведение свадьбы  \n",
       "5               покупка жилья                     B  операции с недвижимостью  \n",
       "6           операции с жильем                     B  операции с недвижимостью  \n",
       "7                 образование                     C     получение образования  \n",
       "8       на проведение свадьбы                     C        проведение свадьбы  \n",
       "9     покупка жилья для семьи                     C  операции с недвижимостью  "
      ]
     },
     "execution_count": 21,
     "metadata": {},
     "output_type": "execute_result"
    }
   ],
   "source": [
    "data['purpose_category'] = data['purpose'].apply(categorize_purpose)\n",
    "data.head(10)"
   ]
  },
  {
   "cell_type": "markdown",
   "id": "3d596c34",
   "metadata": {
    "deletable": false,
    "editable": false,
    "id": "3d596c34"
   },
   "source": [
    "### Шаг 3. Исследуйте данные и ответьте на вопросы"
   ]
  },
  {
   "cell_type": "markdown",
   "id": "648db036",
   "metadata": {
    "deletable": false,
    "editable": false,
    "id": "648db036"
   },
   "source": [
    "#### 3.1 Есть ли зависимость между количеством детей и возвратом кредита в срок?"
   ]
  },
  {
   "cell_type": "code",
   "execution_count": 22,
   "id": "5bd314b7",
   "metadata": {
    "deletable": false,
    "id": "7fcff25e"
   },
   "outputs": [
    {
     "data": {
      "text/html": [
       "<style type=\"text/css\">\n",
       "</style>\n",
       "<table id=\"T_3ee72\">\n",
       "  <thead>\n",
       "    <tr>\n",
       "      <th class=\"blank level0\" >&nbsp;</th>\n",
       "      <th id=\"T_3ee72_level0_col0\" class=\"col_heading level0 col0\" >Общее кол-во заемщиков</th>\n",
       "      <th id=\"T_3ee72_level0_col1\" class=\"col_heading level0 col1\" >Общеее кол-во должников</th>\n",
       "      <th id=\"T_3ee72_level0_col2\" class=\"col_heading level0 col2\" >Доля должников</th>\n",
       "    </tr>\n",
       "    <tr>\n",
       "      <th class=\"index_name level0\" >children</th>\n",
       "      <th class=\"blank col0\" >&nbsp;</th>\n",
       "      <th class=\"blank col1\" >&nbsp;</th>\n",
       "      <th class=\"blank col2\" >&nbsp;</th>\n",
       "    </tr>\n",
       "  </thead>\n",
       "  <tbody>\n",
       "    <tr>\n",
       "      <th id=\"T_3ee72_level0_row0\" class=\"row_heading level0 row0\" >0</th>\n",
       "      <td id=\"T_3ee72_row0_col0\" class=\"data row0 col0\" >14091.00</td>\n",
       "      <td id=\"T_3ee72_row0_col1\" class=\"data row0 col1\" >1063.00</td>\n",
       "      <td id=\"T_3ee72_row0_col2\" class=\"data row0 col2\" >0.08</td>\n",
       "    </tr>\n",
       "    <tr>\n",
       "      <th id=\"T_3ee72_level0_row1\" class=\"row_heading level0 row1\" >1</th>\n",
       "      <td id=\"T_3ee72_row1_col0\" class=\"data row1 col0\" >4808.00</td>\n",
       "      <td id=\"T_3ee72_row1_col1\" class=\"data row1 col1\" >444.00</td>\n",
       "      <td id=\"T_3ee72_row1_col2\" class=\"data row1 col2\" >0.09</td>\n",
       "    </tr>\n",
       "    <tr>\n",
       "      <th id=\"T_3ee72_level0_row2\" class=\"row_heading level0 row2\" >2</th>\n",
       "      <td id=\"T_3ee72_row2_col0\" class=\"data row2 col0\" >2052.00</td>\n",
       "      <td id=\"T_3ee72_row2_col1\" class=\"data row2 col1\" >194.00</td>\n",
       "      <td id=\"T_3ee72_row2_col2\" class=\"data row2 col2\" >0.09</td>\n",
       "    </tr>\n",
       "    <tr>\n",
       "      <th id=\"T_3ee72_level0_row3\" class=\"row_heading level0 row3\" >3</th>\n",
       "      <td id=\"T_3ee72_row3_col0\" class=\"data row3 col0\" >330.00</td>\n",
       "      <td id=\"T_3ee72_row3_col1\" class=\"data row3 col1\" >27.00</td>\n",
       "      <td id=\"T_3ee72_row3_col2\" class=\"data row3 col2\" >0.08</td>\n",
       "    </tr>\n",
       "    <tr>\n",
       "      <th id=\"T_3ee72_level0_row4\" class=\"row_heading level0 row4\" >4</th>\n",
       "      <td id=\"T_3ee72_row4_col0\" class=\"data row4 col0\" >41.00</td>\n",
       "      <td id=\"T_3ee72_row4_col1\" class=\"data row4 col1\" >4.00</td>\n",
       "      <td id=\"T_3ee72_row4_col2\" class=\"data row4 col2\" >0.10</td>\n",
       "    </tr>\n",
       "    <tr>\n",
       "      <th id=\"T_3ee72_level0_row5\" class=\"row_heading level0 row5\" >5</th>\n",
       "      <td id=\"T_3ee72_row5_col0\" class=\"data row5 col0\" >9.00</td>\n",
       "      <td id=\"T_3ee72_row5_col1\" class=\"data row5 col1\" >0.00</td>\n",
       "      <td id=\"T_3ee72_row5_col2\" class=\"data row5 col2\" >0.00</td>\n",
       "    </tr>\n",
       "  </tbody>\n",
       "</table>\n"
      ],
      "text/plain": [
       "<pandas.io.formats.style.Styler at 0x21f69c63290>"
      ]
     },
     "metadata": {},
     "output_type": "display_data"
    }
   ],
   "source": [
    "data_copy = data.copy() # создаем копию data\n",
    "\n",
    "# создаем функцию\n",
    "def row(category):\n",
    "    dat_copy = data_copy.pivot_table(index=category, values='debt', aggfunc=['count', 'sum', 'mean']) # сщздаем сводную таблицу\n",
    "    dat_copy.columns = ['Общее кол-во заемщиков', 'Общеее кол-во должников', 'Доля должников'] # заменяем названия столбцов\n",
    "    display(dat_copy.style.format('{:.2f}')) # выводим результат \n",
    "    \n",
    "row('children')  \n"
   ]
  },
  {
   "cell_type": "markdown",
   "id": "2eb9088e",
   "metadata": {
    "deletable": false,
    "id": "2eb9088e"
   },
   "source": [
    "**Вывод:** Зависимости между количеством детей и возвратом кредита в срок нет. Доля должников не имеющих детей составиляет такой же процент как и у должников имеющих троих детей. При этом задолжностей нет у заемщиков с пятью детьми."
   ]
  },
  {
   "cell_type": "markdown",
   "id": "74c9b3a7",
   "metadata": {
    "deletable": false,
    "editable": false,
    "id": "74c9b3a7"
   },
   "source": [
    "#### 3.2 Есть ли зависимость между семейным положением и возвратом кредита в срок?"
   ]
  },
  {
   "cell_type": "code",
   "execution_count": 23,
   "id": "1375b0c4",
   "metadata": {
    "deletable": false,
    "id": "8098ab3b"
   },
   "outputs": [
    {
     "data": {
      "text/html": [
       "<style type=\"text/css\">\n",
       "</style>\n",
       "<table id=\"T_56b0d\">\n",
       "  <thead>\n",
       "    <tr>\n",
       "      <th class=\"blank level0\" >&nbsp;</th>\n",
       "      <th id=\"T_56b0d_level0_col0\" class=\"col_heading level0 col0\" >Общее кол-во заемщиков</th>\n",
       "      <th id=\"T_56b0d_level0_col1\" class=\"col_heading level0 col1\" >Общеее кол-во должников</th>\n",
       "      <th id=\"T_56b0d_level0_col2\" class=\"col_heading level0 col2\" >Доля должников</th>\n",
       "    </tr>\n",
       "    <tr>\n",
       "      <th class=\"index_name level0\" >family_status</th>\n",
       "      <th class=\"blank col0\" >&nbsp;</th>\n",
       "      <th class=\"blank col1\" >&nbsp;</th>\n",
       "      <th class=\"blank col2\" >&nbsp;</th>\n",
       "    </tr>\n",
       "  </thead>\n",
       "  <tbody>\n",
       "    <tr>\n",
       "      <th id=\"T_56b0d_level0_row0\" class=\"row_heading level0 row0\" >Не женат / не замужем</th>\n",
       "      <td id=\"T_56b0d_row0_col0\" class=\"data row0 col0\" >2796.00</td>\n",
       "      <td id=\"T_56b0d_row0_col1\" class=\"data row0 col1\" >273.00</td>\n",
       "      <td id=\"T_56b0d_row0_col2\" class=\"data row0 col2\" >0.10</td>\n",
       "    </tr>\n",
       "    <tr>\n",
       "      <th id=\"T_56b0d_level0_row1\" class=\"row_heading level0 row1\" >в разводе</th>\n",
       "      <td id=\"T_56b0d_row1_col0\" class=\"data row1 col0\" >1189.00</td>\n",
       "      <td id=\"T_56b0d_row1_col1\" class=\"data row1 col1\" >84.00</td>\n",
       "      <td id=\"T_56b0d_row1_col2\" class=\"data row1 col2\" >0.07</td>\n",
       "    </tr>\n",
       "    <tr>\n",
       "      <th id=\"T_56b0d_level0_row2\" class=\"row_heading level0 row2\" >вдовец / вдова</th>\n",
       "      <td id=\"T_56b0d_row2_col0\" class=\"data row2 col0\" >951.00</td>\n",
       "      <td id=\"T_56b0d_row2_col1\" class=\"data row2 col1\" >63.00</td>\n",
       "      <td id=\"T_56b0d_row2_col2\" class=\"data row2 col2\" >0.07</td>\n",
       "    </tr>\n",
       "    <tr>\n",
       "      <th id=\"T_56b0d_level0_row3\" class=\"row_heading level0 row3\" >гражданский брак</th>\n",
       "      <td id=\"T_56b0d_row3_col0\" class=\"data row3 col0\" >4134.00</td>\n",
       "      <td id=\"T_56b0d_row3_col1\" class=\"data row3 col1\" >385.00</td>\n",
       "      <td id=\"T_56b0d_row3_col2\" class=\"data row3 col2\" >0.09</td>\n",
       "    </tr>\n",
       "    <tr>\n",
       "      <th id=\"T_56b0d_level0_row4\" class=\"row_heading level0 row4\" >женат / замужем</th>\n",
       "      <td id=\"T_56b0d_row4_col0\" class=\"data row4 col0\" >12261.00</td>\n",
       "      <td id=\"T_56b0d_row4_col1\" class=\"data row4 col1\" >927.00</td>\n",
       "      <td id=\"T_56b0d_row4_col2\" class=\"data row4 col2\" >0.08</td>\n",
       "    </tr>\n",
       "  </tbody>\n",
       "</table>\n"
      ],
      "text/plain": [
       "<pandas.io.formats.style.Styler at 0x21f6c19c6d0>"
      ]
     },
     "metadata": {},
     "output_type": "display_data"
    }
   ],
   "source": [
    "data_copy = data.copy() # создаем копию data\n",
    "\n",
    "# создаем функцию\n",
    "def row(category):\n",
    "    dat_copy = data_copy.pivot_table(index=category, values='debt', aggfunc=['count', 'sum', 'mean']) # сщздаем сводную таблицу\n",
    "    dat_copy.columns = ['Общее кол-во заемщиков', 'Общеее кол-во должников', 'Доля должников'] # заменяем названия столбцов\n",
    "    display(dat_copy.style.format('{:.2f}')) # выводим результат \n",
    "    \n",
    "row('family_status')  \n"
   ]
  },
  {
   "cell_type": "markdown",
   "id": "c389ca63",
   "metadata": {
    "deletable": false,
    "id": "c389ca63"
   },
   "source": [
    "**Вывод:** Зависимости между семейным положением и возвратом кредита в срок нет. Самая большая доля дожников не состоят в браке, при этом должники имеющие статус \"в разводе\", \"вдовец / вдова\" составляют наименьшую долю должников."
   ]
  },
  {
   "cell_type": "markdown",
   "id": "9529de68",
   "metadata": {
    "deletable": false,
    "editable": false,
    "id": "9529de68"
   },
   "source": [
    "#### 3.3 Есть ли зависимость между уровнем дохода и возвратом кредита в срок?"
   ]
  },
  {
   "cell_type": "code",
   "execution_count": 24,
   "id": "8787f44a",
   "metadata": {
    "deletable": false,
    "id": "8787f44a"
   },
   "outputs": [
    {
     "data": {
      "text/html": [
       "<style type=\"text/css\">\n",
       "</style>\n",
       "<table id=\"T_5e021\">\n",
       "  <thead>\n",
       "    <tr>\n",
       "      <th class=\"blank level0\" >&nbsp;</th>\n",
       "      <th id=\"T_5e021_level0_col0\" class=\"col_heading level0 col0\" >Общее кол-во заемщиков</th>\n",
       "      <th id=\"T_5e021_level0_col1\" class=\"col_heading level0 col1\" >Общеее кол-во должников</th>\n",
       "      <th id=\"T_5e021_level0_col2\" class=\"col_heading level0 col2\" >Доля должников</th>\n",
       "    </tr>\n",
       "    <tr>\n",
       "      <th class=\"index_name level0\" >total_income_category</th>\n",
       "      <th class=\"blank col0\" >&nbsp;</th>\n",
       "      <th class=\"blank col1\" >&nbsp;</th>\n",
       "      <th class=\"blank col2\" >&nbsp;</th>\n",
       "    </tr>\n",
       "  </thead>\n",
       "  <tbody>\n",
       "    <tr>\n",
       "      <th id=\"T_5e021_level0_row0\" class=\"row_heading level0 row0\" >A</th>\n",
       "      <td id=\"T_5e021_row0_col0\" class=\"data row0 col0\" >25.00</td>\n",
       "      <td id=\"T_5e021_row0_col1\" class=\"data row0 col1\" >2.00</td>\n",
       "      <td id=\"T_5e021_row0_col2\" class=\"data row0 col2\" >0.08</td>\n",
       "    </tr>\n",
       "    <tr>\n",
       "      <th id=\"T_5e021_level0_row1\" class=\"row_heading level0 row1\" >B</th>\n",
       "      <td id=\"T_5e021_row1_col0\" class=\"data row1 col0\" >5014.00</td>\n",
       "      <td id=\"T_5e021_row1_col1\" class=\"data row1 col1\" >354.00</td>\n",
       "      <td id=\"T_5e021_row1_col2\" class=\"data row1 col2\" >0.07</td>\n",
       "    </tr>\n",
       "    <tr>\n",
       "      <th id=\"T_5e021_level0_row2\" class=\"row_heading level0 row2\" >C</th>\n",
       "      <td id=\"T_5e021_row2_col0\" class=\"data row2 col0\" >15921.00</td>\n",
       "      <td id=\"T_5e021_row2_col1\" class=\"data row2 col1\" >1353.00</td>\n",
       "      <td id=\"T_5e021_row2_col2\" class=\"data row2 col2\" >0.08</td>\n",
       "    </tr>\n",
       "    <tr>\n",
       "      <th id=\"T_5e021_level0_row3\" class=\"row_heading level0 row3\" >D</th>\n",
       "      <td id=\"T_5e021_row3_col0\" class=\"data row3 col0\" >349.00</td>\n",
       "      <td id=\"T_5e021_row3_col1\" class=\"data row3 col1\" >21.00</td>\n",
       "      <td id=\"T_5e021_row3_col2\" class=\"data row3 col2\" >0.06</td>\n",
       "    </tr>\n",
       "    <tr>\n",
       "      <th id=\"T_5e021_level0_row4\" class=\"row_heading level0 row4\" >E</th>\n",
       "      <td id=\"T_5e021_row4_col0\" class=\"data row4 col0\" >22.00</td>\n",
       "      <td id=\"T_5e021_row4_col1\" class=\"data row4 col1\" >2.00</td>\n",
       "      <td id=\"T_5e021_row4_col2\" class=\"data row4 col2\" >0.09</td>\n",
       "    </tr>\n",
       "  </tbody>\n",
       "</table>\n"
      ],
      "text/plain": [
       "<pandas.io.formats.style.Styler at 0x21f6c1b4850>"
      ]
     },
     "metadata": {},
     "output_type": "display_data"
    }
   ],
   "source": [
    "data_copy = data.copy() # создаем копию data\n",
    "\n",
    "# создаем функцию\n",
    "def row(category):\n",
    "    dat_copy = data_copy.pivot_table(index=category, values='debt', aggfunc=['count', 'sum', 'mean']) # сщздаем сводную таблицу\n",
    "    dat_copy.columns = ['Общее кол-во заемщиков', 'Общеее кол-во должников', 'Доля должников'] # заменяем названия столбцов\n",
    "    display(dat_copy.style.format('{:.2f}')) # выводим результат \n",
    "    \n",
    "row('total_income_category')  \n"
   ]
  },
  {
   "cell_type": "markdown",
   "id": "6dd14b57",
   "metadata": {
    "deletable": false,
    "id": "6dd14b57"
   },
   "source": [
    "**Вывод:** Зависимости между уровнем дохода и возвратом кредита в срок нет. Наибольшую долю доджников составляют заемщики попавшие в категорию с наименьшим доходом,  при этом разница между заемщиками имеющих самый высокий и средний уровень дохода составляет 0,01."
   ]
  },
  {
   "cell_type": "markdown",
   "id": "1dcc9b12",
   "metadata": {
    "deletable": false,
    "editable": false,
    "id": "1dcc9b12"
   },
   "source": [
    "#### 3.4 Как разные цели кредита влияют на его возврат в срок?"
   ]
  },
  {
   "cell_type": "code",
   "execution_count": 25,
   "id": "c602bc8b",
   "metadata": {
    "deletable": false,
    "id": "c602bc8b"
   },
   "outputs": [
    {
     "data": {
      "text/html": [
       "<style type=\"text/css\">\n",
       "</style>\n",
       "<table id=\"T_b6156\">\n",
       "  <thead>\n",
       "    <tr>\n",
       "      <th class=\"blank level0\" >&nbsp;</th>\n",
       "      <th id=\"T_b6156_level0_col0\" class=\"col_heading level0 col0\" >Общее кол-во заемщиков</th>\n",
       "      <th id=\"T_b6156_level0_col1\" class=\"col_heading level0 col1\" >Общеее кол-во должников</th>\n",
       "      <th id=\"T_b6156_level0_col2\" class=\"col_heading level0 col2\" >Доля должников</th>\n",
       "    </tr>\n",
       "    <tr>\n",
       "      <th class=\"index_name level0\" >purpose_category</th>\n",
       "      <th class=\"blank col0\" >&nbsp;</th>\n",
       "      <th class=\"blank col1\" >&nbsp;</th>\n",
       "      <th class=\"blank col2\" >&nbsp;</th>\n",
       "    </tr>\n",
       "  </thead>\n",
       "  <tbody>\n",
       "    <tr>\n",
       "      <th id=\"T_b6156_level0_row0\" class=\"row_heading level0 row0\" >операции с автомобилем</th>\n",
       "      <td id=\"T_b6156_row0_col0\" class=\"data row0 col0\" >4279.00</td>\n",
       "      <td id=\"T_b6156_row0_col1\" class=\"data row0 col1\" >400.00</td>\n",
       "      <td id=\"T_b6156_row0_col2\" class=\"data row0 col2\" >0.09</td>\n",
       "    </tr>\n",
       "    <tr>\n",
       "      <th id=\"T_b6156_level0_row1\" class=\"row_heading level0 row1\" >операции с недвижимостью</th>\n",
       "      <td id=\"T_b6156_row1_col0\" class=\"data row1 col0\" >10751.00</td>\n",
       "      <td id=\"T_b6156_row1_col1\" class=\"data row1 col1\" >780.00</td>\n",
       "      <td id=\"T_b6156_row1_col2\" class=\"data row1 col2\" >0.07</td>\n",
       "    </tr>\n",
       "    <tr>\n",
       "      <th id=\"T_b6156_level0_row2\" class=\"row_heading level0 row2\" >получение образования</th>\n",
       "      <td id=\"T_b6156_row2_col0\" class=\"data row2 col0\" >3988.00</td>\n",
       "      <td id=\"T_b6156_row2_col1\" class=\"data row2 col1\" >369.00</td>\n",
       "      <td id=\"T_b6156_row2_col2\" class=\"data row2 col2\" >0.09</td>\n",
       "    </tr>\n",
       "    <tr>\n",
       "      <th id=\"T_b6156_level0_row3\" class=\"row_heading level0 row3\" >проведение свадьбы</th>\n",
       "      <td id=\"T_b6156_row3_col0\" class=\"data row3 col0\" >2313.00</td>\n",
       "      <td id=\"T_b6156_row3_col1\" class=\"data row3 col1\" >183.00</td>\n",
       "      <td id=\"T_b6156_row3_col2\" class=\"data row3 col2\" >0.08</td>\n",
       "    </tr>\n",
       "  </tbody>\n",
       "</table>\n"
      ],
      "text/plain": [
       "<pandas.io.formats.style.Styler at 0x21f6c2067d0>"
      ]
     },
     "metadata": {},
     "output_type": "display_data"
    }
   ],
   "source": [
    "data_copy = data.copy() # создаем копию data\n",
    "\n",
    "# создаем функцию\n",
    "def row(category):\n",
    "    dat_copy = data_copy.pivot_table(index=category, values='debt', aggfunc=['count', 'sum', 'mean']) # сщздаем сводную таблицу\n",
    "    dat_copy.columns = ['Общее кол-во заемщиков', 'Общеее кол-во должников', 'Доля должников'] # заменяем названия столбцов\n",
    "    display(dat_copy.style.format('{:.2f}')) # выводим результат \n",
    "    \n",
    "row('purpose_category')"
   ]
  },
  {
   "cell_type": "markdown",
   "id": "cf05ed63",
   "metadata": {
    "deletable": false,
    "id": "cf05ed63"
   },
   "source": [
    "**Вывод:** \"Операции с автомобилем\" и \"получение образования\" имеют наибольшую долю должников, \"проведение свадьбы\" средний уровень должников, меньше всего должников входящих в категорию \"операции с недвижимостью\"."
   ]
  },
  {
   "cell_type": "markdown",
   "id": "46c1f10b",
   "metadata": {
    "deletable": false,
    "editable": false,
    "id": "46c1f10b"
   },
   "source": [
    "#### 3.5 Приведите возможные причины появления пропусков в исходных данных."
   ]
  },
  {
   "cell_type": "markdown",
   "id": "3697d2a9",
   "metadata": {
    "deletable": false,
    "id": "3697d2a9"
   },
   "source": [
    "*Ответ:* Количество пропусков в столбце общего трудового стажа в днях совпадает с количеством пропусков в ежемесячном доходе. Вероятные причины появления пропусков является отсутствие трудового стажа (заемщик не был трудоустроен) соответственно не имеет ежемесячный доход, либо техническая ошибка при выгрузке датафрейма."
   ]
  },
  {
   "cell_type": "markdown",
   "id": "3137d257",
   "metadata": {
    "deletable": false,
    "editable": false,
    "id": "3137d257"
   },
   "source": [
    "#### 3.6 Объясните, почему заполнить пропуски медианным значением — лучшее решение для количественных переменных."
   ]
  },
  {
   "cell_type": "markdown",
   "id": "cf40012a",
   "metadata": {
    "deletable": false,
    "id": "cf40012a"
   },
   "source": [
    "*Ответ:* Пропуски в датафрейме находились в столбцах типа float. Чтобы не терять информацию в строках с пропусками, логичнее всего заполнить пропуски медианным значением."
   ]
  },
  {
   "cell_type": "markdown",
   "id": "57bc304e",
   "metadata": {
    "deletable": false,
    "editable": false,
    "id": "57bc304e"
   },
   "source": [
    "### Шаг 4: общий вывод."
   ]
  },
  {
   "cell_type": "markdown",
   "id": "cf112948",
   "metadata": {
    "deletable": false,
    "id": "1ab75d1c"
   },
   "source": [
    "Иследование показало, что прямых зависемостей между количеством детей, семейным положением, уровнем дохода и возвратом кредита в срок нет. А также наибольше количество выданых кредитов входит в категорию \"операции с недвижимостью\", меньше всего заемщиков брали кредит на проведение свадьбы. Наибольшее число заемщиков имеют средний ежемесечный доход, состоят в браке и не имеют детей."
   ]
  }
 ],
 "metadata": {
  "ExecuteTimeLog": [
   {
    "duration": 499,
    "start_time": "2023-06-30T18:45:43.546Z"
   },
   {
    "duration": 27,
    "start_time": "2023-06-30T18:45:44.048Z"
   },
   {
    "duration": 22,
    "start_time": "2023-06-30T18:45:44.077Z"
   },
   {
    "duration": 9,
    "start_time": "2023-06-30T18:45:44.101Z"
   },
   {
    "duration": 51,
    "start_time": "2023-06-30T18:45:44.112Z"
   },
   {
    "duration": 4,
    "start_time": "2023-06-30T18:45:44.165Z"
   },
   {
    "duration": 14,
    "start_time": "2023-06-30T18:45:44.170Z"
   },
   {
    "duration": 7,
    "start_time": "2023-06-30T18:45:44.185Z"
   },
   {
    "duration": 17,
    "start_time": "2023-06-30T18:45:44.194Z"
   },
   {
    "duration": 14,
    "start_time": "2023-06-30T18:45:44.214Z"
   },
   {
    "duration": 46,
    "start_time": "2023-06-30T18:45:44.230Z"
   },
   {
    "duration": 13,
    "start_time": "2023-06-30T18:45:44.278Z"
   },
   {
    "duration": 5,
    "start_time": "2023-06-30T18:45:44.293Z"
   },
   {
    "duration": 21,
    "start_time": "2023-06-30T18:45:44.300Z"
   },
   {
    "duration": 52,
    "start_time": "2023-06-30T18:45:44.323Z"
   },
   {
    "duration": 23,
    "start_time": "2023-06-30T18:45:44.378Z"
   },
   {
    "duration": 5,
    "start_time": "2023-06-30T18:45:44.402Z"
   },
   {
    "duration": 13,
    "start_time": "2023-06-30T18:45:44.408Z"
   },
   {
    "duration": 34,
    "start_time": "2023-06-30T18:45:44.423Z"
   },
   {
    "duration": 3,
    "start_time": "2023-06-30T18:45:44.459Z"
   },
   {
    "duration": 14,
    "start_time": "2023-06-30T18:45:44.464Z"
   },
   {
    "duration": 8,
    "start_time": "2023-06-30T18:45:44.480Z"
   },
   {
    "duration": 6,
    "start_time": "2023-06-30T18:45:44.489Z"
   },
   {
    "duration": 5,
    "start_time": "2023-06-30T18:45:44.497Z"
   },
   {
    "duration": 6,
    "start_time": "2023-06-30T18:45:44.503Z"
   },
   {
    "duration": 21,
    "start_time": "2023-06-30T18:46:28.504Z"
   },
   {
    "duration": 28,
    "start_time": "2023-06-30T19:10:08.230Z"
   },
   {
    "duration": 7,
    "start_time": "2023-06-30T19:10:56.328Z"
   },
   {
    "duration": 7,
    "start_time": "2023-06-30T19:11:23.932Z"
   },
   {
    "duration": 12,
    "start_time": "2023-06-30T19:11:55.580Z"
   },
   {
    "duration": 15,
    "start_time": "2023-06-30T19:12:38.456Z"
   },
   {
    "duration": 11,
    "start_time": "2023-06-30T19:16:50.196Z"
   },
   {
    "duration": 38,
    "start_time": "2023-06-30T19:17:32.651Z"
   },
   {
    "duration": 8,
    "start_time": "2023-06-30T19:18:48.046Z"
   },
   {
    "duration": 11,
    "start_time": "2023-06-30T19:18:55.291Z"
   },
   {
    "duration": 18,
    "start_time": "2023-06-30T19:30:23.649Z"
   },
   {
    "duration": 18,
    "start_time": "2023-06-30T19:33:10.072Z"
   },
   {
    "duration": 15,
    "start_time": "2023-06-30T19:34:26.064Z"
   },
   {
    "duration": 11,
    "start_time": "2023-06-30T19:44:43.168Z"
   },
   {
    "duration": 518,
    "start_time": "2023-07-02T07:45:20.801Z"
   },
   {
    "duration": 25,
    "start_time": "2023-07-02T07:45:21.321Z"
   },
   {
    "duration": 19,
    "start_time": "2023-07-02T07:45:21.350Z"
   },
   {
    "duration": 12,
    "start_time": "2023-07-02T07:45:21.371Z"
   },
   {
    "duration": 34,
    "start_time": "2023-07-02T07:45:21.384Z"
   },
   {
    "duration": 4,
    "start_time": "2023-07-02T07:45:21.419Z"
   },
   {
    "duration": 22,
    "start_time": "2023-07-02T07:45:21.425Z"
   },
   {
    "duration": 15,
    "start_time": "2023-07-02T07:45:21.449Z"
   },
   {
    "duration": 9,
    "start_time": "2023-07-02T07:45:21.467Z"
   },
   {
    "duration": 9,
    "start_time": "2023-07-02T07:45:21.479Z"
   },
   {
    "duration": 43,
    "start_time": "2023-07-02T07:45:21.490Z"
   },
   {
    "duration": 9,
    "start_time": "2023-07-02T07:45:21.535Z"
   },
   {
    "duration": 18,
    "start_time": "2023-07-02T07:45:21.545Z"
   },
   {
    "duration": 16,
    "start_time": "2023-07-02T07:45:21.577Z"
   },
   {
    "duration": 29,
    "start_time": "2023-07-02T07:45:21.594Z"
   },
   {
    "duration": 20,
    "start_time": "2023-07-02T07:45:21.625Z"
   },
   {
    "duration": 4,
    "start_time": "2023-07-02T07:45:21.648Z"
   },
   {
    "duration": 31,
    "start_time": "2023-07-02T07:45:21.654Z"
   },
   {
    "duration": 12,
    "start_time": "2023-07-02T07:45:21.686Z"
   },
   {
    "duration": 4,
    "start_time": "2023-07-02T07:45:21.700Z"
   },
   {
    "duration": 43,
    "start_time": "2023-07-02T07:45:21.706Z"
   },
   {
    "duration": 8,
    "start_time": "2023-07-02T07:45:21.750Z"
   },
   {
    "duration": 11,
    "start_time": "2023-07-02T07:45:21.760Z"
   },
   {
    "duration": 10,
    "start_time": "2023-07-02T07:45:21.780Z"
   },
   {
    "duration": 11,
    "start_time": "2023-07-02T07:45:21.792Z"
   },
   {
    "duration": 67,
    "start_time": "2023-07-02T07:46:07.515Z"
   },
   {
    "duration": 8,
    "start_time": "2023-07-02T07:46:21.278Z"
   },
   {
    "duration": 960,
    "start_time": "2023-07-02T07:48:26.778Z"
   },
   {
    "duration": 962,
    "start_time": "2023-07-02T07:48:30.838Z"
   },
   {
    "duration": 12,
    "start_time": "2023-07-02T07:48:44.399Z"
   },
   {
    "duration": 8,
    "start_time": "2023-07-02T07:49:06.975Z"
   },
   {
    "duration": 8,
    "start_time": "2023-07-02T07:49:26.943Z"
   },
   {
    "duration": 9,
    "start_time": "2023-07-02T07:49:34.570Z"
   },
   {
    "duration": 8,
    "start_time": "2023-07-02T07:49:49.590Z"
   },
   {
    "duration": 556,
    "start_time": "2023-07-02T07:53:23.297Z"
   },
   {
    "duration": 61,
    "start_time": "2023-07-02T07:53:49.116Z"
   },
   {
    "duration": 17,
    "start_time": "2023-07-02T07:58:46.081Z"
   },
   {
    "duration": 23,
    "start_time": "2023-07-02T07:58:56.275Z"
   },
   {
    "duration": 14,
    "start_time": "2023-07-02T07:59:06.101Z"
   },
   {
    "duration": 6,
    "start_time": "2023-07-02T07:59:26.044Z"
   },
   {
    "duration": 10,
    "start_time": "2023-07-02T07:59:42.319Z"
   },
   {
    "duration": 9,
    "start_time": "2023-07-02T08:00:22.003Z"
   },
   {
    "duration": 12,
    "start_time": "2023-07-02T08:00:35.193Z"
   },
   {
    "duration": 23,
    "start_time": "2023-07-02T08:00:44.075Z"
   },
   {
    "duration": 11,
    "start_time": "2023-07-02T08:01:58.773Z"
   },
   {
    "duration": 8,
    "start_time": "2023-07-02T08:12:09.193Z"
   },
   {
    "duration": 12,
    "start_time": "2023-07-02T08:12:13.289Z"
   },
   {
    "duration": 21,
    "start_time": "2023-07-02T08:12:45.690Z"
   },
   {
    "duration": 15,
    "start_time": "2023-07-02T08:12:57.112Z"
   },
   {
    "duration": 13,
    "start_time": "2023-07-02T08:13:12.916Z"
   },
   {
    "duration": 13,
    "start_time": "2023-07-02T08:13:41.550Z"
   },
   {
    "duration": 18,
    "start_time": "2023-07-02T08:16:15.161Z"
   },
   {
    "duration": 11,
    "start_time": "2023-07-02T08:16:21.365Z"
   },
   {
    "duration": 12,
    "start_time": "2023-07-02T08:17:34.902Z"
   },
   {
    "duration": 18,
    "start_time": "2023-07-02T08:18:02.150Z"
   },
   {
    "duration": 14,
    "start_time": "2023-07-02T08:18:17.701Z"
   },
   {
    "duration": 11,
    "start_time": "2023-07-02T08:18:34.237Z"
   },
   {
    "duration": 14,
    "start_time": "2023-07-02T08:24:56.254Z"
   },
   {
    "duration": 15,
    "start_time": "2023-07-02T08:25:44.848Z"
   },
   {
    "duration": 12,
    "start_time": "2023-07-02T08:26:16.537Z"
   },
   {
    "duration": 15,
    "start_time": "2023-07-02T08:27:46.135Z"
   },
   {
    "duration": 14,
    "start_time": "2023-07-02T08:28:07.928Z"
   },
   {
    "duration": 21,
    "start_time": "2023-07-02T08:29:09.567Z"
   },
   {
    "duration": 212,
    "start_time": "2023-07-02T08:30:30.913Z"
   },
   {
    "duration": 133,
    "start_time": "2023-07-02T08:31:28.360Z"
   },
   {
    "duration": 146,
    "start_time": "2023-07-02T08:31:45.581Z"
   },
   {
    "duration": 21,
    "start_time": "2023-07-02T08:31:53.553Z"
   },
   {
    "duration": 26,
    "start_time": "2023-07-02T08:32:12.851Z"
   },
   {
    "duration": 25,
    "start_time": "2023-07-02T08:32:45.878Z"
   },
   {
    "duration": 19,
    "start_time": "2023-07-02T08:33:51.619Z"
   },
   {
    "duration": 19,
    "start_time": "2023-07-02T08:34:04.298Z"
   },
   {
    "duration": 20,
    "start_time": "2023-07-02T08:36:08.277Z"
   },
   {
    "duration": 33,
    "start_time": "2023-07-02T08:36:16.476Z"
   },
   {
    "duration": 23,
    "start_time": "2023-07-02T08:36:24.968Z"
   },
   {
    "duration": 2074,
    "start_time": "2023-07-02T08:42:34.813Z"
   },
   {
    "duration": 2693,
    "start_time": "2023-07-02T08:49:55.238Z"
   },
   {
    "duration": 18,
    "start_time": "2023-07-02T08:50:07.311Z"
   },
   {
    "duration": 8,
    "start_time": "2023-07-02T08:56:33.847Z"
   },
   {
    "duration": 60,
    "start_time": "2023-07-02T08:57:09.734Z"
   },
   {
    "duration": 1558,
    "start_time": "2023-07-02T08:57:30.172Z"
   },
   {
    "duration": 9,
    "start_time": "2023-07-02T08:58:11.596Z"
   },
   {
    "duration": 42,
    "start_time": "2023-07-02T08:58:17.288Z"
   },
   {
    "duration": 17,
    "start_time": "2023-07-02T08:59:46.135Z"
   },
   {
    "duration": 14,
    "start_time": "2023-07-02T09:01:07.705Z"
   },
   {
    "duration": 17,
    "start_time": "2023-07-02T09:01:46.298Z"
   },
   {
    "duration": 15,
    "start_time": "2023-07-02T09:02:00.021Z"
   },
   {
    "duration": 14,
    "start_time": "2023-07-02T09:02:10.440Z"
   },
   {
    "duration": 33,
    "start_time": "2023-07-02T09:02:44.898Z"
   },
   {
    "duration": 12,
    "start_time": "2023-07-02T09:03:14.999Z"
   },
   {
    "duration": 12,
    "start_time": "2023-07-02T09:03:22.613Z"
   },
   {
    "duration": 11,
    "start_time": "2023-07-02T09:03:27.547Z"
   },
   {
    "duration": 54,
    "start_time": "2023-07-02T09:03:36.301Z"
   },
   {
    "duration": 123,
    "start_time": "2023-07-02T09:03:43.135Z"
   },
   {
    "duration": 59,
    "start_time": "2023-07-02T09:03:52.942Z"
   },
   {
    "duration": 52,
    "start_time": "2023-07-02T09:04:07.250Z"
   },
   {
    "duration": 68,
    "start_time": "2023-07-02T09:05:31.635Z"
   },
   {
    "duration": 42,
    "start_time": "2023-07-02T09:06:13.308Z"
   },
   {
    "duration": 49,
    "start_time": "2023-07-02T09:10:08.274Z"
   },
   {
    "duration": 47,
    "start_time": "2023-07-02T09:11:20.382Z"
   },
   {
    "duration": 80,
    "start_time": "2023-07-02T09:25:28.903Z"
   },
   {
    "duration": 148,
    "start_time": "2023-07-02T09:25:50.449Z"
   },
   {
    "duration": 71,
    "start_time": "2023-07-02T09:26:19.742Z"
   },
   {
    "duration": 53,
    "start_time": "2023-07-02T09:29:01.029Z"
   },
   {
    "duration": 55,
    "start_time": "2023-07-02T09:29:17.483Z"
   },
   {
    "duration": 71,
    "start_time": "2023-07-02T09:29:45.011Z"
   },
   {
    "duration": 44,
    "start_time": "2023-07-02T09:30:04.797Z"
   },
   {
    "duration": 24,
    "start_time": "2023-07-02T09:46:48.656Z"
   },
   {
    "duration": 15,
    "start_time": "2023-07-02T09:47:21.065Z"
   },
   {
    "duration": 13,
    "start_time": "2023-07-02T09:48:21.990Z"
   },
   {
    "duration": 17,
    "start_time": "2023-07-02T09:48:39.397Z"
   },
   {
    "duration": 17,
    "start_time": "2023-07-02T09:49:09.703Z"
   },
   {
    "duration": 17,
    "start_time": "2023-07-02T09:49:21.812Z"
   },
   {
    "duration": 18,
    "start_time": "2023-07-02T09:50:49.896Z"
   },
   {
    "duration": 17,
    "start_time": "2023-07-02T09:51:02.694Z"
   },
   {
    "duration": 29,
    "start_time": "2023-07-02T10:06:44.822Z"
   },
   {
    "duration": 20,
    "start_time": "2023-07-02T10:07:36.526Z"
   },
   {
    "duration": 19,
    "start_time": "2023-07-02T10:12:49.420Z"
   },
   {
    "duration": 12,
    "start_time": "2023-07-02T10:13:28.798Z"
   },
   {
    "duration": 16,
    "start_time": "2023-07-02T10:13:37.425Z"
   },
   {
    "duration": 9,
    "start_time": "2023-07-02T10:14:21.838Z"
   },
   {
    "duration": 9,
    "start_time": "2023-07-02T10:14:38.606Z"
   },
   {
    "duration": 5,
    "start_time": "2023-07-02T10:15:27.444Z"
   },
   {
    "duration": 5,
    "start_time": "2023-07-02T10:15:30.995Z"
   },
   {
    "duration": 9,
    "start_time": "2023-07-02T10:15:39.777Z"
   },
   {
    "duration": 23,
    "start_time": "2023-07-02T10:16:27.710Z"
   },
   {
    "duration": 14,
    "start_time": "2023-07-02T10:17:00.207Z"
   },
   {
    "duration": 10,
    "start_time": "2023-07-02T10:17:06.599Z"
   },
   {
    "duration": 15,
    "start_time": "2023-07-02T10:17:37.824Z"
   },
   {
    "duration": 6,
    "start_time": "2023-07-02T10:18:04.893Z"
   },
   {
    "duration": 10,
    "start_time": "2023-07-02T10:18:20.905Z"
   },
   {
    "duration": 16,
    "start_time": "2023-07-02T10:19:01.729Z"
   },
   {
    "duration": 14,
    "start_time": "2023-07-02T10:22:00.343Z"
   },
   {
    "duration": 13,
    "start_time": "2023-07-02T10:22:21.986Z"
   },
   {
    "duration": 12,
    "start_time": "2023-07-02T10:23:42.114Z"
   },
   {
    "duration": 11,
    "start_time": "2023-07-02T10:23:45.522Z"
   },
   {
    "duration": 19,
    "start_time": "2023-07-02T10:23:58.802Z"
   },
   {
    "duration": 19,
    "start_time": "2023-07-02T10:24:19.437Z"
   },
   {
    "duration": 20,
    "start_time": "2023-07-02T10:24:25.397Z"
   },
   {
    "duration": 16,
    "start_time": "2023-07-02T10:25:24.903Z"
   },
   {
    "duration": 19,
    "start_time": "2023-07-02T10:25:40.372Z"
   },
   {
    "duration": 23,
    "start_time": "2023-07-02T10:27:09.512Z"
   },
   {
    "duration": 75,
    "start_time": "2023-07-02T10:34:36.005Z"
   },
   {
    "duration": 129,
    "start_time": "2023-07-02T10:35:03.092Z"
   },
   {
    "duration": 105,
    "start_time": "2023-07-02T10:53:42.886Z"
   },
   {
    "duration": 30,
    "start_time": "2023-07-02T10:54:35.222Z"
   },
   {
    "duration": 18,
    "start_time": "2023-07-02T10:54:58.633Z"
   },
   {
    "duration": 21,
    "start_time": "2023-07-02T10:58:43.086Z"
   },
   {
    "duration": 22,
    "start_time": "2023-07-02T10:58:54.725Z"
   },
   {
    "duration": 20,
    "start_time": "2023-07-02T11:00:42.921Z"
   },
   {
    "duration": 23,
    "start_time": "2023-07-02T11:09:28.491Z"
   },
   {
    "duration": 25,
    "start_time": "2023-07-02T11:09:54.847Z"
   },
   {
    "duration": 20,
    "start_time": "2023-07-02T11:10:29.610Z"
   },
   {
    "duration": 22,
    "start_time": "2023-07-02T11:10:36.424Z"
   },
   {
    "duration": 36,
    "start_time": "2023-07-02T11:14:16.457Z"
   },
   {
    "duration": 18,
    "start_time": "2023-07-02T11:14:37.111Z"
   },
   {
    "duration": 28,
    "start_time": "2023-07-02T11:14:46.521Z"
   },
   {
    "duration": 25,
    "start_time": "2023-07-02T11:16:26.199Z"
   },
   {
    "duration": 24,
    "start_time": "2023-07-02T11:16:43.421Z"
   },
   {
    "duration": 26,
    "start_time": "2023-07-02T11:18:53.041Z"
   },
   {
    "duration": 18,
    "start_time": "2023-07-02T11:20:43.808Z"
   },
   {
    "duration": 31,
    "start_time": "2023-07-02T11:20:56.674Z"
   },
   {
    "duration": 25,
    "start_time": "2023-07-02T11:21:35.700Z"
   },
   {
    "duration": 38,
    "start_time": "2023-07-02T11:21:44.053Z"
   },
   {
    "duration": 28,
    "start_time": "2023-07-02T11:21:50.715Z"
   },
   {
    "duration": 23,
    "start_time": "2023-07-02T11:21:59.108Z"
   },
   {
    "duration": 15,
    "start_time": "2023-07-02T11:22:35.417Z"
   },
   {
    "duration": 20,
    "start_time": "2023-07-02T11:22:42.613Z"
   },
   {
    "duration": 23,
    "start_time": "2023-07-02T11:25:04.936Z"
   },
   {
    "duration": 36,
    "start_time": "2023-07-02T11:25:27.839Z"
   },
   {
    "duration": 20,
    "start_time": "2023-07-02T11:25:51.291Z"
   },
   {
    "duration": 21,
    "start_time": "2023-07-02T11:26:05.034Z"
   },
   {
    "duration": 21,
    "start_time": "2023-07-02T11:26:43.136Z"
   },
   {
    "duration": 0,
    "start_time": "2023-07-02T11:31:55.639Z"
   },
   {
    "duration": 84,
    "start_time": "2023-07-02T11:32:07.049Z"
   },
   {
    "duration": 15,
    "start_time": "2023-07-02T11:32:07.135Z"
   },
   {
    "duration": 39,
    "start_time": "2023-07-02T11:32:07.153Z"
   },
   {
    "duration": 22,
    "start_time": "2023-07-02T11:32:07.195Z"
   },
   {
    "duration": 66,
    "start_time": "2023-07-02T11:32:07.219Z"
   },
   {
    "duration": 7,
    "start_time": "2023-07-02T11:32:07.289Z"
   },
   {
    "duration": 25,
    "start_time": "2023-07-02T11:32:07.298Z"
   },
   {
    "duration": 7,
    "start_time": "2023-07-02T11:32:07.325Z"
   },
   {
    "duration": 52,
    "start_time": "2023-07-02T11:32:07.334Z"
   },
   {
    "duration": 10,
    "start_time": "2023-07-02T11:32:07.390Z"
   },
   {
    "duration": 47,
    "start_time": "2023-07-02T11:32:07.401Z"
   },
   {
    "duration": 53,
    "start_time": "2023-07-02T11:32:07.450Z"
   },
   {
    "duration": 6,
    "start_time": "2023-07-02T11:32:07.504Z"
   },
   {
    "duration": 23,
    "start_time": "2023-07-02T11:32:07.512Z"
   },
   {
    "duration": 22,
    "start_time": "2023-07-02T11:32:07.536Z"
   },
   {
    "duration": 24,
    "start_time": "2023-07-02T11:32:07.559Z"
   },
   {
    "duration": 5,
    "start_time": "2023-07-02T11:32:07.585Z"
   },
   {
    "duration": 29,
    "start_time": "2023-07-02T11:32:07.592Z"
   },
   {
    "duration": 20,
    "start_time": "2023-07-02T11:32:07.623Z"
   },
   {
    "duration": 24,
    "start_time": "2023-07-02T11:32:07.645Z"
   },
   {
    "duration": 46,
    "start_time": "2023-07-02T11:32:07.671Z"
   },
   {
    "duration": 33,
    "start_time": "2023-07-02T11:32:07.719Z"
   },
   {
    "duration": 0,
    "start_time": "2023-07-02T11:32:07.754Z"
   },
   {
    "duration": 0,
    "start_time": "2023-07-02T11:32:07.755Z"
   },
   {
    "duration": 1,
    "start_time": "2023-07-02T11:32:07.756Z"
   },
   {
    "duration": 31,
    "start_time": "2023-07-02T11:32:23.952Z"
   },
   {
    "duration": 24,
    "start_time": "2023-07-02T11:32:53.014Z"
   },
   {
    "duration": 19,
    "start_time": "2023-07-02T11:34:17.922Z"
   },
   {
    "duration": 33,
    "start_time": "2023-07-02T11:42:08.833Z"
   },
   {
    "duration": 15,
    "start_time": "2023-07-02T11:42:48.112Z"
   },
   {
    "duration": 22,
    "start_time": "2023-07-02T11:42:52.009Z"
   },
   {
    "duration": 21,
    "start_time": "2023-07-02T11:44:45.492Z"
   },
   {
    "duration": 89,
    "start_time": "2023-07-02T11:46:25.821Z"
   },
   {
    "duration": 35,
    "start_time": "2023-07-02T11:46:37.545Z"
   },
   {
    "duration": 19,
    "start_time": "2023-07-02T11:46:57.317Z"
   },
   {
    "duration": 26,
    "start_time": "2023-07-02T11:47:11.250Z"
   },
   {
    "duration": 20,
    "start_time": "2023-07-02T11:47:40.305Z"
   },
   {
    "duration": 97,
    "start_time": "2023-07-02T11:50:15.689Z"
   },
   {
    "duration": 85,
    "start_time": "2023-07-02T11:50:31.502Z"
   },
   {
    "duration": 93,
    "start_time": "2023-07-02T11:50:40.493Z"
   },
   {
    "duration": 20,
    "start_time": "2023-07-02T11:50:46.221Z"
   },
   {
    "duration": 28,
    "start_time": "2023-07-02T11:56:04.834Z"
   },
   {
    "duration": 104,
    "start_time": "2023-07-02T11:56:35.917Z"
   },
   {
    "duration": 36,
    "start_time": "2023-07-02T11:56:42.945Z"
   },
   {
    "duration": 87,
    "start_time": "2023-07-02T11:58:08.098Z"
   },
   {
    "duration": 8,
    "start_time": "2023-07-02T11:58:12.385Z"
   },
   {
    "duration": 30,
    "start_time": "2023-07-02T11:58:16.557Z"
   },
   {
    "duration": 17,
    "start_time": "2023-07-02T11:58:42.793Z"
   },
   {
    "duration": 24,
    "start_time": "2023-07-02T11:59:25.143Z"
   },
   {
    "duration": 19,
    "start_time": "2023-07-02T12:03:30.172Z"
   },
   {
    "duration": 26,
    "start_time": "2023-07-02T12:03:57.752Z"
   },
   {
    "duration": 19,
    "start_time": "2023-07-02T12:05:53.697Z"
   },
   {
    "duration": 20,
    "start_time": "2023-07-02T12:06:14.294Z"
   },
   {
    "duration": 19,
    "start_time": "2023-07-02T12:06:23.978Z"
   },
   {
    "duration": 21,
    "start_time": "2023-07-02T12:06:45.277Z"
   },
   {
    "duration": 19,
    "start_time": "2023-07-02T12:07:19.797Z"
   },
   {
    "duration": 19,
    "start_time": "2023-07-02T12:07:26.329Z"
   },
   {
    "duration": 71,
    "start_time": "2023-07-02T12:13:02.531Z"
   },
   {
    "duration": 67,
    "start_time": "2023-07-02T12:13:13.372Z"
   },
   {
    "duration": 21,
    "start_time": "2023-07-02T12:13:32.097Z"
   },
   {
    "duration": 20,
    "start_time": "2023-07-02T12:13:55.901Z"
   },
   {
    "duration": 71,
    "start_time": "2023-07-02T12:14:00.276Z"
   },
   {
    "duration": 23,
    "start_time": "2023-07-02T12:14:00.348Z"
   },
   {
    "duration": 55,
    "start_time": "2023-07-02T12:14:00.374Z"
   },
   {
    "duration": 45,
    "start_time": "2023-07-02T12:14:00.432Z"
   },
   {
    "duration": 77,
    "start_time": "2023-07-02T12:14:00.478Z"
   },
   {
    "duration": 14,
    "start_time": "2023-07-02T12:14:00.557Z"
   },
   {
    "duration": 32,
    "start_time": "2023-07-02T12:14:00.574Z"
   },
   {
    "duration": 40,
    "start_time": "2023-07-02T12:14:00.607Z"
   },
   {
    "duration": 27,
    "start_time": "2023-07-02T12:14:00.649Z"
   },
   {
    "duration": 38,
    "start_time": "2023-07-02T12:14:00.679Z"
   },
   {
    "duration": 80,
    "start_time": "2023-07-02T12:14:00.718Z"
   },
   {
    "duration": 14,
    "start_time": "2023-07-02T12:14:00.800Z"
   },
   {
    "duration": 25,
    "start_time": "2023-07-02T12:14:00.816Z"
   },
   {
    "duration": 73,
    "start_time": "2023-07-02T12:14:00.843Z"
   },
   {
    "duration": 41,
    "start_time": "2023-07-02T12:14:00.918Z"
   },
   {
    "duration": 34,
    "start_time": "2023-07-02T12:14:00.962Z"
   },
   {
    "duration": 13,
    "start_time": "2023-07-02T12:14:00.998Z"
   },
   {
    "duration": 51,
    "start_time": "2023-07-02T12:14:01.012Z"
   },
   {
    "duration": 33,
    "start_time": "2023-07-02T12:14:01.064Z"
   },
   {
    "duration": 31,
    "start_time": "2023-07-02T12:14:01.099Z"
   },
   {
    "duration": 57,
    "start_time": "2023-07-02T12:14:01.132Z"
   },
   {
    "duration": 56,
    "start_time": "2023-07-02T12:14:01.190Z"
   },
   {
    "duration": 0,
    "start_time": "2023-07-02T12:14:01.247Z"
   },
   {
    "duration": 0,
    "start_time": "2023-07-02T12:14:01.248Z"
   },
   {
    "duration": 0,
    "start_time": "2023-07-02T12:14:01.249Z"
   },
   {
    "duration": 18,
    "start_time": "2023-07-02T12:14:33.205Z"
   },
   {
    "duration": 19,
    "start_time": "2023-07-02T12:20:58.408Z"
   },
   {
    "duration": 4,
    "start_time": "2023-07-02T12:34:41.539Z"
   },
   {
    "duration": 45,
    "start_time": "2023-07-02T12:48:24.933Z"
   },
   {
    "duration": 36,
    "start_time": "2023-07-02T12:50:27.777Z"
   },
   {
    "duration": 601,
    "start_time": "2023-07-02T12:50:54.177Z"
   },
   {
    "duration": 46,
    "start_time": "2023-07-02T12:51:57.864Z"
   },
   {
    "duration": 35,
    "start_time": "2023-07-02T12:52:03.076Z"
   },
   {
    "duration": 34,
    "start_time": "2023-07-02T13:07:46.533Z"
   },
   {
    "duration": 39,
    "start_time": "2023-07-02T13:08:59.036Z"
   },
   {
    "duration": 52,
    "start_time": "2023-07-02T13:10:12.952Z"
   },
   {
    "duration": 86,
    "start_time": "2023-07-02T13:44:59.398Z"
   },
   {
    "duration": 58,
    "start_time": "2023-07-02T13:45:17.344Z"
   },
   {
    "duration": 88,
    "start_time": "2023-07-02T13:45:50.356Z"
   },
   {
    "duration": 38,
    "start_time": "2023-07-02T13:46:44.413Z"
   },
   {
    "duration": 39,
    "start_time": "2023-07-02T13:47:03.981Z"
   },
   {
    "duration": 64,
    "start_time": "2023-07-02T14:38:43.913Z"
   },
   {
    "duration": 77,
    "start_time": "2023-07-02T14:48:19.221Z"
   },
   {
    "duration": 19,
    "start_time": "2023-07-02T14:48:19.301Z"
   },
   {
    "duration": 25,
    "start_time": "2023-07-02T14:48:19.321Z"
   },
   {
    "duration": 22,
    "start_time": "2023-07-02T14:48:19.348Z"
   },
   {
    "duration": 41,
    "start_time": "2023-07-02T14:48:19.375Z"
   },
   {
    "duration": 4,
    "start_time": "2023-07-02T14:48:19.417Z"
   },
   {
    "duration": 14,
    "start_time": "2023-07-02T14:48:19.422Z"
   },
   {
    "duration": 4,
    "start_time": "2023-07-02T14:48:19.438Z"
   },
   {
    "duration": 23,
    "start_time": "2023-07-02T14:48:19.444Z"
   },
   {
    "duration": 9,
    "start_time": "2023-07-02T14:48:19.476Z"
   },
   {
    "duration": 36,
    "start_time": "2023-07-02T14:48:19.487Z"
   },
   {
    "duration": 11,
    "start_time": "2023-07-02T14:48:19.524Z"
   },
   {
    "duration": 23,
    "start_time": "2023-07-02T14:48:19.537Z"
   },
   {
    "duration": 19,
    "start_time": "2023-07-02T14:48:19.565Z"
   },
   {
    "duration": 32,
    "start_time": "2023-07-02T14:48:19.586Z"
   },
   {
    "duration": 19,
    "start_time": "2023-07-02T14:48:19.620Z"
   },
   {
    "duration": 4,
    "start_time": "2023-07-02T14:48:19.641Z"
   },
   {
    "duration": 25,
    "start_time": "2023-07-02T14:48:19.660Z"
   },
   {
    "duration": 12,
    "start_time": "2023-07-02T14:48:19.688Z"
   },
   {
    "duration": 28,
    "start_time": "2023-07-02T14:48:19.701Z"
   },
   {
    "duration": 22,
    "start_time": "2023-07-02T14:48:19.731Z"
   },
   {
    "duration": 32,
    "start_time": "2023-07-02T14:48:19.754Z"
   },
   {
    "duration": 42,
    "start_time": "2023-07-02T14:48:19.787Z"
   },
   {
    "duration": 49,
    "start_time": "2023-07-02T14:48:19.831Z"
   },
   {
    "duration": 42,
    "start_time": "2023-07-02T14:48:19.881Z"
   },
   {
    "duration": 497,
    "start_time": "2023-07-02T14:54:01.247Z"
   },
   {
    "duration": 32,
    "start_time": "2023-07-02T14:54:01.746Z"
   },
   {
    "duration": 49,
    "start_time": "2023-07-02T14:54:01.781Z"
   },
   {
    "duration": 16,
    "start_time": "2023-07-02T14:54:01.832Z"
   },
   {
    "duration": 59,
    "start_time": "2023-07-02T14:54:01.849Z"
   },
   {
    "duration": 13,
    "start_time": "2023-07-02T14:54:01.909Z"
   },
   {
    "duration": 41,
    "start_time": "2023-07-02T14:54:01.924Z"
   },
   {
    "duration": 60,
    "start_time": "2023-07-02T14:54:01.967Z"
   },
   {
    "duration": 32,
    "start_time": "2023-07-02T14:54:02.029Z"
   },
   {
    "duration": 38,
    "start_time": "2023-07-02T14:54:02.064Z"
   },
   {
    "duration": 42,
    "start_time": "2023-07-02T14:54:02.105Z"
   },
   {
    "duration": 13,
    "start_time": "2023-07-02T14:54:02.149Z"
   },
   {
    "duration": 38,
    "start_time": "2023-07-02T14:54:02.164Z"
   },
   {
    "duration": 26,
    "start_time": "2023-07-02T14:54:02.204Z"
   },
   {
    "duration": 50,
    "start_time": "2023-07-02T14:54:02.232Z"
   },
   {
    "duration": 29,
    "start_time": "2023-07-02T14:54:02.284Z"
   },
   {
    "duration": 4,
    "start_time": "2023-07-02T14:54:02.314Z"
   },
   {
    "duration": 32,
    "start_time": "2023-07-02T14:54:02.320Z"
   },
   {
    "duration": 36,
    "start_time": "2023-07-02T14:54:02.354Z"
   },
   {
    "duration": 4,
    "start_time": "2023-07-02T14:54:02.392Z"
   },
   {
    "duration": 34,
    "start_time": "2023-07-02T14:54:02.398Z"
   },
   {
    "duration": 310,
    "start_time": "2023-07-02T14:54:02.434Z"
   },
   {
    "duration": 48,
    "start_time": "2023-07-02T14:54:02.745Z"
   },
   {
    "duration": 31,
    "start_time": "2023-07-02T14:54:02.795Z"
   },
   {
    "duration": 50,
    "start_time": "2023-07-02T14:54:02.827Z"
   },
   {
    "duration": 134,
    "start_time": "2023-07-02T14:56:25.807Z"
   }
  ],
  "colab": {
   "provenance": []
  },
  "kernelspec": {
   "display_name": "Python 3 (ipykernel)",
   "language": "python",
   "name": "python3"
  },
  "language_info": {
   "codemirror_mode": {
    "name": "ipython",
    "version": 3
   },
   "file_extension": ".py",
   "mimetype": "text/x-python",
   "name": "python",
   "nbconvert_exporter": "python",
   "pygments_lexer": "ipython3",
   "version": "3.11.4"
  },
  "toc": {
   "base_numbering": 1,
   "nav_menu": {},
   "number_sections": true,
   "sideBar": true,
   "skip_h1_title": true,
   "title_cell": "Table of Contents",
   "title_sidebar": "Contents",
   "toc_cell": false,
   "toc_position": {},
   "toc_section_display": true,
   "toc_window_display": false
  }
 },
 "nbformat": 4,
 "nbformat_minor": 5
}
