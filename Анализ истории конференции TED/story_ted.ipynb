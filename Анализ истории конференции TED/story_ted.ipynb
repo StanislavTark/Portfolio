{
 "cells": [
  {
   "cell_type": "markdown",
   "id": "5ab8fe37",
   "metadata": {},
   "source": [
    "# Анализ истории конференций TED"
   ]
  },
  {
   "cell_type": "markdown",
   "id": "6c2364a1",
   "metadata": {},
   "source": [
    "TED (от англ. technology, education, design — «технологии, образование, дизайн») — некоммерческий фонд, который проводит популярные конференции. На них выступают специалисты из разных областей и читают лекции на актуальные социальные, культурные и научные темы. Исследовать историю TED-конференций и создадать дашборд в Tableau на основе полученных данных.\n",
    "\n",
    "**Описание данных**\n",
    "\n",
    "Файлы `tableau_project_data_1.csv`, `tableau_project_data_2.csv`, `tableau_project_data_3.csv` хранят данные выступлений. У них одинаковая структура:\n",
    "* `talk_id` — идентификатор выступления;\n",
    "* `url` — ссылка на запись выступления;\n",
    "* `title` — название выступления;\n",
    "* `description` — краткое описание;\n",
    "* `film_date` — дата записи выступления;\n",
    "* `duration` — длительность в секундах;\n",
    "* `views` — количество просмотров;\n",
    "* `main_tag` — основная категория, к которой относится выступление;\n",
    "* `speaker_id` — уникальный идентификатор автора выступления;\n",
    "* `laughter_count` — количество раз, когда аудитория смеялась в ходе выступления;\n",
    "* `applause_count` — количество раз, когда аудитория аплодировала в ходе выступления;\n",
    "* `language — язык`, на котором велось выступление;\n",
    "* `event_id` — уникальный идентификатор конференции.\n",
    "\n",
    "Файл `tableau_project_event_dict.csv` — справочник конференций. Описание таблицы:\n",
    "* `conf_id` — уникальный идентификатор конференции;\n",
    "* `event` — название конференции;\n",
    "* `country` — страна проведения конференции.\n",
    "\n",
    "Файл `tableau_project_speakers_dict.csv` — справочник авторов выступления. Описание таблицы:\n",
    "* `author_id` — уникальный идентификатор автора выступления;\n",
    "* `speaker_name` — имя автора;\n",
    "* `speaker_occupation` — профессиональная область автора;\n",
    "* `speaker_description` — описание профессиональной деятельности автора."
   ]
  },
  {
   "cell_type": "markdown",
   "id": "723478cc",
   "metadata": {},
   "source": [
    "Подготовлен интерактивный дашборд на основе данных о конференциях. Для создания дашбордов использован BI-инструмент Tableau.\n",
    "\n",
    "Ссылка: https://public.tableau.com/app/profile/.56683918/viz/tableu_project_presentation/TED?publish=yes"
   ]
  }
 ],
 "metadata": {
  "kernelspec": {
   "display_name": "Python 3 (ipykernel)",
   "language": "python",
   "name": "python3"
  },
  "language_info": {
   "codemirror_mode": {
    "name": "ipython",
    "version": 3
   },
   "file_extension": ".py",
   "mimetype": "text/x-python",
   "name": "python",
   "nbconvert_exporter": "python",
   "pygments_lexer": "ipython3",
   "version": "3.11.4"
  },
  "toc": {
   "base_numbering": 1,
   "nav_menu": {},
   "number_sections": true,
   "sideBar": true,
   "skip_h1_title": true,
   "title_cell": "Table of Contents",
   "title_sidebar": "Contents",
   "toc_cell": false,
   "toc_position": {},
   "toc_section_display": true,
   "toc_window_display": false
  }
 },
 "nbformat": 4,
 "nbformat_minor": 5
}
