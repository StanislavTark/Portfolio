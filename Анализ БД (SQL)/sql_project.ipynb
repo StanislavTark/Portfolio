{
 "cells": [
  {
   "cell_type": "markdown",
   "metadata": {},
   "source": [
    "# Анализ БД (SQL)"
   ]
  },
  {
   "cell_type": "markdown",
   "metadata": {},
   "source": [
    "**Задача:**\n",
    "\n",
    "Проанализировать базу данных и ответить на следующие вопросы:\n",
    "\n",
    "* Посчитать, сколько книг вышло после 1 января 2000 года\n",
    "* Для каждой книги посчитать количество обзоров и среднюю оценку\n",
    "* Определить издательство, которое выпустило наибольшее число книг толще 50 страниц — так исключим из анализа брошюры\n",
    "* Определить автора с самой высокой средней оценкой книг — учитывать только книги с 50 и более оценками\n",
    "* Посчитать среднее количество обзоров от пользователей, которые поставили больше 48 оценок\n",
    "\n",
    "**Описание данных:**\n",
    "\n",
    "В базе данных хранятся: информация о книгах, издательствах, авторах, а также пользовательские обзоры книг. \n",
    "\n",
    "* Таблица **books** содержит данные о книгах:\n",
    "    * `book_id` — идентификатор книги\n",
    "    * `author_id` — идентификатор автора\n",
    "    * `title` — название книги\n",
    "    * `num_pages` — количество страниц\n",
    "    * `publication_date` — дата публикации книги\n",
    "    * `publisher_id` — идентификатор издателя\n",
    "\n",
    "\n",
    "* Таблица **authors** содержит данные об авторах:\n",
    "    * `author_id` — идентификатор автора\n",
    "    * `author` — имя автора\n",
    "    \n",
    "    \n",
    "* Таблица **publishers** cодержит данные об издательствах:\n",
    "    * `publisher_id` — идентификатор издательства\n",
    "    * `publisher` — название издательства\n",
    "    \n",
    "    \n",
    "* Таблица **ratings** cодержит данные о пользовательских оценках книг:\n",
    "    * `rating_id` — идентификатор оценки\n",
    "    * `book_id` — идентификатор книги\n",
    "    * `username` — имя пользователя, оставившего оценку\n",
    "    * `rating` — оценка книги\n",
    "    \n",
    "    \n",
    "* Таблица **reviews** cодержит данные о пользовательских обзорах:\n",
    "    * `review_id` — идентификатор обзора\n",
    "    * `book_id` — идентификатор книги\n",
    "    * `username` — имя автора обзора\n",
    "    * `text` — текст обзора"
   ]
  },
  {
   "cell_type": "markdown",
   "metadata": {},
   "source": [
    "## Импорт БД"
   ]
  },
  {
   "cell_type": "code",
   "execution_count": 1,
   "metadata": {},
   "outputs": [],
   "source": [
    "# импортируем библиотеки\n",
    "import pandas as pd\n",
    "from sqlalchemy import text, create_engine"
   ]
  },
  {
   "cell_type": "code",
   "execution_count": 2,
   "metadata": {},
   "outputs": [],
   "source": [
    "# устанавливаем параметры\n",
    "db_config = {'****': '****', # имя пользователя\n",
    "'pwd': '*****', # пароль\n",
    "'host': '******',\n",
    "'port': ****, # порт подключения\n",
    "'db': '****'} # название базы данных\n",
    "connection_string = '******'.format(**db_config)\n",
    "# сохраняем коннектор\n",
    "engine = create_engine(connection_string, connect_args={'****':'****'})\n"
   ]
  },
  {
   "cell_type": "markdown",
   "metadata": {},
   "source": [
    "## Исследование таблиц БД"
   ]
  },
  {
   "cell_type": "code",
   "execution_count": 3,
   "metadata": {},
   "outputs": [
    {
     "name": "stdout",
     "output_type": "stream",
     "text": [
      "\n",
      "Table: books\n"
     ]
    },
    {
     "data": {
      "text/html": [
       "<div>\n",
       "<style scoped>\n",
       "    .dataframe tbody tr th:only-of-type {\n",
       "        vertical-align: middle;\n",
       "    }\n",
       "\n",
       "    .dataframe tbody tr th {\n",
       "        vertical-align: top;\n",
       "    }\n",
       "\n",
       "    .dataframe thead th {\n",
       "        text-align: right;\n",
       "    }\n",
       "</style>\n",
       "<table border=\"1\" class=\"dataframe\">\n",
       "  <thead>\n",
       "    <tr style=\"text-align: right;\">\n",
       "      <th></th>\n",
       "      <th>book_id</th>\n",
       "      <th>author_id</th>\n",
       "      <th>title</th>\n",
       "      <th>num_pages</th>\n",
       "      <th>publication_date</th>\n",
       "      <th>publisher_id</th>\n",
       "    </tr>\n",
       "  </thead>\n",
       "  <tbody>\n",
       "    <tr>\n",
       "      <th>0</th>\n",
       "      <td>1</td>\n",
       "      <td>546</td>\n",
       "      <td>'Salem's Lot</td>\n",
       "      <td>594</td>\n",
       "      <td>2005-11-01</td>\n",
       "      <td>93</td>\n",
       "    </tr>\n",
       "    <tr>\n",
       "      <th>1</th>\n",
       "      <td>2</td>\n",
       "      <td>465</td>\n",
       "      <td>1 000 Places to See Before You Die</td>\n",
       "      <td>992</td>\n",
       "      <td>2003-05-22</td>\n",
       "      <td>336</td>\n",
       "    </tr>\n",
       "    <tr>\n",
       "      <th>2</th>\n",
       "      <td>3</td>\n",
       "      <td>407</td>\n",
       "      <td>13 Little Blue Envelopes (Little Blue Envelope...</td>\n",
       "      <td>322</td>\n",
       "      <td>2010-12-21</td>\n",
       "      <td>135</td>\n",
       "    </tr>\n",
       "    <tr>\n",
       "      <th>3</th>\n",
       "      <td>4</td>\n",
       "      <td>82</td>\n",
       "      <td>1491: New Revelations of the Americas Before C...</td>\n",
       "      <td>541</td>\n",
       "      <td>2006-10-10</td>\n",
       "      <td>309</td>\n",
       "    </tr>\n",
       "    <tr>\n",
       "      <th>4</th>\n",
       "      <td>5</td>\n",
       "      <td>125</td>\n",
       "      <td>1776</td>\n",
       "      <td>386</td>\n",
       "      <td>2006-07-04</td>\n",
       "      <td>268</td>\n",
       "    </tr>\n",
       "  </tbody>\n",
       "</table>\n",
       "</div>"
      ],
      "text/plain": [
       "   book_id  author_id                                              title  \\\n",
       "0        1        546                                       'Salem's Lot   \n",
       "1        2        465                 1 000 Places to See Before You Die   \n",
       "2        3        407  13 Little Blue Envelopes (Little Blue Envelope...   \n",
       "3        4         82  1491: New Revelations of the Americas Before C...   \n",
       "4        5        125                                               1776   \n",
       "\n",
       "   num_pages publication_date  publisher_id  \n",
       "0        594       2005-11-01            93  \n",
       "1        992       2003-05-22           336  \n",
       "2        322       2010-12-21           135  \n",
       "3        541       2006-10-10           309  \n",
       "4        386       2006-07-04           268  "
      ]
     },
     "metadata": {},
     "output_type": "display_data"
    },
    {
     "name": "stdout",
     "output_type": "stream",
     "text": [
      "\n",
      "Table: authors\n"
     ]
    },
    {
     "data": {
      "text/html": [
       "<div>\n",
       "<style scoped>\n",
       "    .dataframe tbody tr th:only-of-type {\n",
       "        vertical-align: middle;\n",
       "    }\n",
       "\n",
       "    .dataframe tbody tr th {\n",
       "        vertical-align: top;\n",
       "    }\n",
       "\n",
       "    .dataframe thead th {\n",
       "        text-align: right;\n",
       "    }\n",
       "</style>\n",
       "<table border=\"1\" class=\"dataframe\">\n",
       "  <thead>\n",
       "    <tr style=\"text-align: right;\">\n",
       "      <th></th>\n",
       "      <th>author_id</th>\n",
       "      <th>author</th>\n",
       "    </tr>\n",
       "  </thead>\n",
       "  <tbody>\n",
       "    <tr>\n",
       "      <th>0</th>\n",
       "      <td>1</td>\n",
       "      <td>A.S. Byatt</td>\n",
       "    </tr>\n",
       "    <tr>\n",
       "      <th>1</th>\n",
       "      <td>2</td>\n",
       "      <td>Aesop/Laura Harris/Laura Gibbs</td>\n",
       "    </tr>\n",
       "    <tr>\n",
       "      <th>2</th>\n",
       "      <td>3</td>\n",
       "      <td>Agatha Christie</td>\n",
       "    </tr>\n",
       "    <tr>\n",
       "      <th>3</th>\n",
       "      <td>4</td>\n",
       "      <td>Alan Brennert</td>\n",
       "    </tr>\n",
       "    <tr>\n",
       "      <th>4</th>\n",
       "      <td>5</td>\n",
       "      <td>Alan Moore/David   Lloyd</td>\n",
       "    </tr>\n",
       "  </tbody>\n",
       "</table>\n",
       "</div>"
      ],
      "text/plain": [
       "   author_id                          author\n",
       "0          1                      A.S. Byatt\n",
       "1          2  Aesop/Laura Harris/Laura Gibbs\n",
       "2          3                 Agatha Christie\n",
       "3          4                   Alan Brennert\n",
       "4          5        Alan Moore/David   Lloyd"
      ]
     },
     "metadata": {},
     "output_type": "display_data"
    },
    {
     "name": "stdout",
     "output_type": "stream",
     "text": [
      "\n",
      "Table: publishers\n"
     ]
    },
    {
     "data": {
      "text/html": [
       "<div>\n",
       "<style scoped>\n",
       "    .dataframe tbody tr th:only-of-type {\n",
       "        vertical-align: middle;\n",
       "    }\n",
       "\n",
       "    .dataframe tbody tr th {\n",
       "        vertical-align: top;\n",
       "    }\n",
       "\n",
       "    .dataframe thead th {\n",
       "        text-align: right;\n",
       "    }\n",
       "</style>\n",
       "<table border=\"1\" class=\"dataframe\">\n",
       "  <thead>\n",
       "    <tr style=\"text-align: right;\">\n",
       "      <th></th>\n",
       "      <th>publisher_id</th>\n",
       "      <th>publisher</th>\n",
       "    </tr>\n",
       "  </thead>\n",
       "  <tbody>\n",
       "    <tr>\n",
       "      <th>0</th>\n",
       "      <td>1</td>\n",
       "      <td>Ace</td>\n",
       "    </tr>\n",
       "    <tr>\n",
       "      <th>1</th>\n",
       "      <td>2</td>\n",
       "      <td>Ace Book</td>\n",
       "    </tr>\n",
       "    <tr>\n",
       "      <th>2</th>\n",
       "      <td>3</td>\n",
       "      <td>Ace Books</td>\n",
       "    </tr>\n",
       "    <tr>\n",
       "      <th>3</th>\n",
       "      <td>4</td>\n",
       "      <td>Ace Hardcover</td>\n",
       "    </tr>\n",
       "    <tr>\n",
       "      <th>4</th>\n",
       "      <td>5</td>\n",
       "      <td>Addison Wesley Publishing Company</td>\n",
       "    </tr>\n",
       "  </tbody>\n",
       "</table>\n",
       "</div>"
      ],
      "text/plain": [
       "   publisher_id                          publisher\n",
       "0             1                                Ace\n",
       "1             2                           Ace Book\n",
       "2             3                          Ace Books\n",
       "3             4                      Ace Hardcover\n",
       "4             5  Addison Wesley Publishing Company"
      ]
     },
     "metadata": {},
     "output_type": "display_data"
    },
    {
     "name": "stdout",
     "output_type": "stream",
     "text": [
      "\n",
      "Table: ratings\n"
     ]
    },
    {
     "data": {
      "text/html": [
       "<div>\n",
       "<style scoped>\n",
       "    .dataframe tbody tr th:only-of-type {\n",
       "        vertical-align: middle;\n",
       "    }\n",
       "\n",
       "    .dataframe tbody tr th {\n",
       "        vertical-align: top;\n",
       "    }\n",
       "\n",
       "    .dataframe thead th {\n",
       "        text-align: right;\n",
       "    }\n",
       "</style>\n",
       "<table border=\"1\" class=\"dataframe\">\n",
       "  <thead>\n",
       "    <tr style=\"text-align: right;\">\n",
       "      <th></th>\n",
       "      <th>rating_id</th>\n",
       "      <th>book_id</th>\n",
       "      <th>username</th>\n",
       "      <th>rating</th>\n",
       "    </tr>\n",
       "  </thead>\n",
       "  <tbody>\n",
       "    <tr>\n",
       "      <th>0</th>\n",
       "      <td>1</td>\n",
       "      <td>1</td>\n",
       "      <td>ryanfranco</td>\n",
       "      <td>4</td>\n",
       "    </tr>\n",
       "    <tr>\n",
       "      <th>1</th>\n",
       "      <td>2</td>\n",
       "      <td>1</td>\n",
       "      <td>grantpatricia</td>\n",
       "      <td>2</td>\n",
       "    </tr>\n",
       "    <tr>\n",
       "      <th>2</th>\n",
       "      <td>3</td>\n",
       "      <td>1</td>\n",
       "      <td>brandtandrea</td>\n",
       "      <td>5</td>\n",
       "    </tr>\n",
       "    <tr>\n",
       "      <th>3</th>\n",
       "      <td>4</td>\n",
       "      <td>2</td>\n",
       "      <td>lorichen</td>\n",
       "      <td>3</td>\n",
       "    </tr>\n",
       "    <tr>\n",
       "      <th>4</th>\n",
       "      <td>5</td>\n",
       "      <td>2</td>\n",
       "      <td>mariokeller</td>\n",
       "      <td>2</td>\n",
       "    </tr>\n",
       "  </tbody>\n",
       "</table>\n",
       "</div>"
      ],
      "text/plain": [
       "   rating_id  book_id       username  rating\n",
       "0          1        1     ryanfranco       4\n",
       "1          2        1  grantpatricia       2\n",
       "2          3        1   brandtandrea       5\n",
       "3          4        2       lorichen       3\n",
       "4          5        2    mariokeller       2"
      ]
     },
     "metadata": {},
     "output_type": "display_data"
    },
    {
     "name": "stdout",
     "output_type": "stream",
     "text": [
      "\n",
      "Table: reviews\n"
     ]
    },
    {
     "data": {
      "text/html": [
       "<div>\n",
       "<style scoped>\n",
       "    .dataframe tbody tr th:only-of-type {\n",
       "        vertical-align: middle;\n",
       "    }\n",
       "\n",
       "    .dataframe tbody tr th {\n",
       "        vertical-align: top;\n",
       "    }\n",
       "\n",
       "    .dataframe thead th {\n",
       "        text-align: right;\n",
       "    }\n",
       "</style>\n",
       "<table border=\"1\" class=\"dataframe\">\n",
       "  <thead>\n",
       "    <tr style=\"text-align: right;\">\n",
       "      <th></th>\n",
       "      <th>review_id</th>\n",
       "      <th>book_id</th>\n",
       "      <th>username</th>\n",
       "      <th>text</th>\n",
       "    </tr>\n",
       "  </thead>\n",
       "  <tbody>\n",
       "    <tr>\n",
       "      <th>0</th>\n",
       "      <td>1</td>\n",
       "      <td>1</td>\n",
       "      <td>brandtandrea</td>\n",
       "      <td>Mention society tell send professor analysis. ...</td>\n",
       "    </tr>\n",
       "    <tr>\n",
       "      <th>1</th>\n",
       "      <td>2</td>\n",
       "      <td>1</td>\n",
       "      <td>ryanfranco</td>\n",
       "      <td>Foot glass pretty audience hit themselves. Amo...</td>\n",
       "    </tr>\n",
       "    <tr>\n",
       "      <th>2</th>\n",
       "      <td>3</td>\n",
       "      <td>2</td>\n",
       "      <td>lorichen</td>\n",
       "      <td>Listen treat keep worry. Miss husband tax but ...</td>\n",
       "    </tr>\n",
       "    <tr>\n",
       "      <th>3</th>\n",
       "      <td>4</td>\n",
       "      <td>3</td>\n",
       "      <td>johnsonamanda</td>\n",
       "      <td>Finally month interesting blue could nature cu...</td>\n",
       "    </tr>\n",
       "    <tr>\n",
       "      <th>4</th>\n",
       "      <td>5</td>\n",
       "      <td>3</td>\n",
       "      <td>scotttamara</td>\n",
       "      <td>Nation purpose heavy give wait song will. List...</td>\n",
       "    </tr>\n",
       "  </tbody>\n",
       "</table>\n",
       "</div>"
      ],
      "text/plain": [
       "   review_id  book_id       username  \\\n",
       "0          1        1   brandtandrea   \n",
       "1          2        1     ryanfranco   \n",
       "2          3        2       lorichen   \n",
       "3          4        3  johnsonamanda   \n",
       "4          5        3    scotttamara   \n",
       "\n",
       "                                                text  \n",
       "0  Mention society tell send professor analysis. ...  \n",
       "1  Foot glass pretty audience hit themselves. Amo...  \n",
       "2  Listen treat keep worry. Miss husband tax but ...  \n",
       "3  Finally month interesting blue could nature cu...  \n",
       "4  Nation purpose heavy give wait song will. List...  "
      ]
     },
     "metadata": {},
     "output_type": "display_data"
    }
   ],
   "source": [
    "def sql_query(table_name, limit=5):\n",
    "       \n",
    "    # Подготавливаем SQL-запрос с параметрами\n",
    "    query = f'SELECT * FROM {table_name} LIMIT {limit}'\n",
    "    \n",
    "    # Подключаемся к базе данных\n",
    "    con = engine.connect()\n",
    "    \n",
    "    # Выполняем SQL-запрос и возвращаем результат в виде DataFrame\n",
    "    result = pd.io.sql.read_sql(sql=text(query), con=con)\n",
    "    \n",
    "    # Закрываем соединение\n",
    "    con.close()\n",
    "    \n",
    "    return result\n",
    "\n",
    "# Список таблиц\n",
    "tables = ['books', 'authors', 'publishers', 'ratings', 'reviews']\n",
    "\n",
    "# Выполняем SQL-запросы с использованием цикла\n",
    "for table in tables:\n",
    "    result = sql_query(table)\n",
    "    \n",
    "    # Отображаем результат\n",
    "    print(f\"\\nTable: {table}\")\n",
    "    display(result)\n"
   ]
  },
  {
   "cell_type": "markdown",
   "metadata": {},
   "source": [
    "## SQL запросы"
   ]
  },
  {
   "cell_type": "code",
   "execution_count": 4,
   "metadata": {},
   "outputs": [],
   "source": [
    "def query(query):\n",
    "      \n",
    "    # Подключаемся к базе данных\n",
    "    con = engine.connect()\n",
    "    \n",
    "    # Выполняем SQL-запрос и возвращаем результат в виде DataFrame\n",
    "    result = pd.io.sql.read_sql(sql=text(query), con=con)\n",
    "    \n",
    "    # Закрываем соединение\n",
    "    con.close()\n",
    "    \n",
    "    return result"
   ]
  },
  {
   "cell_type": "markdown",
   "metadata": {},
   "source": [
    "### Задача №1"
   ]
  },
  {
   "cell_type": "markdown",
   "metadata": {},
   "source": [
    "* Посчитайте, сколько книг вышло после 1 января 2000 года"
   ]
  },
  {
   "cell_type": "code",
   "execution_count": 5,
   "metadata": {},
   "outputs": [
    {
     "data": {
      "text/html": [
       "<div>\n",
       "<style scoped>\n",
       "    .dataframe tbody tr th:only-of-type {\n",
       "        vertical-align: middle;\n",
       "    }\n",
       "\n",
       "    .dataframe tbody tr th {\n",
       "        vertical-align: top;\n",
       "    }\n",
       "\n",
       "    .dataframe thead th {\n",
       "        text-align: right;\n",
       "    }\n",
       "</style>\n",
       "<table border=\"1\" class=\"dataframe\">\n",
       "  <thead>\n",
       "    <tr style=\"text-align: right;\">\n",
       "      <th></th>\n",
       "      <th>count</th>\n",
       "    </tr>\n",
       "  </thead>\n",
       "  <tbody>\n",
       "    <tr>\n",
       "      <th>0</th>\n",
       "      <td>819</td>\n",
       "    </tr>\n",
       "  </tbody>\n",
       "</table>\n",
       "</div>"
      ],
      "text/plain": [
       "   count\n",
       "0    819"
      ]
     },
     "execution_count": 5,
     "metadata": {},
     "output_type": "execute_result"
    }
   ],
   "source": [
    "# чтобы выполнить SQL-запрос, используем Pandas\n",
    "query('''\n",
    "\n",
    "SELECT\n",
    "    COUNT(*)\n",
    "FROM books\n",
    "WHERE publication_date > '2000-01-01'\n",
    "\n",
    "''')"
   ]
  },
  {
   "cell_type": "markdown",
   "metadata": {},
   "source": [
    "**Вывод:** После 1 января 2020 года вышло 819 книг"
   ]
  },
  {
   "cell_type": "markdown",
   "metadata": {},
   "source": [
    "### Задача №2"
   ]
  },
  {
   "cell_type": "markdown",
   "metadata": {},
   "source": [
    "* Для каждой книги посчитайте количество обзоров и среднюю оценку"
   ]
  },
  {
   "cell_type": "code",
   "execution_count": 6,
   "metadata": {},
   "outputs": [
    {
     "data": {
      "text/html": [
       "<div>\n",
       "<style scoped>\n",
       "    .dataframe tbody tr th:only-of-type {\n",
       "        vertical-align: middle;\n",
       "    }\n",
       "\n",
       "    .dataframe tbody tr th {\n",
       "        vertical-align: top;\n",
       "    }\n",
       "\n",
       "    .dataframe thead th {\n",
       "        text-align: right;\n",
       "    }\n",
       "</style>\n",
       "<table border=\"1\" class=\"dataframe\">\n",
       "  <thead>\n",
       "    <tr style=\"text-align: right;\">\n",
       "      <th></th>\n",
       "      <th>book_id</th>\n",
       "      <th>title</th>\n",
       "      <th>count_review</th>\n",
       "      <th>avg_rating</th>\n",
       "    </tr>\n",
       "  </thead>\n",
       "  <tbody>\n",
       "    <tr>\n",
       "      <th>0</th>\n",
       "      <td>86</td>\n",
       "      <td>Arrows of the Queen (Heralds of Valdemar  #1)</td>\n",
       "      <td>2</td>\n",
       "      <td>5.00</td>\n",
       "    </tr>\n",
       "    <tr>\n",
       "      <th>1</th>\n",
       "      <td>901</td>\n",
       "      <td>The Walking Dead  Book One (The Walking Dead #...</td>\n",
       "      <td>2</td>\n",
       "      <td>5.00</td>\n",
       "    </tr>\n",
       "    <tr>\n",
       "      <th>2</th>\n",
       "      <td>390</td>\n",
       "      <td>Light in August</td>\n",
       "      <td>2</td>\n",
       "      <td>5.00</td>\n",
       "    </tr>\n",
       "    <tr>\n",
       "      <th>3</th>\n",
       "      <td>972</td>\n",
       "      <td>Wherever You Go  There You Are: Mindfulness Me...</td>\n",
       "      <td>2</td>\n",
       "      <td>5.00</td>\n",
       "    </tr>\n",
       "    <tr>\n",
       "      <th>4</th>\n",
       "      <td>136</td>\n",
       "      <td>Captivating: Unveiling the Mystery of a Woman'...</td>\n",
       "      <td>2</td>\n",
       "      <td>5.00</td>\n",
       "    </tr>\n",
       "    <tr>\n",
       "      <th>...</th>\n",
       "      <td>...</td>\n",
       "      <td>...</td>\n",
       "      <td>...</td>\n",
       "      <td>...</td>\n",
       "    </tr>\n",
       "    <tr>\n",
       "      <th>995</th>\n",
       "      <td>915</td>\n",
       "      <td>The World Is Flat: A Brief History of the Twen...</td>\n",
       "      <td>3</td>\n",
       "      <td>2.25</td>\n",
       "    </tr>\n",
       "    <tr>\n",
       "      <th>996</th>\n",
       "      <td>316</td>\n",
       "      <td>His Excellency: George Washington</td>\n",
       "      <td>2</td>\n",
       "      <td>2.00</td>\n",
       "    </tr>\n",
       "    <tr>\n",
       "      <th>997</th>\n",
       "      <td>202</td>\n",
       "      <td>Drowning Ruth</td>\n",
       "      <td>3</td>\n",
       "      <td>2.00</td>\n",
       "    </tr>\n",
       "    <tr>\n",
       "      <th>998</th>\n",
       "      <td>371</td>\n",
       "      <td>Junky</td>\n",
       "      <td>2</td>\n",
       "      <td>2.00</td>\n",
       "    </tr>\n",
       "    <tr>\n",
       "      <th>999</th>\n",
       "      <td>303</td>\n",
       "      <td>Harvesting the Heart</td>\n",
       "      <td>2</td>\n",
       "      <td>1.50</td>\n",
       "    </tr>\n",
       "  </tbody>\n",
       "</table>\n",
       "<p>1000 rows × 4 columns</p>\n",
       "</div>"
      ],
      "text/plain": [
       "     book_id                                              title  count_review  \\\n",
       "0         86      Arrows of the Queen (Heralds of Valdemar  #1)             2   \n",
       "1        901  The Walking Dead  Book One (The Walking Dead #...             2   \n",
       "2        390                                    Light in August             2   \n",
       "3        972  Wherever You Go  There You Are: Mindfulness Me...             2   \n",
       "4        136  Captivating: Unveiling the Mystery of a Woman'...             2   \n",
       "..       ...                                                ...           ...   \n",
       "995      915  The World Is Flat: A Brief History of the Twen...             3   \n",
       "996      316                  His Excellency: George Washington             2   \n",
       "997      202                                      Drowning Ruth             3   \n",
       "998      371                                              Junky             2   \n",
       "999      303                               Harvesting the Heart             2   \n",
       "\n",
       "     avg_rating  \n",
       "0          5.00  \n",
       "1          5.00  \n",
       "2          5.00  \n",
       "3          5.00  \n",
       "4          5.00  \n",
       "..          ...  \n",
       "995        2.25  \n",
       "996        2.00  \n",
       "997        2.00  \n",
       "998        2.00  \n",
       "999        1.50  \n",
       "\n",
       "[1000 rows x 4 columns]"
      ]
     },
     "execution_count": 6,
     "metadata": {},
     "output_type": "execute_result"
    }
   ],
   "source": [
    "# чтобы выполнить SQL-запрос, используем Pandas\n",
    "query('''\n",
    "\n",
    "SELECT\n",
    "    b.book_id,\n",
    "    b.title,\n",
    "    COUNT(DISTINCT r.review_id) AS count_review,\n",
    "    AVG(rt.rating) AS avg_rating\n",
    "FROM books AS b\n",
    "LEFT JOIN \n",
    "    reviews AS r ON b.book_id = r.book_id\n",
    "LEFT JOIN\n",
    "    ratings AS rt ON b.book_id = rt.book_id\n",
    "GROUP BY\n",
    "    b.book_id, b.title\n",
    "ORDER BY avg_rating DESC\n",
    "\n",
    "''')"
   ]
  },
  {
   "cell_type": "markdown",
   "metadata": {},
   "source": [
    "**Вывод:** Были посчитаны количество обзоров (count_review) и средняя оценка(avg_rating) для 1000 книг"
   ]
  },
  {
   "cell_type": "markdown",
   "metadata": {},
   "source": [
    "### Задача №3"
   ]
  },
  {
   "cell_type": "markdown",
   "metadata": {},
   "source": [
    "* Определите издательство, которое выпустило наибольшее число книг толще 50 страниц — так вы исключите из анализа брошюры"
   ]
  },
  {
   "cell_type": "code",
   "execution_count": 7,
   "metadata": {},
   "outputs": [
    {
     "data": {
      "text/html": [
       "<div>\n",
       "<style scoped>\n",
       "    .dataframe tbody tr th:only-of-type {\n",
       "        vertical-align: middle;\n",
       "    }\n",
       "\n",
       "    .dataframe tbody tr th {\n",
       "        vertical-align: top;\n",
       "    }\n",
       "\n",
       "    .dataframe thead th {\n",
       "        text-align: right;\n",
       "    }\n",
       "</style>\n",
       "<table border=\"1\" class=\"dataframe\">\n",
       "  <thead>\n",
       "    <tr style=\"text-align: right;\">\n",
       "      <th></th>\n",
       "      <th>publisher_id</th>\n",
       "      <th>publisher</th>\n",
       "      <th>total_book</th>\n",
       "    </tr>\n",
       "  </thead>\n",
       "  <tbody>\n",
       "    <tr>\n",
       "      <th>0</th>\n",
       "      <td>212</td>\n",
       "      <td>Penguin Books</td>\n",
       "      <td>42</td>\n",
       "    </tr>\n",
       "  </tbody>\n",
       "</table>\n",
       "</div>"
      ],
      "text/plain": [
       "   publisher_id      publisher  total_book\n",
       "0           212  Penguin Books          42"
      ]
     },
     "execution_count": 7,
     "metadata": {},
     "output_type": "execute_result"
    }
   ],
   "source": [
    "# чтобы выполнить SQL-запрос, используем Pandas\n",
    "query('''\n",
    "\n",
    "SELECT\n",
    "    p.publisher_id,\n",
    "    p.publisher,\n",
    "    COUNT(b.book_id) AS total_book\n",
    "FROM publishers AS p\n",
    "LEFT JOIN\n",
    "    books AS b ON p.publisher_id = b.publisher_id\n",
    "WHERE b.num_pages > 50\n",
    "GROUP BY\n",
    "    p.publisher_id, p.publisher\n",
    "ORDER BY total_book DESC\n",
    "LIMIT 1\n",
    "\n",
    "\n",
    "''')"
   ]
  },
  {
   "cell_type": "markdown",
   "metadata": {},
   "source": [
    "**Вывод:** Издательство **Penguin Books**  выпустило наибольшее число книг с количеством страниц выше 50. Число этих книг составило 42 шт."
   ]
  },
  {
   "cell_type": "markdown",
   "metadata": {},
   "source": [
    "### Задача №4"
   ]
  },
  {
   "cell_type": "markdown",
   "metadata": {},
   "source": [
    "* Определите автора с самой высокой средней оценкой книг — учитывайте только книги с 50 и более оценками"
   ]
  },
  {
   "cell_type": "code",
   "execution_count": 8,
   "metadata": {},
   "outputs": [
    {
     "data": {
      "text/html": [
       "<div>\n",
       "<style scoped>\n",
       "    .dataframe tbody tr th:only-of-type {\n",
       "        vertical-align: middle;\n",
       "    }\n",
       "\n",
       "    .dataframe tbody tr th {\n",
       "        vertical-align: top;\n",
       "    }\n",
       "\n",
       "    .dataframe thead th {\n",
       "        text-align: right;\n",
       "    }\n",
       "</style>\n",
       "<table border=\"1\" class=\"dataframe\">\n",
       "  <thead>\n",
       "    <tr style=\"text-align: right;\">\n",
       "      <th></th>\n",
       "      <th>author_id</th>\n",
       "      <th>author</th>\n",
       "      <th>avg_rating</th>\n",
       "    </tr>\n",
       "  </thead>\n",
       "  <tbody>\n",
       "    <tr>\n",
       "      <th>0</th>\n",
       "      <td>236</td>\n",
       "      <td>J.K. Rowling/Mary GrandPré</td>\n",
       "      <td>4.287097</td>\n",
       "    </tr>\n",
       "  </tbody>\n",
       "</table>\n",
       "</div>"
      ],
      "text/plain": [
       "   author_id                      author  avg_rating\n",
       "0        236  J.K. Rowling/Mary GrandPré    4.287097"
      ]
     },
     "execution_count": 8,
     "metadata": {},
     "output_type": "execute_result"
    }
   ],
   "source": [
    "# чтобы выполнить SQL-запрос, используем Pandas\n",
    "query('''\n",
    "\n",
    "WITH rating_50 AS (SELECT\n",
    "                        book_id\n",
    "                        FROM ratings\n",
    "                        GROUP BY book_id\n",
    "                        HAVING COUNT(rating_id) >= 50)\n",
    "SELECT\n",
    "    a.author_id,\n",
    "    a.author,\n",
    "    AVG(r.rating) AS avg_rating\n",
    "FROM authors AS a\n",
    "JOIN\n",
    "    books AS b ON a.author_id = b.author_id\n",
    "JOIN\n",
    "    ratings AS r ON b.book_id = r.book_id\n",
    "JOIN\n",
    "    rating_50 AS r_50 ON b.book_id = r_50.book_id\n",
    "GROUP BY\n",
    "    a.author_id, a.author\n",
    "HAVING\n",
    "    COUNT(r.rating) >= 50\n",
    "ORDER BY avg_rating DESC\n",
    "LIMIT 1\n",
    "\n",
    "\n",
    "''')"
   ]
  },
  {
   "cell_type": "markdown",
   "metadata": {},
   "source": [
    "**Вывод:** Для книг от 50 оценок и выше, выявлена наибольшая средняя оценка рейтинка книг, которая составила 4,3 балла. Автором оказалась J.K. Rowling/Mary GrandPré\t"
   ]
  },
  {
   "cell_type": "markdown",
   "metadata": {},
   "source": [
    "### Задача №5"
   ]
  },
  {
   "cell_type": "markdown",
   "metadata": {},
   "source": [
    "* Посчитайте среднее количество обзоров от пользователей, которые поставили больше 48 оценок"
   ]
  },
  {
   "cell_type": "code",
   "execution_count": 9,
   "metadata": {},
   "outputs": [
    {
     "data": {
      "text/html": [
       "<div>\n",
       "<style scoped>\n",
       "    .dataframe tbody tr th:only-of-type {\n",
       "        vertical-align: middle;\n",
       "    }\n",
       "\n",
       "    .dataframe tbody tr th {\n",
       "        vertical-align: top;\n",
       "    }\n",
       "\n",
       "    .dataframe thead th {\n",
       "        text-align: right;\n",
       "    }\n",
       "</style>\n",
       "<table border=\"1\" class=\"dataframe\">\n",
       "  <thead>\n",
       "    <tr style=\"text-align: right;\">\n",
       "      <th></th>\n",
       "      <th>avg_review_count</th>\n",
       "    </tr>\n",
       "  </thead>\n",
       "  <tbody>\n",
       "    <tr>\n",
       "      <th>0</th>\n",
       "      <td>24.0</td>\n",
       "    </tr>\n",
       "  </tbody>\n",
       "</table>\n",
       "</div>"
      ],
      "text/plain": [
       "   avg_review_count\n",
       "0              24.0"
      ]
     },
     "execution_count": 9,
     "metadata": {},
     "output_type": "execute_result"
    }
   ],
   "source": [
    "# чтобы выполнить SQL-запрос, используем Pandas\n",
    "query('''\n",
    "\n",
    "SELECT\n",
    "    AVG(review_count) AS avg_review_count\n",
    "FROM (SELECT\n",
    "        username,\n",
    "        COUNT(DISTINCT review_id) AS review_count\n",
    "      FROM reviews\n",
    "      WHERE username IN (SELECT\n",
    "                             username\n",
    "                         FROM ratings\n",
    "                         GROUP BY username\n",
    "                         HAVING COUNT(DISTINCT rating_id) > 48)\n",
    "      GROUP BY username) AS user_reviews;\n",
    "\n",
    "\n",
    "''')"
   ]
  },
  {
   "cell_type": "markdown",
   "metadata": {},
   "source": [
    "**Вывод:** Для пользователей котрые поставили больше 48 оценок, посчитано среднее колличество обзоров от пользователей, которое составило 24 шт."
   ]
  },
  {
   "cell_type": "markdown",
   "metadata": {},
   "source": [
    "## ВЫВОД\n",
    "\n",
    "\n",
    "1. В ходе выполнения проекта был успешно реализован импорт данных из базы данных с использованием библиотек pandas и sqlalchemy. Подключение к базе данных было настроено, и получение данных прошло успешно.\n",
    "\n",
    "2. Исследование таблиц базы данных позволило получить первичное представление о содержании данных. Для этого был создан цикл, выполняющий SQL-запросы для каждой таблицы и выводящий результаты в виде таблиц.\n",
    "\n",
    "3. Для оптимизации и унификации кода были использованы параметризированные запросы вместо дублирования кода для каждой таблицы. Это улучшение помогает сделать код более читаемым и поддерживаемым.\n",
    "\n",
    "4. В разделе SQL-запросов были выполнены задачи:\n",
    "\n",
    "   - Подсчитано количество книг, выпущенных после 1 января 2000 года.\n",
    "       - **Вывод:** Результаты показывают, что после 1 января 2000 года было выпущено 819 книг. Это позволяет нам оценить объем новой литературы за указанный период.\n",
    "   - Для каждой книги посчитано количество обзоров и средняя оценка.\n",
    "       - **Вывод:** Запрос был успешно выполнен, и мы получили информацию о количестве обзоров и средней оценке для каждой книги. Эти данные могут быть полезны для оценки популярности и качества книг в базе данных.\n",
    "   - Определено издательство, выпустившее наибольшее количество книг толще 50 страниц.\n",
    "       - **Вывод:** Результаты запроса показывают, что издательство \"Penguin Books\" выпустило наибольшее количество книг, имеющих более 50 страниц.\n",
    "   - Выявлен автор с самой высокой средней оценкой книг, учитывая только книги с 50 и более оценками.\n",
    "       - **Вывод:** Мы выявили, что J.K. Rowling/Mary GrandPré является автором с самой высокой средней оценкой для книг с 50 и более оценками. Это позволяет выделить авторов, чьи произведения наиболее успешны и получают высокие оценки от читателей.\n",
    "   - Посчитано среднее количество обзоров от пользователей, которые поставили больше 48 оценок.\n",
    "       - **Вывод:** Результат запроса показывает, что пользователи, поставившие более 48 оценок, в среднем написали 24 обзора. Это может быть важной информацией для понимания активности пользователей с высокой вовлеченностью, которые не только ставят оценки, но и оставляют обзоры книг."
   ]
  }
 ],
 "metadata": {
  "ExecuteTimeLog": [
   {
    "duration": 472,
    "start_time": "2023-12-15T08:59:43.731Z"
   },
   {
    "duration": 10449,
    "start_time": "2023-12-15T09:00:31.543Z"
   },
   {
    "duration": 215,
    "start_time": "2023-12-15T09:04:42.025Z"
   },
   {
    "duration": 124,
    "start_time": "2023-12-15T09:05:29.203Z"
   },
   {
    "duration": 52,
    "start_time": "2023-12-15T09:05:49.306Z"
   },
   {
    "duration": 48,
    "start_time": "2023-12-15T09:05:56.824Z"
   },
   {
    "duration": 51,
    "start_time": "2023-12-15T09:06:45.350Z"
   },
   {
    "duration": 129,
    "start_time": "2023-12-15T09:07:13.972Z"
   },
   {
    "duration": 40,
    "start_time": "2023-12-15T09:07:33.334Z"
   },
   {
    "duration": 134,
    "start_time": "2023-12-15T09:08:06.663Z"
   },
   {
    "duration": 52,
    "start_time": "2023-12-15T09:10:28.328Z"
   },
   {
    "duration": 51,
    "start_time": "2023-12-15T09:12:25.047Z"
   },
   {
    "duration": 69,
    "start_time": "2023-12-15T09:13:04.438Z"
   },
   {
    "duration": 41,
    "start_time": "2023-12-15T09:13:11.593Z"
   },
   {
    "duration": 132,
    "start_time": "2023-12-15T09:15:26.252Z"
   },
   {
    "duration": 55,
    "start_time": "2023-12-15T09:34:24.885Z"
   },
   {
    "duration": 94,
    "start_time": "2023-12-15T09:43:40.004Z"
   },
   {
    "duration": 74,
    "start_time": "2023-12-15T09:50:15.400Z"
   },
   {
    "duration": 62,
    "start_time": "2023-12-15T09:54:17.754Z"
   },
   {
    "duration": 115,
    "start_time": "2023-12-15T09:54:28.117Z"
   },
   {
    "duration": 153,
    "start_time": "2023-12-15T10:13:14.444Z"
   },
   {
    "duration": 47,
    "start_time": "2023-12-15T10:17:21.975Z"
   },
   {
    "duration": 56,
    "start_time": "2023-12-15T10:33:52.837Z"
   },
   {
    "duration": 54,
    "start_time": "2023-12-15T10:34:05.626Z"
   },
   {
    "duration": 57,
    "start_time": "2023-12-15T10:34:16.330Z"
   },
   {
    "duration": 57,
    "start_time": "2023-12-15T10:34:40.210Z"
   },
   {
    "duration": 3,
    "start_time": "2023-12-15T10:45:37.069Z"
   },
   {
    "duration": 48,
    "start_time": "2023-12-16T09:08:27.751Z"
   },
   {
    "duration": 537,
    "start_time": "2023-12-16T09:08:39.183Z"
   },
   {
    "duration": 8700,
    "start_time": "2023-12-16T09:08:39.722Z"
   },
   {
    "duration": 223,
    "start_time": "2023-12-16T09:08:48.423Z"
   },
   {
    "duration": 138,
    "start_time": "2023-12-16T09:08:48.648Z"
   },
   {
    "duration": 52,
    "start_time": "2023-12-16T09:08:48.788Z"
   },
   {
    "duration": 54,
    "start_time": "2023-12-16T09:08:48.842Z"
   },
   {
    "duration": 50,
    "start_time": "2023-12-16T09:08:48.898Z"
   },
   {
    "duration": 51,
    "start_time": "2023-12-16T09:08:48.950Z"
   },
   {
    "duration": 88,
    "start_time": "2023-12-16T09:08:49.003Z"
   },
   {
    "duration": 53,
    "start_time": "2023-12-16T09:08:49.093Z"
   },
   {
    "duration": 56,
    "start_time": "2023-12-16T09:08:49.148Z"
   },
   {
    "duration": 56,
    "start_time": "2023-12-16T09:08:49.205Z"
   },
   {
    "duration": 86,
    "start_time": "2023-12-16T09:10:15.757Z"
   },
   {
    "duration": 90,
    "start_time": "2023-12-16T09:10:30.418Z"
   },
   {
    "duration": 85,
    "start_time": "2023-12-16T09:10:55.668Z"
   },
   {
    "duration": 89,
    "start_time": "2023-12-16T09:11:59.707Z"
   },
   {
    "duration": 85,
    "start_time": "2023-12-16T09:12:16.541Z"
   },
   {
    "duration": 57,
    "start_time": "2023-12-16T09:20:32.145Z"
   },
   {
    "duration": 3,
    "start_time": "2023-12-16T09:28:21.869Z"
   },
   {
    "duration": 53,
    "start_time": "2023-12-16T09:28:57.529Z"
   },
   {
    "duration": 100,
    "start_time": "2023-12-16T09:30:00.555Z"
   },
   {
    "duration": 521,
    "start_time": "2023-12-16T09:30:15.490Z"
   },
   {
    "duration": 9727,
    "start_time": "2023-12-16T09:30:16.012Z"
   },
   {
    "duration": 3,
    "start_time": "2023-12-16T09:30:25.741Z"
   },
   {
    "duration": 243,
    "start_time": "2023-12-16T09:30:25.746Z"
   },
   {
    "duration": 44,
    "start_time": "2023-12-16T09:30:25.991Z"
   },
   {
    "duration": 164,
    "start_time": "2023-12-16T09:30:26.036Z"
   },
   {
    "duration": 53,
    "start_time": "2023-12-16T09:30:26.202Z"
   },
   {
    "duration": 53,
    "start_time": "2023-12-16T09:30:26.256Z"
   },
   {
    "duration": 52,
    "start_time": "2023-12-16T09:30:26.310Z"
   },
   {
    "duration": 52,
    "start_time": "2023-12-16T09:30:26.364Z"
   },
   {
    "duration": 88,
    "start_time": "2023-12-16T09:30:26.417Z"
   },
   {
    "duration": 52,
    "start_time": "2023-12-16T09:30:26.507Z"
   },
   {
    "duration": 55,
    "start_time": "2023-12-16T09:30:26.561Z"
   },
   {
    "duration": 56,
    "start_time": "2023-12-16T09:30:26.618Z"
   },
   {
    "duration": 494,
    "start_time": "2023-12-16T09:37:25.855Z"
   },
   {
    "duration": 9239,
    "start_time": "2023-12-16T09:37:26.351Z"
   },
   {
    "duration": 4,
    "start_time": "2023-12-16T09:37:35.592Z"
   },
   {
    "duration": 243,
    "start_time": "2023-12-16T09:37:35.598Z"
   },
   {
    "duration": 52,
    "start_time": "2023-12-16T09:37:35.843Z"
   },
   {
    "duration": 53,
    "start_time": "2023-12-16T09:37:35.896Z"
   },
   {
    "duration": 53,
    "start_time": "2023-12-16T09:37:35.951Z"
   },
   {
    "duration": 52,
    "start_time": "2023-12-16T09:37:36.005Z"
   },
   {
    "duration": 127,
    "start_time": "2023-12-16T09:37:36.059Z"
   },
   {
    "duration": 0,
    "start_time": "2023-12-16T09:37:36.188Z"
   },
   {
    "duration": 0,
    "start_time": "2023-12-16T09:37:36.190Z"
   },
   {
    "duration": 0,
    "start_time": "2023-12-16T09:37:36.192Z"
   },
   {
    "duration": 0,
    "start_time": "2023-12-16T09:37:36.193Z"
   },
   {
    "duration": 129,
    "start_time": "2023-12-16T09:37:59.527Z"
   },
   {
    "duration": 121,
    "start_time": "2023-12-16T09:38:40.734Z"
   },
   {
    "duration": 515,
    "start_time": "2023-12-16T09:38:48.013Z"
   },
   {
    "duration": 8885,
    "start_time": "2023-12-16T09:38:48.530Z"
   },
   {
    "duration": 4,
    "start_time": "2023-12-16T09:38:57.416Z"
   },
   {
    "duration": 231,
    "start_time": "2023-12-16T09:38:57.421Z"
   },
   {
    "duration": 50,
    "start_time": "2023-12-16T09:38:57.654Z"
   },
   {
    "duration": 51,
    "start_time": "2023-12-16T09:38:57.705Z"
   },
   {
    "duration": 50,
    "start_time": "2023-12-16T09:38:57.757Z"
   },
   {
    "duration": 49,
    "start_time": "2023-12-16T09:38:57.809Z"
   },
   {
    "duration": 49,
    "start_time": "2023-12-16T09:38:57.860Z"
   },
   {
    "duration": 87,
    "start_time": "2023-12-16T09:38:57.910Z"
   },
   {
    "duration": 51,
    "start_time": "2023-12-16T09:38:57.998Z"
   },
   {
    "duration": 53,
    "start_time": "2023-12-16T09:38:58.051Z"
   },
   {
    "duration": 54,
    "start_time": "2023-12-16T09:38:58.105Z"
   },
   {
    "duration": 470,
    "start_time": "2023-12-16T09:46:47.036Z"
   },
   {
    "duration": 8271,
    "start_time": "2023-12-16T09:46:47.508Z"
   },
   {
    "duration": 371,
    "start_time": "2023-12-16T09:46:55.780Z"
   },
   {
    "duration": 61,
    "start_time": "2023-12-16T09:46:56.153Z"
   },
   {
    "duration": 52,
    "start_time": "2023-12-16T09:46:56.216Z"
   },
   {
    "duration": 52,
    "start_time": "2023-12-16T09:46:56.269Z"
   },
   {
    "duration": 53,
    "start_time": "2023-12-16T09:46:56.322Z"
   },
   {
    "duration": 51,
    "start_time": "2023-12-16T09:46:56.377Z"
   },
   {
    "duration": 52,
    "start_time": "2023-12-16T09:46:56.429Z"
   },
   {
    "duration": 90,
    "start_time": "2023-12-16T09:46:56.483Z"
   },
   {
    "duration": 53,
    "start_time": "2023-12-16T09:46:56.575Z"
   },
   {
    "duration": 57,
    "start_time": "2023-12-16T09:46:56.630Z"
   },
   {
    "duration": 57,
    "start_time": "2023-12-16T09:46:56.689Z"
   },
   {
    "duration": 530,
    "start_time": "2023-12-16T09:47:41.706Z"
   },
   {
    "duration": 8373,
    "start_time": "2023-12-16T09:47:42.238Z"
   },
   {
    "duration": 368,
    "start_time": "2023-12-16T09:47:50.613Z"
   },
   {
    "duration": 59,
    "start_time": "2023-12-16T09:47:50.983Z"
   },
   {
    "duration": 52,
    "start_time": "2023-12-16T09:47:51.044Z"
   },
   {
    "duration": 53,
    "start_time": "2023-12-16T09:47:51.097Z"
   },
   {
    "duration": 54,
    "start_time": "2023-12-16T09:47:51.151Z"
   },
   {
    "duration": 53,
    "start_time": "2023-12-16T09:47:51.206Z"
   },
   {
    "duration": 51,
    "start_time": "2023-12-16T09:47:51.260Z"
   },
   {
    "duration": 90,
    "start_time": "2023-12-16T09:47:51.313Z"
   },
   {
    "duration": 53,
    "start_time": "2023-12-16T09:47:51.404Z"
   },
   {
    "duration": 57,
    "start_time": "2023-12-16T09:47:51.458Z"
   },
   {
    "duration": 57,
    "start_time": "2023-12-16T09:47:51.516Z"
   },
   {
    "duration": 451,
    "start_time": "2023-12-16T09:49:44.262Z"
   },
   {
    "duration": 8732,
    "start_time": "2023-12-16T09:49:44.715Z"
   },
   {
    "duration": 376,
    "start_time": "2023-12-16T09:49:53.449Z"
   },
   {
    "duration": 52,
    "start_time": "2023-12-16T09:49:53.827Z"
   },
   {
    "duration": 50,
    "start_time": "2023-12-16T09:49:53.880Z"
   },
   {
    "duration": 50,
    "start_time": "2023-12-16T09:49:53.933Z"
   },
   {
    "duration": 50,
    "start_time": "2023-12-16T09:49:53.984Z"
   },
   {
    "duration": 50,
    "start_time": "2023-12-16T09:49:54.036Z"
   },
   {
    "duration": 49,
    "start_time": "2023-12-16T09:49:54.088Z"
   },
   {
    "duration": 86,
    "start_time": "2023-12-16T09:49:54.139Z"
   },
   {
    "duration": 50,
    "start_time": "2023-12-16T09:49:54.227Z"
   },
   {
    "duration": 52,
    "start_time": "2023-12-16T09:49:54.279Z"
   },
   {
    "duration": 53,
    "start_time": "2023-12-16T09:49:54.333Z"
   },
   {
    "duration": 511,
    "start_time": "2023-12-16T09:53:53.912Z"
   },
   {
    "duration": 9121,
    "start_time": "2023-12-16T09:53:54.425Z"
   },
   {
    "duration": 345,
    "start_time": "2023-12-16T09:54:03.548Z"
   },
   {
    "duration": 117,
    "start_time": "2023-12-16T09:54:03.896Z"
   },
   {
    "duration": 0,
    "start_time": "2023-12-16T09:54:04.015Z"
   },
   {
    "duration": 0,
    "start_time": "2023-12-16T09:54:04.016Z"
   },
   {
    "duration": 0,
    "start_time": "2023-12-16T09:54:04.017Z"
   },
   {
    "duration": 0,
    "start_time": "2023-12-16T09:54:04.018Z"
   },
   {
    "duration": 0,
    "start_time": "2023-12-16T09:54:04.019Z"
   },
   {
    "duration": 0,
    "start_time": "2023-12-16T09:54:04.020Z"
   },
   {
    "duration": 0,
    "start_time": "2023-12-16T09:54:04.021Z"
   },
   {
    "duration": 0,
    "start_time": "2023-12-16T09:54:04.022Z"
   },
   {
    "duration": 0,
    "start_time": "2023-12-16T09:54:04.023Z"
   },
   {
    "duration": 501,
    "start_time": "2023-12-16T09:54:36.545Z"
   },
   {
    "duration": 8768,
    "start_time": "2023-12-16T09:54:37.048Z"
   },
   {
    "duration": 392,
    "start_time": "2023-12-16T09:54:45.817Z"
   },
   {
    "duration": 123,
    "start_time": "2023-12-16T09:54:46.212Z"
   },
   {
    "duration": 0,
    "start_time": "2023-12-16T09:54:46.336Z"
   },
   {
    "duration": 0,
    "start_time": "2023-12-16T09:54:46.338Z"
   },
   {
    "duration": 0,
    "start_time": "2023-12-16T09:54:46.339Z"
   },
   {
    "duration": 0,
    "start_time": "2023-12-16T09:54:46.340Z"
   },
   {
    "duration": 0,
    "start_time": "2023-12-16T09:54:46.341Z"
   },
   {
    "duration": 0,
    "start_time": "2023-12-16T09:54:46.342Z"
   },
   {
    "duration": 0,
    "start_time": "2023-12-16T09:54:46.343Z"
   },
   {
    "duration": 0,
    "start_time": "2023-12-16T09:54:46.343Z"
   },
   {
    "duration": 0,
    "start_time": "2023-12-16T09:54:46.344Z"
   },
   {
    "duration": 567,
    "start_time": "2023-12-16T09:57:01.489Z"
   },
   {
    "duration": 8170,
    "start_time": "2023-12-16T09:57:02.058Z"
   },
   {
    "duration": 416,
    "start_time": "2023-12-16T09:57:10.230Z"
   },
   {
    "duration": 126,
    "start_time": "2023-12-16T09:57:10.647Z"
   },
   {
    "duration": 0,
    "start_time": "2023-12-16T09:57:10.774Z"
   },
   {
    "duration": 0,
    "start_time": "2023-12-16T09:57:10.775Z"
   },
   {
    "duration": 0,
    "start_time": "2023-12-16T09:57:10.777Z"
   },
   {
    "duration": 0,
    "start_time": "2023-12-16T09:57:10.778Z"
   },
   {
    "duration": 3,
    "start_time": "2023-12-16T10:00:29.171Z"
   },
   {
    "duration": 67,
    "start_time": "2023-12-16T10:01:54.921Z"
   },
   {
    "duration": 131,
    "start_time": "2023-12-16T10:02:33.696Z"
   },
   {
    "duration": 507,
    "start_time": "2023-12-16T10:03:46.704Z"
   },
   {
    "duration": 8362,
    "start_time": "2023-12-16T10:03:47.212Z"
   },
   {
    "duration": 422,
    "start_time": "2023-12-16T10:03:55.575Z"
   },
   {
    "duration": 3,
    "start_time": "2023-12-16T10:03:55.999Z"
   },
   {
    "duration": 49,
    "start_time": "2023-12-16T10:03:56.005Z"
   },
   {
    "duration": 88,
    "start_time": "2023-12-16T10:03:56.056Z"
   },
   {
    "duration": 52,
    "start_time": "2023-12-16T10:03:56.146Z"
   },
   {
    "duration": 54,
    "start_time": "2023-12-16T10:03:56.199Z"
   },
   {
    "duration": 54,
    "start_time": "2023-12-16T10:03:56.255Z"
   },
   {
    "duration": 544,
    "start_time": "2023-12-16T10:18:47.592Z"
   },
   {
    "duration": 8018,
    "start_time": "2023-12-16T10:18:48.137Z"
   },
   {
    "duration": 436,
    "start_time": "2023-12-16T10:18:56.157Z"
   },
   {
    "duration": 3,
    "start_time": "2023-12-16T10:18:56.596Z"
   },
   {
    "duration": 58,
    "start_time": "2023-12-16T10:18:56.601Z"
   },
   {
    "duration": 91,
    "start_time": "2023-12-16T10:18:56.661Z"
   },
   {
    "duration": 53,
    "start_time": "2023-12-16T10:18:56.754Z"
   },
   {
    "duration": 56,
    "start_time": "2023-12-16T10:18:56.809Z"
   },
   {
    "duration": 57,
    "start_time": "2023-12-16T10:18:56.867Z"
   }
  ],
  "kernelspec": {
   "display_name": "Python 3 (ipykernel)",
   "language": "python",
   "name": "python3"
  },
  "language_info": {
   "codemirror_mode": {
    "name": "ipython",
    "version": 3
   },
   "file_extension": ".py",
   "mimetype": "text/x-python",
   "name": "python",
   "nbconvert_exporter": "python",
   "pygments_lexer": "ipython3",
   "version": "3.11.4"
  },
  "toc": {
   "base_numbering": 1,
   "nav_menu": {},
   "number_sections": true,
   "sideBar": true,
   "skip_h1_title": true,
   "title_cell": "Table of Contents",
   "title_sidebar": "Contents",
   "toc_cell": false,
   "toc_position": {},
   "toc_section_display": true,
   "toc_window_display": false
  }
 },
 "nbformat": 4,
 "nbformat_minor": 2
}
